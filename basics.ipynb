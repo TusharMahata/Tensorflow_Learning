{
 "cells": [
  {
   "cell_type": "code",
   "execution_count": 1,
   "id": "757794b3",
   "metadata": {},
   "outputs": [
    {
     "name": "stdout",
     "output_type": "stream",
     "text": [
      "2.12.0\n"
     ]
    }
   ],
   "source": [
    "# fundamental concepts of tensors using tensorflow\n",
    "\n",
    "import tensorflow as tf\n",
    "print(tf.__version__)"
   ]
  },
  {
   "cell_type": "code",
   "execution_count": 2,
   "id": "dfeb8bc1",
   "metadata": {},
   "outputs": [
    {
     "data": {
      "text/plain": [
       "<tf.Tensor: shape=(), dtype=int32, numpy=7>"
      ]
     },
     "execution_count": 2,
     "metadata": {},
     "output_type": "execute_result"
    }
   ],
   "source": [
    "# creating tensors\n",
    "\n",
    "scaler = tf.constant(7)\n",
    "scaler"
   ]
  },
  {
   "cell_type": "code",
   "execution_count": 3,
   "id": "044fb33d",
   "metadata": {},
   "outputs": [
    {
     "data": {
      "text/plain": [
       "0"
      ]
     },
     "execution_count": 3,
     "metadata": {},
     "output_type": "execute_result"
    }
   ],
   "source": [
    "# check number of dimensions\n",
    "scaler.ndim"
   ]
  },
  {
   "cell_type": "code",
   "execution_count": 4,
   "id": "b36c9654",
   "metadata": {},
   "outputs": [
    {
     "data": {
      "text/plain": [
       "<tf.Tensor: shape=(2,), dtype=int32, numpy=array([10, 10])>"
      ]
     },
     "execution_count": 4,
     "metadata": {},
     "output_type": "execute_result"
    }
   ],
   "source": [
    "# creating a vector\n",
    "\n",
    "vector = tf.constant([10, 10])\n",
    "vector"
   ]
  },
  {
   "cell_type": "code",
   "execution_count": 5,
   "id": "cde93ed5",
   "metadata": {},
   "outputs": [
    {
     "data": {
      "text/plain": [
       "1"
      ]
     },
     "execution_count": 5,
     "metadata": {},
     "output_type": "execute_result"
    }
   ],
   "source": [
    "vector.ndim"
   ]
  },
  {
   "cell_type": "code",
   "execution_count": 6,
   "id": "1adbead3",
   "metadata": {},
   "outputs": [
    {
     "data": {
      "text/plain": [
       "<tf.Tensor: shape=(2, 2), dtype=int32, numpy=\n",
       "array([[ 1,  2],\n",
       "       [40,  5]])>"
      ]
     },
     "execution_count": 6,
     "metadata": {},
     "output_type": "execute_result"
    }
   ],
   "source": [
    "# create a matrix\n",
    "\n",
    "matrix = tf.constant([[1,2],\n",
    "                    [40, 5]])\n",
    "matrix"
   ]
  },
  {
   "cell_type": "code",
   "execution_count": 7,
   "id": "d7826037",
   "metadata": {},
   "outputs": [
    {
     "data": {
      "text/plain": [
       "2"
      ]
     },
     "execution_count": 7,
     "metadata": {},
     "output_type": "execute_result"
    }
   ],
   "source": [
    "matrix.ndim"
   ]
  },
  {
   "cell_type": "code",
   "execution_count": 9,
   "id": "48e120a0",
   "metadata": {},
   "outputs": [
    {
     "data": {
      "text/plain": [
       "<tf.Tensor: shape=(2, 2, 3), dtype=int32, numpy=\n",
       "array([[[ 1,  2,  3],\n",
       "        [ 4,  5,  6]],\n",
       "\n",
       "       [[ 6,  7,  1],\n",
       "        [ 9, 10,  2]]])>"
      ]
     },
     "execution_count": 9,
     "metadata": {},
     "output_type": "execute_result"
    }
   ],
   "source": [
    "# Creating tensor\n",
    "\n",
    "tensor = tf.constant([[[1, 2, 3],\n",
    "                      [4, 5, 6]],\n",
    "                     [[6, 7, 1],\n",
    "                     [9, 10, 2]]])\n",
    "tensor"
   ]
  },
  {
   "cell_type": "code",
   "execution_count": 10,
   "id": "06896b61",
   "metadata": {},
   "outputs": [
    {
     "data": {
      "text/plain": [
       "3"
      ]
     },
     "execution_count": 10,
     "metadata": {},
     "output_type": "execute_result"
    }
   ],
   "source": [
    "tensor.ndim"
   ]
  },
  {
   "cell_type": "code",
   "execution_count": 16,
   "id": "0aaa7f14",
   "metadata": {},
   "outputs": [
    {
     "data": {
      "text/plain": [
       "(<tf.Variable 'Variable:0' shape=(2,) dtype=int32, numpy=array([10,  7])>,)"
      ]
     },
     "execution_count": 16,
     "metadata": {},
     "output_type": "execute_result"
    }
   ],
   "source": [
    "# working with variable\n",
    "changeable_tensor = tf.Variable([10, 7])\n",
    "unchangeable_tensor = tf.constant([10, 7])\n",
    "changeable_tensor,\n"
   ]
  },
  {
   "cell_type": "code",
   "execution_count": 17,
   "id": "7e758dfe",
   "metadata": {},
   "outputs": [
    {
     "data": {
      "text/plain": [
       "<tf.Tensor: shape=(2,), dtype=int32, numpy=array([10,  7])>"
      ]
     },
     "execution_count": 17,
     "metadata": {},
     "output_type": "execute_result"
    }
   ],
   "source": [
    "unchangeable_tensor"
   ]
  },
  {
   "cell_type": "code",
   "execution_count": 19,
   "id": "16e3318b",
   "metadata": {},
   "outputs": [
    {
     "data": {
      "text/plain": [
       "<tf.Tensor: shape=(), dtype=int32, numpy=7>"
      ]
     },
     "execution_count": 19,
     "metadata": {},
     "output_type": "execute_result"
    }
   ],
   "source": [
    "# let's try to change a element of changeable_tensor\n",
    "changeable_tensor[1]"
   ]
  },
  {
   "cell_type": "code",
   "execution_count": 20,
   "id": "750e537a",
   "metadata": {},
   "outputs": [
    {
     "ename": "TypeError",
     "evalue": "'ResourceVariable' object does not support item assignment",
     "output_type": "error",
     "traceback": [
      "\u001b[1;31m---------------------------------------------------------------------------\u001b[0m",
      "\u001b[1;31mTypeError\u001b[0m                                 Traceback (most recent call last)",
      "Cell \u001b[1;32mIn[20], line 1\u001b[0m\n\u001b[1;32m----> 1\u001b[0m \u001b[43mchangeable_tensor\u001b[49m\u001b[43m[\u001b[49m\u001b[38;5;241;43m1\u001b[39;49m\u001b[43m]\u001b[49m \u001b[38;5;241m=\u001b[39m \u001b[38;5;241m10\u001b[39m\n",
      "\u001b[1;31mTypeError\u001b[0m: 'ResourceVariable' object does not support item assignment"
     ]
    }
   ],
   "source": [
    "changeable_tensor[1] = 10"
   ]
  },
  {
   "cell_type": "code",
   "execution_count": 21,
   "id": "230a7cbc",
   "metadata": {},
   "outputs": [
    {
     "data": {
      "text/plain": [
       "<tf.Variable 'UnreadVariable' shape=(2,) dtype=int32, numpy=array([10, 10])>"
      ]
     },
     "execution_count": 21,
     "metadata": {},
     "output_type": "execute_result"
    }
   ],
   "source": [
    "changeable_tensor[1].assign(10)"
   ]
  },
  {
   "cell_type": "code",
   "execution_count": 22,
   "id": "6dc19c04",
   "metadata": {},
   "outputs": [
    {
     "ename": "AttributeError",
     "evalue": "'tensorflow.python.framework.ops.EagerTensor' object has no attribute 'assign'",
     "output_type": "error",
     "traceback": [
      "\u001b[1;31m---------------------------------------------------------------------------\u001b[0m",
      "\u001b[1;31mAttributeError\u001b[0m                            Traceback (most recent call last)",
      "Cell \u001b[1;32mIn[22], line 1\u001b[0m\n\u001b[1;32m----> 1\u001b[0m \u001b[43munchangeable_tensor\u001b[49m\u001b[43m[\u001b[49m\u001b[38;5;241;43m1\u001b[39;49m\u001b[43m]\u001b[49m\u001b[38;5;241;43m.\u001b[39;49m\u001b[43massign\u001b[49m(\u001b[38;5;241m10\u001b[39m)\n",
      "File \u001b[1;32mC:\\Program Files\\Python310\\lib\\site-packages\\tensorflow\\python\\framework\\ops.py:443\u001b[0m, in \u001b[0;36mTensor.__getattr__\u001b[1;34m(self, name)\u001b[0m\n\u001b[0;32m    434\u001b[0m \u001b[38;5;28;01mif\u001b[39;00m name \u001b[38;5;129;01min\u001b[39;00m {\u001b[38;5;124m\"\u001b[39m\u001b[38;5;124mT\u001b[39m\u001b[38;5;124m\"\u001b[39m, \u001b[38;5;124m\"\u001b[39m\u001b[38;5;124mastype\u001b[39m\u001b[38;5;124m\"\u001b[39m, \u001b[38;5;124m\"\u001b[39m\u001b[38;5;124mravel\u001b[39m\u001b[38;5;124m\"\u001b[39m, \u001b[38;5;124m\"\u001b[39m\u001b[38;5;124mtranspose\u001b[39m\u001b[38;5;124m\"\u001b[39m, \u001b[38;5;124m\"\u001b[39m\u001b[38;5;124mreshape\u001b[39m\u001b[38;5;124m\"\u001b[39m, \u001b[38;5;124m\"\u001b[39m\u001b[38;5;124mclip\u001b[39m\u001b[38;5;124m\"\u001b[39m, \u001b[38;5;124m\"\u001b[39m\u001b[38;5;124msize\u001b[39m\u001b[38;5;124m\"\u001b[39m,\n\u001b[0;32m    435\u001b[0m             \u001b[38;5;124m\"\u001b[39m\u001b[38;5;124mtolist\u001b[39m\u001b[38;5;124m\"\u001b[39m, \u001b[38;5;124m\"\u001b[39m\u001b[38;5;124mdata\u001b[39m\u001b[38;5;124m\"\u001b[39m}:\n\u001b[0;32m    436\u001b[0m   \u001b[38;5;66;03m# TODO(wangpeng): Export the enable_numpy_behavior knob\u001b[39;00m\n\u001b[0;32m    437\u001b[0m   \u001b[38;5;28;01mraise\u001b[39;00m \u001b[38;5;167;01mAttributeError\u001b[39;00m(\n\u001b[0;32m    438\u001b[0m       \u001b[38;5;124mf\u001b[39m\u001b[38;5;124m\"\u001b[39m\u001b[38;5;132;01m{\u001b[39;00m\u001b[38;5;28mtype\u001b[39m(\u001b[38;5;28mself\u001b[39m)\u001b[38;5;241m.\u001b[39m\u001b[38;5;18m__name__\u001b[39m\u001b[38;5;132;01m}\u001b[39;00m\u001b[38;5;124m object has no attribute \u001b[39m\u001b[38;5;124m'\u001b[39m\u001b[38;5;132;01m{\u001b[39;00mname\u001b[38;5;132;01m}\u001b[39;00m\u001b[38;5;124m'\u001b[39m\u001b[38;5;124m. \u001b[39m\u001b[38;5;124m\"\u001b[39m \u001b[38;5;241m+\u001b[39m \u001b[38;5;124m\"\"\"\u001b[39m\n\u001b[0;32m    439\u001b[0m \u001b[38;5;124m    If you are looking for numpy-related methods, please run the following:\u001b[39m\n\u001b[0;32m    440\u001b[0m \u001b[38;5;124m    from tensorflow.python.ops.numpy_ops import np_config\u001b[39m\n\u001b[0;32m    441\u001b[0m \u001b[38;5;124m    np_config.enable_numpy_behavior()\u001b[39m\n\u001b[0;32m    442\u001b[0m \u001b[38;5;124m  \u001b[39m\u001b[38;5;124m\"\"\"\u001b[39m)\n\u001b[1;32m--> 443\u001b[0m \u001b[38;5;28;43mself\u001b[39;49m\u001b[38;5;241;43m.\u001b[39;49m\u001b[38;5;21;43m__getattribute__\u001b[39;49m\u001b[43m(\u001b[49m\u001b[43mname\u001b[49m\u001b[43m)\u001b[49m\n",
      "\u001b[1;31mAttributeError\u001b[0m: 'tensorflow.python.framework.ops.EagerTensor' object has no attribute 'assign'"
     ]
    }
   ],
   "source": [
    "unchangeable_tensor[1].assign(10)"
   ]
  },
  {
   "cell_type": "code",
   "execution_count": 23,
   "id": "2e47acd9",
   "metadata": {},
   "outputs": [
    {
     "data": {
      "text/plain": [
       "<tf.Tensor: shape=(2, 2), dtype=float32, numpy=\n",
       "array([[0.5983449 , 0.06276207],\n",
       "       [0.14631742, 0.48481876]], dtype=float32)>"
      ]
     },
     "execution_count": 23,
     "metadata": {},
     "output_type": "execute_result"
    }
   ],
   "source": [
    "# Creating random tensor\n",
    "\n",
    "random_a = tf.random.set_seed(7)\n",
    "random_a = tf.random.normal(shape=[2,2])\n",
    "random_a"
   ]
  },
  {
   "cell_type": "code",
   "execution_count": 24,
   "id": "d0a1235d",
   "metadata": {},
   "outputs": [
    {
     "data": {
      "text/plain": [
       "<tf.Tensor: shape=(2, 2), dtype=float32, numpy=\n",
       "array([[0.5983449 , 0.06276207],\n",
       "       [0.14631742, 0.48481876]], dtype=float32)>"
      ]
     },
     "execution_count": 24,
     "metadata": {},
     "output_type": "execute_result"
    }
   ],
   "source": [
    "# Creating random tensor\n",
    "\n",
    "random_b = tf.random.set_seed(7)\n",
    "random_b = tf.random.normal(shape=[2,2])\n",
    "random_b"
   ]
  },
  {
   "cell_type": "code",
   "execution_count": 26,
   "id": "d9f4b7b3",
   "metadata": {},
   "outputs": [
    {
     "data": {
      "text/plain": [
       "<tf.Tensor: shape=(2, 2), dtype=float32, numpy=\n",
       "array([[-1.1012203 ,  1.5457517 ],\n",
       "       [ 0.383644  , -0.87965786]], dtype=float32)>"
      ]
     },
     "execution_count": 26,
     "metadata": {},
     "output_type": "execute_result"
    }
   ],
   "source": [
    "# Creating random tensor\n",
    "\n",
    "random_c = tf.random.set_seed(1)\n",
    "random_c = tf.random.normal(shape=[2,2])\n",
    "random_c\n",
    "# random equality depends on set_seed"
   ]
  },
  {
   "cell_type": "code",
   "execution_count": 28,
   "id": "0aae736f",
   "metadata": {},
   "outputs": [
    {
     "data": {
      "text/plain": [
       "<tf.Tensor: shape=(3, 3), dtype=int32, numpy=\n",
       "array([[1, 2, 3],\n",
       "       [4, 5, 6],\n",
       "       [7, 8, 9]])>"
      ]
     },
     "execution_count": 28,
     "metadata": {},
     "output_type": "execute_result"
    }
   ],
   "source": [
    "# shuffle a tensor\n",
    "\n",
    "not_shuffled = tf.constant([[1,2,3], [4,5,6], [7,8,9]])\n",
    "not_shuffled"
   ]
  },
  {
   "cell_type": "code",
   "execution_count": 29,
   "id": "90d710fe",
   "metadata": {},
   "outputs": [
    {
     "data": {
      "text/plain": [
       "<tf.Tensor: shape=(3, 3), dtype=int32, numpy=\n",
       "array([[7, 8, 9],\n",
       "       [4, 5, 6],\n",
       "       [1, 2, 3]])>"
      ]
     },
     "execution_count": 29,
     "metadata": {},
     "output_type": "execute_result"
    }
   ],
   "source": [
    "shuffled = tf.random.shuffle(not_shuffled)\n",
    "shuffled"
   ]
  },
  {
   "cell_type": "code",
   "execution_count": 30,
   "id": "d4a4884d",
   "metadata": {},
   "outputs": [
    {
     "data": {
      "text/plain": [
       "<tf.Tensor: shape=(3, 3), dtype=int32, numpy=\n",
       "array([[7, 8, 9],\n",
       "       [4, 5, 6],\n",
       "       [1, 2, 3]])>"
      ]
     },
     "execution_count": 30,
     "metadata": {},
     "output_type": "execute_result"
    }
   ],
   "source": [
    "shuffled"
   ]
  },
  {
   "cell_type": "code",
   "execution_count": 31,
   "id": "166ce267",
   "metadata": {},
   "outputs": [
    {
     "data": {
      "text/plain": [
       "<tf.Tensor: shape=(3, 3), dtype=int32, numpy=\n",
       "array([[1, 2, 3],\n",
       "       [4, 5, 6],\n",
       "       [7, 8, 9]])>"
      ]
     },
     "execution_count": 31,
     "metadata": {},
     "output_type": "execute_result"
    }
   ],
   "source": [
    "shuffled = tf.random.shuffle(not_shuffled)\n",
    "shuffled"
   ]
  },
  {
   "cell_type": "code",
   "execution_count": 35,
   "id": "bc9c4ebb",
   "metadata": {},
   "outputs": [
    {
     "data": {
      "text/plain": [
       "<tf.Tensor: shape=(3, 3), dtype=int32, numpy=\n",
       "array([[4, 5, 6],\n",
       "       [1, 2, 3],\n",
       "       [7, 8, 9]])>"
      ]
     },
     "execution_count": 35,
     "metadata": {},
     "output_type": "execute_result"
    }
   ],
   "source": [
    "shuffled = tf.random.shuffle(not_shuffled)\n",
    "shuffled\n",
    "#every time it changes it's pattern"
   ]
  },
  {
   "cell_type": "code",
   "execution_count": 50,
   "id": "b99ddc77",
   "metadata": {},
   "outputs": [
    {
     "data": {
      "text/plain": [
       "<tf.Tensor: shape=(3, 3), dtype=int32, numpy=\n",
       "array([[4, 5, 6],\n",
       "       [1, 2, 3],\n",
       "       [7, 8, 9]])>"
      ]
     },
     "execution_count": 50,
     "metadata": {},
     "output_type": "execute_result"
    }
   ],
   "source": [
    "# to fixed pattern\n",
    "tf.random.set_seed(7) # global level seed\n",
    "shuffled = tf.random.shuffle(not_shuffled, seed = 7) # operation level seed\n",
    "shuffled"
   ]
  },
  {
   "cell_type": "code",
   "execution_count": 51,
   "id": "10bebbf8",
   "metadata": {},
   "outputs": [
    {
     "data": {
      "text/plain": [
       "<tf.Tensor: shape=(3, 3), dtype=float32, numpy=\n",
       "array([[1., 1., 1.],\n",
       "       [1., 1., 1.],\n",
       "       [1., 1., 1.]], dtype=float32)>"
      ]
     },
     "execution_count": 51,
     "metadata": {},
     "output_type": "execute_result"
    }
   ],
   "source": [
    "# Create a tensor of all 1\n",
    "tf.ones(shape=(3,3))"
   ]
  },
  {
   "cell_type": "code",
   "execution_count": 52,
   "id": "63005727",
   "metadata": {},
   "outputs": [
    {
     "data": {
      "text/plain": [
       "<tf.Tensor: shape=(5, 4), dtype=float32, numpy=\n",
       "array([[0., 0., 0., 0.],\n",
       "       [0., 0., 0., 0.],\n",
       "       [0., 0., 0., 0.],\n",
       "       [0., 0., 0., 0.],\n",
       "       [0., 0., 0., 0.]], dtype=float32)>"
      ]
     },
     "execution_count": 52,
     "metadata": {},
     "output_type": "execute_result"
    }
   ],
   "source": [
    "tf.zeros(shape=[5,4])"
   ]
  },
  {
   "cell_type": "code",
   "execution_count": 53,
   "id": "8aa18472",
   "metadata": {},
   "outputs": [],
   "source": [
    "import numpy as np\n",
    "numpy_array = np.arange(5, 29)"
   ]
  },
  {
   "cell_type": "code",
   "execution_count": 54,
   "id": "561a3169",
   "metadata": {},
   "outputs": [
    {
     "data": {
      "text/plain": [
       "array([ 5,  6,  7,  8,  9, 10, 11, 12, 13, 14, 15, 16, 17, 18, 19, 20, 21,\n",
       "       22, 23, 24, 25, 26, 27, 28])"
      ]
     },
     "execution_count": 54,
     "metadata": {},
     "output_type": "execute_result"
    }
   ],
   "source": [
    "numpy_array"
   ]
  },
  {
   "cell_type": "code",
   "execution_count": 56,
   "id": "c0c5b51e",
   "metadata": {},
   "outputs": [
    {
     "data": {
      "text/plain": [
       "(24,)"
      ]
     },
     "execution_count": 56,
     "metadata": {},
     "output_type": "execute_result"
    }
   ],
   "source": [
    "numpy_array.shape"
   ]
  },
  {
   "cell_type": "code",
   "execution_count": 57,
   "id": "d30de1b2",
   "metadata": {},
   "outputs": [],
   "source": [
    "# numpy array to tensor\n",
    "tensor = tf.constant(numpy_array)"
   ]
  },
  {
   "cell_type": "code",
   "execution_count": 58,
   "id": "72857eb1",
   "metadata": {},
   "outputs": [
    {
     "data": {
      "text/plain": [
       "<tf.Tensor: shape=(24,), dtype=int32, numpy=\n",
       "array([ 5,  6,  7,  8,  9, 10, 11, 12, 13, 14, 15, 16, 17, 18, 19, 20, 21,\n",
       "       22, 23, 24, 25, 26, 27, 28])>"
      ]
     },
     "execution_count": 58,
     "metadata": {},
     "output_type": "execute_result"
    }
   ],
   "source": [
    "tensor"
   ]
  },
  {
   "cell_type": "code",
   "execution_count": 59,
   "id": "eda5dee9",
   "metadata": {},
   "outputs": [],
   "source": [
    "tensor = tf.constant(numpy_array, shape = (3, 8))"
   ]
  },
  {
   "cell_type": "code",
   "execution_count": 60,
   "id": "07f2b5de",
   "metadata": {},
   "outputs": [
    {
     "data": {
      "text/plain": [
       "<tf.Tensor: shape=(3, 8), dtype=int32, numpy=\n",
       "array([[ 5,  6,  7,  8,  9, 10, 11, 12],\n",
       "       [13, 14, 15, 16, 17, 18, 19, 20],\n",
       "       [21, 22, 23, 24, 25, 26, 27, 28]])>"
      ]
     },
     "execution_count": 60,
     "metadata": {},
     "output_type": "execute_result"
    }
   ],
   "source": [
    "tensor"
   ]
  },
  {
   "cell_type": "code",
   "execution_count": 61,
   "id": "4ed69ce8",
   "metadata": {},
   "outputs": [
    {
     "data": {
      "text/plain": [
       "2"
      ]
     },
     "execution_count": 61,
     "metadata": {},
     "output_type": "execute_result"
    }
   ],
   "source": [
    "tensor.ndim"
   ]
  },
  {
   "cell_type": "code",
   "execution_count": 62,
   "id": "bb0116e0",
   "metadata": {},
   "outputs": [],
   "source": [
    "tensor2 = tf.constant(numpy_array, shape=(2, 3, 4))"
   ]
  },
  {
   "cell_type": "code",
   "execution_count": 63,
   "id": "3c9b2e93",
   "metadata": {},
   "outputs": [
    {
     "data": {
      "text/plain": [
       "<tf.Tensor: shape=(2, 3, 4), dtype=int32, numpy=\n",
       "array([[[ 5,  6,  7,  8],\n",
       "        [ 9, 10, 11, 12],\n",
       "        [13, 14, 15, 16]],\n",
       "\n",
       "       [[17, 18, 19, 20],\n",
       "        [21, 22, 23, 24],\n",
       "        [25, 26, 27, 28]]])>"
      ]
     },
     "execution_count": 63,
     "metadata": {},
     "output_type": "execute_result"
    }
   ],
   "source": [
    "tensor2"
   ]
  },
  {
   "cell_type": "code",
   "execution_count": 64,
   "id": "af536d8c",
   "metadata": {},
   "outputs": [
    {
     "data": {
      "text/plain": [
       "3"
      ]
     },
     "execution_count": 64,
     "metadata": {},
     "output_type": "execute_result"
    }
   ],
   "source": [
    "tensor2.ndim"
   ]
  },
  {
   "cell_type": "code",
   "execution_count": 65,
   "id": "af74a311",
   "metadata": {},
   "outputs": [
    {
     "data": {
      "text/plain": [
       "<tf.Tensor: shape=(), dtype=int32, numpy=24>"
      ]
     },
     "execution_count": 65,
     "metadata": {},
     "output_type": "execute_result"
    }
   ],
   "source": [
    "tf.size(tensor2)"
   ]
  },
  {
   "cell_type": "code",
   "execution_count": 70,
   "id": "965930ba",
   "metadata": {},
   "outputs": [
    {
     "data": {
      "text/plain": [
       "<tf.Tensor: shape=(2, 3, 4, 5, 6, 7), dtype=float16, numpy=\n",
       "array([[[[[[1., 1., 1., ..., 1., 1., 1.],\n",
       "           [1., 1., 1., ..., 1., 1., 1.],\n",
       "           [1., 1., 1., ..., 1., 1., 1.],\n",
       "           [1., 1., 1., ..., 1., 1., 1.],\n",
       "           [1., 1., 1., ..., 1., 1., 1.],\n",
       "           [1., 1., 1., ..., 1., 1., 1.]],\n",
       "\n",
       "          [[1., 1., 1., ..., 1., 1., 1.],\n",
       "           [1., 1., 1., ..., 1., 1., 1.],\n",
       "           [1., 1., 1., ..., 1., 1., 1.],\n",
       "           [1., 1., 1., ..., 1., 1., 1.],\n",
       "           [1., 1., 1., ..., 1., 1., 1.],\n",
       "           [1., 1., 1., ..., 1., 1., 1.]],\n",
       "\n",
       "          [[1., 1., 1., ..., 1., 1., 1.],\n",
       "           [1., 1., 1., ..., 1., 1., 1.],\n",
       "           [1., 1., 1., ..., 1., 1., 1.],\n",
       "           [1., 1., 1., ..., 1., 1., 1.],\n",
       "           [1., 1., 1., ..., 1., 1., 1.],\n",
       "           [1., 1., 1., ..., 1., 1., 1.]],\n",
       "\n",
       "          [[1., 1., 1., ..., 1., 1., 1.],\n",
       "           [1., 1., 1., ..., 1., 1., 1.],\n",
       "           [1., 1., 1., ..., 1., 1., 1.],\n",
       "           [1., 1., 1., ..., 1., 1., 1.],\n",
       "           [1., 1., 1., ..., 1., 1., 1.],\n",
       "           [1., 1., 1., ..., 1., 1., 1.]],\n",
       "\n",
       "          [[1., 1., 1., ..., 1., 1., 1.],\n",
       "           [1., 1., 1., ..., 1., 1., 1.],\n",
       "           [1., 1., 1., ..., 1., 1., 1.],\n",
       "           [1., 1., 1., ..., 1., 1., 1.],\n",
       "           [1., 1., 1., ..., 1., 1., 1.],\n",
       "           [1., 1., 1., ..., 1., 1., 1.]]],\n",
       "\n",
       "\n",
       "         [[[1., 1., 1., ..., 1., 1., 1.],\n",
       "           [1., 1., 1., ..., 1., 1., 1.],\n",
       "           [1., 1., 1., ..., 1., 1., 1.],\n",
       "           [1., 1., 1., ..., 1., 1., 1.],\n",
       "           [1., 1., 1., ..., 1., 1., 1.],\n",
       "           [1., 1., 1., ..., 1., 1., 1.]],\n",
       "\n",
       "          [[1., 1., 1., ..., 1., 1., 1.],\n",
       "           [1., 1., 1., ..., 1., 1., 1.],\n",
       "           [1., 1., 1., ..., 1., 1., 1.],\n",
       "           [1., 1., 1., ..., 1., 1., 1.],\n",
       "           [1., 1., 1., ..., 1., 1., 1.],\n",
       "           [1., 1., 1., ..., 1., 1., 1.]],\n",
       "\n",
       "          [[1., 1., 1., ..., 1., 1., 1.],\n",
       "           [1., 1., 1., ..., 1., 1., 1.],\n",
       "           [1., 1., 1., ..., 1., 1., 1.],\n",
       "           [1., 1., 1., ..., 1., 1., 1.],\n",
       "           [1., 1., 1., ..., 1., 1., 1.],\n",
       "           [1., 1., 1., ..., 1., 1., 1.]],\n",
       "\n",
       "          [[1., 1., 1., ..., 1., 1., 1.],\n",
       "           [1., 1., 1., ..., 1., 1., 1.],\n",
       "           [1., 1., 1., ..., 1., 1., 1.],\n",
       "           [1., 1., 1., ..., 1., 1., 1.],\n",
       "           [1., 1., 1., ..., 1., 1., 1.],\n",
       "           [1., 1., 1., ..., 1., 1., 1.]],\n",
       "\n",
       "          [[1., 1., 1., ..., 1., 1., 1.],\n",
       "           [1., 1., 1., ..., 1., 1., 1.],\n",
       "           [1., 1., 1., ..., 1., 1., 1.],\n",
       "           [1., 1., 1., ..., 1., 1., 1.],\n",
       "           [1., 1., 1., ..., 1., 1., 1.],\n",
       "           [1., 1., 1., ..., 1., 1., 1.]]],\n",
       "\n",
       "\n",
       "         [[[1., 1., 1., ..., 1., 1., 1.],\n",
       "           [1., 1., 1., ..., 1., 1., 1.],\n",
       "           [1., 1., 1., ..., 1., 1., 1.],\n",
       "           [1., 1., 1., ..., 1., 1., 1.],\n",
       "           [1., 1., 1., ..., 1., 1., 1.],\n",
       "           [1., 1., 1., ..., 1., 1., 1.]],\n",
       "\n",
       "          [[1., 1., 1., ..., 1., 1., 1.],\n",
       "           [1., 1., 1., ..., 1., 1., 1.],\n",
       "           [1., 1., 1., ..., 1., 1., 1.],\n",
       "           [1., 1., 1., ..., 1., 1., 1.],\n",
       "           [1., 1., 1., ..., 1., 1., 1.],\n",
       "           [1., 1., 1., ..., 1., 1., 1.]],\n",
       "\n",
       "          [[1., 1., 1., ..., 1., 1., 1.],\n",
       "           [1., 1., 1., ..., 1., 1., 1.],\n",
       "           [1., 1., 1., ..., 1., 1., 1.],\n",
       "           [1., 1., 1., ..., 1., 1., 1.],\n",
       "           [1., 1., 1., ..., 1., 1., 1.],\n",
       "           [1., 1., 1., ..., 1., 1., 1.]],\n",
       "\n",
       "          [[1., 1., 1., ..., 1., 1., 1.],\n",
       "           [1., 1., 1., ..., 1., 1., 1.],\n",
       "           [1., 1., 1., ..., 1., 1., 1.],\n",
       "           [1., 1., 1., ..., 1., 1., 1.],\n",
       "           [1., 1., 1., ..., 1., 1., 1.],\n",
       "           [1., 1., 1., ..., 1., 1., 1.]],\n",
       "\n",
       "          [[1., 1., 1., ..., 1., 1., 1.],\n",
       "           [1., 1., 1., ..., 1., 1., 1.],\n",
       "           [1., 1., 1., ..., 1., 1., 1.],\n",
       "           [1., 1., 1., ..., 1., 1., 1.],\n",
       "           [1., 1., 1., ..., 1., 1., 1.],\n",
       "           [1., 1., 1., ..., 1., 1., 1.]]],\n",
       "\n",
       "\n",
       "         [[[1., 1., 1., ..., 1., 1., 1.],\n",
       "           [1., 1., 1., ..., 1., 1., 1.],\n",
       "           [1., 1., 1., ..., 1., 1., 1.],\n",
       "           [1., 1., 1., ..., 1., 1., 1.],\n",
       "           [1., 1., 1., ..., 1., 1., 1.],\n",
       "           [1., 1., 1., ..., 1., 1., 1.]],\n",
       "\n",
       "          [[1., 1., 1., ..., 1., 1., 1.],\n",
       "           [1., 1., 1., ..., 1., 1., 1.],\n",
       "           [1., 1., 1., ..., 1., 1., 1.],\n",
       "           [1., 1., 1., ..., 1., 1., 1.],\n",
       "           [1., 1., 1., ..., 1., 1., 1.],\n",
       "           [1., 1., 1., ..., 1., 1., 1.]],\n",
       "\n",
       "          [[1., 1., 1., ..., 1., 1., 1.],\n",
       "           [1., 1., 1., ..., 1., 1., 1.],\n",
       "           [1., 1., 1., ..., 1., 1., 1.],\n",
       "           [1., 1., 1., ..., 1., 1., 1.],\n",
       "           [1., 1., 1., ..., 1., 1., 1.],\n",
       "           [1., 1., 1., ..., 1., 1., 1.]],\n",
       "\n",
       "          [[1., 1., 1., ..., 1., 1., 1.],\n",
       "           [1., 1., 1., ..., 1., 1., 1.],\n",
       "           [1., 1., 1., ..., 1., 1., 1.],\n",
       "           [1., 1., 1., ..., 1., 1., 1.],\n",
       "           [1., 1., 1., ..., 1., 1., 1.],\n",
       "           [1., 1., 1., ..., 1., 1., 1.]],\n",
       "\n",
       "          [[1., 1., 1., ..., 1., 1., 1.],\n",
       "           [1., 1., 1., ..., 1., 1., 1.],\n",
       "           [1., 1., 1., ..., 1., 1., 1.],\n",
       "           [1., 1., 1., ..., 1., 1., 1.],\n",
       "           [1., 1., 1., ..., 1., 1., 1.],\n",
       "           [1., 1., 1., ..., 1., 1., 1.]]]],\n",
       "\n",
       "\n",
       "\n",
       "        [[[[1., 1., 1., ..., 1., 1., 1.],\n",
       "           [1., 1., 1., ..., 1., 1., 1.],\n",
       "           [1., 1., 1., ..., 1., 1., 1.],\n",
       "           [1., 1., 1., ..., 1., 1., 1.],\n",
       "           [1., 1., 1., ..., 1., 1., 1.],\n",
       "           [1., 1., 1., ..., 1., 1., 1.]],\n",
       "\n",
       "          [[1., 1., 1., ..., 1., 1., 1.],\n",
       "           [1., 1., 1., ..., 1., 1., 1.],\n",
       "           [1., 1., 1., ..., 1., 1., 1.],\n",
       "           [1., 1., 1., ..., 1., 1., 1.],\n",
       "           [1., 1., 1., ..., 1., 1., 1.],\n",
       "           [1., 1., 1., ..., 1., 1., 1.]],\n",
       "\n",
       "          [[1., 1., 1., ..., 1., 1., 1.],\n",
       "           [1., 1., 1., ..., 1., 1., 1.],\n",
       "           [1., 1., 1., ..., 1., 1., 1.],\n",
       "           [1., 1., 1., ..., 1., 1., 1.],\n",
       "           [1., 1., 1., ..., 1., 1., 1.],\n",
       "           [1., 1., 1., ..., 1., 1., 1.]],\n",
       "\n",
       "          [[1., 1., 1., ..., 1., 1., 1.],\n",
       "           [1., 1., 1., ..., 1., 1., 1.],\n",
       "           [1., 1., 1., ..., 1., 1., 1.],\n",
       "           [1., 1., 1., ..., 1., 1., 1.],\n",
       "           [1., 1., 1., ..., 1., 1., 1.],\n",
       "           [1., 1., 1., ..., 1., 1., 1.]],\n",
       "\n",
       "          [[1., 1., 1., ..., 1., 1., 1.],\n",
       "           [1., 1., 1., ..., 1., 1., 1.],\n",
       "           [1., 1., 1., ..., 1., 1., 1.],\n",
       "           [1., 1., 1., ..., 1., 1., 1.],\n",
       "           [1., 1., 1., ..., 1., 1., 1.],\n",
       "           [1., 1., 1., ..., 1., 1., 1.]]],\n",
       "\n",
       "\n",
       "         [[[1., 1., 1., ..., 1., 1., 1.],\n",
       "           [1., 1., 1., ..., 1., 1., 1.],\n",
       "           [1., 1., 1., ..., 1., 1., 1.],\n",
       "           [1., 1., 1., ..., 1., 1., 1.],\n",
       "           [1., 1., 1., ..., 1., 1., 1.],\n",
       "           [1., 1., 1., ..., 1., 1., 1.]],\n",
       "\n",
       "          [[1., 1., 1., ..., 1., 1., 1.],\n",
       "           [1., 1., 1., ..., 1., 1., 1.],\n",
       "           [1., 1., 1., ..., 1., 1., 1.],\n",
       "           [1., 1., 1., ..., 1., 1., 1.],\n",
       "           [1., 1., 1., ..., 1., 1., 1.],\n",
       "           [1., 1., 1., ..., 1., 1., 1.]],\n",
       "\n",
       "          [[1., 1., 1., ..., 1., 1., 1.],\n",
       "           [1., 1., 1., ..., 1., 1., 1.],\n",
       "           [1., 1., 1., ..., 1., 1., 1.],\n",
       "           [1., 1., 1., ..., 1., 1., 1.],\n",
       "           [1., 1., 1., ..., 1., 1., 1.],\n",
       "           [1., 1., 1., ..., 1., 1., 1.]],\n",
       "\n",
       "          [[1., 1., 1., ..., 1., 1., 1.],\n",
       "           [1., 1., 1., ..., 1., 1., 1.],\n",
       "           [1., 1., 1., ..., 1., 1., 1.],\n",
       "           [1., 1., 1., ..., 1., 1., 1.],\n",
       "           [1., 1., 1., ..., 1., 1., 1.],\n",
       "           [1., 1., 1., ..., 1., 1., 1.]],\n",
       "\n",
       "          [[1., 1., 1., ..., 1., 1., 1.],\n",
       "           [1., 1., 1., ..., 1., 1., 1.],\n",
       "           [1., 1., 1., ..., 1., 1., 1.],\n",
       "           [1., 1., 1., ..., 1., 1., 1.],\n",
       "           [1., 1., 1., ..., 1., 1., 1.],\n",
       "           [1., 1., 1., ..., 1., 1., 1.]]],\n",
       "\n",
       "\n",
       "         [[[1., 1., 1., ..., 1., 1., 1.],\n",
       "           [1., 1., 1., ..., 1., 1., 1.],\n",
       "           [1., 1., 1., ..., 1., 1., 1.],\n",
       "           [1., 1., 1., ..., 1., 1., 1.],\n",
       "           [1., 1., 1., ..., 1., 1., 1.],\n",
       "           [1., 1., 1., ..., 1., 1., 1.]],\n",
       "\n",
       "          [[1., 1., 1., ..., 1., 1., 1.],\n",
       "           [1., 1., 1., ..., 1., 1., 1.],\n",
       "           [1., 1., 1., ..., 1., 1., 1.],\n",
       "           [1., 1., 1., ..., 1., 1., 1.],\n",
       "           [1., 1., 1., ..., 1., 1., 1.],\n",
       "           [1., 1., 1., ..., 1., 1., 1.]],\n",
       "\n",
       "          [[1., 1., 1., ..., 1., 1., 1.],\n",
       "           [1., 1., 1., ..., 1., 1., 1.],\n",
       "           [1., 1., 1., ..., 1., 1., 1.],\n",
       "           [1., 1., 1., ..., 1., 1., 1.],\n",
       "           [1., 1., 1., ..., 1., 1., 1.],\n",
       "           [1., 1., 1., ..., 1., 1., 1.]],\n",
       "\n",
       "          [[1., 1., 1., ..., 1., 1., 1.],\n",
       "           [1., 1., 1., ..., 1., 1., 1.],\n",
       "           [1., 1., 1., ..., 1., 1., 1.],\n",
       "           [1., 1., 1., ..., 1., 1., 1.],\n",
       "           [1., 1., 1., ..., 1., 1., 1.],\n",
       "           [1., 1., 1., ..., 1., 1., 1.]],\n",
       "\n",
       "          [[1., 1., 1., ..., 1., 1., 1.],\n",
       "           [1., 1., 1., ..., 1., 1., 1.],\n",
       "           [1., 1., 1., ..., 1., 1., 1.],\n",
       "           [1., 1., 1., ..., 1., 1., 1.],\n",
       "           [1., 1., 1., ..., 1., 1., 1.],\n",
       "           [1., 1., 1., ..., 1., 1., 1.]]],\n",
       "\n",
       "\n",
       "         [[[1., 1., 1., ..., 1., 1., 1.],\n",
       "           [1., 1., 1., ..., 1., 1., 1.],\n",
       "           [1., 1., 1., ..., 1., 1., 1.],\n",
       "           [1., 1., 1., ..., 1., 1., 1.],\n",
       "           [1., 1., 1., ..., 1., 1., 1.],\n",
       "           [1., 1., 1., ..., 1., 1., 1.]],\n",
       "\n",
       "          [[1., 1., 1., ..., 1., 1., 1.],\n",
       "           [1., 1., 1., ..., 1., 1., 1.],\n",
       "           [1., 1., 1., ..., 1., 1., 1.],\n",
       "           [1., 1., 1., ..., 1., 1., 1.],\n",
       "           [1., 1., 1., ..., 1., 1., 1.],\n",
       "           [1., 1., 1., ..., 1., 1., 1.]],\n",
       "\n",
       "          [[1., 1., 1., ..., 1., 1., 1.],\n",
       "           [1., 1., 1., ..., 1., 1., 1.],\n",
       "           [1., 1., 1., ..., 1., 1., 1.],\n",
       "           [1., 1., 1., ..., 1., 1., 1.],\n",
       "           [1., 1., 1., ..., 1., 1., 1.],\n",
       "           [1., 1., 1., ..., 1., 1., 1.]],\n",
       "\n",
       "          [[1., 1., 1., ..., 1., 1., 1.],\n",
       "           [1., 1., 1., ..., 1., 1., 1.],\n",
       "           [1., 1., 1., ..., 1., 1., 1.],\n",
       "           [1., 1., 1., ..., 1., 1., 1.],\n",
       "           [1., 1., 1., ..., 1., 1., 1.],\n",
       "           [1., 1., 1., ..., 1., 1., 1.]],\n",
       "\n",
       "          [[1., 1., 1., ..., 1., 1., 1.],\n",
       "           [1., 1., 1., ..., 1., 1., 1.],\n",
       "           [1., 1., 1., ..., 1., 1., 1.],\n",
       "           [1., 1., 1., ..., 1., 1., 1.],\n",
       "           [1., 1., 1., ..., 1., 1., 1.],\n",
       "           [1., 1., 1., ..., 1., 1., 1.]]]],\n",
       "\n",
       "\n",
       "\n",
       "        [[[[1., 1., 1., ..., 1., 1., 1.],\n",
       "           [1., 1., 1., ..., 1., 1., 1.],\n",
       "           [1., 1., 1., ..., 1., 1., 1.],\n",
       "           [1., 1., 1., ..., 1., 1., 1.],\n",
       "           [1., 1., 1., ..., 1., 1., 1.],\n",
       "           [1., 1., 1., ..., 1., 1., 1.]],\n",
       "\n",
       "          [[1., 1., 1., ..., 1., 1., 1.],\n",
       "           [1., 1., 1., ..., 1., 1., 1.],\n",
       "           [1., 1., 1., ..., 1., 1., 1.],\n",
       "           [1., 1., 1., ..., 1., 1., 1.],\n",
       "           [1., 1., 1., ..., 1., 1., 1.],\n",
       "           [1., 1., 1., ..., 1., 1., 1.]],\n",
       "\n",
       "          [[1., 1., 1., ..., 1., 1., 1.],\n",
       "           [1., 1., 1., ..., 1., 1., 1.],\n",
       "           [1., 1., 1., ..., 1., 1., 1.],\n",
       "           [1., 1., 1., ..., 1., 1., 1.],\n",
       "           [1., 1., 1., ..., 1., 1., 1.],\n",
       "           [1., 1., 1., ..., 1., 1., 1.]],\n",
       "\n",
       "          [[1., 1., 1., ..., 1., 1., 1.],\n",
       "           [1., 1., 1., ..., 1., 1., 1.],\n",
       "           [1., 1., 1., ..., 1., 1., 1.],\n",
       "           [1., 1., 1., ..., 1., 1., 1.],\n",
       "           [1., 1., 1., ..., 1., 1., 1.],\n",
       "           [1., 1., 1., ..., 1., 1., 1.]],\n",
       "\n",
       "          [[1., 1., 1., ..., 1., 1., 1.],\n",
       "           [1., 1., 1., ..., 1., 1., 1.],\n",
       "           [1., 1., 1., ..., 1., 1., 1.],\n",
       "           [1., 1., 1., ..., 1., 1., 1.],\n",
       "           [1., 1., 1., ..., 1., 1., 1.],\n",
       "           [1., 1., 1., ..., 1., 1., 1.]]],\n",
       "\n",
       "\n",
       "         [[[1., 1., 1., ..., 1., 1., 1.],\n",
       "           [1., 1., 1., ..., 1., 1., 1.],\n",
       "           [1., 1., 1., ..., 1., 1., 1.],\n",
       "           [1., 1., 1., ..., 1., 1., 1.],\n",
       "           [1., 1., 1., ..., 1., 1., 1.],\n",
       "           [1., 1., 1., ..., 1., 1., 1.]],\n",
       "\n",
       "          [[1., 1., 1., ..., 1., 1., 1.],\n",
       "           [1., 1., 1., ..., 1., 1., 1.],\n",
       "           [1., 1., 1., ..., 1., 1., 1.],\n",
       "           [1., 1., 1., ..., 1., 1., 1.],\n",
       "           [1., 1., 1., ..., 1., 1., 1.],\n",
       "           [1., 1., 1., ..., 1., 1., 1.]],\n",
       "\n",
       "          [[1., 1., 1., ..., 1., 1., 1.],\n",
       "           [1., 1., 1., ..., 1., 1., 1.],\n",
       "           [1., 1., 1., ..., 1., 1., 1.],\n",
       "           [1., 1., 1., ..., 1., 1., 1.],\n",
       "           [1., 1., 1., ..., 1., 1., 1.],\n",
       "           [1., 1., 1., ..., 1., 1., 1.]],\n",
       "\n",
       "          [[1., 1., 1., ..., 1., 1., 1.],\n",
       "           [1., 1., 1., ..., 1., 1., 1.],\n",
       "           [1., 1., 1., ..., 1., 1., 1.],\n",
       "           [1., 1., 1., ..., 1., 1., 1.],\n",
       "           [1., 1., 1., ..., 1., 1., 1.],\n",
       "           [1., 1., 1., ..., 1., 1., 1.]],\n",
       "\n",
       "          [[1., 1., 1., ..., 1., 1., 1.],\n",
       "           [1., 1., 1., ..., 1., 1., 1.],\n",
       "           [1., 1., 1., ..., 1., 1., 1.],\n",
       "           [1., 1., 1., ..., 1., 1., 1.],\n",
       "           [1., 1., 1., ..., 1., 1., 1.],\n",
       "           [1., 1., 1., ..., 1., 1., 1.]]],\n",
       "\n",
       "\n",
       "         [[[1., 1., 1., ..., 1., 1., 1.],\n",
       "           [1., 1., 1., ..., 1., 1., 1.],\n",
       "           [1., 1., 1., ..., 1., 1., 1.],\n",
       "           [1., 1., 1., ..., 1., 1., 1.],\n",
       "           [1., 1., 1., ..., 1., 1., 1.],\n",
       "           [1., 1., 1., ..., 1., 1., 1.]],\n",
       "\n",
       "          [[1., 1., 1., ..., 1., 1., 1.],\n",
       "           [1., 1., 1., ..., 1., 1., 1.],\n",
       "           [1., 1., 1., ..., 1., 1., 1.],\n",
       "           [1., 1., 1., ..., 1., 1., 1.],\n",
       "           [1., 1., 1., ..., 1., 1., 1.],\n",
       "           [1., 1., 1., ..., 1., 1., 1.]],\n",
       "\n",
       "          [[1., 1., 1., ..., 1., 1., 1.],\n",
       "           [1., 1., 1., ..., 1., 1., 1.],\n",
       "           [1., 1., 1., ..., 1., 1., 1.],\n",
       "           [1., 1., 1., ..., 1., 1., 1.],\n",
       "           [1., 1., 1., ..., 1., 1., 1.],\n",
       "           [1., 1., 1., ..., 1., 1., 1.]],\n",
       "\n",
       "          [[1., 1., 1., ..., 1., 1., 1.],\n",
       "           [1., 1., 1., ..., 1., 1., 1.],\n",
       "           [1., 1., 1., ..., 1., 1., 1.],\n",
       "           [1., 1., 1., ..., 1., 1., 1.],\n",
       "           [1., 1., 1., ..., 1., 1., 1.],\n",
       "           [1., 1., 1., ..., 1., 1., 1.]],\n",
       "\n",
       "          [[1., 1., 1., ..., 1., 1., 1.],\n",
       "           [1., 1., 1., ..., 1., 1., 1.],\n",
       "           [1., 1., 1., ..., 1., 1., 1.],\n",
       "           [1., 1., 1., ..., 1., 1., 1.],\n",
       "           [1., 1., 1., ..., 1., 1., 1.],\n",
       "           [1., 1., 1., ..., 1., 1., 1.]]],\n",
       "\n",
       "\n",
       "         [[[1., 1., 1., ..., 1., 1., 1.],\n",
       "           [1., 1., 1., ..., 1., 1., 1.],\n",
       "           [1., 1., 1., ..., 1., 1., 1.],\n",
       "           [1., 1., 1., ..., 1., 1., 1.],\n",
       "           [1., 1., 1., ..., 1., 1., 1.],\n",
       "           [1., 1., 1., ..., 1., 1., 1.]],\n",
       "\n",
       "          [[1., 1., 1., ..., 1., 1., 1.],\n",
       "           [1., 1., 1., ..., 1., 1., 1.],\n",
       "           [1., 1., 1., ..., 1., 1., 1.],\n",
       "           [1., 1., 1., ..., 1., 1., 1.],\n",
       "           [1., 1., 1., ..., 1., 1., 1.],\n",
       "           [1., 1., 1., ..., 1., 1., 1.]],\n",
       "\n",
       "          [[1., 1., 1., ..., 1., 1., 1.],\n",
       "           [1., 1., 1., ..., 1., 1., 1.],\n",
       "           [1., 1., 1., ..., 1., 1., 1.],\n",
       "           [1., 1., 1., ..., 1., 1., 1.],\n",
       "           [1., 1., 1., ..., 1., 1., 1.],\n",
       "           [1., 1., 1., ..., 1., 1., 1.]],\n",
       "\n",
       "          [[1., 1., 1., ..., 1., 1., 1.],\n",
       "           [1., 1., 1., ..., 1., 1., 1.],\n",
       "           [1., 1., 1., ..., 1., 1., 1.],\n",
       "           [1., 1., 1., ..., 1., 1., 1.],\n",
       "           [1., 1., 1., ..., 1., 1., 1.],\n",
       "           [1., 1., 1., ..., 1., 1., 1.]],\n",
       "\n",
       "          [[1., 1., 1., ..., 1., 1., 1.],\n",
       "           [1., 1., 1., ..., 1., 1., 1.],\n",
       "           [1., 1., 1., ..., 1., 1., 1.],\n",
       "           [1., 1., 1., ..., 1., 1., 1.],\n",
       "           [1., 1., 1., ..., 1., 1., 1.],\n",
       "           [1., 1., 1., ..., 1., 1., 1.]]]]],\n",
       "\n",
       "\n",
       "\n",
       "\n",
       "       [[[[[1., 1., 1., ..., 1., 1., 1.],\n",
       "           [1., 1., 1., ..., 1., 1., 1.],\n",
       "           [1., 1., 1., ..., 1., 1., 1.],\n",
       "           [1., 1., 1., ..., 1., 1., 1.],\n",
       "           [1., 1., 1., ..., 1., 1., 1.],\n",
       "           [1., 1., 1., ..., 1., 1., 1.]],\n",
       "\n",
       "          [[1., 1., 1., ..., 1., 1., 1.],\n",
       "           [1., 1., 1., ..., 1., 1., 1.],\n",
       "           [1., 1., 1., ..., 1., 1., 1.],\n",
       "           [1., 1., 1., ..., 1., 1., 1.],\n",
       "           [1., 1., 1., ..., 1., 1., 1.],\n",
       "           [1., 1., 1., ..., 1., 1., 1.]],\n",
       "\n",
       "          [[1., 1., 1., ..., 1., 1., 1.],\n",
       "           [1., 1., 1., ..., 1., 1., 1.],\n",
       "           [1., 1., 1., ..., 1., 1., 1.],\n",
       "           [1., 1., 1., ..., 1., 1., 1.],\n",
       "           [1., 1., 1., ..., 1., 1., 1.],\n",
       "           [1., 1., 1., ..., 1., 1., 1.]],\n",
       "\n",
       "          [[1., 1., 1., ..., 1., 1., 1.],\n",
       "           [1., 1., 1., ..., 1., 1., 1.],\n",
       "           [1., 1., 1., ..., 1., 1., 1.],\n",
       "           [1., 1., 1., ..., 1., 1., 1.],\n",
       "           [1., 1., 1., ..., 1., 1., 1.],\n",
       "           [1., 1., 1., ..., 1., 1., 1.]],\n",
       "\n",
       "          [[1., 1., 1., ..., 1., 1., 1.],\n",
       "           [1., 1., 1., ..., 1., 1., 1.],\n",
       "           [1., 1., 1., ..., 1., 1., 1.],\n",
       "           [1., 1., 1., ..., 1., 1., 1.],\n",
       "           [1., 1., 1., ..., 1., 1., 1.],\n",
       "           [1., 1., 1., ..., 1., 1., 1.]]],\n",
       "\n",
       "\n",
       "         [[[1., 1., 1., ..., 1., 1., 1.],\n",
       "           [1., 1., 1., ..., 1., 1., 1.],\n",
       "           [1., 1., 1., ..., 1., 1., 1.],\n",
       "           [1., 1., 1., ..., 1., 1., 1.],\n",
       "           [1., 1., 1., ..., 1., 1., 1.],\n",
       "           [1., 1., 1., ..., 1., 1., 1.]],\n",
       "\n",
       "          [[1., 1., 1., ..., 1., 1., 1.],\n",
       "           [1., 1., 1., ..., 1., 1., 1.],\n",
       "           [1., 1., 1., ..., 1., 1., 1.],\n",
       "           [1., 1., 1., ..., 1., 1., 1.],\n",
       "           [1., 1., 1., ..., 1., 1., 1.],\n",
       "           [1., 1., 1., ..., 1., 1., 1.]],\n",
       "\n",
       "          [[1., 1., 1., ..., 1., 1., 1.],\n",
       "           [1., 1., 1., ..., 1., 1., 1.],\n",
       "           [1., 1., 1., ..., 1., 1., 1.],\n",
       "           [1., 1., 1., ..., 1., 1., 1.],\n",
       "           [1., 1., 1., ..., 1., 1., 1.],\n",
       "           [1., 1., 1., ..., 1., 1., 1.]],\n",
       "\n",
       "          [[1., 1., 1., ..., 1., 1., 1.],\n",
       "           [1., 1., 1., ..., 1., 1., 1.],\n",
       "           [1., 1., 1., ..., 1., 1., 1.],\n",
       "           [1., 1., 1., ..., 1., 1., 1.],\n",
       "           [1., 1., 1., ..., 1., 1., 1.],\n",
       "           [1., 1., 1., ..., 1., 1., 1.]],\n",
       "\n",
       "          [[1., 1., 1., ..., 1., 1., 1.],\n",
       "           [1., 1., 1., ..., 1., 1., 1.],\n",
       "           [1., 1., 1., ..., 1., 1., 1.],\n",
       "           [1., 1., 1., ..., 1., 1., 1.],\n",
       "           [1., 1., 1., ..., 1., 1., 1.],\n",
       "           [1., 1., 1., ..., 1., 1., 1.]]],\n",
       "\n",
       "\n",
       "         [[[1., 1., 1., ..., 1., 1., 1.],\n",
       "           [1., 1., 1., ..., 1., 1., 1.],\n",
       "           [1., 1., 1., ..., 1., 1., 1.],\n",
       "           [1., 1., 1., ..., 1., 1., 1.],\n",
       "           [1., 1., 1., ..., 1., 1., 1.],\n",
       "           [1., 1., 1., ..., 1., 1., 1.]],\n",
       "\n",
       "          [[1., 1., 1., ..., 1., 1., 1.],\n",
       "           [1., 1., 1., ..., 1., 1., 1.],\n",
       "           [1., 1., 1., ..., 1., 1., 1.],\n",
       "           [1., 1., 1., ..., 1., 1., 1.],\n",
       "           [1., 1., 1., ..., 1., 1., 1.],\n",
       "           [1., 1., 1., ..., 1., 1., 1.]],\n",
       "\n",
       "          [[1., 1., 1., ..., 1., 1., 1.],\n",
       "           [1., 1., 1., ..., 1., 1., 1.],\n",
       "           [1., 1., 1., ..., 1., 1., 1.],\n",
       "           [1., 1., 1., ..., 1., 1., 1.],\n",
       "           [1., 1., 1., ..., 1., 1., 1.],\n",
       "           [1., 1., 1., ..., 1., 1., 1.]],\n",
       "\n",
       "          [[1., 1., 1., ..., 1., 1., 1.],\n",
       "           [1., 1., 1., ..., 1., 1., 1.],\n",
       "           [1., 1., 1., ..., 1., 1., 1.],\n",
       "           [1., 1., 1., ..., 1., 1., 1.],\n",
       "           [1., 1., 1., ..., 1., 1., 1.],\n",
       "           [1., 1., 1., ..., 1., 1., 1.]],\n",
       "\n",
       "          [[1., 1., 1., ..., 1., 1., 1.],\n",
       "           [1., 1., 1., ..., 1., 1., 1.],\n",
       "           [1., 1., 1., ..., 1., 1., 1.],\n",
       "           [1., 1., 1., ..., 1., 1., 1.],\n",
       "           [1., 1., 1., ..., 1., 1., 1.],\n",
       "           [1., 1., 1., ..., 1., 1., 1.]]],\n",
       "\n",
       "\n",
       "         [[[1., 1., 1., ..., 1., 1., 1.],\n",
       "           [1., 1., 1., ..., 1., 1., 1.],\n",
       "           [1., 1., 1., ..., 1., 1., 1.],\n",
       "           [1., 1., 1., ..., 1., 1., 1.],\n",
       "           [1., 1., 1., ..., 1., 1., 1.],\n",
       "           [1., 1., 1., ..., 1., 1., 1.]],\n",
       "\n",
       "          [[1., 1., 1., ..., 1., 1., 1.],\n",
       "           [1., 1., 1., ..., 1., 1., 1.],\n",
       "           [1., 1., 1., ..., 1., 1., 1.],\n",
       "           [1., 1., 1., ..., 1., 1., 1.],\n",
       "           [1., 1., 1., ..., 1., 1., 1.],\n",
       "           [1., 1., 1., ..., 1., 1., 1.]],\n",
       "\n",
       "          [[1., 1., 1., ..., 1., 1., 1.],\n",
       "           [1., 1., 1., ..., 1., 1., 1.],\n",
       "           [1., 1., 1., ..., 1., 1., 1.],\n",
       "           [1., 1., 1., ..., 1., 1., 1.],\n",
       "           [1., 1., 1., ..., 1., 1., 1.],\n",
       "           [1., 1., 1., ..., 1., 1., 1.]],\n",
       "\n",
       "          [[1., 1., 1., ..., 1., 1., 1.],\n",
       "           [1., 1., 1., ..., 1., 1., 1.],\n",
       "           [1., 1., 1., ..., 1., 1., 1.],\n",
       "           [1., 1., 1., ..., 1., 1., 1.],\n",
       "           [1., 1., 1., ..., 1., 1., 1.],\n",
       "           [1., 1., 1., ..., 1., 1., 1.]],\n",
       "\n",
       "          [[1., 1., 1., ..., 1., 1., 1.],\n",
       "           [1., 1., 1., ..., 1., 1., 1.],\n",
       "           [1., 1., 1., ..., 1., 1., 1.],\n",
       "           [1., 1., 1., ..., 1., 1., 1.],\n",
       "           [1., 1., 1., ..., 1., 1., 1.],\n",
       "           [1., 1., 1., ..., 1., 1., 1.]]]],\n",
       "\n",
       "\n",
       "\n",
       "        [[[[1., 1., 1., ..., 1., 1., 1.],\n",
       "           [1., 1., 1., ..., 1., 1., 1.],\n",
       "           [1., 1., 1., ..., 1., 1., 1.],\n",
       "           [1., 1., 1., ..., 1., 1., 1.],\n",
       "           [1., 1., 1., ..., 1., 1., 1.],\n",
       "           [1., 1., 1., ..., 1., 1., 1.]],\n",
       "\n",
       "          [[1., 1., 1., ..., 1., 1., 1.],\n",
       "           [1., 1., 1., ..., 1., 1., 1.],\n",
       "           [1., 1., 1., ..., 1., 1., 1.],\n",
       "           [1., 1., 1., ..., 1., 1., 1.],\n",
       "           [1., 1., 1., ..., 1., 1., 1.],\n",
       "           [1., 1., 1., ..., 1., 1., 1.]],\n",
       "\n",
       "          [[1., 1., 1., ..., 1., 1., 1.],\n",
       "           [1., 1., 1., ..., 1., 1., 1.],\n",
       "           [1., 1., 1., ..., 1., 1., 1.],\n",
       "           [1., 1., 1., ..., 1., 1., 1.],\n",
       "           [1., 1., 1., ..., 1., 1., 1.],\n",
       "           [1., 1., 1., ..., 1., 1., 1.]],\n",
       "\n",
       "          [[1., 1., 1., ..., 1., 1., 1.],\n",
       "           [1., 1., 1., ..., 1., 1., 1.],\n",
       "           [1., 1., 1., ..., 1., 1., 1.],\n",
       "           [1., 1., 1., ..., 1., 1., 1.],\n",
       "           [1., 1., 1., ..., 1., 1., 1.],\n",
       "           [1., 1., 1., ..., 1., 1., 1.]],\n",
       "\n",
       "          [[1., 1., 1., ..., 1., 1., 1.],\n",
       "           [1., 1., 1., ..., 1., 1., 1.],\n",
       "           [1., 1., 1., ..., 1., 1., 1.],\n",
       "           [1., 1., 1., ..., 1., 1., 1.],\n",
       "           [1., 1., 1., ..., 1., 1., 1.],\n",
       "           [1., 1., 1., ..., 1., 1., 1.]]],\n",
       "\n",
       "\n",
       "         [[[1., 1., 1., ..., 1., 1., 1.],\n",
       "           [1., 1., 1., ..., 1., 1., 1.],\n",
       "           [1., 1., 1., ..., 1., 1., 1.],\n",
       "           [1., 1., 1., ..., 1., 1., 1.],\n",
       "           [1., 1., 1., ..., 1., 1., 1.],\n",
       "           [1., 1., 1., ..., 1., 1., 1.]],\n",
       "\n",
       "          [[1., 1., 1., ..., 1., 1., 1.],\n",
       "           [1., 1., 1., ..., 1., 1., 1.],\n",
       "           [1., 1., 1., ..., 1., 1., 1.],\n",
       "           [1., 1., 1., ..., 1., 1., 1.],\n",
       "           [1., 1., 1., ..., 1., 1., 1.],\n",
       "           [1., 1., 1., ..., 1., 1., 1.]],\n",
       "\n",
       "          [[1., 1., 1., ..., 1., 1., 1.],\n",
       "           [1., 1., 1., ..., 1., 1., 1.],\n",
       "           [1., 1., 1., ..., 1., 1., 1.],\n",
       "           [1., 1., 1., ..., 1., 1., 1.],\n",
       "           [1., 1., 1., ..., 1., 1., 1.],\n",
       "           [1., 1., 1., ..., 1., 1., 1.]],\n",
       "\n",
       "          [[1., 1., 1., ..., 1., 1., 1.],\n",
       "           [1., 1., 1., ..., 1., 1., 1.],\n",
       "           [1., 1., 1., ..., 1., 1., 1.],\n",
       "           [1., 1., 1., ..., 1., 1., 1.],\n",
       "           [1., 1., 1., ..., 1., 1., 1.],\n",
       "           [1., 1., 1., ..., 1., 1., 1.]],\n",
       "\n",
       "          [[1., 1., 1., ..., 1., 1., 1.],\n",
       "           [1., 1., 1., ..., 1., 1., 1.],\n",
       "           [1., 1., 1., ..., 1., 1., 1.],\n",
       "           [1., 1., 1., ..., 1., 1., 1.],\n",
       "           [1., 1., 1., ..., 1., 1., 1.],\n",
       "           [1., 1., 1., ..., 1., 1., 1.]]],\n",
       "\n",
       "\n",
       "         [[[1., 1., 1., ..., 1., 1., 1.],\n",
       "           [1., 1., 1., ..., 1., 1., 1.],\n",
       "           [1., 1., 1., ..., 1., 1., 1.],\n",
       "           [1., 1., 1., ..., 1., 1., 1.],\n",
       "           [1., 1., 1., ..., 1., 1., 1.],\n",
       "           [1., 1., 1., ..., 1., 1., 1.]],\n",
       "\n",
       "          [[1., 1., 1., ..., 1., 1., 1.],\n",
       "           [1., 1., 1., ..., 1., 1., 1.],\n",
       "           [1., 1., 1., ..., 1., 1., 1.],\n",
       "           [1., 1., 1., ..., 1., 1., 1.],\n",
       "           [1., 1., 1., ..., 1., 1., 1.],\n",
       "           [1., 1., 1., ..., 1., 1., 1.]],\n",
       "\n",
       "          [[1., 1., 1., ..., 1., 1., 1.],\n",
       "           [1., 1., 1., ..., 1., 1., 1.],\n",
       "           [1., 1., 1., ..., 1., 1., 1.],\n",
       "           [1., 1., 1., ..., 1., 1., 1.],\n",
       "           [1., 1., 1., ..., 1., 1., 1.],\n",
       "           [1., 1., 1., ..., 1., 1., 1.]],\n",
       "\n",
       "          [[1., 1., 1., ..., 1., 1., 1.],\n",
       "           [1., 1., 1., ..., 1., 1., 1.],\n",
       "           [1., 1., 1., ..., 1., 1., 1.],\n",
       "           [1., 1., 1., ..., 1., 1., 1.],\n",
       "           [1., 1., 1., ..., 1., 1., 1.],\n",
       "           [1., 1., 1., ..., 1., 1., 1.]],\n",
       "\n",
       "          [[1., 1., 1., ..., 1., 1., 1.],\n",
       "           [1., 1., 1., ..., 1., 1., 1.],\n",
       "           [1., 1., 1., ..., 1., 1., 1.],\n",
       "           [1., 1., 1., ..., 1., 1., 1.],\n",
       "           [1., 1., 1., ..., 1., 1., 1.],\n",
       "           [1., 1., 1., ..., 1., 1., 1.]]],\n",
       "\n",
       "\n",
       "         [[[1., 1., 1., ..., 1., 1., 1.],\n",
       "           [1., 1., 1., ..., 1., 1., 1.],\n",
       "           [1., 1., 1., ..., 1., 1., 1.],\n",
       "           [1., 1., 1., ..., 1., 1., 1.],\n",
       "           [1., 1., 1., ..., 1., 1., 1.],\n",
       "           [1., 1., 1., ..., 1., 1., 1.]],\n",
       "\n",
       "          [[1., 1., 1., ..., 1., 1., 1.],\n",
       "           [1., 1., 1., ..., 1., 1., 1.],\n",
       "           [1., 1., 1., ..., 1., 1., 1.],\n",
       "           [1., 1., 1., ..., 1., 1., 1.],\n",
       "           [1., 1., 1., ..., 1., 1., 1.],\n",
       "           [1., 1., 1., ..., 1., 1., 1.]],\n",
       "\n",
       "          [[1., 1., 1., ..., 1., 1., 1.],\n",
       "           [1., 1., 1., ..., 1., 1., 1.],\n",
       "           [1., 1., 1., ..., 1., 1., 1.],\n",
       "           [1., 1., 1., ..., 1., 1., 1.],\n",
       "           [1., 1., 1., ..., 1., 1., 1.],\n",
       "           [1., 1., 1., ..., 1., 1., 1.]],\n",
       "\n",
       "          [[1., 1., 1., ..., 1., 1., 1.],\n",
       "           [1., 1., 1., ..., 1., 1., 1.],\n",
       "           [1., 1., 1., ..., 1., 1., 1.],\n",
       "           [1., 1., 1., ..., 1., 1., 1.],\n",
       "           [1., 1., 1., ..., 1., 1., 1.],\n",
       "           [1., 1., 1., ..., 1., 1., 1.]],\n",
       "\n",
       "          [[1., 1., 1., ..., 1., 1., 1.],\n",
       "           [1., 1., 1., ..., 1., 1., 1.],\n",
       "           [1., 1., 1., ..., 1., 1., 1.],\n",
       "           [1., 1., 1., ..., 1., 1., 1.],\n",
       "           [1., 1., 1., ..., 1., 1., 1.],\n",
       "           [1., 1., 1., ..., 1., 1., 1.]]]],\n",
       "\n",
       "\n",
       "\n",
       "        [[[[1., 1., 1., ..., 1., 1., 1.],\n",
       "           [1., 1., 1., ..., 1., 1., 1.],\n",
       "           [1., 1., 1., ..., 1., 1., 1.],\n",
       "           [1., 1., 1., ..., 1., 1., 1.],\n",
       "           [1., 1., 1., ..., 1., 1., 1.],\n",
       "           [1., 1., 1., ..., 1., 1., 1.]],\n",
       "\n",
       "          [[1., 1., 1., ..., 1., 1., 1.],\n",
       "           [1., 1., 1., ..., 1., 1., 1.],\n",
       "           [1., 1., 1., ..., 1., 1., 1.],\n",
       "           [1., 1., 1., ..., 1., 1., 1.],\n",
       "           [1., 1., 1., ..., 1., 1., 1.],\n",
       "           [1., 1., 1., ..., 1., 1., 1.]],\n",
       "\n",
       "          [[1., 1., 1., ..., 1., 1., 1.],\n",
       "           [1., 1., 1., ..., 1., 1., 1.],\n",
       "           [1., 1., 1., ..., 1., 1., 1.],\n",
       "           [1., 1., 1., ..., 1., 1., 1.],\n",
       "           [1., 1., 1., ..., 1., 1., 1.],\n",
       "           [1., 1., 1., ..., 1., 1., 1.]],\n",
       "\n",
       "          [[1., 1., 1., ..., 1., 1., 1.],\n",
       "           [1., 1., 1., ..., 1., 1., 1.],\n",
       "           [1., 1., 1., ..., 1., 1., 1.],\n",
       "           [1., 1., 1., ..., 1., 1., 1.],\n",
       "           [1., 1., 1., ..., 1., 1., 1.],\n",
       "           [1., 1., 1., ..., 1., 1., 1.]],\n",
       "\n",
       "          [[1., 1., 1., ..., 1., 1., 1.],\n",
       "           [1., 1., 1., ..., 1., 1., 1.],\n",
       "           [1., 1., 1., ..., 1., 1., 1.],\n",
       "           [1., 1., 1., ..., 1., 1., 1.],\n",
       "           [1., 1., 1., ..., 1., 1., 1.],\n",
       "           [1., 1., 1., ..., 1., 1., 1.]]],\n",
       "\n",
       "\n",
       "         [[[1., 1., 1., ..., 1., 1., 1.],\n",
       "           [1., 1., 1., ..., 1., 1., 1.],\n",
       "           [1., 1., 1., ..., 1., 1., 1.],\n",
       "           [1., 1., 1., ..., 1., 1., 1.],\n",
       "           [1., 1., 1., ..., 1., 1., 1.],\n",
       "           [1., 1., 1., ..., 1., 1., 1.]],\n",
       "\n",
       "          [[1., 1., 1., ..., 1., 1., 1.],\n",
       "           [1., 1., 1., ..., 1., 1., 1.],\n",
       "           [1., 1., 1., ..., 1., 1., 1.],\n",
       "           [1., 1., 1., ..., 1., 1., 1.],\n",
       "           [1., 1., 1., ..., 1., 1., 1.],\n",
       "           [1., 1., 1., ..., 1., 1., 1.]],\n",
       "\n",
       "          [[1., 1., 1., ..., 1., 1., 1.],\n",
       "           [1., 1., 1., ..., 1., 1., 1.],\n",
       "           [1., 1., 1., ..., 1., 1., 1.],\n",
       "           [1., 1., 1., ..., 1., 1., 1.],\n",
       "           [1., 1., 1., ..., 1., 1., 1.],\n",
       "           [1., 1., 1., ..., 1., 1., 1.]],\n",
       "\n",
       "          [[1., 1., 1., ..., 1., 1., 1.],\n",
       "           [1., 1., 1., ..., 1., 1., 1.],\n",
       "           [1., 1., 1., ..., 1., 1., 1.],\n",
       "           [1., 1., 1., ..., 1., 1., 1.],\n",
       "           [1., 1., 1., ..., 1., 1., 1.],\n",
       "           [1., 1., 1., ..., 1., 1., 1.]],\n",
       "\n",
       "          [[1., 1., 1., ..., 1., 1., 1.],\n",
       "           [1., 1., 1., ..., 1., 1., 1.],\n",
       "           [1., 1., 1., ..., 1., 1., 1.],\n",
       "           [1., 1., 1., ..., 1., 1., 1.],\n",
       "           [1., 1., 1., ..., 1., 1., 1.],\n",
       "           [1., 1., 1., ..., 1., 1., 1.]]],\n",
       "\n",
       "\n",
       "         [[[1., 1., 1., ..., 1., 1., 1.],\n",
       "           [1., 1., 1., ..., 1., 1., 1.],\n",
       "           [1., 1., 1., ..., 1., 1., 1.],\n",
       "           [1., 1., 1., ..., 1., 1., 1.],\n",
       "           [1., 1., 1., ..., 1., 1., 1.],\n",
       "           [1., 1., 1., ..., 1., 1., 1.]],\n",
       "\n",
       "          [[1., 1., 1., ..., 1., 1., 1.],\n",
       "           [1., 1., 1., ..., 1., 1., 1.],\n",
       "           [1., 1., 1., ..., 1., 1., 1.],\n",
       "           [1., 1., 1., ..., 1., 1., 1.],\n",
       "           [1., 1., 1., ..., 1., 1., 1.],\n",
       "           [1., 1., 1., ..., 1., 1., 1.]],\n",
       "\n",
       "          [[1., 1., 1., ..., 1., 1., 1.],\n",
       "           [1., 1., 1., ..., 1., 1., 1.],\n",
       "           [1., 1., 1., ..., 1., 1., 1.],\n",
       "           [1., 1., 1., ..., 1., 1., 1.],\n",
       "           [1., 1., 1., ..., 1., 1., 1.],\n",
       "           [1., 1., 1., ..., 1., 1., 1.]],\n",
       "\n",
       "          [[1., 1., 1., ..., 1., 1., 1.],\n",
       "           [1., 1., 1., ..., 1., 1., 1.],\n",
       "           [1., 1., 1., ..., 1., 1., 1.],\n",
       "           [1., 1., 1., ..., 1., 1., 1.],\n",
       "           [1., 1., 1., ..., 1., 1., 1.],\n",
       "           [1., 1., 1., ..., 1., 1., 1.]],\n",
       "\n",
       "          [[1., 1., 1., ..., 1., 1., 1.],\n",
       "           [1., 1., 1., ..., 1., 1., 1.],\n",
       "           [1., 1., 1., ..., 1., 1., 1.],\n",
       "           [1., 1., 1., ..., 1., 1., 1.],\n",
       "           [1., 1., 1., ..., 1., 1., 1.],\n",
       "           [1., 1., 1., ..., 1., 1., 1.]]],\n",
       "\n",
       "\n",
       "         [[[1., 1., 1., ..., 1., 1., 1.],\n",
       "           [1., 1., 1., ..., 1., 1., 1.],\n",
       "           [1., 1., 1., ..., 1., 1., 1.],\n",
       "           [1., 1., 1., ..., 1., 1., 1.],\n",
       "           [1., 1., 1., ..., 1., 1., 1.],\n",
       "           [1., 1., 1., ..., 1., 1., 1.]],\n",
       "\n",
       "          [[1., 1., 1., ..., 1., 1., 1.],\n",
       "           [1., 1., 1., ..., 1., 1., 1.],\n",
       "           [1., 1., 1., ..., 1., 1., 1.],\n",
       "           [1., 1., 1., ..., 1., 1., 1.],\n",
       "           [1., 1., 1., ..., 1., 1., 1.],\n",
       "           [1., 1., 1., ..., 1., 1., 1.]],\n",
       "\n",
       "          [[1., 1., 1., ..., 1., 1., 1.],\n",
       "           [1., 1., 1., ..., 1., 1., 1.],\n",
       "           [1., 1., 1., ..., 1., 1., 1.],\n",
       "           [1., 1., 1., ..., 1., 1., 1.],\n",
       "           [1., 1., 1., ..., 1., 1., 1.],\n",
       "           [1., 1., 1., ..., 1., 1., 1.]],\n",
       "\n",
       "          [[1., 1., 1., ..., 1., 1., 1.],\n",
       "           [1., 1., 1., ..., 1., 1., 1.],\n",
       "           [1., 1., 1., ..., 1., 1., 1.],\n",
       "           [1., 1., 1., ..., 1., 1., 1.],\n",
       "           [1., 1., 1., ..., 1., 1., 1.],\n",
       "           [1., 1., 1., ..., 1., 1., 1.]],\n",
       "\n",
       "          [[1., 1., 1., ..., 1., 1., 1.],\n",
       "           [1., 1., 1., ..., 1., 1., 1.],\n",
       "           [1., 1., 1., ..., 1., 1., 1.],\n",
       "           [1., 1., 1., ..., 1., 1., 1.],\n",
       "           [1., 1., 1., ..., 1., 1., 1.],\n",
       "           [1., 1., 1., ..., 1., 1., 1.]]]]]], dtype=float16)>"
      ]
     },
     "execution_count": 70,
     "metadata": {},
     "output_type": "execute_result"
    }
   ],
   "source": [
    "# create a rank 6 tensor\n",
    "rank6tensor = tf.ones(shape=[2,3,4,5,6,7], dtype = tf.float16)\n",
    "rank6tensor"
   ]
  },
  {
   "cell_type": "code",
   "execution_count": 71,
   "id": "c003b84e",
   "metadata": {},
   "outputs": [
    {
     "data": {
      "text/plain": [
       "<tf.Tensor: shape=(), dtype=int32, numpy=5040>"
      ]
     },
     "execution_count": 71,
     "metadata": {},
     "output_type": "execute_result"
    }
   ],
   "source": [
    "tf.size(rank6tensor)"
   ]
  },
  {
   "cell_type": "code",
   "execution_count": 73,
   "id": "476089a2",
   "metadata": {},
   "outputs": [
    {
     "data": {
      "text/plain": [
       "<tf.Tensor: shape=(1, 1, 1, 1, 1, 1), dtype=float16, numpy=array([[[[[[1.]]]]]], dtype=float16)>"
      ]
     },
     "execution_count": 73,
     "metadata": {},
     "output_type": "execute_result"
    }
   ],
   "source": [
    "# pull 1st element from each dims\n",
    "\n",
    "rank6tensor[:1, :1, :1, :1, :1, :1]"
   ]
  },
  {
   "cell_type": "code",
   "execution_count": 74,
   "id": "d83bc3bb",
   "metadata": {
    "scrolled": true
   },
   "outputs": [
    {
     "data": {
      "text/plain": [
       "<tf.Tensor: shape=(2, 2, 2, 2, 2, 2), dtype=float16, numpy=\n",
       "array([[[[[[1., 1.],\n",
       "           [1., 1.]],\n",
       "\n",
       "          [[1., 1.],\n",
       "           [1., 1.]]],\n",
       "\n",
       "\n",
       "         [[[1., 1.],\n",
       "           [1., 1.]],\n",
       "\n",
       "          [[1., 1.],\n",
       "           [1., 1.]]]],\n",
       "\n",
       "\n",
       "\n",
       "        [[[[1., 1.],\n",
       "           [1., 1.]],\n",
       "\n",
       "          [[1., 1.],\n",
       "           [1., 1.]]],\n",
       "\n",
       "\n",
       "         [[[1., 1.],\n",
       "           [1., 1.]],\n",
       "\n",
       "          [[1., 1.],\n",
       "           [1., 1.]]]]],\n",
       "\n",
       "\n",
       "\n",
       "\n",
       "       [[[[[1., 1.],\n",
       "           [1., 1.]],\n",
       "\n",
       "          [[1., 1.],\n",
       "           [1., 1.]]],\n",
       "\n",
       "\n",
       "         [[[1., 1.],\n",
       "           [1., 1.]],\n",
       "\n",
       "          [[1., 1.],\n",
       "           [1., 1.]]]],\n",
       "\n",
       "\n",
       "\n",
       "        [[[[1., 1.],\n",
       "           [1., 1.]],\n",
       "\n",
       "          [[1., 1.],\n",
       "           [1., 1.]]],\n",
       "\n",
       "\n",
       "         [[[1., 1.],\n",
       "           [1., 1.]],\n",
       "\n",
       "          [[1., 1.],\n",
       "           [1., 1.]]]]]], dtype=float16)>"
      ]
     },
     "execution_count": 74,
     "metadata": {},
     "output_type": "execute_result"
    }
   ],
   "source": [
    "# pull 1st 2 element from each dims\n",
    "\n",
    "rank6tensor[:2, :2, :2, :2, :2, :2]"
   ]
  },
  {
   "cell_type": "code",
   "execution_count": 77,
   "id": "7ad22501",
   "metadata": {},
   "outputs": [
    {
     "data": {
      "text/plain": [
       "<tf.Tensor: shape=(1, 1, 1, 1, 6, 1), dtype=float16, numpy=\n",
       "array([[[[[[1.],\n",
       "           [1.],\n",
       "           [1.],\n",
       "           [1.],\n",
       "           [1.],\n",
       "           [1.]]]]]], dtype=float16)>"
      ]
     },
     "execution_count": 77,
     "metadata": {},
     "output_type": "execute_result"
    }
   ],
   "source": [
    "# get 1st element from each dims from each index except the 2nd lastone\n",
    "rank6tensor[:1, :1, :1, :1, :, :1]"
   ]
  },
  {
   "cell_type": "code",
   "execution_count": 78,
   "id": "4601a8bf",
   "metadata": {},
   "outputs": [
    {
     "data": {
      "text/plain": [
       "<tf.Tensor: shape=(3, 8), dtype=int32, numpy=\n",
       "array([[ 5,  6,  7,  8,  9, 10, 11, 12],\n",
       "       [13, 14, 15, 16, 17, 18, 19, 20],\n",
       "       [21, 22, 23, 24, 25, 26, 27, 28]])>"
      ]
     },
     "execution_count": 78,
     "metadata": {},
     "output_type": "execute_result"
    }
   ],
   "source": [
    "# mathmetic operations with tensors\n",
    "\n",
    "tensor"
   ]
  },
  {
   "cell_type": "code",
   "execution_count": 79,
   "id": "c2fcd844",
   "metadata": {},
   "outputs": [],
   "source": [
    "tensor = tf.constant([[1,2], [3,4]])"
   ]
  },
  {
   "cell_type": "code",
   "execution_count": 80,
   "id": "90dd634f",
   "metadata": {},
   "outputs": [
    {
     "data": {
      "text/plain": [
       "<tf.Tensor: shape=(2, 2), dtype=int32, numpy=\n",
       "array([[1, 2],\n",
       "       [3, 4]])>"
      ]
     },
     "execution_count": 80,
     "metadata": {},
     "output_type": "execute_result"
    }
   ],
   "source": [
    "tensor"
   ]
  },
  {
   "cell_type": "code",
   "execution_count": 81,
   "id": "c28458e6",
   "metadata": {},
   "outputs": [
    {
     "data": {
      "text/plain": [
       "<tf.Tensor: shape=(2, 2), dtype=int32, numpy=\n",
       "array([[11, 12],\n",
       "       [13, 14]])>"
      ]
     },
     "execution_count": 81,
     "metadata": {},
     "output_type": "execute_result"
    }
   ],
   "source": [
    "tensor +10 "
   ]
  },
  {
   "cell_type": "code",
   "execution_count": 82,
   "id": "13cc295f",
   "metadata": {},
   "outputs": [
    {
     "data": {
      "text/plain": [
       "<tf.Tensor: shape=(2, 2), dtype=int32, numpy=\n",
       "array([[-9, -8],\n",
       "       [-7, -6]])>"
      ]
     },
     "execution_count": 82,
     "metadata": {},
     "output_type": "execute_result"
    }
   ],
   "source": [
    "tensor - 10"
   ]
  },
  {
   "cell_type": "code",
   "execution_count": 83,
   "id": "5ac51345",
   "metadata": {},
   "outputs": [
    {
     "data": {
      "text/plain": [
       "<tf.Tensor: shape=(2, 2), dtype=int32, numpy=\n",
       "array([[10, 20],\n",
       "       [30, 40]])>"
      ]
     },
     "execution_count": 83,
     "metadata": {},
     "output_type": "execute_result"
    }
   ],
   "source": [
    "tensor * 10"
   ]
  },
  {
   "cell_type": "code",
   "execution_count": 84,
   "id": "e2de6241",
   "metadata": {},
   "outputs": [
    {
     "data": {
      "text/plain": [
       "<tf.Tensor: shape=(2, 2), dtype=float64, numpy=\n",
       "array([[0.1, 0.2],\n",
       "       [0.3, 0.4]])>"
      ]
     },
     "execution_count": 84,
     "metadata": {},
     "output_type": "execute_result"
    }
   ],
   "source": [
    "tensor / 10"
   ]
  },
  {
   "cell_type": "code",
   "execution_count": 87,
   "id": "14778c93",
   "metadata": {},
   "outputs": [
    {
     "data": {
      "text/plain": [
       "<tf.Tensor: shape=(2, 2), dtype=int32, numpy=\n",
       "array([[10, 20],\n",
       "       [30, 40]])>"
      ]
     },
     "execution_count": 87,
     "metadata": {},
     "output_type": "execute_result"
    }
   ],
   "source": [
    "# we can use build-in methods for those operations from tensorflow\n",
    "tf.multiply(tensor, 10)"
   ]
  },
  {
   "cell_type": "code",
   "execution_count": 88,
   "id": "8927c1c6",
   "metadata": {},
   "outputs": [
    {
     "data": {
      "text/plain": [
       "<tf.Tensor: shape=(2, 2), dtype=int32, numpy=\n",
       "array([[ 1,  4],\n",
       "       [ 9, 16]])>"
      ]
     },
     "execution_count": 88,
     "metadata": {},
     "output_type": "execute_result"
    }
   ],
   "source": [
    "tensor * tensor"
   ]
  },
  {
   "cell_type": "code",
   "execution_count": 91,
   "id": "c5deb643",
   "metadata": {},
   "outputs": [
    {
     "data": {
      "text/plain": [
       "<tf.Tensor: shape=(2, 2), dtype=int32, numpy=\n",
       "array([[ 7, 10],\n",
       "       [15, 22]])>"
      ]
     },
     "execution_count": 91,
     "metadata": {},
     "output_type": "execute_result"
    }
   ],
   "source": [
    "# matrix multiplication\n",
    "\n",
    "tf.matmul(tensor, tensor)"
   ]
  },
  {
   "cell_type": "code",
   "execution_count": 92,
   "id": "aa477243",
   "metadata": {},
   "outputs": [
    {
     "data": {
      "text/plain": [
       "<tf.Tensor: shape=(2, 2), dtype=int32, numpy=\n",
       "array([[1, 2],\n",
       "       [3, 4]])>"
      ]
     },
     "execution_count": 92,
     "metadata": {},
     "output_type": "execute_result"
    }
   ],
   "source": [
    "tensor"
   ]
  },
  {
   "cell_type": "code",
   "execution_count": 94,
   "id": "8e9dd9a6",
   "metadata": {},
   "outputs": [
    {
     "data": {
      "text/plain": [
       "<tf.Tensor: shape=(2, 2), dtype=int32, numpy=\n",
       "array([[ 7, 10],\n",
       "       [15, 22]])>"
      ]
     },
     "execution_count": 94,
     "metadata": {},
     "output_type": "execute_result"
    }
   ],
   "source": [
    "tensor @ tensor # @ represents tensorflow matmul method"
   ]
  },
  {
   "cell_type": "code",
   "execution_count": 95,
   "id": "6353ce64",
   "metadata": {},
   "outputs": [],
   "source": [
    "X = tf.constant([[1,2,3], [4,5,6]])"
   ]
  },
  {
   "cell_type": "code",
   "execution_count": 96,
   "id": "40d602c7",
   "metadata": {},
   "outputs": [
    {
     "data": {
      "text/plain": [
       "<tf.Tensor: shape=(2, 3), dtype=int32, numpy=\n",
       "array([[1, 2, 3],\n",
       "       [4, 5, 6]])>"
      ]
     },
     "execution_count": 96,
     "metadata": {},
     "output_type": "execute_result"
    }
   ],
   "source": [
    "X"
   ]
  },
  {
   "cell_type": "code",
   "execution_count": 97,
   "id": "08c4af66",
   "metadata": {},
   "outputs": [],
   "source": [
    "y = tf.constant([[11, 12], [13, 14], [15, 16]])"
   ]
  },
  {
   "cell_type": "code",
   "execution_count": 98,
   "id": "3d17405b",
   "metadata": {},
   "outputs": [
    {
     "data": {
      "text/plain": [
       "<tf.Tensor: shape=(3, 2), dtype=int32, numpy=\n",
       "array([[11, 12],\n",
       "       [13, 14],\n",
       "       [15, 16]])>"
      ]
     },
     "execution_count": 98,
     "metadata": {},
     "output_type": "execute_result"
    }
   ],
   "source": [
    "y"
   ]
  },
  {
   "cell_type": "code",
   "execution_count": 99,
   "id": "beaf5de7",
   "metadata": {},
   "outputs": [
    {
     "data": {
      "text/plain": [
       "<tf.Tensor: shape=(2, 2), dtype=int32, numpy=\n",
       "array([[ 82,  88],\n",
       "       [199, 214]])>"
      ]
     },
     "execution_count": 99,
     "metadata": {},
     "output_type": "execute_result"
    }
   ],
   "source": [
    "tf.matmul(X, y)"
   ]
  },
  {
   "cell_type": "code",
   "execution_count": 100,
   "id": "eafd9204",
   "metadata": {},
   "outputs": [
    {
     "data": {
      "text/plain": [
       "<tf.Tensor: shape=(3, 3), dtype=int32, numpy=\n",
       "array([[ 59,  82, 105],\n",
       "       [ 69,  96, 123],\n",
       "       [ 79, 110, 141]])>"
      ]
     },
     "execution_count": 100,
     "metadata": {},
     "output_type": "execute_result"
    }
   ],
   "source": [
    "tf.matmul(y, X)"
   ]
  },
  {
   "cell_type": "code",
   "execution_count": 101,
   "id": "28daa942",
   "metadata": {},
   "outputs": [],
   "source": [
    "y_ = tf.constant([[11, 22], [33, 44], [55, 66], [77, 88]])"
   ]
  },
  {
   "cell_type": "code",
   "execution_count": 102,
   "id": "9ae1fb89",
   "metadata": {},
   "outputs": [
    {
     "data": {
      "text/plain": [
       "<tf.Tensor: shape=(4, 2), dtype=int32, numpy=\n",
       "array([[11, 22],\n",
       "       [33, 44],\n",
       "       [55, 66],\n",
       "       [77, 88]])>"
      ]
     },
     "execution_count": 102,
     "metadata": {},
     "output_type": "execute_result"
    }
   ],
   "source": [
    "y_\n"
   ]
  },
  {
   "cell_type": "code",
   "execution_count": 103,
   "id": "38b7b943",
   "metadata": {},
   "outputs": [
    {
     "ename": "InvalidArgumentError",
     "evalue": "{{function_node __wrapped__MatMul_device_/job:localhost/replica:0/task:0/device:CPU:0}} Matrix size-incompatible: In[0]: [2,3], In[1]: [4,2] [Op:MatMul]",
     "output_type": "error",
     "traceback": [
      "\u001b[1;31m---------------------------------------------------------------------------\u001b[0m",
      "\u001b[1;31mInvalidArgumentError\u001b[0m                      Traceback (most recent call last)",
      "Cell \u001b[1;32mIn[103], line 1\u001b[0m\n\u001b[1;32m----> 1\u001b[0m \u001b[43mtf\u001b[49m\u001b[38;5;241;43m.\u001b[39;49m\u001b[43mmatmul\u001b[49m\u001b[43m(\u001b[49m\u001b[43mX\u001b[49m\u001b[43m,\u001b[49m\u001b[43m \u001b[49m\u001b[43my_\u001b[49m\u001b[43m)\u001b[49m\n",
      "File \u001b[1;32mC:\\Program Files\\Python310\\lib\\site-packages\\tensorflow\\python\\util\\traceback_utils.py:153\u001b[0m, in \u001b[0;36mfilter_traceback.<locals>.error_handler\u001b[1;34m(*args, **kwargs)\u001b[0m\n\u001b[0;32m    151\u001b[0m \u001b[38;5;28;01mexcept\u001b[39;00m \u001b[38;5;167;01mException\u001b[39;00m \u001b[38;5;28;01mas\u001b[39;00m e:\n\u001b[0;32m    152\u001b[0m   filtered_tb \u001b[38;5;241m=\u001b[39m _process_traceback_frames(e\u001b[38;5;241m.\u001b[39m__traceback__)\n\u001b[1;32m--> 153\u001b[0m   \u001b[38;5;28;01mraise\u001b[39;00m e\u001b[38;5;241m.\u001b[39mwith_traceback(filtered_tb) \u001b[38;5;28;01mfrom\u001b[39;00m \u001b[38;5;28mNone\u001b[39m\n\u001b[0;32m    154\u001b[0m \u001b[38;5;28;01mfinally\u001b[39;00m:\n\u001b[0;32m    155\u001b[0m   \u001b[38;5;28;01mdel\u001b[39;00m filtered_tb\n",
      "File \u001b[1;32mC:\\Program Files\\Python310\\lib\\site-packages\\tensorflow\\python\\framework\\ops.py:7262\u001b[0m, in \u001b[0;36mraise_from_not_ok_status\u001b[1;34m(e, name)\u001b[0m\n\u001b[0;32m   7260\u001b[0m \u001b[38;5;28;01mdef\u001b[39;00m \u001b[38;5;21mraise_from_not_ok_status\u001b[39m(e, name):\n\u001b[0;32m   7261\u001b[0m   e\u001b[38;5;241m.\u001b[39mmessage \u001b[38;5;241m+\u001b[39m\u001b[38;5;241m=\u001b[39m (\u001b[38;5;124m\"\u001b[39m\u001b[38;5;124m name: \u001b[39m\u001b[38;5;124m\"\u001b[39m \u001b[38;5;241m+\u001b[39m name \u001b[38;5;28;01mif\u001b[39;00m name \u001b[38;5;129;01mis\u001b[39;00m \u001b[38;5;129;01mnot\u001b[39;00m \u001b[38;5;28;01mNone\u001b[39;00m \u001b[38;5;28;01melse\u001b[39;00m \u001b[38;5;124m\"\u001b[39m\u001b[38;5;124m\"\u001b[39m)\n\u001b[1;32m-> 7262\u001b[0m   \u001b[38;5;28;01mraise\u001b[39;00m core\u001b[38;5;241m.\u001b[39m_status_to_exception(e) \u001b[38;5;28;01mfrom\u001b[39;00m \u001b[38;5;28mNone\u001b[39m\n",
      "\u001b[1;31mInvalidArgumentError\u001b[0m: {{function_node __wrapped__MatMul_device_/job:localhost/replica:0/task:0/device:CPU:0}} Matrix size-incompatible: In[0]: [2,3], In[1]: [4,2] [Op:MatMul]"
     ]
    }
   ],
   "source": [
    "tf.matmul(X, y_)"
   ]
  },
  {
   "cell_type": "code",
   "execution_count": 104,
   "id": "2f8b38fb",
   "metadata": {},
   "outputs": [
    {
     "data": {
      "text/plain": [
       "<tf.Tensor: shape=(4, 3), dtype=int32, numpy=\n",
       "array([[ 99, 132, 165],\n",
       "       [209, 286, 363],\n",
       "       [319, 440, 561],\n",
       "       [429, 594, 759]])>"
      ]
     },
     "execution_count": 104,
     "metadata": {},
     "output_type": "execute_result"
    }
   ],
   "source": [
    "tf.matmul(y_, X)"
   ]
  },
  {
   "cell_type": "code",
   "execution_count": 105,
   "id": "4aa8571f",
   "metadata": {},
   "outputs": [],
   "source": [
    "# to avoid shape error we can make matrix traspose or change the shape "
   ]
  },
  {
   "cell_type": "code",
   "execution_count": 106,
   "id": "2aa49bc7",
   "metadata": {},
   "outputs": [],
   "source": [
    "X = tf.constant([[1,2],[3,4],[5,6]])"
   ]
  },
  {
   "cell_type": "code",
   "execution_count": 107,
   "id": "4517b13d",
   "metadata": {},
   "outputs": [],
   "source": [
    "Y = tf.constant([[7,8],[9,10],[11,12]])"
   ]
  },
  {
   "cell_type": "code",
   "execution_count": 108,
   "id": "e9a46a35",
   "metadata": {},
   "outputs": [
    {
     "ename": "InvalidArgumentError",
     "evalue": "{{function_node __wrapped__MatMul_device_/job:localhost/replica:0/task:0/device:CPU:0}} Matrix size-incompatible: In[0]: [3,2], In[1]: [3,2] [Op:MatMul]",
     "output_type": "error",
     "traceback": [
      "\u001b[1;31m---------------------------------------------------------------------------\u001b[0m",
      "\u001b[1;31mInvalidArgumentError\u001b[0m                      Traceback (most recent call last)",
      "Cell \u001b[1;32mIn[108], line 1\u001b[0m\n\u001b[1;32m----> 1\u001b[0m \u001b[43mX\u001b[49m\u001b[43m \u001b[49m\u001b[38;5;241;43m@\u001b[39;49m\u001b[43m \u001b[49m\u001b[43mY\u001b[49m\n",
      "File \u001b[1;32mC:\\Program Files\\Python310\\lib\\site-packages\\tensorflow\\python\\util\\traceback_utils.py:153\u001b[0m, in \u001b[0;36mfilter_traceback.<locals>.error_handler\u001b[1;34m(*args, **kwargs)\u001b[0m\n\u001b[0;32m    151\u001b[0m \u001b[38;5;28;01mexcept\u001b[39;00m \u001b[38;5;167;01mException\u001b[39;00m \u001b[38;5;28;01mas\u001b[39;00m e:\n\u001b[0;32m    152\u001b[0m   filtered_tb \u001b[38;5;241m=\u001b[39m _process_traceback_frames(e\u001b[38;5;241m.\u001b[39m__traceback__)\n\u001b[1;32m--> 153\u001b[0m   \u001b[38;5;28;01mraise\u001b[39;00m e\u001b[38;5;241m.\u001b[39mwith_traceback(filtered_tb) \u001b[38;5;28;01mfrom\u001b[39;00m \u001b[38;5;28mNone\u001b[39m\n\u001b[0;32m    154\u001b[0m \u001b[38;5;28;01mfinally\u001b[39;00m:\n\u001b[0;32m    155\u001b[0m   \u001b[38;5;28;01mdel\u001b[39;00m filtered_tb\n",
      "File \u001b[1;32mC:\\Program Files\\Python310\\lib\\site-packages\\tensorflow\\python\\framework\\ops.py:7262\u001b[0m, in \u001b[0;36mraise_from_not_ok_status\u001b[1;34m(e, name)\u001b[0m\n\u001b[0;32m   7260\u001b[0m \u001b[38;5;28;01mdef\u001b[39;00m \u001b[38;5;21mraise_from_not_ok_status\u001b[39m(e, name):\n\u001b[0;32m   7261\u001b[0m   e\u001b[38;5;241m.\u001b[39mmessage \u001b[38;5;241m+\u001b[39m\u001b[38;5;241m=\u001b[39m (\u001b[38;5;124m\"\u001b[39m\u001b[38;5;124m name: \u001b[39m\u001b[38;5;124m\"\u001b[39m \u001b[38;5;241m+\u001b[39m name \u001b[38;5;28;01mif\u001b[39;00m name \u001b[38;5;129;01mis\u001b[39;00m \u001b[38;5;129;01mnot\u001b[39;00m \u001b[38;5;28;01mNone\u001b[39;00m \u001b[38;5;28;01melse\u001b[39;00m \u001b[38;5;124m\"\u001b[39m\u001b[38;5;124m\"\u001b[39m)\n\u001b[1;32m-> 7262\u001b[0m   \u001b[38;5;28;01mraise\u001b[39;00m core\u001b[38;5;241m.\u001b[39m_status_to_exception(e) \u001b[38;5;28;01mfrom\u001b[39;00m \u001b[38;5;28mNone\u001b[39m\n",
      "\u001b[1;31mInvalidArgumentError\u001b[0m: {{function_node __wrapped__MatMul_device_/job:localhost/replica:0/task:0/device:CPU:0}} Matrix size-incompatible: In[0]: [3,2], In[1]: [3,2] [Op:MatMul]"
     ]
    }
   ],
   "source": [
    "X @ Y"
   ]
  },
  {
   "cell_type": "code",
   "execution_count": 109,
   "id": "f2afed23",
   "metadata": {},
   "outputs": [
    {
     "data": {
      "text/plain": [
       "<tf.Tensor: shape=(3, 3), dtype=int32, numpy=\n",
       "array([[ 23,  29,  35],\n",
       "       [ 53,  67,  81],\n",
       "       [ 83, 105, 127]])>"
      ]
     },
     "execution_count": 109,
     "metadata": {},
     "output_type": "execute_result"
    }
   ],
   "source": [
    "X @ tf.transpose(Y)"
   ]
  },
  {
   "cell_type": "code",
   "execution_count": 110,
   "id": "152118a8",
   "metadata": {},
   "outputs": [
    {
     "ename": "InvalidArgumentError",
     "evalue": "{{function_node __wrapped__MatMul_device_/job:localhost/replica:0/task:0/device:CPU:0}} Matrix size-incompatible: In[0]: [3,2], In[1]: [3,2] [Op:MatMul]",
     "output_type": "error",
     "traceback": [
      "\u001b[1;31m---------------------------------------------------------------------------\u001b[0m",
      "\u001b[1;31mInvalidArgumentError\u001b[0m                      Traceback (most recent call last)",
      "Cell \u001b[1;32mIn[110], line 1\u001b[0m\n\u001b[1;32m----> 1\u001b[0m \u001b[43mtf\u001b[49m\u001b[38;5;241;43m.\u001b[39;49m\u001b[43mtensordot\u001b[49m\u001b[43m(\u001b[49m\u001b[43mX\u001b[49m\u001b[43m,\u001b[49m\u001b[43m \u001b[49m\u001b[43mY\u001b[49m\u001b[43m,\u001b[49m\u001b[43m \u001b[49m\u001b[43maxes\u001b[49m\u001b[43m \u001b[49m\u001b[38;5;241;43m=\u001b[39;49m\u001b[43m \u001b[49m\u001b[38;5;241;43m1\u001b[39;49m\u001b[43m)\u001b[49m\n",
      "File \u001b[1;32mC:\\Program Files\\Python310\\lib\\site-packages\\tensorflow\\python\\util\\traceback_utils.py:153\u001b[0m, in \u001b[0;36mfilter_traceback.<locals>.error_handler\u001b[1;34m(*args, **kwargs)\u001b[0m\n\u001b[0;32m    151\u001b[0m \u001b[38;5;28;01mexcept\u001b[39;00m \u001b[38;5;167;01mException\u001b[39;00m \u001b[38;5;28;01mas\u001b[39;00m e:\n\u001b[0;32m    152\u001b[0m   filtered_tb \u001b[38;5;241m=\u001b[39m _process_traceback_frames(e\u001b[38;5;241m.\u001b[39m__traceback__)\n\u001b[1;32m--> 153\u001b[0m   \u001b[38;5;28;01mraise\u001b[39;00m e\u001b[38;5;241m.\u001b[39mwith_traceback(filtered_tb) \u001b[38;5;28;01mfrom\u001b[39;00m \u001b[38;5;28mNone\u001b[39m\n\u001b[0;32m    154\u001b[0m \u001b[38;5;28;01mfinally\u001b[39;00m:\n\u001b[0;32m    155\u001b[0m   \u001b[38;5;28;01mdel\u001b[39;00m filtered_tb\n",
      "File \u001b[1;32mC:\\Program Files\\Python310\\lib\\site-packages\\tensorflow\\python\\framework\\ops.py:7262\u001b[0m, in \u001b[0;36mraise_from_not_ok_status\u001b[1;34m(e, name)\u001b[0m\n\u001b[0;32m   7260\u001b[0m \u001b[38;5;28;01mdef\u001b[39;00m \u001b[38;5;21mraise_from_not_ok_status\u001b[39m(e, name):\n\u001b[0;32m   7261\u001b[0m   e\u001b[38;5;241m.\u001b[39mmessage \u001b[38;5;241m+\u001b[39m\u001b[38;5;241m=\u001b[39m (\u001b[38;5;124m\"\u001b[39m\u001b[38;5;124m name: \u001b[39m\u001b[38;5;124m\"\u001b[39m \u001b[38;5;241m+\u001b[39m name \u001b[38;5;28;01mif\u001b[39;00m name \u001b[38;5;129;01mis\u001b[39;00m \u001b[38;5;129;01mnot\u001b[39;00m \u001b[38;5;28;01mNone\u001b[39;00m \u001b[38;5;28;01melse\u001b[39;00m \u001b[38;5;124m\"\u001b[39m\u001b[38;5;124m\"\u001b[39m)\n\u001b[1;32m-> 7262\u001b[0m   \u001b[38;5;28;01mraise\u001b[39;00m core\u001b[38;5;241m.\u001b[39m_status_to_exception(e) \u001b[38;5;28;01mfrom\u001b[39;00m \u001b[38;5;28mNone\u001b[39m\n",
      "\u001b[1;31mInvalidArgumentError\u001b[0m: {{function_node __wrapped__MatMul_device_/job:localhost/replica:0/task:0/device:CPU:0}} Matrix size-incompatible: In[0]: [3,2], In[1]: [3,2] [Op:MatMul]"
     ]
    }
   ],
   "source": [
    "tf.tensordot(X, Y, axes = 1)"
   ]
  },
  {
   "cell_type": "code",
   "execution_count": 113,
   "id": "b7c2e9ab",
   "metadata": {},
   "outputs": [
    {
     "data": {
      "text/plain": [
       "<tf.Tensor: shape=(3, 3), dtype=int32, numpy=\n",
       "array([[ 23,  29,  35],\n",
       "       [ 53,  67,  81],\n",
       "       [ 83, 105, 127]])>"
      ]
     },
     "execution_count": 113,
     "metadata": {},
     "output_type": "execute_result"
    }
   ],
   "source": [
    "tf.tensordot(X, tf.transpose(Y), axes = 1)"
   ]
  },
  {
   "cell_type": "code",
   "execution_count": 114,
   "id": "c6201b2c",
   "metadata": {},
   "outputs": [
    {
     "data": {
      "text/plain": [
       "<tf.Tensor: shape=(3, 2, 2, 3), dtype=int32, numpy=\n",
       "array([[[[ 7,  9, 11],\n",
       "         [ 8, 10, 12]],\n",
       "\n",
       "        [[14, 18, 22],\n",
       "         [16, 20, 24]]],\n",
       "\n",
       "\n",
       "       [[[21, 27, 33],\n",
       "         [24, 30, 36]],\n",
       "\n",
       "        [[28, 36, 44],\n",
       "         [32, 40, 48]]],\n",
       "\n",
       "\n",
       "       [[[35, 45, 55],\n",
       "         [40, 50, 60]],\n",
       "\n",
       "        [[42, 54, 66],\n",
       "         [48, 60, 72]]]])>"
      ]
     },
     "execution_count": 114,
     "metadata": {},
     "output_type": "execute_result"
    }
   ],
   "source": [
    "tf.tensordot(X, tf.transpose(Y), axes = 0)"
   ]
  },
  {
   "cell_type": "code",
   "execution_count": 120,
   "id": "2d116d63",
   "metadata": {},
   "outputs": [
    {
     "name": "stdout",
     "output_type": "stream",
     "text": [
      "Normal Y: tf.Tensor(\n",
      "[[ 7  8]\n",
      " [ 9 10]\n",
      " [11 12]], shape=(3, 2), dtype=int32)\n",
      "Transposed Y: tf.Tensor(\n",
      "[[ 7  9 11]\n",
      " [ 8 10 12]], shape=(2, 3), dtype=int32)\n",
      "Reshaped Y: tf.Tensor(\n",
      "[[ 7  8  9]\n",
      " [10 11 12]], shape=(2, 3), dtype=int32)\n"
     ]
    }
   ],
   "source": [
    "# reshape vs transpose\n",
    "\n",
    "print('Normal Y:', Y)\n",
    "print('Transposed Y:', tf.transpose(Y))\n",
    "print('Reshaped Y:', tf.reshape(Y, shape=(2, 3))) # read as human lol"
   ]
  },
  {
   "cell_type": "code",
   "execution_count": 122,
   "id": "aea88444",
   "metadata": {},
   "outputs": [
    {
     "data": {
      "text/plain": [
       "<tf.Tensor: shape=(3, 2), dtype=int32, numpy=\n",
       "array([[1, 2],\n",
       "       [3, 4],\n",
       "       [5, 6]])>"
      ]
     },
     "execution_count": 122,
     "metadata": {},
     "output_type": "execute_result"
    }
   ],
   "source": [
    "# changing Datatype\n",
    "\n",
    "X"
   ]
  },
  {
   "cell_type": "code",
   "execution_count": 123,
   "id": "3b583147",
   "metadata": {},
   "outputs": [
    {
     "data": {
      "text/plain": [
       "<tf.Tensor: shape=(3, 2), dtype=int16, numpy=\n",
       "array([[1, 2],\n",
       "       [3, 4],\n",
       "       [5, 6]], dtype=int16)>"
      ]
     },
     "execution_count": 123,
     "metadata": {},
     "output_type": "execute_result"
    }
   ],
   "source": [
    "# int32 t0 int16\n",
    "tf.cast(X, dtype = tf.int16)"
   ]
  },
  {
   "cell_type": "code",
   "execution_count": 124,
   "id": "869cca63",
   "metadata": {},
   "outputs": [
    {
     "data": {
      "text/plain": [
       "<tf.Tensor: shape=(3, 2), dtype=float32, numpy=\n",
       "array([[1., 2.],\n",
       "       [3., 4.],\n",
       "       [5., 6.]], dtype=float32)>"
      ]
     },
     "execution_count": 124,
     "metadata": {},
     "output_type": "execute_result"
    }
   ],
   "source": [
    "#int32 to float32\n",
    "tf.cast(X, dtype = tf.float32)"
   ]
  },
  {
   "cell_type": "code",
   "execution_count": 129,
   "id": "0608f934",
   "metadata": {},
   "outputs": [],
   "source": [
    "# float to int\n",
    "t = tf.constant([1.3, 3.6])"
   ]
  },
  {
   "cell_type": "code",
   "execution_count": 130,
   "id": "c0307abe",
   "metadata": {},
   "outputs": [
    {
     "data": {
      "text/plain": [
       "<tf.Tensor: shape=(2,), dtype=float32, numpy=array([1.3, 3.6], dtype=float32)>"
      ]
     },
     "execution_count": 130,
     "metadata": {},
     "output_type": "execute_result"
    }
   ],
   "source": [
    "t"
   ]
  },
  {
   "cell_type": "code",
   "execution_count": 131,
   "id": "9ca17a12",
   "metadata": {},
   "outputs": [
    {
     "data": {
      "text/plain": [
       "<tf.Tensor: shape=(2,), dtype=int32, numpy=array([1, 3])>"
      ]
     },
     "execution_count": 131,
     "metadata": {},
     "output_type": "execute_result"
    }
   ],
   "source": [
    "tf.cast(t, dtype=tf.int32) # always put the floor value"
   ]
  },
  {
   "cell_type": "code",
   "execution_count": 132,
   "id": "f02cea72",
   "metadata": {},
   "outputs": [],
   "source": [
    "t = tf.constant([-3,-4]) # absulate"
   ]
  },
  {
   "cell_type": "code",
   "execution_count": 133,
   "id": "cafc50a1",
   "metadata": {},
   "outputs": [
    {
     "data": {
      "text/plain": [
       "<tf.Tensor: shape=(2,), dtype=int32, numpy=array([-3, -4])>"
      ]
     },
     "execution_count": 133,
     "metadata": {},
     "output_type": "execute_result"
    }
   ],
   "source": [
    "t"
   ]
  },
  {
   "cell_type": "code",
   "execution_count": 134,
   "id": "6c79d786",
   "metadata": {},
   "outputs": [
    {
     "data": {
      "text/plain": [
       "<tf.Tensor: shape=(2,), dtype=int32, numpy=array([3, 4])>"
      ]
     },
     "execution_count": 134,
     "metadata": {},
     "output_type": "execute_result"
    }
   ],
   "source": [
    "tf.abs(t)"
   ]
  },
  {
   "cell_type": "code",
   "execution_count": 135,
   "id": "4c9f55be",
   "metadata": {},
   "outputs": [
    {
     "data": {
      "text/plain": [
       "<tf.Tensor: shape=(), dtype=int32, numpy=-4>"
      ]
     },
     "execution_count": 135,
     "metadata": {},
     "output_type": "execute_result"
    }
   ],
   "source": [
    "# Aggregetions\n",
    "# min\n",
    "tf.reduce_min(t)"
   ]
  },
  {
   "cell_type": "code",
   "execution_count": 136,
   "id": "0be1e6e4",
   "metadata": {},
   "outputs": [
    {
     "data": {
      "text/plain": [
       "<tf.Tensor: shape=(), dtype=int32, numpy=-3>"
      ]
     },
     "execution_count": 136,
     "metadata": {},
     "output_type": "execute_result"
    }
   ],
   "source": [
    "#max\n",
    "tf.reduce_max(t)"
   ]
  },
  {
   "cell_type": "code",
   "execution_count": 137,
   "id": "b0fa37d4",
   "metadata": {},
   "outputs": [
    {
     "data": {
      "text/plain": [
       "<tf.Tensor: shape=(), dtype=int32, numpy=-3>"
      ]
     },
     "execution_count": 137,
     "metadata": {},
     "output_type": "execute_result"
    }
   ],
   "source": [
    "# mean\n",
    "tf.reduce_mean(t)"
   ]
  },
  {
   "cell_type": "code",
   "execution_count": 138,
   "id": "d9c36f3b",
   "metadata": {},
   "outputs": [
    {
     "data": {
      "text/plain": [
       "<tf.Tensor: shape=(), dtype=int32, numpy=-7>"
      ]
     },
     "execution_count": 138,
     "metadata": {},
     "output_type": "execute_result"
    }
   ],
   "source": [
    "tf.reduce_sum(t) #sum"
   ]
  },
  {
   "cell_type": "code",
   "execution_count": 140,
   "id": "b08b6f7a",
   "metadata": {},
   "outputs": [
    {
     "ename": "AttributeError",
     "evalue": "module 'tensorflow' has no attribute 'reduce_variance'",
     "output_type": "error",
     "traceback": [
      "\u001b[1;31m---------------------------------------------------------------------------\u001b[0m",
      "\u001b[1;31mAttributeError\u001b[0m                            Traceback (most recent call last)",
      "Cell \u001b[1;32mIn[140], line 2\u001b[0m\n\u001b[0;32m      1\u001b[0m \u001b[38;5;66;03m# varience\u001b[39;00m\n\u001b[1;32m----> 2\u001b[0m \u001b[43mtf\u001b[49m\u001b[38;5;241;43m.\u001b[39;49m\u001b[43mreduce_variance\u001b[49m(t)\n",
      "\u001b[1;31mAttributeError\u001b[0m: module 'tensorflow' has no attribute 'reduce_variance'"
     ]
    }
   ],
   "source": [
    "# varience\n",
    "tf.reduce_variance(t)"
   ]
  },
  {
   "cell_type": "code",
   "execution_count": 145,
   "id": "50da1598",
   "metadata": {},
   "outputs": [],
   "source": [
    "#import tensorflow_probability as tfp\n",
    "\n",
    "import tensorflow_probability as tfp"
   ]
  },
  {
   "cell_type": "code",
   "execution_count": 146,
   "id": "eb7590be",
   "metadata": {},
   "outputs": [
    {
     "ename": "AttributeError",
     "evalue": "module 'tensorflow_probability' has no attribute 'reduce_variance'",
     "output_type": "error",
     "traceback": [
      "\u001b[1;31m---------------------------------------------------------------------------\u001b[0m",
      "\u001b[1;31mAttributeError\u001b[0m                            Traceback (most recent call last)",
      "Cell \u001b[1;32mIn[146], line 1\u001b[0m\n\u001b[1;32m----> 1\u001b[0m \u001b[43mtfp\u001b[49m\u001b[38;5;241;43m.\u001b[39;49m\u001b[43mreduce_variance\u001b[49m(t)\n",
      "\u001b[1;31mAttributeError\u001b[0m: module 'tensorflow_probability' has no attribute 'reduce_variance'"
     ]
    }
   ],
   "source": [
    "tfp.reduce_variance(t)"
   ]
  },
  {
   "cell_type": "code",
   "execution_count": 148,
   "id": "0ba70eaf",
   "metadata": {},
   "outputs": [
    {
     "data": {
      "text/plain": [
       "<tf.Tensor: shape=(), dtype=int32, numpy=0>"
      ]
     },
     "execution_count": 148,
     "metadata": {},
     "output_type": "execute_result"
    }
   ],
   "source": [
    "tfp.stats.variance(t)"
   ]
  },
  {
   "cell_type": "code",
   "execution_count": 150,
   "id": "9d661a98",
   "metadata": {},
   "outputs": [],
   "source": [
    "# Find positional maximum minimum\n",
    "tf.random.set_seed(7)\n",
    "t = tf.random.uniform(shape=[50])"
   ]
  },
  {
   "cell_type": "code",
   "execution_count": 151,
   "id": "93b0f5b9",
   "metadata": {},
   "outputs": [
    {
     "data": {
      "text/plain": [
       "<tf.Tensor: shape=(50,), dtype=float32, numpy=\n",
       "array([0.8344538 , 0.23336661, 0.8796519 , 0.04664922, 0.80349684,\n",
       "       0.9420098 , 0.48560476, 0.9596517 , 0.65881574, 0.11269152,\n",
       "       0.42992353, 0.60388005, 0.09393823, 0.08232665, 0.87509394,\n",
       "       0.9595978 , 0.24487329, 0.4698069 , 0.7515631 , 0.83605003,\n",
       "       0.8556993 , 0.30181408, 0.82694066, 0.49390066, 0.63653564,\n",
       "       0.29243422, 0.9494889 , 0.5301058 , 0.1835326 , 0.58373356,\n",
       "       0.89675355, 0.5347773 , 0.29837036, 0.07734811, 0.17663229,\n",
       "       0.3444836 , 0.4229324 , 0.68379617, 0.4887246 , 0.5376346 ,\n",
       "       0.91624343, 0.33474946, 0.06718647, 0.84025824, 0.6102561 ,\n",
       "       0.1546061 , 0.23240829, 0.7687037 , 0.5492232 , 0.54143226],\n",
       "      dtype=float32)>"
      ]
     },
     "execution_count": 151,
     "metadata": {},
     "output_type": "execute_result"
    }
   ],
   "source": [
    "t"
   ]
  },
  {
   "cell_type": "code",
   "execution_count": 152,
   "id": "f1d4e679",
   "metadata": {},
   "outputs": [
    {
     "data": {
      "text/plain": [
       "<tf.Tensor: shape=(), dtype=int64, numpy=7>"
      ]
     },
     "execution_count": 152,
     "metadata": {},
     "output_type": "execute_result"
    }
   ],
   "source": [
    "tf.argmax(t)"
   ]
  },
  {
   "cell_type": "code",
   "execution_count": 153,
   "id": "533f4ccc",
   "metadata": {},
   "outputs": [
    {
     "data": {
      "text/plain": [
       "<tf.Tensor: shape=(), dtype=int64, numpy=3>"
      ]
     },
     "execution_count": 153,
     "metadata": {},
     "output_type": "execute_result"
    }
   ],
   "source": [
    "tf.argmin(t) # returns index"
   ]
  },
  {
   "cell_type": "code",
   "execution_count": 154,
   "id": "3eb7ca63",
   "metadata": {},
   "outputs": [
    {
     "data": {
      "text/plain": [
       "<tf.Tensor: shape=(), dtype=float32, numpy=0.9596517>"
      ]
     },
     "execution_count": 154,
     "metadata": {},
     "output_type": "execute_result"
    }
   ],
   "source": [
    "t[tf.argmax(t)]"
   ]
  },
  {
   "cell_type": "code",
   "execution_count": 155,
   "id": "ece55c05",
   "metadata": {},
   "outputs": [
    {
     "data": {
      "text/plain": [
       "<tf.Tensor: shape=(), dtype=float32, numpy=0.046649218>"
      ]
     },
     "execution_count": 155,
     "metadata": {},
     "output_type": "execute_result"
    }
   ],
   "source": [
    "t[tf.argmin(t)]"
   ]
  },
  {
   "cell_type": "code",
   "execution_count": 160,
   "id": "b03524a2",
   "metadata": {},
   "outputs": [],
   "source": [
    "# Squeezing a tensor -> removing all single dimns\n",
    "tf.random.set_seed(7)\n",
    "t = tf.constant(tf.random.uniform(shape=[50]), shape=(1, 1, 1, 50))"
   ]
  },
  {
   "cell_type": "code",
   "execution_count": 161,
   "id": "47013bb4",
   "metadata": {},
   "outputs": [
    {
     "data": {
      "text/plain": [
       "<tf.Tensor: shape=(1, 1, 1, 50), dtype=float32, numpy=\n",
       "array([[[[0.8344538 , 0.23336661, 0.8796519 , 0.04664922, 0.80349684,\n",
       "          0.9420098 , 0.48560476, 0.9596517 , 0.65881574, 0.11269152,\n",
       "          0.42992353, 0.60388005, 0.09393823, 0.08232665, 0.87509394,\n",
       "          0.9595978 , 0.24487329, 0.4698069 , 0.7515631 , 0.83605003,\n",
       "          0.8556993 , 0.30181408, 0.82694066, 0.49390066, 0.63653564,\n",
       "          0.29243422, 0.9494889 , 0.5301058 , 0.1835326 , 0.58373356,\n",
       "          0.89675355, 0.5347773 , 0.29837036, 0.07734811, 0.17663229,\n",
       "          0.3444836 , 0.4229324 , 0.68379617, 0.4887246 , 0.5376346 ,\n",
       "          0.91624343, 0.33474946, 0.06718647, 0.84025824, 0.6102561 ,\n",
       "          0.1546061 , 0.23240829, 0.7687037 , 0.5492232 , 0.54143226]]]],\n",
       "      dtype=float32)>"
      ]
     },
     "execution_count": 161,
     "metadata": {},
     "output_type": "execute_result"
    }
   ],
   "source": [
    "t"
   ]
  },
  {
   "cell_type": "code",
   "execution_count": 162,
   "id": "36a57bc7",
   "metadata": {},
   "outputs": [
    {
     "data": {
      "text/plain": [
       "<tf.Tensor: shape=(50,), dtype=float32, numpy=\n",
       "array([0.8344538 , 0.23336661, 0.8796519 , 0.04664922, 0.80349684,\n",
       "       0.9420098 , 0.48560476, 0.9596517 , 0.65881574, 0.11269152,\n",
       "       0.42992353, 0.60388005, 0.09393823, 0.08232665, 0.87509394,\n",
       "       0.9595978 , 0.24487329, 0.4698069 , 0.7515631 , 0.83605003,\n",
       "       0.8556993 , 0.30181408, 0.82694066, 0.49390066, 0.63653564,\n",
       "       0.29243422, 0.9494889 , 0.5301058 , 0.1835326 , 0.58373356,\n",
       "       0.89675355, 0.5347773 , 0.29837036, 0.07734811, 0.17663229,\n",
       "       0.3444836 , 0.4229324 , 0.68379617, 0.4887246 , 0.5376346 ,\n",
       "       0.91624343, 0.33474946, 0.06718647, 0.84025824, 0.6102561 ,\n",
       "       0.1546061 , 0.23240829, 0.7687037 , 0.5492232 , 0.54143226],\n",
       "      dtype=float32)>"
      ]
     },
     "execution_count": 162,
     "metadata": {},
     "output_type": "execute_result"
    }
   ],
   "source": [
    "tf.squeeze(t)"
   ]
  },
  {
   "cell_type": "code",
   "execution_count": 164,
   "id": "25e2666e",
   "metadata": {},
   "outputs": [
    {
     "data": {
      "text/plain": [
       "TensorShape([50])"
      ]
     },
     "execution_count": 164,
     "metadata": {},
     "output_type": "execute_result"
    }
   ],
   "source": [
    "tf.squeeze(t).shape"
   ]
  },
  {
   "cell_type": "markdown",
   "id": "35be7a78",
   "metadata": {},
   "source": [
    "#### One Hot Encoding\n",
    "\n",
    "indices = [0,1,2,3,5]\n",
    "indices"
   ]
  },
  {
   "cell_type": "code",
   "execution_count": 177,
   "id": "76f9a0b2",
   "metadata": {},
   "outputs": [
    {
     "data": {
      "text/plain": [
       "<tf.Tensor: shape=(5, 6), dtype=float32, numpy=\n",
       "array([[1., 0., 0., 0., 0., 0.],\n",
       "       [0., 1., 0., 0., 0., 0.],\n",
       "       [0., 0., 1., 0., 0., 0.],\n",
       "       [0., 0., 0., 1., 0., 0.],\n",
       "       [0., 0., 0., 0., 0., 1.]], dtype=float32)>"
      ]
     },
     "execution_count": 177,
     "metadata": {},
     "output_type": "execute_result"
    }
   ],
   "source": [
    "indices = [0,1,2,3,5]\n",
    "tf.one_hot(indices, depth = 6)"
   ]
  },
  {
   "cell_type": "code",
   "execution_count": 179,
   "id": "b9ffc1a4",
   "metadata": {},
   "outputs": [
    {
     "data": {
      "text/plain": [
       "<tf.Tensor: shape=(5, 6), dtype=string, numpy=\n",
       "array([[b'*', b'_', b'_', b'_', b'_', b'_'],\n",
       "       [b'_', b'*', b'_', b'_', b'_', b'_'],\n",
       "       [b'_', b'_', b'*', b'_', b'_', b'_'],\n",
       "       [b'_', b'_', b'_', b'*', b'_', b'_'],\n",
       "       [b'_', b'_', b'_', b'_', b'_', b'*']], dtype=object)>"
      ]
     },
     "execution_count": 179,
     "metadata": {},
     "output_type": "execute_result"
    }
   ],
   "source": [
    "tf.one_hot(indices, depth=6, on_value='*', off_value='_')"
   ]
  },
  {
   "cell_type": "code",
   "execution_count": 185,
   "id": "40f45c5c",
   "metadata": {},
   "outputs": [],
   "source": [
    "#### Should practices other mathmatics operations"
   ]
  },
  {
   "cell_type": "code",
   "execution_count": null,
   "id": "1fb04882",
   "metadata": {},
   "outputs": [],
   "source": []
  },
  {
   "cell_type": "code",
   "execution_count": 186,
   "id": "f0515dea",
   "metadata": {},
   "outputs": [],
   "source": [
    "####TF to Numpy Vice-Verca\n",
    "\n",
    "numpy_j = tf.constant(np.array([1.2, 3.2]))"
   ]
  },
  {
   "cell_type": "code",
   "execution_count": 187,
   "id": "d7c58c63",
   "metadata": {},
   "outputs": [
    {
     "data": {
      "text/plain": [
       "tf.float64"
      ]
     },
     "execution_count": 187,
     "metadata": {},
     "output_type": "execute_result"
    }
   ],
   "source": [
    "numpy_j.dtype"
   ]
  },
  {
   "cell_type": "code",
   "execution_count": 188,
   "id": "734da169",
   "metadata": {},
   "outputs": [],
   "source": [
    "pure_tf = tf.constant([1.2, 3.2])"
   ]
  },
  {
   "cell_type": "code",
   "execution_count": 189,
   "id": "0bbf46f9",
   "metadata": {},
   "outputs": [
    {
     "data": {
      "text/plain": [
       "tf.float32"
      ]
     },
     "execution_count": 189,
     "metadata": {},
     "output_type": "execute_result"
    }
   ],
   "source": [
    "pure_tf.dtype"
   ]
  },
  {
   "cell_type": "code",
   "execution_count": 190,
   "id": "a940b66c",
   "metadata": {},
   "outputs": [],
   "source": [
    "t2n = np.array(pure_tf)"
   ]
  },
  {
   "cell_type": "code",
   "execution_count": 191,
   "id": "d2263675",
   "metadata": {},
   "outputs": [
    {
     "data": {
      "text/plain": [
       "array([1.2, 3.2], dtype=float32)"
      ]
     },
     "execution_count": 191,
     "metadata": {},
     "output_type": "execute_result"
    }
   ],
   "source": [
    "t2n"
   ]
  },
  {
   "cell_type": "code",
   "execution_count": 192,
   "id": "53cf8d76",
   "metadata": {},
   "outputs": [],
   "source": [
    "#normal numpy array data type\n",
    "arr = np.array([1.2, 3.2])"
   ]
  },
  {
   "cell_type": "code",
   "execution_count": 193,
   "id": "13c2a6c6",
   "metadata": {},
   "outputs": [
    {
     "data": {
      "text/plain": [
       "dtype('float64')"
      ]
     },
     "execution_count": 193,
     "metadata": {},
     "output_type": "execute_result"
    }
   ],
   "source": [
    "arr.dtype"
   ]
  },
  {
   "cell_type": "code",
   "execution_count": 194,
   "id": "ae18da2b",
   "metadata": {},
   "outputs": [],
   "source": [
    "# numpy array float64"
   ]
  },
  {
   "cell_type": "code",
   "execution_count": null,
   "id": "79732c97",
   "metadata": {},
   "outputs": [],
   "source": []
  }
 ],
 "metadata": {
  "kernelspec": {
   "display_name": "Python 3 (ipykernel)",
   "language": "python",
   "name": "python3"
  },
  "language_info": {
   "codemirror_mode": {
    "name": "ipython",
    "version": 3
   },
   "file_extension": ".py",
   "mimetype": "text/x-python",
   "name": "python",
   "nbconvert_exporter": "python",
   "pygments_lexer": "ipython3",
   "version": "3.10.4"
  }
 },
 "nbformat": 4,
 "nbformat_minor": 5
}
