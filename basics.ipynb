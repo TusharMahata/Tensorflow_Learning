{
 "cells": [
  {
   "cell_type": "code",
   "execution_count": 1,
   "id": "688c5308",
   "metadata": {},
   "outputs": [
    {
     "name": "stdout",
     "output_type": "stream",
     "text": [
      "2.12.0\n"
     ]
    }
   ],
   "source": [
    "# fundamental concepts of tensors using tensorflow\n",
    "\n",
    "import tensorflow as tf\n",
    "print(tf.__version__)"
   ]
  },
  {
   "cell_type": "code",
   "execution_count": 2,
   "id": "63e237fa",
   "metadata": {},
   "outputs": [
    {
     "data": {
      "text/plain": [
       "<tf.Tensor: shape=(), dtype=int32, numpy=7>"
      ]
     },
     "execution_count": 2,
     "metadata": {},
     "output_type": "execute_result"
    }
   ],
   "source": [
    "# creating tensors\n",
    "\n",
    "scaler = tf.constant(7)\n",
    "scaler"
   ]
  },
  {
   "cell_type": "code",
   "execution_count": 3,
   "id": "40c13f39",
   "metadata": {},
   "outputs": [
    {
     "data": {
      "text/plain": [
       "0"
      ]
     },
     "execution_count": 3,
     "metadata": {},
     "output_type": "execute_result"
    }
   ],
   "source": [
    "# check number of dimensions\n",
    "scaler.ndim"
   ]
  },
  {
   "cell_type": "code",
   "execution_count": 4,
   "id": "fcd2c516",
   "metadata": {},
   "outputs": [
    {
     "data": {
      "text/plain": [
       "<tf.Tensor: shape=(2,), dtype=int32, numpy=array([10, 10])>"
      ]
     },
     "execution_count": 4,
     "metadata": {},
     "output_type": "execute_result"
    }
   ],
   "source": [
    "# creating a vector\n",
    "\n",
    "vector = tf.constant([10, 10])\n",
    "vector"
   ]
  },
  {
   "cell_type": "code",
   "execution_count": 5,
   "id": "b166ea65",
   "metadata": {},
   "outputs": [
    {
     "data": {
      "text/plain": [
       "1"
      ]
     },
     "execution_count": 5,
     "metadata": {},
     "output_type": "execute_result"
    }
   ],
   "source": [
    "vector.ndim"
   ]
  },
  {
   "cell_type": "code",
   "execution_count": 6,
   "id": "903131b9",
   "metadata": {},
   "outputs": [
    {
     "data": {
      "text/plain": [
       "<tf.Tensor: shape=(2, 2), dtype=int32, numpy=\n",
       "array([[ 1,  2],\n",
       "       [40,  5]])>"
      ]
     },
     "execution_count": 6,
     "metadata": {},
     "output_type": "execute_result"
    }
   ],
   "source": [
    "# create a matrix\n",
    "\n",
    "matrix = tf.constant([[1,2],\n",
    "                    [40, 5]])\n",
    "matrix"
   ]
  },
  {
   "cell_type": "code",
   "execution_count": 7,
   "id": "ecf27d53",
   "metadata": {},
   "outputs": [
    {
     "data": {
      "text/plain": [
       "2"
      ]
     },
     "execution_count": 7,
     "metadata": {},
     "output_type": "execute_result"
    }
   ],
   "source": [
    "matrix.ndim"
   ]
  },
  {
   "cell_type": "code",
   "execution_count": 9,
   "id": "aaeaad24",
   "metadata": {},
   "outputs": [
    {
     "data": {
      "text/plain": [
       "<tf.Tensor: shape=(2, 2, 3), dtype=int32, numpy=\n",
       "array([[[ 1,  2,  3],\n",
       "        [ 4,  5,  6]],\n",
       "\n",
       "       [[ 6,  7,  1],\n",
       "        [ 9, 10,  2]]])>"
      ]
     },
     "execution_count": 9,
     "metadata": {},
     "output_type": "execute_result"
    }
   ],
   "source": [
    "# Creating tensor\n",
    "\n",
    "tensor = tf.constant([[[1, 2, 3],\n",
    "                      [4, 5, 6]],\n",
    "                     [[6, 7, 1],\n",
    "                     [9, 10, 2]]])\n",
    "tensor"
   ]
  },
  {
   "cell_type": "code",
   "execution_count": 10,
   "id": "e8f0431b",
   "metadata": {},
   "outputs": [
    {
     "data": {
      "text/plain": [
       "3"
      ]
     },
     "execution_count": 10,
     "metadata": {},
     "output_type": "execute_result"
    }
   ],
   "source": [
    "tensor.ndim"
   ]
  },
  {
   "cell_type": "code",
   "execution_count": 16,
   "id": "665a26b3",
   "metadata": {},
   "outputs": [
    {
     "data": {
      "text/plain": [
       "(<tf.Variable 'Variable:0' shape=(2,) dtype=int32, numpy=array([10,  7])>,)"
      ]
     },
     "execution_count": 16,
     "metadata": {},
     "output_type": "execute_result"
    }
   ],
   "source": [
    "# working with variable\n",
    "changeable_tensor = tf.Variable([10, 7])\n",
    "unchangeable_tensor = tf.constant([10, 7])\n",
    "changeable_tensor,\n"
   ]
  },
  {
   "cell_type": "code",
   "execution_count": 17,
   "id": "68719786",
   "metadata": {},
   "outputs": [
    {
     "data": {
      "text/plain": [
       "<tf.Tensor: shape=(2,), dtype=int32, numpy=array([10,  7])>"
      ]
     },
     "execution_count": 17,
     "metadata": {},
     "output_type": "execute_result"
    }
   ],
   "source": [
    "unchangeable_tensor"
   ]
  },
  {
   "cell_type": "code",
   "execution_count": 19,
   "id": "9b76305f",
   "metadata": {},
   "outputs": [
    {
     "data": {
      "text/plain": [
       "<tf.Tensor: shape=(), dtype=int32, numpy=7>"
      ]
     },
     "execution_count": 19,
     "metadata": {},
     "output_type": "execute_result"
    }
   ],
   "source": [
    "# let's try to change a element of changeable_tensor\n",
    "changeable_tensor[1]"
   ]
  },
  {
   "cell_type": "code",
   "execution_count": 20,
   "id": "3c7cd473",
   "metadata": {},
   "outputs": [
    {
     "ename": "TypeError",
     "evalue": "'ResourceVariable' object does not support item assignment",
     "output_type": "error",
     "traceback": [
      "\u001b[1;31m---------------------------------------------------------------------------\u001b[0m",
      "\u001b[1;31mTypeError\u001b[0m                                 Traceback (most recent call last)",
      "Cell \u001b[1;32mIn[20], line 1\u001b[0m\n\u001b[1;32m----> 1\u001b[0m \u001b[43mchangeable_tensor\u001b[49m\u001b[43m[\u001b[49m\u001b[38;5;241;43m1\u001b[39;49m\u001b[43m]\u001b[49m \u001b[38;5;241m=\u001b[39m \u001b[38;5;241m10\u001b[39m\n",
      "\u001b[1;31mTypeError\u001b[0m: 'ResourceVariable' object does not support item assignment"
     ]
    }
   ],
   "source": [
    "changeable_tensor[1] = 10"
   ]
  },
  {
   "cell_type": "code",
   "execution_count": 21,
   "id": "b4fe80a3",
   "metadata": {},
   "outputs": [
    {
     "data": {
      "text/plain": [
       "<tf.Variable 'UnreadVariable' shape=(2,) dtype=int32, numpy=array([10, 10])>"
      ]
     },
     "execution_count": 21,
     "metadata": {},
     "output_type": "execute_result"
    }
   ],
   "source": [
    "changeable_tensor[1].assign(10)"
   ]
  },
  {
   "cell_type": "code",
   "execution_count": 22,
   "id": "d809562a",
   "metadata": {},
   "outputs": [
    {
     "ename": "AttributeError",
     "evalue": "'tensorflow.python.framework.ops.EagerTensor' object has no attribute 'assign'",
     "output_type": "error",
     "traceback": [
      "\u001b[1;31m---------------------------------------------------------------------------\u001b[0m",
      "\u001b[1;31mAttributeError\u001b[0m                            Traceback (most recent call last)",
      "Cell \u001b[1;32mIn[22], line 1\u001b[0m\n\u001b[1;32m----> 1\u001b[0m \u001b[43munchangeable_tensor\u001b[49m\u001b[43m[\u001b[49m\u001b[38;5;241;43m1\u001b[39;49m\u001b[43m]\u001b[49m\u001b[38;5;241;43m.\u001b[39;49m\u001b[43massign\u001b[49m(\u001b[38;5;241m10\u001b[39m)\n",
      "File \u001b[1;32mC:\\Program Files\\Python310\\lib\\site-packages\\tensorflow\\python\\framework\\ops.py:443\u001b[0m, in \u001b[0;36mTensor.__getattr__\u001b[1;34m(self, name)\u001b[0m\n\u001b[0;32m    434\u001b[0m \u001b[38;5;28;01mif\u001b[39;00m name \u001b[38;5;129;01min\u001b[39;00m {\u001b[38;5;124m\"\u001b[39m\u001b[38;5;124mT\u001b[39m\u001b[38;5;124m\"\u001b[39m, \u001b[38;5;124m\"\u001b[39m\u001b[38;5;124mastype\u001b[39m\u001b[38;5;124m\"\u001b[39m, \u001b[38;5;124m\"\u001b[39m\u001b[38;5;124mravel\u001b[39m\u001b[38;5;124m\"\u001b[39m, \u001b[38;5;124m\"\u001b[39m\u001b[38;5;124mtranspose\u001b[39m\u001b[38;5;124m\"\u001b[39m, \u001b[38;5;124m\"\u001b[39m\u001b[38;5;124mreshape\u001b[39m\u001b[38;5;124m\"\u001b[39m, \u001b[38;5;124m\"\u001b[39m\u001b[38;5;124mclip\u001b[39m\u001b[38;5;124m\"\u001b[39m, \u001b[38;5;124m\"\u001b[39m\u001b[38;5;124msize\u001b[39m\u001b[38;5;124m\"\u001b[39m,\n\u001b[0;32m    435\u001b[0m             \u001b[38;5;124m\"\u001b[39m\u001b[38;5;124mtolist\u001b[39m\u001b[38;5;124m\"\u001b[39m, \u001b[38;5;124m\"\u001b[39m\u001b[38;5;124mdata\u001b[39m\u001b[38;5;124m\"\u001b[39m}:\n\u001b[0;32m    436\u001b[0m   \u001b[38;5;66;03m# TODO(wangpeng): Export the enable_numpy_behavior knob\u001b[39;00m\n\u001b[0;32m    437\u001b[0m   \u001b[38;5;28;01mraise\u001b[39;00m \u001b[38;5;167;01mAttributeError\u001b[39;00m(\n\u001b[0;32m    438\u001b[0m       \u001b[38;5;124mf\u001b[39m\u001b[38;5;124m\"\u001b[39m\u001b[38;5;132;01m{\u001b[39;00m\u001b[38;5;28mtype\u001b[39m(\u001b[38;5;28mself\u001b[39m)\u001b[38;5;241m.\u001b[39m\u001b[38;5;18m__name__\u001b[39m\u001b[38;5;132;01m}\u001b[39;00m\u001b[38;5;124m object has no attribute \u001b[39m\u001b[38;5;124m'\u001b[39m\u001b[38;5;132;01m{\u001b[39;00mname\u001b[38;5;132;01m}\u001b[39;00m\u001b[38;5;124m'\u001b[39m\u001b[38;5;124m. \u001b[39m\u001b[38;5;124m\"\u001b[39m \u001b[38;5;241m+\u001b[39m \u001b[38;5;124m\"\"\"\u001b[39m\n\u001b[0;32m    439\u001b[0m \u001b[38;5;124m    If you are looking for numpy-related methods, please run the following:\u001b[39m\n\u001b[0;32m    440\u001b[0m \u001b[38;5;124m    from tensorflow.python.ops.numpy_ops import np_config\u001b[39m\n\u001b[0;32m    441\u001b[0m \u001b[38;5;124m    np_config.enable_numpy_behavior()\u001b[39m\n\u001b[0;32m    442\u001b[0m \u001b[38;5;124m  \u001b[39m\u001b[38;5;124m\"\"\"\u001b[39m)\n\u001b[1;32m--> 443\u001b[0m \u001b[38;5;28;43mself\u001b[39;49m\u001b[38;5;241;43m.\u001b[39;49m\u001b[38;5;21;43m__getattribute__\u001b[39;49m\u001b[43m(\u001b[49m\u001b[43mname\u001b[49m\u001b[43m)\u001b[49m\n",
      "\u001b[1;31mAttributeError\u001b[0m: 'tensorflow.python.framework.ops.EagerTensor' object has no attribute 'assign'"
     ]
    }
   ],
   "source": [
    "unchangeable_tensor[1].assign(10)"
   ]
  },
  {
   "cell_type": "code",
   "execution_count": 23,
   "id": "99e1fec0",
   "metadata": {},
   "outputs": [
    {
     "data": {
      "text/plain": [
       "<tf.Tensor: shape=(2, 2), dtype=float32, numpy=\n",
       "array([[0.5983449 , 0.06276207],\n",
       "       [0.14631742, 0.48481876]], dtype=float32)>"
      ]
     },
     "execution_count": 23,
     "metadata": {},
     "output_type": "execute_result"
    }
   ],
   "source": [
    "# Creating random tensor\n",
    "\n",
    "random_a = tf.random.set_seed(7)\n",
    "random_a = tf.random.normal(shape=[2,2])\n",
    "random_a"
   ]
  },
  {
   "cell_type": "code",
   "execution_count": 24,
   "id": "40e96eb3",
   "metadata": {},
   "outputs": [
    {
     "data": {
      "text/plain": [
       "<tf.Tensor: shape=(2, 2), dtype=float32, numpy=\n",
       "array([[0.5983449 , 0.06276207],\n",
       "       [0.14631742, 0.48481876]], dtype=float32)>"
      ]
     },
     "execution_count": 24,
     "metadata": {},
     "output_type": "execute_result"
    }
   ],
   "source": [
    "# Creating random tensor\n",
    "\n",
    "random_b = tf.random.set_seed(7)\n",
    "random_b = tf.random.normal(shape=[2,2])\n",
    "random_b"
   ]
  },
  {
   "cell_type": "code",
   "execution_count": 26,
   "id": "fcf3da9f",
   "metadata": {},
   "outputs": [
    {
     "data": {
      "text/plain": [
       "<tf.Tensor: shape=(2, 2), dtype=float32, numpy=\n",
       "array([[-1.1012203 ,  1.5457517 ],\n",
       "       [ 0.383644  , -0.87965786]], dtype=float32)>"
      ]
     },
     "execution_count": 26,
     "metadata": {},
     "output_type": "execute_result"
    }
   ],
   "source": [
    "# Creating random tensor\n",
    "\n",
    "random_c = tf.random.set_seed(1)\n",
    "random_c = tf.random.normal(shape=[2,2])\n",
    "random_c\n",
    "# random equality depends on set_seed"
   ]
  },
  {
   "cell_type": "code",
   "execution_count": 28,
   "id": "3f81b9fa",
   "metadata": {},
   "outputs": [
    {
     "data": {
      "text/plain": [
       "<tf.Tensor: shape=(3, 3), dtype=int32, numpy=\n",
       "array([[1, 2, 3],\n",
       "       [4, 5, 6],\n",
       "       [7, 8, 9]])>"
      ]
     },
     "execution_count": 28,
     "metadata": {},
     "output_type": "execute_result"
    }
   ],
   "source": [
    "# shuffle a tensor\n",
    "\n",
    "not_shuffled = tf.constant([[1,2,3], [4,5,6], [7,8,9]])\n",
    "not_shuffled"
   ]
  },
  {
   "cell_type": "code",
   "execution_count": 29,
   "id": "52fff6c1",
   "metadata": {},
   "outputs": [
    {
     "data": {
      "text/plain": [
       "<tf.Tensor: shape=(3, 3), dtype=int32, numpy=\n",
       "array([[7, 8, 9],\n",
       "       [4, 5, 6],\n",
       "       [1, 2, 3]])>"
      ]
     },
     "execution_count": 29,
     "metadata": {},
     "output_type": "execute_result"
    }
   ],
   "source": [
    "shuffled = tf.random.shuffle(not_shuffled)\n",
    "shuffled"
   ]
  },
  {
   "cell_type": "code",
   "execution_count": 30,
   "id": "facc67e0",
   "metadata": {},
   "outputs": [
    {
     "data": {
      "text/plain": [
       "<tf.Tensor: shape=(3, 3), dtype=int32, numpy=\n",
       "array([[7, 8, 9],\n",
       "       [4, 5, 6],\n",
       "       [1, 2, 3]])>"
      ]
     },
     "execution_count": 30,
     "metadata": {},
     "output_type": "execute_result"
    }
   ],
   "source": [
    "shuffled"
   ]
  },
  {
   "cell_type": "code",
   "execution_count": 31,
   "id": "673b892f",
   "metadata": {},
   "outputs": [
    {
     "data": {
      "text/plain": [
       "<tf.Tensor: shape=(3, 3), dtype=int32, numpy=\n",
       "array([[1, 2, 3],\n",
       "       [4, 5, 6],\n",
       "       [7, 8, 9]])>"
      ]
     },
     "execution_count": 31,
     "metadata": {},
     "output_type": "execute_result"
    }
   ],
   "source": [
    "shuffled = tf.random.shuffle(not_shuffled)\n",
    "shuffled"
   ]
  },
  {
   "cell_type": "code",
   "execution_count": 35,
   "id": "b2c4b667",
   "metadata": {},
   "outputs": [
    {
     "data": {
      "text/plain": [
       "<tf.Tensor: shape=(3, 3), dtype=int32, numpy=\n",
       "array([[4, 5, 6],\n",
       "       [1, 2, 3],\n",
       "       [7, 8, 9]])>"
      ]
     },
     "execution_count": 35,
     "metadata": {},
     "output_type": "execute_result"
    }
   ],
   "source": [
    "shuffled = tf.random.shuffle(not_shuffled)\n",
    "shuffled\n",
    "#every time it changes it's pattern"
   ]
  },
  {
   "cell_type": "code",
   "execution_count": 50,
   "id": "d7bac1b9",
   "metadata": {},
   "outputs": [
    {
     "data": {
      "text/plain": [
       "<tf.Tensor: shape=(3, 3), dtype=int32, numpy=\n",
       "array([[4, 5, 6],\n",
       "       [1, 2, 3],\n",
       "       [7, 8, 9]])>"
      ]
     },
     "execution_count": 50,
     "metadata": {},
     "output_type": "execute_result"
    }
   ],
   "source": [
    "# to fixed pattern\n",
    "tf.random.set_seed(7) # global level seed\n",
    "shuffled = tf.random.shuffle(not_shuffled, seed = 7) # operation level seed\n",
    "shuffled"
   ]
  },
  {
   "cell_type": "code",
   "execution_count": 51,
   "id": "84e6bd89",
   "metadata": {},
   "outputs": [
    {
     "data": {
      "text/plain": [
       "<tf.Tensor: shape=(3, 3), dtype=float32, numpy=\n",
       "array([[1., 1., 1.],\n",
       "       [1., 1., 1.],\n",
       "       [1., 1., 1.]], dtype=float32)>"
      ]
     },
     "execution_count": 51,
     "metadata": {},
     "output_type": "execute_result"
    }
   ],
   "source": [
    "# Create a tensor of all 1\n",
    "tf.ones(shape=(3,3))"
   ]
  },
  {
   "cell_type": "code",
   "execution_count": 52,
   "id": "adfa90a4",
   "metadata": {},
   "outputs": [
    {
     "data": {
      "text/plain": [
       "<tf.Tensor: shape=(5, 4), dtype=float32, numpy=\n",
       "array([[0., 0., 0., 0.],\n",
       "       [0., 0., 0., 0.],\n",
       "       [0., 0., 0., 0.],\n",
       "       [0., 0., 0., 0.],\n",
       "       [0., 0., 0., 0.]], dtype=float32)>"
      ]
     },
     "execution_count": 52,
     "metadata": {},
     "output_type": "execute_result"
    }
   ],
   "source": [
    "tf.zeros(shape=[5,4])"
   ]
  },
  {
   "cell_type": "code",
   "execution_count": 53,
   "id": "97dedbaf",
   "metadata": {},
   "outputs": [],
   "source": [
    "import numpy as np\n",
    "numpy_array = np.arange(5, 29)"
   ]
  },
  {
   "cell_type": "code",
   "execution_count": 54,
   "id": "bef782bb",
   "metadata": {},
   "outputs": [
    {
     "data": {
      "text/plain": [
       "array([ 5,  6,  7,  8,  9, 10, 11, 12, 13, 14, 15, 16, 17, 18, 19, 20, 21,\n",
       "       22, 23, 24, 25, 26, 27, 28])"
      ]
     },
     "execution_count": 54,
     "metadata": {},
     "output_type": "execute_result"
    }
   ],
   "source": [
    "numpy_array"
   ]
  },
  {
   "cell_type": "code",
   "execution_count": 56,
   "id": "43f6e667",
   "metadata": {},
   "outputs": [
    {
     "data": {
      "text/plain": [
       "(24,)"
      ]
     },
     "execution_count": 56,
     "metadata": {},
     "output_type": "execute_result"
    }
   ],
   "source": [
    "numpy_array.shape"
   ]
  },
  {
   "cell_type": "code",
   "execution_count": 57,
   "id": "79fa7a4c",
   "metadata": {},
   "outputs": [],
   "source": [
    "# numpy array to tensor\n",
    "tensor = tf.constant(numpy_array)"
   ]
  },
  {
   "cell_type": "code",
   "execution_count": 58,
   "id": "30051580",
   "metadata": {},
   "outputs": [
    {
     "data": {
      "text/plain": [
       "<tf.Tensor: shape=(24,), dtype=int32, numpy=\n",
       "array([ 5,  6,  7,  8,  9, 10, 11, 12, 13, 14, 15, 16, 17, 18, 19, 20, 21,\n",
       "       22, 23, 24, 25, 26, 27, 28])>"
      ]
     },
     "execution_count": 58,
     "metadata": {},
     "output_type": "execute_result"
    }
   ],
   "source": [
    "tensor"
   ]
  },
  {
   "cell_type": "code",
   "execution_count": 59,
   "id": "c6186cb3",
   "metadata": {},
   "outputs": [],
   "source": [
    "tensor = tf.constant(numpy_array, shape = (3, 8))"
   ]
  },
  {
   "cell_type": "code",
   "execution_count": 60,
   "id": "09e9eb03",
   "metadata": {},
   "outputs": [
    {
     "data": {
      "text/plain": [
       "<tf.Tensor: shape=(3, 8), dtype=int32, numpy=\n",
       "array([[ 5,  6,  7,  8,  9, 10, 11, 12],\n",
       "       [13, 14, 15, 16, 17, 18, 19, 20],\n",
       "       [21, 22, 23, 24, 25, 26, 27, 28]])>"
      ]
     },
     "execution_count": 60,
     "metadata": {},
     "output_type": "execute_result"
    }
   ],
   "source": [
    "tensor"
   ]
  },
  {
   "cell_type": "code",
   "execution_count": 61,
   "id": "63298b06",
   "metadata": {},
   "outputs": [
    {
     "data": {
      "text/plain": [
       "2"
      ]
     },
     "execution_count": 61,
     "metadata": {},
     "output_type": "execute_result"
    }
   ],
   "source": [
    "tensor.ndim"
   ]
  },
  {
   "cell_type": "code",
   "execution_count": 62,
   "id": "477a2e4d",
   "metadata": {},
   "outputs": [],
   "source": [
    "tensor2 = tf.constant(numpy_array, shape=(2, 3, 4))"
   ]
  },
  {
   "cell_type": "code",
   "execution_count": 63,
   "id": "c3f329d1",
   "metadata": {},
   "outputs": [
    {
     "data": {
      "text/plain": [
       "<tf.Tensor: shape=(2, 3, 4), dtype=int32, numpy=\n",
       "array([[[ 5,  6,  7,  8],\n",
       "        [ 9, 10, 11, 12],\n",
       "        [13, 14, 15, 16]],\n",
       "\n",
       "       [[17, 18, 19, 20],\n",
       "        [21, 22, 23, 24],\n",
       "        [25, 26, 27, 28]]])>"
      ]
     },
     "execution_count": 63,
     "metadata": {},
     "output_type": "execute_result"
    }
   ],
   "source": [
    "tensor2"
   ]
  },
  {
   "cell_type": "code",
   "execution_count": 64,
   "id": "0a6f316c",
   "metadata": {},
   "outputs": [
    {
     "data": {
      "text/plain": [
       "3"
      ]
     },
     "execution_count": 64,
     "metadata": {},
     "output_type": "execute_result"
    }
   ],
   "source": [
    "tensor2.ndim"
   ]
  },
  {
   "cell_type": "code",
   "execution_count": 65,
   "id": "2eb96478",
   "metadata": {},
   "outputs": [
    {
     "data": {
      "text/plain": [
       "<tf.Tensor: shape=(), dtype=int32, numpy=24>"
      ]
     },
     "execution_count": 65,
     "metadata": {},
     "output_type": "execute_result"
    }
   ],
   "source": [
    "tf.size(tensor2)"
   ]
  },
  {
   "cell_type": "code",
   "execution_count": 70,
   "id": "290ca064",
   "metadata": {},
   "outputs": [
    {
     "data": {
      "text/plain": [
       "<tf.Tensor: shape=(2, 3, 4, 5, 6, 7), dtype=float16, numpy=\n",
       "array([[[[[[1., 1., 1., ..., 1., 1., 1.],\n",
       "           [1., 1., 1., ..., 1., 1., 1.],\n",
       "           [1., 1., 1., ..., 1., 1., 1.],\n",
       "           [1., 1., 1., ..., 1., 1., 1.],\n",
       "           [1., 1., 1., ..., 1., 1., 1.],\n",
       "           [1., 1., 1., ..., 1., 1., 1.]],\n",
       "\n",
       "          [[1., 1., 1., ..., 1., 1., 1.],\n",
       "           [1., 1., 1., ..., 1., 1., 1.],\n",
       "           [1., 1., 1., ..., 1., 1., 1.],\n",
       "           [1., 1., 1., ..., 1., 1., 1.],\n",
       "           [1., 1., 1., ..., 1., 1., 1.],\n",
       "           [1., 1., 1., ..., 1., 1., 1.]],\n",
       "\n",
       "          [[1., 1., 1., ..., 1., 1., 1.],\n",
       "           [1., 1., 1., ..., 1., 1., 1.],\n",
       "           [1., 1., 1., ..., 1., 1., 1.],\n",
       "           [1., 1., 1., ..., 1., 1., 1.],\n",
       "           [1., 1., 1., ..., 1., 1., 1.],\n",
       "           [1., 1., 1., ..., 1., 1., 1.]],\n",
       "\n",
       "          [[1., 1., 1., ..., 1., 1., 1.],\n",
       "           [1., 1., 1., ..., 1., 1., 1.],\n",
       "           [1., 1., 1., ..., 1., 1., 1.],\n",
       "           [1., 1., 1., ..., 1., 1., 1.],\n",
       "           [1., 1., 1., ..., 1., 1., 1.],\n",
       "           [1., 1., 1., ..., 1., 1., 1.]],\n",
       "\n",
       "          [[1., 1., 1., ..., 1., 1., 1.],\n",
       "           [1., 1., 1., ..., 1., 1., 1.],\n",
       "           [1., 1., 1., ..., 1., 1., 1.],\n",
       "           [1., 1., 1., ..., 1., 1., 1.],\n",
       "           [1., 1., 1., ..., 1., 1., 1.],\n",
       "           [1., 1., 1., ..., 1., 1., 1.]]],\n",
       "\n",
       "\n",
       "         [[[1., 1., 1., ..., 1., 1., 1.],\n",
       "           [1., 1., 1., ..., 1., 1., 1.],\n",
       "           [1., 1., 1., ..., 1., 1., 1.],\n",
       "           [1., 1., 1., ..., 1., 1., 1.],\n",
       "           [1., 1., 1., ..., 1., 1., 1.],\n",
       "           [1., 1., 1., ..., 1., 1., 1.]],\n",
       "\n",
       "          [[1., 1., 1., ..., 1., 1., 1.],\n",
       "           [1., 1., 1., ..., 1., 1., 1.],\n",
       "           [1., 1., 1., ..., 1., 1., 1.],\n",
       "           [1., 1., 1., ..., 1., 1., 1.],\n",
       "           [1., 1., 1., ..., 1., 1., 1.],\n",
       "           [1., 1., 1., ..., 1., 1., 1.]],\n",
       "\n",
       "          [[1., 1., 1., ..., 1., 1., 1.],\n",
       "           [1., 1., 1., ..., 1., 1., 1.],\n",
       "           [1., 1., 1., ..., 1., 1., 1.],\n",
       "           [1., 1., 1., ..., 1., 1., 1.],\n",
       "           [1., 1., 1., ..., 1., 1., 1.],\n",
       "           [1., 1., 1., ..., 1., 1., 1.]],\n",
       "\n",
       "          [[1., 1., 1., ..., 1., 1., 1.],\n",
       "           [1., 1., 1., ..., 1., 1., 1.],\n",
       "           [1., 1., 1., ..., 1., 1., 1.],\n",
       "           [1., 1., 1., ..., 1., 1., 1.],\n",
       "           [1., 1., 1., ..., 1., 1., 1.],\n",
       "           [1., 1., 1., ..., 1., 1., 1.]],\n",
       "\n",
       "          [[1., 1., 1., ..., 1., 1., 1.],\n",
       "           [1., 1., 1., ..., 1., 1., 1.],\n",
       "           [1., 1., 1., ..., 1., 1., 1.],\n",
       "           [1., 1., 1., ..., 1., 1., 1.],\n",
       "           [1., 1., 1., ..., 1., 1., 1.],\n",
       "           [1., 1., 1., ..., 1., 1., 1.]]],\n",
       "\n",
       "\n",
       "         [[[1., 1., 1., ..., 1., 1., 1.],\n",
       "           [1., 1., 1., ..., 1., 1., 1.],\n",
       "           [1., 1., 1., ..., 1., 1., 1.],\n",
       "           [1., 1., 1., ..., 1., 1., 1.],\n",
       "           [1., 1., 1., ..., 1., 1., 1.],\n",
       "           [1., 1., 1., ..., 1., 1., 1.]],\n",
       "\n",
       "          [[1., 1., 1., ..., 1., 1., 1.],\n",
       "           [1., 1., 1., ..., 1., 1., 1.],\n",
       "           [1., 1., 1., ..., 1., 1., 1.],\n",
       "           [1., 1., 1., ..., 1., 1., 1.],\n",
       "           [1., 1., 1., ..., 1., 1., 1.],\n",
       "           [1., 1., 1., ..., 1., 1., 1.]],\n",
       "\n",
       "          [[1., 1., 1., ..., 1., 1., 1.],\n",
       "           [1., 1., 1., ..., 1., 1., 1.],\n",
       "           [1., 1., 1., ..., 1., 1., 1.],\n",
       "           [1., 1., 1., ..., 1., 1., 1.],\n",
       "           [1., 1., 1., ..., 1., 1., 1.],\n",
       "           [1., 1., 1., ..., 1., 1., 1.]],\n",
       "\n",
       "          [[1., 1., 1., ..., 1., 1., 1.],\n",
       "           [1., 1., 1., ..., 1., 1., 1.],\n",
       "           [1., 1., 1., ..., 1., 1., 1.],\n",
       "           [1., 1., 1., ..., 1., 1., 1.],\n",
       "           [1., 1., 1., ..., 1., 1., 1.],\n",
       "           [1., 1., 1., ..., 1., 1., 1.]],\n",
       "\n",
       "          [[1., 1., 1., ..., 1., 1., 1.],\n",
       "           [1., 1., 1., ..., 1., 1., 1.],\n",
       "           [1., 1., 1., ..., 1., 1., 1.],\n",
       "           [1., 1., 1., ..., 1., 1., 1.],\n",
       "           [1., 1., 1., ..., 1., 1., 1.],\n",
       "           [1., 1., 1., ..., 1., 1., 1.]]],\n",
       "\n",
       "\n",
       "         [[[1., 1., 1., ..., 1., 1., 1.],\n",
       "           [1., 1., 1., ..., 1., 1., 1.],\n",
       "           [1., 1., 1., ..., 1., 1., 1.],\n",
       "           [1., 1., 1., ..., 1., 1., 1.],\n",
       "           [1., 1., 1., ..., 1., 1., 1.],\n",
       "           [1., 1., 1., ..., 1., 1., 1.]],\n",
       "\n",
       "          [[1., 1., 1., ..., 1., 1., 1.],\n",
       "           [1., 1., 1., ..., 1., 1., 1.],\n",
       "           [1., 1., 1., ..., 1., 1., 1.],\n",
       "           [1., 1., 1., ..., 1., 1., 1.],\n",
       "           [1., 1., 1., ..., 1., 1., 1.],\n",
       "           [1., 1., 1., ..., 1., 1., 1.]],\n",
       "\n",
       "          [[1., 1., 1., ..., 1., 1., 1.],\n",
       "           [1., 1., 1., ..., 1., 1., 1.],\n",
       "           [1., 1., 1., ..., 1., 1., 1.],\n",
       "           [1., 1., 1., ..., 1., 1., 1.],\n",
       "           [1., 1., 1., ..., 1., 1., 1.],\n",
       "           [1., 1., 1., ..., 1., 1., 1.]],\n",
       "\n",
       "          [[1., 1., 1., ..., 1., 1., 1.],\n",
       "           [1., 1., 1., ..., 1., 1., 1.],\n",
       "           [1., 1., 1., ..., 1., 1., 1.],\n",
       "           [1., 1., 1., ..., 1., 1., 1.],\n",
       "           [1., 1., 1., ..., 1., 1., 1.],\n",
       "           [1., 1., 1., ..., 1., 1., 1.]],\n",
       "\n",
       "          [[1., 1., 1., ..., 1., 1., 1.],\n",
       "           [1., 1., 1., ..., 1., 1., 1.],\n",
       "           [1., 1., 1., ..., 1., 1., 1.],\n",
       "           [1., 1., 1., ..., 1., 1., 1.],\n",
       "           [1., 1., 1., ..., 1., 1., 1.],\n",
       "           [1., 1., 1., ..., 1., 1., 1.]]]],\n",
       "\n",
       "\n",
       "\n",
       "        [[[[1., 1., 1., ..., 1., 1., 1.],\n",
       "           [1., 1., 1., ..., 1., 1., 1.],\n",
       "           [1., 1., 1., ..., 1., 1., 1.],\n",
       "           [1., 1., 1., ..., 1., 1., 1.],\n",
       "           [1., 1., 1., ..., 1., 1., 1.],\n",
       "           [1., 1., 1., ..., 1., 1., 1.]],\n",
       "\n",
       "          [[1., 1., 1., ..., 1., 1., 1.],\n",
       "           [1., 1., 1., ..., 1., 1., 1.],\n",
       "           [1., 1., 1., ..., 1., 1., 1.],\n",
       "           [1., 1., 1., ..., 1., 1., 1.],\n",
       "           [1., 1., 1., ..., 1., 1., 1.],\n",
       "           [1., 1., 1., ..., 1., 1., 1.]],\n",
       "\n",
       "          [[1., 1., 1., ..., 1., 1., 1.],\n",
       "           [1., 1., 1., ..., 1., 1., 1.],\n",
       "           [1., 1., 1., ..., 1., 1., 1.],\n",
       "           [1., 1., 1., ..., 1., 1., 1.],\n",
       "           [1., 1., 1., ..., 1., 1., 1.],\n",
       "           [1., 1., 1., ..., 1., 1., 1.]],\n",
       "\n",
       "          [[1., 1., 1., ..., 1., 1., 1.],\n",
       "           [1., 1., 1., ..., 1., 1., 1.],\n",
       "           [1., 1., 1., ..., 1., 1., 1.],\n",
       "           [1., 1., 1., ..., 1., 1., 1.],\n",
       "           [1., 1., 1., ..., 1., 1., 1.],\n",
       "           [1., 1., 1., ..., 1., 1., 1.]],\n",
       "\n",
       "          [[1., 1., 1., ..., 1., 1., 1.],\n",
       "           [1., 1., 1., ..., 1., 1., 1.],\n",
       "           [1., 1., 1., ..., 1., 1., 1.],\n",
       "           [1., 1., 1., ..., 1., 1., 1.],\n",
       "           [1., 1., 1., ..., 1., 1., 1.],\n",
       "           [1., 1., 1., ..., 1., 1., 1.]]],\n",
       "\n",
       "\n",
       "         [[[1., 1., 1., ..., 1., 1., 1.],\n",
       "           [1., 1., 1., ..., 1., 1., 1.],\n",
       "           [1., 1., 1., ..., 1., 1., 1.],\n",
       "           [1., 1., 1., ..., 1., 1., 1.],\n",
       "           [1., 1., 1., ..., 1., 1., 1.],\n",
       "           [1., 1., 1., ..., 1., 1., 1.]],\n",
       "\n",
       "          [[1., 1., 1., ..., 1., 1., 1.],\n",
       "           [1., 1., 1., ..., 1., 1., 1.],\n",
       "           [1., 1., 1., ..., 1., 1., 1.],\n",
       "           [1., 1., 1., ..., 1., 1., 1.],\n",
       "           [1., 1., 1., ..., 1., 1., 1.],\n",
       "           [1., 1., 1., ..., 1., 1., 1.]],\n",
       "\n",
       "          [[1., 1., 1., ..., 1., 1., 1.],\n",
       "           [1., 1., 1., ..., 1., 1., 1.],\n",
       "           [1., 1., 1., ..., 1., 1., 1.],\n",
       "           [1., 1., 1., ..., 1., 1., 1.],\n",
       "           [1., 1., 1., ..., 1., 1., 1.],\n",
       "           [1., 1., 1., ..., 1., 1., 1.]],\n",
       "\n",
       "          [[1., 1., 1., ..., 1., 1., 1.],\n",
       "           [1., 1., 1., ..., 1., 1., 1.],\n",
       "           [1., 1., 1., ..., 1., 1., 1.],\n",
       "           [1., 1., 1., ..., 1., 1., 1.],\n",
       "           [1., 1., 1., ..., 1., 1., 1.],\n",
       "           [1., 1., 1., ..., 1., 1., 1.]],\n",
       "\n",
       "          [[1., 1., 1., ..., 1., 1., 1.],\n",
       "           [1., 1., 1., ..., 1., 1., 1.],\n",
       "           [1., 1., 1., ..., 1., 1., 1.],\n",
       "           [1., 1., 1., ..., 1., 1., 1.],\n",
       "           [1., 1., 1., ..., 1., 1., 1.],\n",
       "           [1., 1., 1., ..., 1., 1., 1.]]],\n",
       "\n",
       "\n",
       "         [[[1., 1., 1., ..., 1., 1., 1.],\n",
       "           [1., 1., 1., ..., 1., 1., 1.],\n",
       "           [1., 1., 1., ..., 1., 1., 1.],\n",
       "           [1., 1., 1., ..., 1., 1., 1.],\n",
       "           [1., 1., 1., ..., 1., 1., 1.],\n",
       "           [1., 1., 1., ..., 1., 1., 1.]],\n",
       "\n",
       "          [[1., 1., 1., ..., 1., 1., 1.],\n",
       "           [1., 1., 1., ..., 1., 1., 1.],\n",
       "           [1., 1., 1., ..., 1., 1., 1.],\n",
       "           [1., 1., 1., ..., 1., 1., 1.],\n",
       "           [1., 1., 1., ..., 1., 1., 1.],\n",
       "           [1., 1., 1., ..., 1., 1., 1.]],\n",
       "\n",
       "          [[1., 1., 1., ..., 1., 1., 1.],\n",
       "           [1., 1., 1., ..., 1., 1., 1.],\n",
       "           [1., 1., 1., ..., 1., 1., 1.],\n",
       "           [1., 1., 1., ..., 1., 1., 1.],\n",
       "           [1., 1., 1., ..., 1., 1., 1.],\n",
       "           [1., 1., 1., ..., 1., 1., 1.]],\n",
       "\n",
       "          [[1., 1., 1., ..., 1., 1., 1.],\n",
       "           [1., 1., 1., ..., 1., 1., 1.],\n",
       "           [1., 1., 1., ..., 1., 1., 1.],\n",
       "           [1., 1., 1., ..., 1., 1., 1.],\n",
       "           [1., 1., 1., ..., 1., 1., 1.],\n",
       "           [1., 1., 1., ..., 1., 1., 1.]],\n",
       "\n",
       "          [[1., 1., 1., ..., 1., 1., 1.],\n",
       "           [1., 1., 1., ..., 1., 1., 1.],\n",
       "           [1., 1., 1., ..., 1., 1., 1.],\n",
       "           [1., 1., 1., ..., 1., 1., 1.],\n",
       "           [1., 1., 1., ..., 1., 1., 1.],\n",
       "           [1., 1., 1., ..., 1., 1., 1.]]],\n",
       "\n",
       "\n",
       "         [[[1., 1., 1., ..., 1., 1., 1.],\n",
       "           [1., 1., 1., ..., 1., 1., 1.],\n",
       "           [1., 1., 1., ..., 1., 1., 1.],\n",
       "           [1., 1., 1., ..., 1., 1., 1.],\n",
       "           [1., 1., 1., ..., 1., 1., 1.],\n",
       "           [1., 1., 1., ..., 1., 1., 1.]],\n",
       "\n",
       "          [[1., 1., 1., ..., 1., 1., 1.],\n",
       "           [1., 1., 1., ..., 1., 1., 1.],\n",
       "           [1., 1., 1., ..., 1., 1., 1.],\n",
       "           [1., 1., 1., ..., 1., 1., 1.],\n",
       "           [1., 1., 1., ..., 1., 1., 1.],\n",
       "           [1., 1., 1., ..., 1., 1., 1.]],\n",
       "\n",
       "          [[1., 1., 1., ..., 1., 1., 1.],\n",
       "           [1., 1., 1., ..., 1., 1., 1.],\n",
       "           [1., 1., 1., ..., 1., 1., 1.],\n",
       "           [1., 1., 1., ..., 1., 1., 1.],\n",
       "           [1., 1., 1., ..., 1., 1., 1.],\n",
       "           [1., 1., 1., ..., 1., 1., 1.]],\n",
       "\n",
       "          [[1., 1., 1., ..., 1., 1., 1.],\n",
       "           [1., 1., 1., ..., 1., 1., 1.],\n",
       "           [1., 1., 1., ..., 1., 1., 1.],\n",
       "           [1., 1., 1., ..., 1., 1., 1.],\n",
       "           [1., 1., 1., ..., 1., 1., 1.],\n",
       "           [1., 1., 1., ..., 1., 1., 1.]],\n",
       "\n",
       "          [[1., 1., 1., ..., 1., 1., 1.],\n",
       "           [1., 1., 1., ..., 1., 1., 1.],\n",
       "           [1., 1., 1., ..., 1., 1., 1.],\n",
       "           [1., 1., 1., ..., 1., 1., 1.],\n",
       "           [1., 1., 1., ..., 1., 1., 1.],\n",
       "           [1., 1., 1., ..., 1., 1., 1.]]]],\n",
       "\n",
       "\n",
       "\n",
       "        [[[[1., 1., 1., ..., 1., 1., 1.],\n",
       "           [1., 1., 1., ..., 1., 1., 1.],\n",
       "           [1., 1., 1., ..., 1., 1., 1.],\n",
       "           [1., 1., 1., ..., 1., 1., 1.],\n",
       "           [1., 1., 1., ..., 1., 1., 1.],\n",
       "           [1., 1., 1., ..., 1., 1., 1.]],\n",
       "\n",
       "          [[1., 1., 1., ..., 1., 1., 1.],\n",
       "           [1., 1., 1., ..., 1., 1., 1.],\n",
       "           [1., 1., 1., ..., 1., 1., 1.],\n",
       "           [1., 1., 1., ..., 1., 1., 1.],\n",
       "           [1., 1., 1., ..., 1., 1., 1.],\n",
       "           [1., 1., 1., ..., 1., 1., 1.]],\n",
       "\n",
       "          [[1., 1., 1., ..., 1., 1., 1.],\n",
       "           [1., 1., 1., ..., 1., 1., 1.],\n",
       "           [1., 1., 1., ..., 1., 1., 1.],\n",
       "           [1., 1., 1., ..., 1., 1., 1.],\n",
       "           [1., 1., 1., ..., 1., 1., 1.],\n",
       "           [1., 1., 1., ..., 1., 1., 1.]],\n",
       "\n",
       "          [[1., 1., 1., ..., 1., 1., 1.],\n",
       "           [1., 1., 1., ..., 1., 1., 1.],\n",
       "           [1., 1., 1., ..., 1., 1., 1.],\n",
       "           [1., 1., 1., ..., 1., 1., 1.],\n",
       "           [1., 1., 1., ..., 1., 1., 1.],\n",
       "           [1., 1., 1., ..., 1., 1., 1.]],\n",
       "\n",
       "          [[1., 1., 1., ..., 1., 1., 1.],\n",
       "           [1., 1., 1., ..., 1., 1., 1.],\n",
       "           [1., 1., 1., ..., 1., 1., 1.],\n",
       "           [1., 1., 1., ..., 1., 1., 1.],\n",
       "           [1., 1., 1., ..., 1., 1., 1.],\n",
       "           [1., 1., 1., ..., 1., 1., 1.]]],\n",
       "\n",
       "\n",
       "         [[[1., 1., 1., ..., 1., 1., 1.],\n",
       "           [1., 1., 1., ..., 1., 1., 1.],\n",
       "           [1., 1., 1., ..., 1., 1., 1.],\n",
       "           [1., 1., 1., ..., 1., 1., 1.],\n",
       "           [1., 1., 1., ..., 1., 1., 1.],\n",
       "           [1., 1., 1., ..., 1., 1., 1.]],\n",
       "\n",
       "          [[1., 1., 1., ..., 1., 1., 1.],\n",
       "           [1., 1., 1., ..., 1., 1., 1.],\n",
       "           [1., 1., 1., ..., 1., 1., 1.],\n",
       "           [1., 1., 1., ..., 1., 1., 1.],\n",
       "           [1., 1., 1., ..., 1., 1., 1.],\n",
       "           [1., 1., 1., ..., 1., 1., 1.]],\n",
       "\n",
       "          [[1., 1., 1., ..., 1., 1., 1.],\n",
       "           [1., 1., 1., ..., 1., 1., 1.],\n",
       "           [1., 1., 1., ..., 1., 1., 1.],\n",
       "           [1., 1., 1., ..., 1., 1., 1.],\n",
       "           [1., 1., 1., ..., 1., 1., 1.],\n",
       "           [1., 1., 1., ..., 1., 1., 1.]],\n",
       "\n",
       "          [[1., 1., 1., ..., 1., 1., 1.],\n",
       "           [1., 1., 1., ..., 1., 1., 1.],\n",
       "           [1., 1., 1., ..., 1., 1., 1.],\n",
       "           [1., 1., 1., ..., 1., 1., 1.],\n",
       "           [1., 1., 1., ..., 1., 1., 1.],\n",
       "           [1., 1., 1., ..., 1., 1., 1.]],\n",
       "\n",
       "          [[1., 1., 1., ..., 1., 1., 1.],\n",
       "           [1., 1., 1., ..., 1., 1., 1.],\n",
       "           [1., 1., 1., ..., 1., 1., 1.],\n",
       "           [1., 1., 1., ..., 1., 1., 1.],\n",
       "           [1., 1., 1., ..., 1., 1., 1.],\n",
       "           [1., 1., 1., ..., 1., 1., 1.]]],\n",
       "\n",
       "\n",
       "         [[[1., 1., 1., ..., 1., 1., 1.],\n",
       "           [1., 1., 1., ..., 1., 1., 1.],\n",
       "           [1., 1., 1., ..., 1., 1., 1.],\n",
       "           [1., 1., 1., ..., 1., 1., 1.],\n",
       "           [1., 1., 1., ..., 1., 1., 1.],\n",
       "           [1., 1., 1., ..., 1., 1., 1.]],\n",
       "\n",
       "          [[1., 1., 1., ..., 1., 1., 1.],\n",
       "           [1., 1., 1., ..., 1., 1., 1.],\n",
       "           [1., 1., 1., ..., 1., 1., 1.],\n",
       "           [1., 1., 1., ..., 1., 1., 1.],\n",
       "           [1., 1., 1., ..., 1., 1., 1.],\n",
       "           [1., 1., 1., ..., 1., 1., 1.]],\n",
       "\n",
       "          [[1., 1., 1., ..., 1., 1., 1.],\n",
       "           [1., 1., 1., ..., 1., 1., 1.],\n",
       "           [1., 1., 1., ..., 1., 1., 1.],\n",
       "           [1., 1., 1., ..., 1., 1., 1.],\n",
       "           [1., 1., 1., ..., 1., 1., 1.],\n",
       "           [1., 1., 1., ..., 1., 1., 1.]],\n",
       "\n",
       "          [[1., 1., 1., ..., 1., 1., 1.],\n",
       "           [1., 1., 1., ..., 1., 1., 1.],\n",
       "           [1., 1., 1., ..., 1., 1., 1.],\n",
       "           [1., 1., 1., ..., 1., 1., 1.],\n",
       "           [1., 1., 1., ..., 1., 1., 1.],\n",
       "           [1., 1., 1., ..., 1., 1., 1.]],\n",
       "\n",
       "          [[1., 1., 1., ..., 1., 1., 1.],\n",
       "           [1., 1., 1., ..., 1., 1., 1.],\n",
       "           [1., 1., 1., ..., 1., 1., 1.],\n",
       "           [1., 1., 1., ..., 1., 1., 1.],\n",
       "           [1., 1., 1., ..., 1., 1., 1.],\n",
       "           [1., 1., 1., ..., 1., 1., 1.]]],\n",
       "\n",
       "\n",
       "         [[[1., 1., 1., ..., 1., 1., 1.],\n",
       "           [1., 1., 1., ..., 1., 1., 1.],\n",
       "           [1., 1., 1., ..., 1., 1., 1.],\n",
       "           [1., 1., 1., ..., 1., 1., 1.],\n",
       "           [1., 1., 1., ..., 1., 1., 1.],\n",
       "           [1., 1., 1., ..., 1., 1., 1.]],\n",
       "\n",
       "          [[1., 1., 1., ..., 1., 1., 1.],\n",
       "           [1., 1., 1., ..., 1., 1., 1.],\n",
       "           [1., 1., 1., ..., 1., 1., 1.],\n",
       "           [1., 1., 1., ..., 1., 1., 1.],\n",
       "           [1., 1., 1., ..., 1., 1., 1.],\n",
       "           [1., 1., 1., ..., 1., 1., 1.]],\n",
       "\n",
       "          [[1., 1., 1., ..., 1., 1., 1.],\n",
       "           [1., 1., 1., ..., 1., 1., 1.],\n",
       "           [1., 1., 1., ..., 1., 1., 1.],\n",
       "           [1., 1., 1., ..., 1., 1., 1.],\n",
       "           [1., 1., 1., ..., 1., 1., 1.],\n",
       "           [1., 1., 1., ..., 1., 1., 1.]],\n",
       "\n",
       "          [[1., 1., 1., ..., 1., 1., 1.],\n",
       "           [1., 1., 1., ..., 1., 1., 1.],\n",
       "           [1., 1., 1., ..., 1., 1., 1.],\n",
       "           [1., 1., 1., ..., 1., 1., 1.],\n",
       "           [1., 1., 1., ..., 1., 1., 1.],\n",
       "           [1., 1., 1., ..., 1., 1., 1.]],\n",
       "\n",
       "          [[1., 1., 1., ..., 1., 1., 1.],\n",
       "           [1., 1., 1., ..., 1., 1., 1.],\n",
       "           [1., 1., 1., ..., 1., 1., 1.],\n",
       "           [1., 1., 1., ..., 1., 1., 1.],\n",
       "           [1., 1., 1., ..., 1., 1., 1.],\n",
       "           [1., 1., 1., ..., 1., 1., 1.]]]]],\n",
       "\n",
       "\n",
       "\n",
       "\n",
       "       [[[[[1., 1., 1., ..., 1., 1., 1.],\n",
       "           [1., 1., 1., ..., 1., 1., 1.],\n",
       "           [1., 1., 1., ..., 1., 1., 1.],\n",
       "           [1., 1., 1., ..., 1., 1., 1.],\n",
       "           [1., 1., 1., ..., 1., 1., 1.],\n",
       "           [1., 1., 1., ..., 1., 1., 1.]],\n",
       "\n",
       "          [[1., 1., 1., ..., 1., 1., 1.],\n",
       "           [1., 1., 1., ..., 1., 1., 1.],\n",
       "           [1., 1., 1., ..., 1., 1., 1.],\n",
       "           [1., 1., 1., ..., 1., 1., 1.],\n",
       "           [1., 1., 1., ..., 1., 1., 1.],\n",
       "           [1., 1., 1., ..., 1., 1., 1.]],\n",
       "\n",
       "          [[1., 1., 1., ..., 1., 1., 1.],\n",
       "           [1., 1., 1., ..., 1., 1., 1.],\n",
       "           [1., 1., 1., ..., 1., 1., 1.],\n",
       "           [1., 1., 1., ..., 1., 1., 1.],\n",
       "           [1., 1., 1., ..., 1., 1., 1.],\n",
       "           [1., 1., 1., ..., 1., 1., 1.]],\n",
       "\n",
       "          [[1., 1., 1., ..., 1., 1., 1.],\n",
       "           [1., 1., 1., ..., 1., 1., 1.],\n",
       "           [1., 1., 1., ..., 1., 1., 1.],\n",
       "           [1., 1., 1., ..., 1., 1., 1.],\n",
       "           [1., 1., 1., ..., 1., 1., 1.],\n",
       "           [1., 1., 1., ..., 1., 1., 1.]],\n",
       "\n",
       "          [[1., 1., 1., ..., 1., 1., 1.],\n",
       "           [1., 1., 1., ..., 1., 1., 1.],\n",
       "           [1., 1., 1., ..., 1., 1., 1.],\n",
       "           [1., 1., 1., ..., 1., 1., 1.],\n",
       "           [1., 1., 1., ..., 1., 1., 1.],\n",
       "           [1., 1., 1., ..., 1., 1., 1.]]],\n",
       "\n",
       "\n",
       "         [[[1., 1., 1., ..., 1., 1., 1.],\n",
       "           [1., 1., 1., ..., 1., 1., 1.],\n",
       "           [1., 1., 1., ..., 1., 1., 1.],\n",
       "           [1., 1., 1., ..., 1., 1., 1.],\n",
       "           [1., 1., 1., ..., 1., 1., 1.],\n",
       "           [1., 1., 1., ..., 1., 1., 1.]],\n",
       "\n",
       "          [[1., 1., 1., ..., 1., 1., 1.],\n",
       "           [1., 1., 1., ..., 1., 1., 1.],\n",
       "           [1., 1., 1., ..., 1., 1., 1.],\n",
       "           [1., 1., 1., ..., 1., 1., 1.],\n",
       "           [1., 1., 1., ..., 1., 1., 1.],\n",
       "           [1., 1., 1., ..., 1., 1., 1.]],\n",
       "\n",
       "          [[1., 1., 1., ..., 1., 1., 1.],\n",
       "           [1., 1., 1., ..., 1., 1., 1.],\n",
       "           [1., 1., 1., ..., 1., 1., 1.],\n",
       "           [1., 1., 1., ..., 1., 1., 1.],\n",
       "           [1., 1., 1., ..., 1., 1., 1.],\n",
       "           [1., 1., 1., ..., 1., 1., 1.]],\n",
       "\n",
       "          [[1., 1., 1., ..., 1., 1., 1.],\n",
       "           [1., 1., 1., ..., 1., 1., 1.],\n",
       "           [1., 1., 1., ..., 1., 1., 1.],\n",
       "           [1., 1., 1., ..., 1., 1., 1.],\n",
       "           [1., 1., 1., ..., 1., 1., 1.],\n",
       "           [1., 1., 1., ..., 1., 1., 1.]],\n",
       "\n",
       "          [[1., 1., 1., ..., 1., 1., 1.],\n",
       "           [1., 1., 1., ..., 1., 1., 1.],\n",
       "           [1., 1., 1., ..., 1., 1., 1.],\n",
       "           [1., 1., 1., ..., 1., 1., 1.],\n",
       "           [1., 1., 1., ..., 1., 1., 1.],\n",
       "           [1., 1., 1., ..., 1., 1., 1.]]],\n",
       "\n",
       "\n",
       "         [[[1., 1., 1., ..., 1., 1., 1.],\n",
       "           [1., 1., 1., ..., 1., 1., 1.],\n",
       "           [1., 1., 1., ..., 1., 1., 1.],\n",
       "           [1., 1., 1., ..., 1., 1., 1.],\n",
       "           [1., 1., 1., ..., 1., 1., 1.],\n",
       "           [1., 1., 1., ..., 1., 1., 1.]],\n",
       "\n",
       "          [[1., 1., 1., ..., 1., 1., 1.],\n",
       "           [1., 1., 1., ..., 1., 1., 1.],\n",
       "           [1., 1., 1., ..., 1., 1., 1.],\n",
       "           [1., 1., 1., ..., 1., 1., 1.],\n",
       "           [1., 1., 1., ..., 1., 1., 1.],\n",
       "           [1., 1., 1., ..., 1., 1., 1.]],\n",
       "\n",
       "          [[1., 1., 1., ..., 1., 1., 1.],\n",
       "           [1., 1., 1., ..., 1., 1., 1.],\n",
       "           [1., 1., 1., ..., 1., 1., 1.],\n",
       "           [1., 1., 1., ..., 1., 1., 1.],\n",
       "           [1., 1., 1., ..., 1., 1., 1.],\n",
       "           [1., 1., 1., ..., 1., 1., 1.]],\n",
       "\n",
       "          [[1., 1., 1., ..., 1., 1., 1.],\n",
       "           [1., 1., 1., ..., 1., 1., 1.],\n",
       "           [1., 1., 1., ..., 1., 1., 1.],\n",
       "           [1., 1., 1., ..., 1., 1., 1.],\n",
       "           [1., 1., 1., ..., 1., 1., 1.],\n",
       "           [1., 1., 1., ..., 1., 1., 1.]],\n",
       "\n",
       "          [[1., 1., 1., ..., 1., 1., 1.],\n",
       "           [1., 1., 1., ..., 1., 1., 1.],\n",
       "           [1., 1., 1., ..., 1., 1., 1.],\n",
       "           [1., 1., 1., ..., 1., 1., 1.],\n",
       "           [1., 1., 1., ..., 1., 1., 1.],\n",
       "           [1., 1., 1., ..., 1., 1., 1.]]],\n",
       "\n",
       "\n",
       "         [[[1., 1., 1., ..., 1., 1., 1.],\n",
       "           [1., 1., 1., ..., 1., 1., 1.],\n",
       "           [1., 1., 1., ..., 1., 1., 1.],\n",
       "           [1., 1., 1., ..., 1., 1., 1.],\n",
       "           [1., 1., 1., ..., 1., 1., 1.],\n",
       "           [1., 1., 1., ..., 1., 1., 1.]],\n",
       "\n",
       "          [[1., 1., 1., ..., 1., 1., 1.],\n",
       "           [1., 1., 1., ..., 1., 1., 1.],\n",
       "           [1., 1., 1., ..., 1., 1., 1.],\n",
       "           [1., 1., 1., ..., 1., 1., 1.],\n",
       "           [1., 1., 1., ..., 1., 1., 1.],\n",
       "           [1., 1., 1., ..., 1., 1., 1.]],\n",
       "\n",
       "          [[1., 1., 1., ..., 1., 1., 1.],\n",
       "           [1., 1., 1., ..., 1., 1., 1.],\n",
       "           [1., 1., 1., ..., 1., 1., 1.],\n",
       "           [1., 1., 1., ..., 1., 1., 1.],\n",
       "           [1., 1., 1., ..., 1., 1., 1.],\n",
       "           [1., 1., 1., ..., 1., 1., 1.]],\n",
       "\n",
       "          [[1., 1., 1., ..., 1., 1., 1.],\n",
       "           [1., 1., 1., ..., 1., 1., 1.],\n",
       "           [1., 1., 1., ..., 1., 1., 1.],\n",
       "           [1., 1., 1., ..., 1., 1., 1.],\n",
       "           [1., 1., 1., ..., 1., 1., 1.],\n",
       "           [1., 1., 1., ..., 1., 1., 1.]],\n",
       "\n",
       "          [[1., 1., 1., ..., 1., 1., 1.],\n",
       "           [1., 1., 1., ..., 1., 1., 1.],\n",
       "           [1., 1., 1., ..., 1., 1., 1.],\n",
       "           [1., 1., 1., ..., 1., 1., 1.],\n",
       "           [1., 1., 1., ..., 1., 1., 1.],\n",
       "           [1., 1., 1., ..., 1., 1., 1.]]]],\n",
       "\n",
       "\n",
       "\n",
       "        [[[[1., 1., 1., ..., 1., 1., 1.],\n",
       "           [1., 1., 1., ..., 1., 1., 1.],\n",
       "           [1., 1., 1., ..., 1., 1., 1.],\n",
       "           [1., 1., 1., ..., 1., 1., 1.],\n",
       "           [1., 1., 1., ..., 1., 1., 1.],\n",
       "           [1., 1., 1., ..., 1., 1., 1.]],\n",
       "\n",
       "          [[1., 1., 1., ..., 1., 1., 1.],\n",
       "           [1., 1., 1., ..., 1., 1., 1.],\n",
       "           [1., 1., 1., ..., 1., 1., 1.],\n",
       "           [1., 1., 1., ..., 1., 1., 1.],\n",
       "           [1., 1., 1., ..., 1., 1., 1.],\n",
       "           [1., 1., 1., ..., 1., 1., 1.]],\n",
       "\n",
       "          [[1., 1., 1., ..., 1., 1., 1.],\n",
       "           [1., 1., 1., ..., 1., 1., 1.],\n",
       "           [1., 1., 1., ..., 1., 1., 1.],\n",
       "           [1., 1., 1., ..., 1., 1., 1.],\n",
       "           [1., 1., 1., ..., 1., 1., 1.],\n",
       "           [1., 1., 1., ..., 1., 1., 1.]],\n",
       "\n",
       "          [[1., 1., 1., ..., 1., 1., 1.],\n",
       "           [1., 1., 1., ..., 1., 1., 1.],\n",
       "           [1., 1., 1., ..., 1., 1., 1.],\n",
       "           [1., 1., 1., ..., 1., 1., 1.],\n",
       "           [1., 1., 1., ..., 1., 1., 1.],\n",
       "           [1., 1., 1., ..., 1., 1., 1.]],\n",
       "\n",
       "          [[1., 1., 1., ..., 1., 1., 1.],\n",
       "           [1., 1., 1., ..., 1., 1., 1.],\n",
       "           [1., 1., 1., ..., 1., 1., 1.],\n",
       "           [1., 1., 1., ..., 1., 1., 1.],\n",
       "           [1., 1., 1., ..., 1., 1., 1.],\n",
       "           [1., 1., 1., ..., 1., 1., 1.]]],\n",
       "\n",
       "\n",
       "         [[[1., 1., 1., ..., 1., 1., 1.],\n",
       "           [1., 1., 1., ..., 1., 1., 1.],\n",
       "           [1., 1., 1., ..., 1., 1., 1.],\n",
       "           [1., 1., 1., ..., 1., 1., 1.],\n",
       "           [1., 1., 1., ..., 1., 1., 1.],\n",
       "           [1., 1., 1., ..., 1., 1., 1.]],\n",
       "\n",
       "          [[1., 1., 1., ..., 1., 1., 1.],\n",
       "           [1., 1., 1., ..., 1., 1., 1.],\n",
       "           [1., 1., 1., ..., 1., 1., 1.],\n",
       "           [1., 1., 1., ..., 1., 1., 1.],\n",
       "           [1., 1., 1., ..., 1., 1., 1.],\n",
       "           [1., 1., 1., ..., 1., 1., 1.]],\n",
       "\n",
       "          [[1., 1., 1., ..., 1., 1., 1.],\n",
       "           [1., 1., 1., ..., 1., 1., 1.],\n",
       "           [1., 1., 1., ..., 1., 1., 1.],\n",
       "           [1., 1., 1., ..., 1., 1., 1.],\n",
       "           [1., 1., 1., ..., 1., 1., 1.],\n",
       "           [1., 1., 1., ..., 1., 1., 1.]],\n",
       "\n",
       "          [[1., 1., 1., ..., 1., 1., 1.],\n",
       "           [1., 1., 1., ..., 1., 1., 1.],\n",
       "           [1., 1., 1., ..., 1., 1., 1.],\n",
       "           [1., 1., 1., ..., 1., 1., 1.],\n",
       "           [1., 1., 1., ..., 1., 1., 1.],\n",
       "           [1., 1., 1., ..., 1., 1., 1.]],\n",
       "\n",
       "          [[1., 1., 1., ..., 1., 1., 1.],\n",
       "           [1., 1., 1., ..., 1., 1., 1.],\n",
       "           [1., 1., 1., ..., 1., 1., 1.],\n",
       "           [1., 1., 1., ..., 1., 1., 1.],\n",
       "           [1., 1., 1., ..., 1., 1., 1.],\n",
       "           [1., 1., 1., ..., 1., 1., 1.]]],\n",
       "\n",
       "\n",
       "         [[[1., 1., 1., ..., 1., 1., 1.],\n",
       "           [1., 1., 1., ..., 1., 1., 1.],\n",
       "           [1., 1., 1., ..., 1., 1., 1.],\n",
       "           [1., 1., 1., ..., 1., 1., 1.],\n",
       "           [1., 1., 1., ..., 1., 1., 1.],\n",
       "           [1., 1., 1., ..., 1., 1., 1.]],\n",
       "\n",
       "          [[1., 1., 1., ..., 1., 1., 1.],\n",
       "           [1., 1., 1., ..., 1., 1., 1.],\n",
       "           [1., 1., 1., ..., 1., 1., 1.],\n",
       "           [1., 1., 1., ..., 1., 1., 1.],\n",
       "           [1., 1., 1., ..., 1., 1., 1.],\n",
       "           [1., 1., 1., ..., 1., 1., 1.]],\n",
       "\n",
       "          [[1., 1., 1., ..., 1., 1., 1.],\n",
       "           [1., 1., 1., ..., 1., 1., 1.],\n",
       "           [1., 1., 1., ..., 1., 1., 1.],\n",
       "           [1., 1., 1., ..., 1., 1., 1.],\n",
       "           [1., 1., 1., ..., 1., 1., 1.],\n",
       "           [1., 1., 1., ..., 1., 1., 1.]],\n",
       "\n",
       "          [[1., 1., 1., ..., 1., 1., 1.],\n",
       "           [1., 1., 1., ..., 1., 1., 1.],\n",
       "           [1., 1., 1., ..., 1., 1., 1.],\n",
       "           [1., 1., 1., ..., 1., 1., 1.],\n",
       "           [1., 1., 1., ..., 1., 1., 1.],\n",
       "           [1., 1., 1., ..., 1., 1., 1.]],\n",
       "\n",
       "          [[1., 1., 1., ..., 1., 1., 1.],\n",
       "           [1., 1., 1., ..., 1., 1., 1.],\n",
       "           [1., 1., 1., ..., 1., 1., 1.],\n",
       "           [1., 1., 1., ..., 1., 1., 1.],\n",
       "           [1., 1., 1., ..., 1., 1., 1.],\n",
       "           [1., 1., 1., ..., 1., 1., 1.]]],\n",
       "\n",
       "\n",
       "         [[[1., 1., 1., ..., 1., 1., 1.],\n",
       "           [1., 1., 1., ..., 1., 1., 1.],\n",
       "           [1., 1., 1., ..., 1., 1., 1.],\n",
       "           [1., 1., 1., ..., 1., 1., 1.],\n",
       "           [1., 1., 1., ..., 1., 1., 1.],\n",
       "           [1., 1., 1., ..., 1., 1., 1.]],\n",
       "\n",
       "          [[1., 1., 1., ..., 1., 1., 1.],\n",
       "           [1., 1., 1., ..., 1., 1., 1.],\n",
       "           [1., 1., 1., ..., 1., 1., 1.],\n",
       "           [1., 1., 1., ..., 1., 1., 1.],\n",
       "           [1., 1., 1., ..., 1., 1., 1.],\n",
       "           [1., 1., 1., ..., 1., 1., 1.]],\n",
       "\n",
       "          [[1., 1., 1., ..., 1., 1., 1.],\n",
       "           [1., 1., 1., ..., 1., 1., 1.],\n",
       "           [1., 1., 1., ..., 1., 1., 1.],\n",
       "           [1., 1., 1., ..., 1., 1., 1.],\n",
       "           [1., 1., 1., ..., 1., 1., 1.],\n",
       "           [1., 1., 1., ..., 1., 1., 1.]],\n",
       "\n",
       "          [[1., 1., 1., ..., 1., 1., 1.],\n",
       "           [1., 1., 1., ..., 1., 1., 1.],\n",
       "           [1., 1., 1., ..., 1., 1., 1.],\n",
       "           [1., 1., 1., ..., 1., 1., 1.],\n",
       "           [1., 1., 1., ..., 1., 1., 1.],\n",
       "           [1., 1., 1., ..., 1., 1., 1.]],\n",
       "\n",
       "          [[1., 1., 1., ..., 1., 1., 1.],\n",
       "           [1., 1., 1., ..., 1., 1., 1.],\n",
       "           [1., 1., 1., ..., 1., 1., 1.],\n",
       "           [1., 1., 1., ..., 1., 1., 1.],\n",
       "           [1., 1., 1., ..., 1., 1., 1.],\n",
       "           [1., 1., 1., ..., 1., 1., 1.]]]],\n",
       "\n",
       "\n",
       "\n",
       "        [[[[1., 1., 1., ..., 1., 1., 1.],\n",
       "           [1., 1., 1., ..., 1., 1., 1.],\n",
       "           [1., 1., 1., ..., 1., 1., 1.],\n",
       "           [1., 1., 1., ..., 1., 1., 1.],\n",
       "           [1., 1., 1., ..., 1., 1., 1.],\n",
       "           [1., 1., 1., ..., 1., 1., 1.]],\n",
       "\n",
       "          [[1., 1., 1., ..., 1., 1., 1.],\n",
       "           [1., 1., 1., ..., 1., 1., 1.],\n",
       "           [1., 1., 1., ..., 1., 1., 1.],\n",
       "           [1., 1., 1., ..., 1., 1., 1.],\n",
       "           [1., 1., 1., ..., 1., 1., 1.],\n",
       "           [1., 1., 1., ..., 1., 1., 1.]],\n",
       "\n",
       "          [[1., 1., 1., ..., 1., 1., 1.],\n",
       "           [1., 1., 1., ..., 1., 1., 1.],\n",
       "           [1., 1., 1., ..., 1., 1., 1.],\n",
       "           [1., 1., 1., ..., 1., 1., 1.],\n",
       "           [1., 1., 1., ..., 1., 1., 1.],\n",
       "           [1., 1., 1., ..., 1., 1., 1.]],\n",
       "\n",
       "          [[1., 1., 1., ..., 1., 1., 1.],\n",
       "           [1., 1., 1., ..., 1., 1., 1.],\n",
       "           [1., 1., 1., ..., 1., 1., 1.],\n",
       "           [1., 1., 1., ..., 1., 1., 1.],\n",
       "           [1., 1., 1., ..., 1., 1., 1.],\n",
       "           [1., 1., 1., ..., 1., 1., 1.]],\n",
       "\n",
       "          [[1., 1., 1., ..., 1., 1., 1.],\n",
       "           [1., 1., 1., ..., 1., 1., 1.],\n",
       "           [1., 1., 1., ..., 1., 1., 1.],\n",
       "           [1., 1., 1., ..., 1., 1., 1.],\n",
       "           [1., 1., 1., ..., 1., 1., 1.],\n",
       "           [1., 1., 1., ..., 1., 1., 1.]]],\n",
       "\n",
       "\n",
       "         [[[1., 1., 1., ..., 1., 1., 1.],\n",
       "           [1., 1., 1., ..., 1., 1., 1.],\n",
       "           [1., 1., 1., ..., 1., 1., 1.],\n",
       "           [1., 1., 1., ..., 1., 1., 1.],\n",
       "           [1., 1., 1., ..., 1., 1., 1.],\n",
       "           [1., 1., 1., ..., 1., 1., 1.]],\n",
       "\n",
       "          [[1., 1., 1., ..., 1., 1., 1.],\n",
       "           [1., 1., 1., ..., 1., 1., 1.],\n",
       "           [1., 1., 1., ..., 1., 1., 1.],\n",
       "           [1., 1., 1., ..., 1., 1., 1.],\n",
       "           [1., 1., 1., ..., 1., 1., 1.],\n",
       "           [1., 1., 1., ..., 1., 1., 1.]],\n",
       "\n",
       "          [[1., 1., 1., ..., 1., 1., 1.],\n",
       "           [1., 1., 1., ..., 1., 1., 1.],\n",
       "           [1., 1., 1., ..., 1., 1., 1.],\n",
       "           [1., 1., 1., ..., 1., 1., 1.],\n",
       "           [1., 1., 1., ..., 1., 1., 1.],\n",
       "           [1., 1., 1., ..., 1., 1., 1.]],\n",
       "\n",
       "          [[1., 1., 1., ..., 1., 1., 1.],\n",
       "           [1., 1., 1., ..., 1., 1., 1.],\n",
       "           [1., 1., 1., ..., 1., 1., 1.],\n",
       "           [1., 1., 1., ..., 1., 1., 1.],\n",
       "           [1., 1., 1., ..., 1., 1., 1.],\n",
       "           [1., 1., 1., ..., 1., 1., 1.]],\n",
       "\n",
       "          [[1., 1., 1., ..., 1., 1., 1.],\n",
       "           [1., 1., 1., ..., 1., 1., 1.],\n",
       "           [1., 1., 1., ..., 1., 1., 1.],\n",
       "           [1., 1., 1., ..., 1., 1., 1.],\n",
       "           [1., 1., 1., ..., 1., 1., 1.],\n",
       "           [1., 1., 1., ..., 1., 1., 1.]]],\n",
       "\n",
       "\n",
       "         [[[1., 1., 1., ..., 1., 1., 1.],\n",
       "           [1., 1., 1., ..., 1., 1., 1.],\n",
       "           [1., 1., 1., ..., 1., 1., 1.],\n",
       "           [1., 1., 1., ..., 1., 1., 1.],\n",
       "           [1., 1., 1., ..., 1., 1., 1.],\n",
       "           [1., 1., 1., ..., 1., 1., 1.]],\n",
       "\n",
       "          [[1., 1., 1., ..., 1., 1., 1.],\n",
       "           [1., 1., 1., ..., 1., 1., 1.],\n",
       "           [1., 1., 1., ..., 1., 1., 1.],\n",
       "           [1., 1., 1., ..., 1., 1., 1.],\n",
       "           [1., 1., 1., ..., 1., 1., 1.],\n",
       "           [1., 1., 1., ..., 1., 1., 1.]],\n",
       "\n",
       "          [[1., 1., 1., ..., 1., 1., 1.],\n",
       "           [1., 1., 1., ..., 1., 1., 1.],\n",
       "           [1., 1., 1., ..., 1., 1., 1.],\n",
       "           [1., 1., 1., ..., 1., 1., 1.],\n",
       "           [1., 1., 1., ..., 1., 1., 1.],\n",
       "           [1., 1., 1., ..., 1., 1., 1.]],\n",
       "\n",
       "          [[1., 1., 1., ..., 1., 1., 1.],\n",
       "           [1., 1., 1., ..., 1., 1., 1.],\n",
       "           [1., 1., 1., ..., 1., 1., 1.],\n",
       "           [1., 1., 1., ..., 1., 1., 1.],\n",
       "           [1., 1., 1., ..., 1., 1., 1.],\n",
       "           [1., 1., 1., ..., 1., 1., 1.]],\n",
       "\n",
       "          [[1., 1., 1., ..., 1., 1., 1.],\n",
       "           [1., 1., 1., ..., 1., 1., 1.],\n",
       "           [1., 1., 1., ..., 1., 1., 1.],\n",
       "           [1., 1., 1., ..., 1., 1., 1.],\n",
       "           [1., 1., 1., ..., 1., 1., 1.],\n",
       "           [1., 1., 1., ..., 1., 1., 1.]]],\n",
       "\n",
       "\n",
       "         [[[1., 1., 1., ..., 1., 1., 1.],\n",
       "           [1., 1., 1., ..., 1., 1., 1.],\n",
       "           [1., 1., 1., ..., 1., 1., 1.],\n",
       "           [1., 1., 1., ..., 1., 1., 1.],\n",
       "           [1., 1., 1., ..., 1., 1., 1.],\n",
       "           [1., 1., 1., ..., 1., 1., 1.]],\n",
       "\n",
       "          [[1., 1., 1., ..., 1., 1., 1.],\n",
       "           [1., 1., 1., ..., 1., 1., 1.],\n",
       "           [1., 1., 1., ..., 1., 1., 1.],\n",
       "           [1., 1., 1., ..., 1., 1., 1.],\n",
       "           [1., 1., 1., ..., 1., 1., 1.],\n",
       "           [1., 1., 1., ..., 1., 1., 1.]],\n",
       "\n",
       "          [[1., 1., 1., ..., 1., 1., 1.],\n",
       "           [1., 1., 1., ..., 1., 1., 1.],\n",
       "           [1., 1., 1., ..., 1., 1., 1.],\n",
       "           [1., 1., 1., ..., 1., 1., 1.],\n",
       "           [1., 1., 1., ..., 1., 1., 1.],\n",
       "           [1., 1., 1., ..., 1., 1., 1.]],\n",
       "\n",
       "          [[1., 1., 1., ..., 1., 1., 1.],\n",
       "           [1., 1., 1., ..., 1., 1., 1.],\n",
       "           [1., 1., 1., ..., 1., 1., 1.],\n",
       "           [1., 1., 1., ..., 1., 1., 1.],\n",
       "           [1., 1., 1., ..., 1., 1., 1.],\n",
       "           [1., 1., 1., ..., 1., 1., 1.]],\n",
       "\n",
       "          [[1., 1., 1., ..., 1., 1., 1.],\n",
       "           [1., 1., 1., ..., 1., 1., 1.],\n",
       "           [1., 1., 1., ..., 1., 1., 1.],\n",
       "           [1., 1., 1., ..., 1., 1., 1.],\n",
       "           [1., 1., 1., ..., 1., 1., 1.],\n",
       "           [1., 1., 1., ..., 1., 1., 1.]]]]]], dtype=float16)>"
      ]
     },
     "execution_count": 70,
     "metadata": {},
     "output_type": "execute_result"
    }
   ],
   "source": [
    "# create a rank 6 tensor\n",
    "rank6tensor = tf.ones(shape=[2,3,4,5,6,7], dtype = tf.float16)\n",
    "rank6tensor"
   ]
  },
  {
   "cell_type": "code",
   "execution_count": 71,
   "id": "8e6b2cf9",
   "metadata": {},
   "outputs": [
    {
     "data": {
      "text/plain": [
       "<tf.Tensor: shape=(), dtype=int32, numpy=5040>"
      ]
     },
     "execution_count": 71,
     "metadata": {},
     "output_type": "execute_result"
    }
   ],
   "source": [
    "tf.size(rank6tensor)"
   ]
  },
  {
   "cell_type": "code",
   "execution_count": 73,
   "id": "baa49a43",
   "metadata": {},
   "outputs": [
    {
     "data": {
      "text/plain": [
       "<tf.Tensor: shape=(1, 1, 1, 1, 1, 1), dtype=float16, numpy=array([[[[[[1.]]]]]], dtype=float16)>"
      ]
     },
     "execution_count": 73,
     "metadata": {},
     "output_type": "execute_result"
    }
   ],
   "source": [
    "# pull 1st element from each dims\n",
    "\n",
    "rank6tensor[:1, :1, :1, :1, :1, :1]"
   ]
  },
  {
   "cell_type": "code",
   "execution_count": 74,
   "id": "5ac52c6a",
   "metadata": {
    "scrolled": true
   },
   "outputs": [
    {
     "data": {
      "text/plain": [
       "<tf.Tensor: shape=(2, 2, 2, 2, 2, 2), dtype=float16, numpy=\n",
       "array([[[[[[1., 1.],\n",
       "           [1., 1.]],\n",
       "\n",
       "          [[1., 1.],\n",
       "           [1., 1.]]],\n",
       "\n",
       "\n",
       "         [[[1., 1.],\n",
       "           [1., 1.]],\n",
       "\n",
       "          [[1., 1.],\n",
       "           [1., 1.]]]],\n",
       "\n",
       "\n",
       "\n",
       "        [[[[1., 1.],\n",
       "           [1., 1.]],\n",
       "\n",
       "          [[1., 1.],\n",
       "           [1., 1.]]],\n",
       "\n",
       "\n",
       "         [[[1., 1.],\n",
       "           [1., 1.]],\n",
       "\n",
       "          [[1., 1.],\n",
       "           [1., 1.]]]]],\n",
       "\n",
       "\n",
       "\n",
       "\n",
       "       [[[[[1., 1.],\n",
       "           [1., 1.]],\n",
       "\n",
       "          [[1., 1.],\n",
       "           [1., 1.]]],\n",
       "\n",
       "\n",
       "         [[[1., 1.],\n",
       "           [1., 1.]],\n",
       "\n",
       "          [[1., 1.],\n",
       "           [1., 1.]]]],\n",
       "\n",
       "\n",
       "\n",
       "        [[[[1., 1.],\n",
       "           [1., 1.]],\n",
       "\n",
       "          [[1., 1.],\n",
       "           [1., 1.]]],\n",
       "\n",
       "\n",
       "         [[[1., 1.],\n",
       "           [1., 1.]],\n",
       "\n",
       "          [[1., 1.],\n",
       "           [1., 1.]]]]]], dtype=float16)>"
      ]
     },
     "execution_count": 74,
     "metadata": {},
     "output_type": "execute_result"
    }
   ],
   "source": [
    "# pull 1st 2 element from each dims\n",
    "\n",
    "rank6tensor[:2, :2, :2, :2, :2, :2]"
   ]
  },
  {
   "cell_type": "code",
   "execution_count": 77,
   "id": "af6882d4",
   "metadata": {},
   "outputs": [
    {
     "data": {
      "text/plain": [
       "<tf.Tensor: shape=(1, 1, 1, 1, 6, 1), dtype=float16, numpy=\n",
       "array([[[[[[1.],\n",
       "           [1.],\n",
       "           [1.],\n",
       "           [1.],\n",
       "           [1.],\n",
       "           [1.]]]]]], dtype=float16)>"
      ]
     },
     "execution_count": 77,
     "metadata": {},
     "output_type": "execute_result"
    }
   ],
   "source": [
    "# get 1st element from each dims from each index except the 2nd lastone\n",
    "rank6tensor[:1, :1, :1, :1, :, :1]"
   ]
  },
  {
   "cell_type": "code",
   "execution_count": null,
   "id": "aa39299b",
   "metadata": {},
   "outputs": [],
   "source": []
  }
 ],
 "metadata": {
  "kernelspec": {
   "display_name": "Python 3 (ipykernel)",
   "language": "python",
   "name": "python3"
  },
  "language_info": {
   "codemirror_mode": {
    "name": "ipython",
    "version": 3
   },
   "file_extension": ".py",
   "mimetype": "text/x-python",
   "name": "python",
   "nbconvert_exporter": "python",
   "pygments_lexer": "ipython3",
   "version": "3.10.4"
  }
 },
 "nbformat": 4,
 "nbformat_minor": 5
}
