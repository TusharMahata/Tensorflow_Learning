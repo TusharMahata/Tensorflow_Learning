{
 "cells": [
  {
   "cell_type": "code",
   "execution_count": 1,
   "id": "3e84a041",
   "metadata": {},
   "outputs": [
    {
     "name": "stdout",
     "output_type": "stream",
     "text": [
      "2.12.0\n"
     ]
    }
   ],
   "source": [
    "# fundamental concepts of tensors using tensorflow\n",
    "\n",
    "import tensorflow as tf\n",
    "print(tf.__version__)"
   ]
  },
  {
   "cell_type": "code",
   "execution_count": 2,
   "id": "421a7533",
   "metadata": {},
   "outputs": [
    {
     "data": {
      "text/plain": [
       "<tf.Tensor: shape=(), dtype=int32, numpy=7>"
      ]
     },
     "execution_count": 2,
     "metadata": {},
     "output_type": "execute_result"
    }
   ],
   "source": [
    "# creating tensors\n",
    "\n",
    "scaler = tf.constant(7)\n",
    "scaler"
   ]
  },
  {
   "cell_type": "code",
   "execution_count": 3,
   "id": "fcdd0b0d",
   "metadata": {},
   "outputs": [
    {
     "data": {
      "text/plain": [
       "0"
      ]
     },
     "execution_count": 3,
     "metadata": {},
     "output_type": "execute_result"
    }
   ],
   "source": [
    "# check number of dimensions\n",
    "scaler.ndim"
   ]
  },
  {
   "cell_type": "code",
   "execution_count": 4,
   "id": "ed01da1d",
   "metadata": {},
   "outputs": [
    {
     "data": {
      "text/plain": [
       "<tf.Tensor: shape=(2,), dtype=int32, numpy=array([10, 10])>"
      ]
     },
     "execution_count": 4,
     "metadata": {},
     "output_type": "execute_result"
    }
   ],
   "source": [
    "# creating a vector\n",
    "\n",
    "vector = tf.constant([10, 10])\n",
    "vector"
   ]
  },
  {
   "cell_type": "code",
   "execution_count": 5,
   "id": "ec2b2864",
   "metadata": {},
   "outputs": [
    {
     "data": {
      "text/plain": [
       "1"
      ]
     },
     "execution_count": 5,
     "metadata": {},
     "output_type": "execute_result"
    }
   ],
   "source": [
    "vector.ndim"
   ]
  },
  {
   "cell_type": "code",
   "execution_count": 6,
   "id": "689a073f",
   "metadata": {},
   "outputs": [
    {
     "data": {
      "text/plain": [
       "<tf.Tensor: shape=(2, 2), dtype=int32, numpy=\n",
       "array([[ 1,  2],\n",
       "       [40,  5]])>"
      ]
     },
     "execution_count": 6,
     "metadata": {},
     "output_type": "execute_result"
    }
   ],
   "source": [
    "# create a matrix\n",
    "\n",
    "matrix = tf.constant([[1,2],\n",
    "                    [40, 5]])\n",
    "matrix"
   ]
  },
  {
   "cell_type": "code",
   "execution_count": 7,
   "id": "a8dacb6c",
   "metadata": {},
   "outputs": [
    {
     "data": {
      "text/plain": [
       "2"
      ]
     },
     "execution_count": 7,
     "metadata": {},
     "output_type": "execute_result"
    }
   ],
   "source": [
    "matrix.ndim"
   ]
  },
  {
   "cell_type": "code",
   "execution_count": 9,
   "id": "7edc78de",
   "metadata": {},
   "outputs": [
    {
     "data": {
      "text/plain": [
       "<tf.Tensor: shape=(2, 2, 3), dtype=int32, numpy=\n",
       "array([[[ 1,  2,  3],\n",
       "        [ 4,  5,  6]],\n",
       "\n",
       "       [[ 6,  7,  1],\n",
       "        [ 9, 10,  2]]])>"
      ]
     },
     "execution_count": 9,
     "metadata": {},
     "output_type": "execute_result"
    }
   ],
   "source": [
    "# Creating tensor\n",
    "\n",
    "tensor = tf.constant([[[1, 2, 3],\n",
    "                      [4, 5, 6]],\n",
    "                     [[6, 7, 1],\n",
    "                     [9, 10, 2]]])\n",
    "tensor"
   ]
  },
  {
   "cell_type": "code",
   "execution_count": 10,
   "id": "0a54b7fb",
   "metadata": {},
   "outputs": [
    {
     "data": {
      "text/plain": [
       "3"
      ]
     },
     "execution_count": 10,
     "metadata": {},
     "output_type": "execute_result"
    }
   ],
   "source": [
    "tensor.ndim"
   ]
  },
  {
   "cell_type": "code",
   "execution_count": 16,
   "id": "f9166ee4",
   "metadata": {},
   "outputs": [
    {
     "data": {
      "text/plain": [
       "(<tf.Variable 'Variable:0' shape=(2,) dtype=int32, numpy=array([10,  7])>,)"
      ]
     },
     "execution_count": 16,
     "metadata": {},
     "output_type": "execute_result"
    }
   ],
   "source": [
    "# working with variable\n",
    "changeable_tensor = tf.Variable([10, 7])\n",
    "unchangeable_tensor = tf.constant([10, 7])\n",
    "changeable_tensor,\n"
   ]
  },
  {
   "cell_type": "code",
   "execution_count": 17,
   "id": "447a3c06",
   "metadata": {},
   "outputs": [
    {
     "data": {
      "text/plain": [
       "<tf.Tensor: shape=(2,), dtype=int32, numpy=array([10,  7])>"
      ]
     },
     "execution_count": 17,
     "metadata": {},
     "output_type": "execute_result"
    }
   ],
   "source": [
    "unchangeable_tensor"
   ]
  },
  {
   "cell_type": "code",
   "execution_count": 19,
   "id": "aa380d69",
   "metadata": {},
   "outputs": [
    {
     "data": {
      "text/plain": [
       "<tf.Tensor: shape=(), dtype=int32, numpy=7>"
      ]
     },
     "execution_count": 19,
     "metadata": {},
     "output_type": "execute_result"
    }
   ],
   "source": [
    "# let's try to change a element of changeable_tensor\n",
    "changeable_tensor[1]"
   ]
  },
  {
   "cell_type": "code",
   "execution_count": 20,
   "id": "fad16f39",
   "metadata": {},
   "outputs": [
    {
     "ename": "TypeError",
     "evalue": "'ResourceVariable' object does not support item assignment",
     "output_type": "error",
     "traceback": [
      "\u001b[1;31m---------------------------------------------------------------------------\u001b[0m",
      "\u001b[1;31mTypeError\u001b[0m                                 Traceback (most recent call last)",
      "Cell \u001b[1;32mIn[20], line 1\u001b[0m\n\u001b[1;32m----> 1\u001b[0m \u001b[43mchangeable_tensor\u001b[49m\u001b[43m[\u001b[49m\u001b[38;5;241;43m1\u001b[39;49m\u001b[43m]\u001b[49m \u001b[38;5;241m=\u001b[39m \u001b[38;5;241m10\u001b[39m\n",
      "\u001b[1;31mTypeError\u001b[0m: 'ResourceVariable' object does not support item assignment"
     ]
    }
   ],
   "source": [
    "changeable_tensor[1] = 10"
   ]
  },
  {
   "cell_type": "code",
   "execution_count": 21,
   "id": "78a372f6",
   "metadata": {},
   "outputs": [
    {
     "data": {
      "text/plain": [
       "<tf.Variable 'UnreadVariable' shape=(2,) dtype=int32, numpy=array([10, 10])>"
      ]
     },
     "execution_count": 21,
     "metadata": {},
     "output_type": "execute_result"
    }
   ],
   "source": [
    "changeable_tensor[1].assign(10)"
   ]
  },
  {
   "cell_type": "code",
   "execution_count": 22,
   "id": "856bd028",
   "metadata": {},
   "outputs": [
    {
     "ename": "AttributeError",
     "evalue": "'tensorflow.python.framework.ops.EagerTensor' object has no attribute 'assign'",
     "output_type": "error",
     "traceback": [
      "\u001b[1;31m---------------------------------------------------------------------------\u001b[0m",
      "\u001b[1;31mAttributeError\u001b[0m                            Traceback (most recent call last)",
      "Cell \u001b[1;32mIn[22], line 1\u001b[0m\n\u001b[1;32m----> 1\u001b[0m \u001b[43munchangeable_tensor\u001b[49m\u001b[43m[\u001b[49m\u001b[38;5;241;43m1\u001b[39;49m\u001b[43m]\u001b[49m\u001b[38;5;241;43m.\u001b[39;49m\u001b[43massign\u001b[49m(\u001b[38;5;241m10\u001b[39m)\n",
      "File \u001b[1;32mC:\\Program Files\\Python310\\lib\\site-packages\\tensorflow\\python\\framework\\ops.py:443\u001b[0m, in \u001b[0;36mTensor.__getattr__\u001b[1;34m(self, name)\u001b[0m\n\u001b[0;32m    434\u001b[0m \u001b[38;5;28;01mif\u001b[39;00m name \u001b[38;5;129;01min\u001b[39;00m {\u001b[38;5;124m\"\u001b[39m\u001b[38;5;124mT\u001b[39m\u001b[38;5;124m\"\u001b[39m, \u001b[38;5;124m\"\u001b[39m\u001b[38;5;124mastype\u001b[39m\u001b[38;5;124m\"\u001b[39m, \u001b[38;5;124m\"\u001b[39m\u001b[38;5;124mravel\u001b[39m\u001b[38;5;124m\"\u001b[39m, \u001b[38;5;124m\"\u001b[39m\u001b[38;5;124mtranspose\u001b[39m\u001b[38;5;124m\"\u001b[39m, \u001b[38;5;124m\"\u001b[39m\u001b[38;5;124mreshape\u001b[39m\u001b[38;5;124m\"\u001b[39m, \u001b[38;5;124m\"\u001b[39m\u001b[38;5;124mclip\u001b[39m\u001b[38;5;124m\"\u001b[39m, \u001b[38;5;124m\"\u001b[39m\u001b[38;5;124msize\u001b[39m\u001b[38;5;124m\"\u001b[39m,\n\u001b[0;32m    435\u001b[0m             \u001b[38;5;124m\"\u001b[39m\u001b[38;5;124mtolist\u001b[39m\u001b[38;5;124m\"\u001b[39m, \u001b[38;5;124m\"\u001b[39m\u001b[38;5;124mdata\u001b[39m\u001b[38;5;124m\"\u001b[39m}:\n\u001b[0;32m    436\u001b[0m   \u001b[38;5;66;03m# TODO(wangpeng): Export the enable_numpy_behavior knob\u001b[39;00m\n\u001b[0;32m    437\u001b[0m   \u001b[38;5;28;01mraise\u001b[39;00m \u001b[38;5;167;01mAttributeError\u001b[39;00m(\n\u001b[0;32m    438\u001b[0m       \u001b[38;5;124mf\u001b[39m\u001b[38;5;124m\"\u001b[39m\u001b[38;5;132;01m{\u001b[39;00m\u001b[38;5;28mtype\u001b[39m(\u001b[38;5;28mself\u001b[39m)\u001b[38;5;241m.\u001b[39m\u001b[38;5;18m__name__\u001b[39m\u001b[38;5;132;01m}\u001b[39;00m\u001b[38;5;124m object has no attribute \u001b[39m\u001b[38;5;124m'\u001b[39m\u001b[38;5;132;01m{\u001b[39;00mname\u001b[38;5;132;01m}\u001b[39;00m\u001b[38;5;124m'\u001b[39m\u001b[38;5;124m. \u001b[39m\u001b[38;5;124m\"\u001b[39m \u001b[38;5;241m+\u001b[39m \u001b[38;5;124m\"\"\"\u001b[39m\n\u001b[0;32m    439\u001b[0m \u001b[38;5;124m    If you are looking for numpy-related methods, please run the following:\u001b[39m\n\u001b[0;32m    440\u001b[0m \u001b[38;5;124m    from tensorflow.python.ops.numpy_ops import np_config\u001b[39m\n\u001b[0;32m    441\u001b[0m \u001b[38;5;124m    np_config.enable_numpy_behavior()\u001b[39m\n\u001b[0;32m    442\u001b[0m \u001b[38;5;124m  \u001b[39m\u001b[38;5;124m\"\"\"\u001b[39m)\n\u001b[1;32m--> 443\u001b[0m \u001b[38;5;28;43mself\u001b[39;49m\u001b[38;5;241;43m.\u001b[39;49m\u001b[38;5;21;43m__getattribute__\u001b[39;49m\u001b[43m(\u001b[49m\u001b[43mname\u001b[49m\u001b[43m)\u001b[49m\n",
      "\u001b[1;31mAttributeError\u001b[0m: 'tensorflow.python.framework.ops.EagerTensor' object has no attribute 'assign'"
     ]
    }
   ],
   "source": [
    "unchangeable_tensor[1].assign(10)"
   ]
  },
  {
   "cell_type": "code",
   "execution_count": 23,
   "id": "861be125",
   "metadata": {},
   "outputs": [
    {
     "data": {
      "text/plain": [
       "<tf.Tensor: shape=(2, 2), dtype=float32, numpy=\n",
       "array([[0.5983449 , 0.06276207],\n",
       "       [0.14631742, 0.48481876]], dtype=float32)>"
      ]
     },
     "execution_count": 23,
     "metadata": {},
     "output_type": "execute_result"
    }
   ],
   "source": [
    "# Creating random tensor\n",
    "\n",
    "random_a = tf.random.set_seed(7)\n",
    "random_a = tf.random.normal(shape=[2,2])\n",
    "random_a"
   ]
  },
  {
   "cell_type": "code",
   "execution_count": 24,
   "id": "5eac1e95",
   "metadata": {},
   "outputs": [
    {
     "data": {
      "text/plain": [
       "<tf.Tensor: shape=(2, 2), dtype=float32, numpy=\n",
       "array([[0.5983449 , 0.06276207],\n",
       "       [0.14631742, 0.48481876]], dtype=float32)>"
      ]
     },
     "execution_count": 24,
     "metadata": {},
     "output_type": "execute_result"
    }
   ],
   "source": [
    "# Creating random tensor\n",
    "\n",
    "random_b = tf.random.set_seed(7)\n",
    "random_b = tf.random.normal(shape=[2,2])\n",
    "random_b"
   ]
  },
  {
   "cell_type": "code",
   "execution_count": 26,
   "id": "b429c826",
   "metadata": {},
   "outputs": [
    {
     "data": {
      "text/plain": [
       "<tf.Tensor: shape=(2, 2), dtype=float32, numpy=\n",
       "array([[-1.1012203 ,  1.5457517 ],\n",
       "       [ 0.383644  , -0.87965786]], dtype=float32)>"
      ]
     },
     "execution_count": 26,
     "metadata": {},
     "output_type": "execute_result"
    }
   ],
   "source": [
    "# Creating random tensor\n",
    "\n",
    "random_c = tf.random.set_seed(1)\n",
    "random_c = tf.random.normal(shape=[2,2])\n",
    "random_c\n",
    "# random equality depends on set_seed"
   ]
  },
  {
   "cell_type": "code",
   "execution_count": 28,
   "id": "528bf0c1",
   "metadata": {},
   "outputs": [
    {
     "data": {
      "text/plain": [
       "<tf.Tensor: shape=(3, 3), dtype=int32, numpy=\n",
       "array([[1, 2, 3],\n",
       "       [4, 5, 6],\n",
       "       [7, 8, 9]])>"
      ]
     },
     "execution_count": 28,
     "metadata": {},
     "output_type": "execute_result"
    }
   ],
   "source": [
    "# shuffle a tensor\n",
    "\n",
    "not_shuffled = tf.constant([[1,2,3], [4,5,6], [7,8,9]])\n",
    "not_shuffled"
   ]
  },
  {
   "cell_type": "code",
   "execution_count": 29,
   "id": "34ab685e",
   "metadata": {},
   "outputs": [
    {
     "data": {
      "text/plain": [
       "<tf.Tensor: shape=(3, 3), dtype=int32, numpy=\n",
       "array([[7, 8, 9],\n",
       "       [4, 5, 6],\n",
       "       [1, 2, 3]])>"
      ]
     },
     "execution_count": 29,
     "metadata": {},
     "output_type": "execute_result"
    }
   ],
   "source": [
    "shuffled = tf.random.shuffle(not_shuffled)\n",
    "shuffled"
   ]
  },
  {
   "cell_type": "code",
   "execution_count": 30,
   "id": "aacc0cf9",
   "metadata": {},
   "outputs": [
    {
     "data": {
      "text/plain": [
       "<tf.Tensor: shape=(3, 3), dtype=int32, numpy=\n",
       "array([[7, 8, 9],\n",
       "       [4, 5, 6],\n",
       "       [1, 2, 3]])>"
      ]
     },
     "execution_count": 30,
     "metadata": {},
     "output_type": "execute_result"
    }
   ],
   "source": [
    "shuffled"
   ]
  },
  {
   "cell_type": "code",
   "execution_count": 31,
   "id": "394ea3ca",
   "metadata": {},
   "outputs": [
    {
     "data": {
      "text/plain": [
       "<tf.Tensor: shape=(3, 3), dtype=int32, numpy=\n",
       "array([[1, 2, 3],\n",
       "       [4, 5, 6],\n",
       "       [7, 8, 9]])>"
      ]
     },
     "execution_count": 31,
     "metadata": {},
     "output_type": "execute_result"
    }
   ],
   "source": [
    "shuffled = tf.random.shuffle(not_shuffled)\n",
    "shuffled"
   ]
  },
  {
   "cell_type": "code",
   "execution_count": 35,
   "id": "4fa53920",
   "metadata": {},
   "outputs": [
    {
     "data": {
      "text/plain": [
       "<tf.Tensor: shape=(3, 3), dtype=int32, numpy=\n",
       "array([[4, 5, 6],\n",
       "       [1, 2, 3],\n",
       "       [7, 8, 9]])>"
      ]
     },
     "execution_count": 35,
     "metadata": {},
     "output_type": "execute_result"
    }
   ],
   "source": [
    "shuffled = tf.random.shuffle(not_shuffled)\n",
    "shuffled\n",
    "#every time it changes it's pattern"
   ]
  },
  {
   "cell_type": "code",
   "execution_count": 50,
   "id": "0c6f3a68",
   "metadata": {},
   "outputs": [
    {
     "data": {
      "text/plain": [
       "<tf.Tensor: shape=(3, 3), dtype=int32, numpy=\n",
       "array([[4, 5, 6],\n",
       "       [1, 2, 3],\n",
       "       [7, 8, 9]])>"
      ]
     },
     "execution_count": 50,
     "metadata": {},
     "output_type": "execute_result"
    }
   ],
   "source": [
    "# to fixed pattern\n",
    "tf.random.set_seed(7) # global level seed\n",
    "shuffled = tf.random.shuffle(not_shuffled, seed = 7) # operation level seed\n",
    "shuffled"
   ]
  },
  {
   "cell_type": "code",
   "execution_count": 51,
   "id": "a47b3728",
   "metadata": {},
   "outputs": [
    {
     "data": {
      "text/plain": [
       "<tf.Tensor: shape=(3, 3), dtype=float32, numpy=\n",
       "array([[1., 1., 1.],\n",
       "       [1., 1., 1.],\n",
       "       [1., 1., 1.]], dtype=float32)>"
      ]
     },
     "execution_count": 51,
     "metadata": {},
     "output_type": "execute_result"
    }
   ],
   "source": [
    "# Create a tensor of all 1\n",
    "tf.ones(shape=(3,3))"
   ]
  },
  {
   "cell_type": "code",
   "execution_count": 52,
   "id": "4d1dea6e",
   "metadata": {},
   "outputs": [
    {
     "data": {
      "text/plain": [
       "<tf.Tensor: shape=(5, 4), dtype=float32, numpy=\n",
       "array([[0., 0., 0., 0.],\n",
       "       [0., 0., 0., 0.],\n",
       "       [0., 0., 0., 0.],\n",
       "       [0., 0., 0., 0.],\n",
       "       [0., 0., 0., 0.]], dtype=float32)>"
      ]
     },
     "execution_count": 52,
     "metadata": {},
     "output_type": "execute_result"
    }
   ],
   "source": [
    "tf.zeros(shape=[5,4])"
   ]
  },
  {
   "cell_type": "code",
   "execution_count": 53,
   "id": "9699fac8",
   "metadata": {},
   "outputs": [],
   "source": [
    "import numpy as np\n",
    "numpy_array = np.arange(5, 29)"
   ]
  },
  {
   "cell_type": "code",
   "execution_count": 54,
   "id": "fb820b05",
   "metadata": {},
   "outputs": [
    {
     "data": {
      "text/plain": [
       "array([ 5,  6,  7,  8,  9, 10, 11, 12, 13, 14, 15, 16, 17, 18, 19, 20, 21,\n",
       "       22, 23, 24, 25, 26, 27, 28])"
      ]
     },
     "execution_count": 54,
     "metadata": {},
     "output_type": "execute_result"
    }
   ],
   "source": [
    "numpy_array"
   ]
  },
  {
   "cell_type": "code",
   "execution_count": 56,
   "id": "c56fcb50",
   "metadata": {},
   "outputs": [
    {
     "data": {
      "text/plain": [
       "(24,)"
      ]
     },
     "execution_count": 56,
     "metadata": {},
     "output_type": "execute_result"
    }
   ],
   "source": [
    "numpy_array.shape"
   ]
  },
  {
   "cell_type": "code",
   "execution_count": 57,
   "id": "ae4da82e",
   "metadata": {},
   "outputs": [],
   "source": [
    "# numpy array to tensor\n",
    "tensor = tf.constant(numpy_array)"
   ]
  },
  {
   "cell_type": "code",
   "execution_count": 58,
   "id": "5fc9c0f9",
   "metadata": {},
   "outputs": [
    {
     "data": {
      "text/plain": [
       "<tf.Tensor: shape=(24,), dtype=int32, numpy=\n",
       "array([ 5,  6,  7,  8,  9, 10, 11, 12, 13, 14, 15, 16, 17, 18, 19, 20, 21,\n",
       "       22, 23, 24, 25, 26, 27, 28])>"
      ]
     },
     "execution_count": 58,
     "metadata": {},
     "output_type": "execute_result"
    }
   ],
   "source": [
    "tensor"
   ]
  },
  {
   "cell_type": "code",
   "execution_count": 59,
   "id": "5f2c9772",
   "metadata": {},
   "outputs": [],
   "source": [
    "tensor = tf.constant(numpy_array, shape = (3, 8))"
   ]
  },
  {
   "cell_type": "code",
   "execution_count": 60,
   "id": "1cfbde25",
   "metadata": {},
   "outputs": [
    {
     "data": {
      "text/plain": [
       "<tf.Tensor: shape=(3, 8), dtype=int32, numpy=\n",
       "array([[ 5,  6,  7,  8,  9, 10, 11, 12],\n",
       "       [13, 14, 15, 16, 17, 18, 19, 20],\n",
       "       [21, 22, 23, 24, 25, 26, 27, 28]])>"
      ]
     },
     "execution_count": 60,
     "metadata": {},
     "output_type": "execute_result"
    }
   ],
   "source": [
    "tensor"
   ]
  },
  {
   "cell_type": "code",
   "execution_count": 61,
   "id": "a5494909",
   "metadata": {},
   "outputs": [
    {
     "data": {
      "text/plain": [
       "2"
      ]
     },
     "execution_count": 61,
     "metadata": {},
     "output_type": "execute_result"
    }
   ],
   "source": [
    "tensor.ndim"
   ]
  },
  {
   "cell_type": "code",
   "execution_count": 62,
   "id": "8c314377",
   "metadata": {},
   "outputs": [],
   "source": [
    "tensor2 = tf.constant(numpy_array, shape=(2, 3, 4))"
   ]
  },
  {
   "cell_type": "code",
   "execution_count": 63,
   "id": "4a445581",
   "metadata": {},
   "outputs": [
    {
     "data": {
      "text/plain": [
       "<tf.Tensor: shape=(2, 3, 4), dtype=int32, numpy=\n",
       "array([[[ 5,  6,  7,  8],\n",
       "        [ 9, 10, 11, 12],\n",
       "        [13, 14, 15, 16]],\n",
       "\n",
       "       [[17, 18, 19, 20],\n",
       "        [21, 22, 23, 24],\n",
       "        [25, 26, 27, 28]]])>"
      ]
     },
     "execution_count": 63,
     "metadata": {},
     "output_type": "execute_result"
    }
   ],
   "source": [
    "tensor2"
   ]
  },
  {
   "cell_type": "code",
   "execution_count": 64,
   "id": "612d25d1",
   "metadata": {},
   "outputs": [
    {
     "data": {
      "text/plain": [
       "3"
      ]
     },
     "execution_count": 64,
     "metadata": {},
     "output_type": "execute_result"
    }
   ],
   "source": [
    "tensor2.ndim"
   ]
  },
  {
   "cell_type": "code",
   "execution_count": 65,
   "id": "8798bbb8",
   "metadata": {},
   "outputs": [
    {
     "data": {
      "text/plain": [
       "<tf.Tensor: shape=(), dtype=int32, numpy=24>"
      ]
     },
     "execution_count": 65,
     "metadata": {},
     "output_type": "execute_result"
    }
   ],
   "source": [
    "tf.size(tensor2)"
   ]
  },
  {
   "cell_type": "code",
   "execution_count": 70,
   "id": "06a10738",
   "metadata": {},
   "outputs": [
    {
     "data": {
      "text/plain": [
       "<tf.Tensor: shape=(2, 3, 4, 5, 6, 7), dtype=float16, numpy=\n",
       "array([[[[[[1., 1., 1., ..., 1., 1., 1.],\n",
       "           [1., 1., 1., ..., 1., 1., 1.],\n",
       "           [1., 1., 1., ..., 1., 1., 1.],\n",
       "           [1., 1., 1., ..., 1., 1., 1.],\n",
       "           [1., 1., 1., ..., 1., 1., 1.],\n",
       "           [1., 1., 1., ..., 1., 1., 1.]],\n",
       "\n",
       "          [[1., 1., 1., ..., 1., 1., 1.],\n",
       "           [1., 1., 1., ..., 1., 1., 1.],\n",
       "           [1., 1., 1., ..., 1., 1., 1.],\n",
       "           [1., 1., 1., ..., 1., 1., 1.],\n",
       "           [1., 1., 1., ..., 1., 1., 1.],\n",
       "           [1., 1., 1., ..., 1., 1., 1.]],\n",
       "\n",
       "          [[1., 1., 1., ..., 1., 1., 1.],\n",
       "           [1., 1., 1., ..., 1., 1., 1.],\n",
       "           [1., 1., 1., ..., 1., 1., 1.],\n",
       "           [1., 1., 1., ..., 1., 1., 1.],\n",
       "           [1., 1., 1., ..., 1., 1., 1.],\n",
       "           [1., 1., 1., ..., 1., 1., 1.]],\n",
       "\n",
       "          [[1., 1., 1., ..., 1., 1., 1.],\n",
       "           [1., 1., 1., ..., 1., 1., 1.],\n",
       "           [1., 1., 1., ..., 1., 1., 1.],\n",
       "           [1., 1., 1., ..., 1., 1., 1.],\n",
       "           [1., 1., 1., ..., 1., 1., 1.],\n",
       "           [1., 1., 1., ..., 1., 1., 1.]],\n",
       "\n",
       "          [[1., 1., 1., ..., 1., 1., 1.],\n",
       "           [1., 1., 1., ..., 1., 1., 1.],\n",
       "           [1., 1., 1., ..., 1., 1., 1.],\n",
       "           [1., 1., 1., ..., 1., 1., 1.],\n",
       "           [1., 1., 1., ..., 1., 1., 1.],\n",
       "           [1., 1., 1., ..., 1., 1., 1.]]],\n",
       "\n",
       "\n",
       "         [[[1., 1., 1., ..., 1., 1., 1.],\n",
       "           [1., 1., 1., ..., 1., 1., 1.],\n",
       "           [1., 1., 1., ..., 1., 1., 1.],\n",
       "           [1., 1., 1., ..., 1., 1., 1.],\n",
       "           [1., 1., 1., ..., 1., 1., 1.],\n",
       "           [1., 1., 1., ..., 1., 1., 1.]],\n",
       "\n",
       "          [[1., 1., 1., ..., 1., 1., 1.],\n",
       "           [1., 1., 1., ..., 1., 1., 1.],\n",
       "           [1., 1., 1., ..., 1., 1., 1.],\n",
       "           [1., 1., 1., ..., 1., 1., 1.],\n",
       "           [1., 1., 1., ..., 1., 1., 1.],\n",
       "           [1., 1., 1., ..., 1., 1., 1.]],\n",
       "\n",
       "          [[1., 1., 1., ..., 1., 1., 1.],\n",
       "           [1., 1., 1., ..., 1., 1., 1.],\n",
       "           [1., 1., 1., ..., 1., 1., 1.],\n",
       "           [1., 1., 1., ..., 1., 1., 1.],\n",
       "           [1., 1., 1., ..., 1., 1., 1.],\n",
       "           [1., 1., 1., ..., 1., 1., 1.]],\n",
       "\n",
       "          [[1., 1., 1., ..., 1., 1., 1.],\n",
       "           [1., 1., 1., ..., 1., 1., 1.],\n",
       "           [1., 1., 1., ..., 1., 1., 1.],\n",
       "           [1., 1., 1., ..., 1., 1., 1.],\n",
       "           [1., 1., 1., ..., 1., 1., 1.],\n",
       "           [1., 1., 1., ..., 1., 1., 1.]],\n",
       "\n",
       "          [[1., 1., 1., ..., 1., 1., 1.],\n",
       "           [1., 1., 1., ..., 1., 1., 1.],\n",
       "           [1., 1., 1., ..., 1., 1., 1.],\n",
       "           [1., 1., 1., ..., 1., 1., 1.],\n",
       "           [1., 1., 1., ..., 1., 1., 1.],\n",
       "           [1., 1., 1., ..., 1., 1., 1.]]],\n",
       "\n",
       "\n",
       "         [[[1., 1., 1., ..., 1., 1., 1.],\n",
       "           [1., 1., 1., ..., 1., 1., 1.],\n",
       "           [1., 1., 1., ..., 1., 1., 1.],\n",
       "           [1., 1., 1., ..., 1., 1., 1.],\n",
       "           [1., 1., 1., ..., 1., 1., 1.],\n",
       "           [1., 1., 1., ..., 1., 1., 1.]],\n",
       "\n",
       "          [[1., 1., 1., ..., 1., 1., 1.],\n",
       "           [1., 1., 1., ..., 1., 1., 1.],\n",
       "           [1., 1., 1., ..., 1., 1., 1.],\n",
       "           [1., 1., 1., ..., 1., 1., 1.],\n",
       "           [1., 1., 1., ..., 1., 1., 1.],\n",
       "           [1., 1., 1., ..., 1., 1., 1.]],\n",
       "\n",
       "          [[1., 1., 1., ..., 1., 1., 1.],\n",
       "           [1., 1., 1., ..., 1., 1., 1.],\n",
       "           [1., 1., 1., ..., 1., 1., 1.],\n",
       "           [1., 1., 1., ..., 1., 1., 1.],\n",
       "           [1., 1., 1., ..., 1., 1., 1.],\n",
       "           [1., 1., 1., ..., 1., 1., 1.]],\n",
       "\n",
       "          [[1., 1., 1., ..., 1., 1., 1.],\n",
       "           [1., 1., 1., ..., 1., 1., 1.],\n",
       "           [1., 1., 1., ..., 1., 1., 1.],\n",
       "           [1., 1., 1., ..., 1., 1., 1.],\n",
       "           [1., 1., 1., ..., 1., 1., 1.],\n",
       "           [1., 1., 1., ..., 1., 1., 1.]],\n",
       "\n",
       "          [[1., 1., 1., ..., 1., 1., 1.],\n",
       "           [1., 1., 1., ..., 1., 1., 1.],\n",
       "           [1., 1., 1., ..., 1., 1., 1.],\n",
       "           [1., 1., 1., ..., 1., 1., 1.],\n",
       "           [1., 1., 1., ..., 1., 1., 1.],\n",
       "           [1., 1., 1., ..., 1., 1., 1.]]],\n",
       "\n",
       "\n",
       "         [[[1., 1., 1., ..., 1., 1., 1.],\n",
       "           [1., 1., 1., ..., 1., 1., 1.],\n",
       "           [1., 1., 1., ..., 1., 1., 1.],\n",
       "           [1., 1., 1., ..., 1., 1., 1.],\n",
       "           [1., 1., 1., ..., 1., 1., 1.],\n",
       "           [1., 1., 1., ..., 1., 1., 1.]],\n",
       "\n",
       "          [[1., 1., 1., ..., 1., 1., 1.],\n",
       "           [1., 1., 1., ..., 1., 1., 1.],\n",
       "           [1., 1., 1., ..., 1., 1., 1.],\n",
       "           [1., 1., 1., ..., 1., 1., 1.],\n",
       "           [1., 1., 1., ..., 1., 1., 1.],\n",
       "           [1., 1., 1., ..., 1., 1., 1.]],\n",
       "\n",
       "          [[1., 1., 1., ..., 1., 1., 1.],\n",
       "           [1., 1., 1., ..., 1., 1., 1.],\n",
       "           [1., 1., 1., ..., 1., 1., 1.],\n",
       "           [1., 1., 1., ..., 1., 1., 1.],\n",
       "           [1., 1., 1., ..., 1., 1., 1.],\n",
       "           [1., 1., 1., ..., 1., 1., 1.]],\n",
       "\n",
       "          [[1., 1., 1., ..., 1., 1., 1.],\n",
       "           [1., 1., 1., ..., 1., 1., 1.],\n",
       "           [1., 1., 1., ..., 1., 1., 1.],\n",
       "           [1., 1., 1., ..., 1., 1., 1.],\n",
       "           [1., 1., 1., ..., 1., 1., 1.],\n",
       "           [1., 1., 1., ..., 1., 1., 1.]],\n",
       "\n",
       "          [[1., 1., 1., ..., 1., 1., 1.],\n",
       "           [1., 1., 1., ..., 1., 1., 1.],\n",
       "           [1., 1., 1., ..., 1., 1., 1.],\n",
       "           [1., 1., 1., ..., 1., 1., 1.],\n",
       "           [1., 1., 1., ..., 1., 1., 1.],\n",
       "           [1., 1., 1., ..., 1., 1., 1.]]]],\n",
       "\n",
       "\n",
       "\n",
       "        [[[[1., 1., 1., ..., 1., 1., 1.],\n",
       "           [1., 1., 1., ..., 1., 1., 1.],\n",
       "           [1., 1., 1., ..., 1., 1., 1.],\n",
       "           [1., 1., 1., ..., 1., 1., 1.],\n",
       "           [1., 1., 1., ..., 1., 1., 1.],\n",
       "           [1., 1., 1., ..., 1., 1., 1.]],\n",
       "\n",
       "          [[1., 1., 1., ..., 1., 1., 1.],\n",
       "           [1., 1., 1., ..., 1., 1., 1.],\n",
       "           [1., 1., 1., ..., 1., 1., 1.],\n",
       "           [1., 1., 1., ..., 1., 1., 1.],\n",
       "           [1., 1., 1., ..., 1., 1., 1.],\n",
       "           [1., 1., 1., ..., 1., 1., 1.]],\n",
       "\n",
       "          [[1., 1., 1., ..., 1., 1., 1.],\n",
       "           [1., 1., 1., ..., 1., 1., 1.],\n",
       "           [1., 1., 1., ..., 1., 1., 1.],\n",
       "           [1., 1., 1., ..., 1., 1., 1.],\n",
       "           [1., 1., 1., ..., 1., 1., 1.],\n",
       "           [1., 1., 1., ..., 1., 1., 1.]],\n",
       "\n",
       "          [[1., 1., 1., ..., 1., 1., 1.],\n",
       "           [1., 1., 1., ..., 1., 1., 1.],\n",
       "           [1., 1., 1., ..., 1., 1., 1.],\n",
       "           [1., 1., 1., ..., 1., 1., 1.],\n",
       "           [1., 1., 1., ..., 1., 1., 1.],\n",
       "           [1., 1., 1., ..., 1., 1., 1.]],\n",
       "\n",
       "          [[1., 1., 1., ..., 1., 1., 1.],\n",
       "           [1., 1., 1., ..., 1., 1., 1.],\n",
       "           [1., 1., 1., ..., 1., 1., 1.],\n",
       "           [1., 1., 1., ..., 1., 1., 1.],\n",
       "           [1., 1., 1., ..., 1., 1., 1.],\n",
       "           [1., 1., 1., ..., 1., 1., 1.]]],\n",
       "\n",
       "\n",
       "         [[[1., 1., 1., ..., 1., 1., 1.],\n",
       "           [1., 1., 1., ..., 1., 1., 1.],\n",
       "           [1., 1., 1., ..., 1., 1., 1.],\n",
       "           [1., 1., 1., ..., 1., 1., 1.],\n",
       "           [1., 1., 1., ..., 1., 1., 1.],\n",
       "           [1., 1., 1., ..., 1., 1., 1.]],\n",
       "\n",
       "          [[1., 1., 1., ..., 1., 1., 1.],\n",
       "           [1., 1., 1., ..., 1., 1., 1.],\n",
       "           [1., 1., 1., ..., 1., 1., 1.],\n",
       "           [1., 1., 1., ..., 1., 1., 1.],\n",
       "           [1., 1., 1., ..., 1., 1., 1.],\n",
       "           [1., 1., 1., ..., 1., 1., 1.]],\n",
       "\n",
       "          [[1., 1., 1., ..., 1., 1., 1.],\n",
       "           [1., 1., 1., ..., 1., 1., 1.],\n",
       "           [1., 1., 1., ..., 1., 1., 1.],\n",
       "           [1., 1., 1., ..., 1., 1., 1.],\n",
       "           [1., 1., 1., ..., 1., 1., 1.],\n",
       "           [1., 1., 1., ..., 1., 1., 1.]],\n",
       "\n",
       "          [[1., 1., 1., ..., 1., 1., 1.],\n",
       "           [1., 1., 1., ..., 1., 1., 1.],\n",
       "           [1., 1., 1., ..., 1., 1., 1.],\n",
       "           [1., 1., 1., ..., 1., 1., 1.],\n",
       "           [1., 1., 1., ..., 1., 1., 1.],\n",
       "           [1., 1., 1., ..., 1., 1., 1.]],\n",
       "\n",
       "          [[1., 1., 1., ..., 1., 1., 1.],\n",
       "           [1., 1., 1., ..., 1., 1., 1.],\n",
       "           [1., 1., 1., ..., 1., 1., 1.],\n",
       "           [1., 1., 1., ..., 1., 1., 1.],\n",
       "           [1., 1., 1., ..., 1., 1., 1.],\n",
       "           [1., 1., 1., ..., 1., 1., 1.]]],\n",
       "\n",
       "\n",
       "         [[[1., 1., 1., ..., 1., 1., 1.],\n",
       "           [1., 1., 1., ..., 1., 1., 1.],\n",
       "           [1., 1., 1., ..., 1., 1., 1.],\n",
       "           [1., 1., 1., ..., 1., 1., 1.],\n",
       "           [1., 1., 1., ..., 1., 1., 1.],\n",
       "           [1., 1., 1., ..., 1., 1., 1.]],\n",
       "\n",
       "          [[1., 1., 1., ..., 1., 1., 1.],\n",
       "           [1., 1., 1., ..., 1., 1., 1.],\n",
       "           [1., 1., 1., ..., 1., 1., 1.],\n",
       "           [1., 1., 1., ..., 1., 1., 1.],\n",
       "           [1., 1., 1., ..., 1., 1., 1.],\n",
       "           [1., 1., 1., ..., 1., 1., 1.]],\n",
       "\n",
       "          [[1., 1., 1., ..., 1., 1., 1.],\n",
       "           [1., 1., 1., ..., 1., 1., 1.],\n",
       "           [1., 1., 1., ..., 1., 1., 1.],\n",
       "           [1., 1., 1., ..., 1., 1., 1.],\n",
       "           [1., 1., 1., ..., 1., 1., 1.],\n",
       "           [1., 1., 1., ..., 1., 1., 1.]],\n",
       "\n",
       "          [[1., 1., 1., ..., 1., 1., 1.],\n",
       "           [1., 1., 1., ..., 1., 1., 1.],\n",
       "           [1., 1., 1., ..., 1., 1., 1.],\n",
       "           [1., 1., 1., ..., 1., 1., 1.],\n",
       "           [1., 1., 1., ..., 1., 1., 1.],\n",
       "           [1., 1., 1., ..., 1., 1., 1.]],\n",
       "\n",
       "          [[1., 1., 1., ..., 1., 1., 1.],\n",
       "           [1., 1., 1., ..., 1., 1., 1.],\n",
       "           [1., 1., 1., ..., 1., 1., 1.],\n",
       "           [1., 1., 1., ..., 1., 1., 1.],\n",
       "           [1., 1., 1., ..., 1., 1., 1.],\n",
       "           [1., 1., 1., ..., 1., 1., 1.]]],\n",
       "\n",
       "\n",
       "         [[[1., 1., 1., ..., 1., 1., 1.],\n",
       "           [1., 1., 1., ..., 1., 1., 1.],\n",
       "           [1., 1., 1., ..., 1., 1., 1.],\n",
       "           [1., 1., 1., ..., 1., 1., 1.],\n",
       "           [1., 1., 1., ..., 1., 1., 1.],\n",
       "           [1., 1., 1., ..., 1., 1., 1.]],\n",
       "\n",
       "          [[1., 1., 1., ..., 1., 1., 1.],\n",
       "           [1., 1., 1., ..., 1., 1., 1.],\n",
       "           [1., 1., 1., ..., 1., 1., 1.],\n",
       "           [1., 1., 1., ..., 1., 1., 1.],\n",
       "           [1., 1., 1., ..., 1., 1., 1.],\n",
       "           [1., 1., 1., ..., 1., 1., 1.]],\n",
       "\n",
       "          [[1., 1., 1., ..., 1., 1., 1.],\n",
       "           [1., 1., 1., ..., 1., 1., 1.],\n",
       "           [1., 1., 1., ..., 1., 1., 1.],\n",
       "           [1., 1., 1., ..., 1., 1., 1.],\n",
       "           [1., 1., 1., ..., 1., 1., 1.],\n",
       "           [1., 1., 1., ..., 1., 1., 1.]],\n",
       "\n",
       "          [[1., 1., 1., ..., 1., 1., 1.],\n",
       "           [1., 1., 1., ..., 1., 1., 1.],\n",
       "           [1., 1., 1., ..., 1., 1., 1.],\n",
       "           [1., 1., 1., ..., 1., 1., 1.],\n",
       "           [1., 1., 1., ..., 1., 1., 1.],\n",
       "           [1., 1., 1., ..., 1., 1., 1.]],\n",
       "\n",
       "          [[1., 1., 1., ..., 1., 1., 1.],\n",
       "           [1., 1., 1., ..., 1., 1., 1.],\n",
       "           [1., 1., 1., ..., 1., 1., 1.],\n",
       "           [1., 1., 1., ..., 1., 1., 1.],\n",
       "           [1., 1., 1., ..., 1., 1., 1.],\n",
       "           [1., 1., 1., ..., 1., 1., 1.]]]],\n",
       "\n",
       "\n",
       "\n",
       "        [[[[1., 1., 1., ..., 1., 1., 1.],\n",
       "           [1., 1., 1., ..., 1., 1., 1.],\n",
       "           [1., 1., 1., ..., 1., 1., 1.],\n",
       "           [1., 1., 1., ..., 1., 1., 1.],\n",
       "           [1., 1., 1., ..., 1., 1., 1.],\n",
       "           [1., 1., 1., ..., 1., 1., 1.]],\n",
       "\n",
       "          [[1., 1., 1., ..., 1., 1., 1.],\n",
       "           [1., 1., 1., ..., 1., 1., 1.],\n",
       "           [1., 1., 1., ..., 1., 1., 1.],\n",
       "           [1., 1., 1., ..., 1., 1., 1.],\n",
       "           [1., 1., 1., ..., 1., 1., 1.],\n",
       "           [1., 1., 1., ..., 1., 1., 1.]],\n",
       "\n",
       "          [[1., 1., 1., ..., 1., 1., 1.],\n",
       "           [1., 1., 1., ..., 1., 1., 1.],\n",
       "           [1., 1., 1., ..., 1., 1., 1.],\n",
       "           [1., 1., 1., ..., 1., 1., 1.],\n",
       "           [1., 1., 1., ..., 1., 1., 1.],\n",
       "           [1., 1., 1., ..., 1., 1., 1.]],\n",
       "\n",
       "          [[1., 1., 1., ..., 1., 1., 1.],\n",
       "           [1., 1., 1., ..., 1., 1., 1.],\n",
       "           [1., 1., 1., ..., 1., 1., 1.],\n",
       "           [1., 1., 1., ..., 1., 1., 1.],\n",
       "           [1., 1., 1., ..., 1., 1., 1.],\n",
       "           [1., 1., 1., ..., 1., 1., 1.]],\n",
       "\n",
       "          [[1., 1., 1., ..., 1., 1., 1.],\n",
       "           [1., 1., 1., ..., 1., 1., 1.],\n",
       "           [1., 1., 1., ..., 1., 1., 1.],\n",
       "           [1., 1., 1., ..., 1., 1., 1.],\n",
       "           [1., 1., 1., ..., 1., 1., 1.],\n",
       "           [1., 1., 1., ..., 1., 1., 1.]]],\n",
       "\n",
       "\n",
       "         [[[1., 1., 1., ..., 1., 1., 1.],\n",
       "           [1., 1., 1., ..., 1., 1., 1.],\n",
       "           [1., 1., 1., ..., 1., 1., 1.],\n",
       "           [1., 1., 1., ..., 1., 1., 1.],\n",
       "           [1., 1., 1., ..., 1., 1., 1.],\n",
       "           [1., 1., 1., ..., 1., 1., 1.]],\n",
       "\n",
       "          [[1., 1., 1., ..., 1., 1., 1.],\n",
       "           [1., 1., 1., ..., 1., 1., 1.],\n",
       "           [1., 1., 1., ..., 1., 1., 1.],\n",
       "           [1., 1., 1., ..., 1., 1., 1.],\n",
       "           [1., 1., 1., ..., 1., 1., 1.],\n",
       "           [1., 1., 1., ..., 1., 1., 1.]],\n",
       "\n",
       "          [[1., 1., 1., ..., 1., 1., 1.],\n",
       "           [1., 1., 1., ..., 1., 1., 1.],\n",
       "           [1., 1., 1., ..., 1., 1., 1.],\n",
       "           [1., 1., 1., ..., 1., 1., 1.],\n",
       "           [1., 1., 1., ..., 1., 1., 1.],\n",
       "           [1., 1., 1., ..., 1., 1., 1.]],\n",
       "\n",
       "          [[1., 1., 1., ..., 1., 1., 1.],\n",
       "           [1., 1., 1., ..., 1., 1., 1.],\n",
       "           [1., 1., 1., ..., 1., 1., 1.],\n",
       "           [1., 1., 1., ..., 1., 1., 1.],\n",
       "           [1., 1., 1., ..., 1., 1., 1.],\n",
       "           [1., 1., 1., ..., 1., 1., 1.]],\n",
       "\n",
       "          [[1., 1., 1., ..., 1., 1., 1.],\n",
       "           [1., 1., 1., ..., 1., 1., 1.],\n",
       "           [1., 1., 1., ..., 1., 1., 1.],\n",
       "           [1., 1., 1., ..., 1., 1., 1.],\n",
       "           [1., 1., 1., ..., 1., 1., 1.],\n",
       "           [1., 1., 1., ..., 1., 1., 1.]]],\n",
       "\n",
       "\n",
       "         [[[1., 1., 1., ..., 1., 1., 1.],\n",
       "           [1., 1., 1., ..., 1., 1., 1.],\n",
       "           [1., 1., 1., ..., 1., 1., 1.],\n",
       "           [1., 1., 1., ..., 1., 1., 1.],\n",
       "           [1., 1., 1., ..., 1., 1., 1.],\n",
       "           [1., 1., 1., ..., 1., 1., 1.]],\n",
       "\n",
       "          [[1., 1., 1., ..., 1., 1., 1.],\n",
       "           [1., 1., 1., ..., 1., 1., 1.],\n",
       "           [1., 1., 1., ..., 1., 1., 1.],\n",
       "           [1., 1., 1., ..., 1., 1., 1.],\n",
       "           [1., 1., 1., ..., 1., 1., 1.],\n",
       "           [1., 1., 1., ..., 1., 1., 1.]],\n",
       "\n",
       "          [[1., 1., 1., ..., 1., 1., 1.],\n",
       "           [1., 1., 1., ..., 1., 1., 1.],\n",
       "           [1., 1., 1., ..., 1., 1., 1.],\n",
       "           [1., 1., 1., ..., 1., 1., 1.],\n",
       "           [1., 1., 1., ..., 1., 1., 1.],\n",
       "           [1., 1., 1., ..., 1., 1., 1.]],\n",
       "\n",
       "          [[1., 1., 1., ..., 1., 1., 1.],\n",
       "           [1., 1., 1., ..., 1., 1., 1.],\n",
       "           [1., 1., 1., ..., 1., 1., 1.],\n",
       "           [1., 1., 1., ..., 1., 1., 1.],\n",
       "           [1., 1., 1., ..., 1., 1., 1.],\n",
       "           [1., 1., 1., ..., 1., 1., 1.]],\n",
       "\n",
       "          [[1., 1., 1., ..., 1., 1., 1.],\n",
       "           [1., 1., 1., ..., 1., 1., 1.],\n",
       "           [1., 1., 1., ..., 1., 1., 1.],\n",
       "           [1., 1., 1., ..., 1., 1., 1.],\n",
       "           [1., 1., 1., ..., 1., 1., 1.],\n",
       "           [1., 1., 1., ..., 1., 1., 1.]]],\n",
       "\n",
       "\n",
       "         [[[1., 1., 1., ..., 1., 1., 1.],\n",
       "           [1., 1., 1., ..., 1., 1., 1.],\n",
       "           [1., 1., 1., ..., 1., 1., 1.],\n",
       "           [1., 1., 1., ..., 1., 1., 1.],\n",
       "           [1., 1., 1., ..., 1., 1., 1.],\n",
       "           [1., 1., 1., ..., 1., 1., 1.]],\n",
       "\n",
       "          [[1., 1., 1., ..., 1., 1., 1.],\n",
       "           [1., 1., 1., ..., 1., 1., 1.],\n",
       "           [1., 1., 1., ..., 1., 1., 1.],\n",
       "           [1., 1., 1., ..., 1., 1., 1.],\n",
       "           [1., 1., 1., ..., 1., 1., 1.],\n",
       "           [1., 1., 1., ..., 1., 1., 1.]],\n",
       "\n",
       "          [[1., 1., 1., ..., 1., 1., 1.],\n",
       "           [1., 1., 1., ..., 1., 1., 1.],\n",
       "           [1., 1., 1., ..., 1., 1., 1.],\n",
       "           [1., 1., 1., ..., 1., 1., 1.],\n",
       "           [1., 1., 1., ..., 1., 1., 1.],\n",
       "           [1., 1., 1., ..., 1., 1., 1.]],\n",
       "\n",
       "          [[1., 1., 1., ..., 1., 1., 1.],\n",
       "           [1., 1., 1., ..., 1., 1., 1.],\n",
       "           [1., 1., 1., ..., 1., 1., 1.],\n",
       "           [1., 1., 1., ..., 1., 1., 1.],\n",
       "           [1., 1., 1., ..., 1., 1., 1.],\n",
       "           [1., 1., 1., ..., 1., 1., 1.]],\n",
       "\n",
       "          [[1., 1., 1., ..., 1., 1., 1.],\n",
       "           [1., 1., 1., ..., 1., 1., 1.],\n",
       "           [1., 1., 1., ..., 1., 1., 1.],\n",
       "           [1., 1., 1., ..., 1., 1., 1.],\n",
       "           [1., 1., 1., ..., 1., 1., 1.],\n",
       "           [1., 1., 1., ..., 1., 1., 1.]]]]],\n",
       "\n",
       "\n",
       "\n",
       "\n",
       "       [[[[[1., 1., 1., ..., 1., 1., 1.],\n",
       "           [1., 1., 1., ..., 1., 1., 1.],\n",
       "           [1., 1., 1., ..., 1., 1., 1.],\n",
       "           [1., 1., 1., ..., 1., 1., 1.],\n",
       "           [1., 1., 1., ..., 1., 1., 1.],\n",
       "           [1., 1., 1., ..., 1., 1., 1.]],\n",
       "\n",
       "          [[1., 1., 1., ..., 1., 1., 1.],\n",
       "           [1., 1., 1., ..., 1., 1., 1.],\n",
       "           [1., 1., 1., ..., 1., 1., 1.],\n",
       "           [1., 1., 1., ..., 1., 1., 1.],\n",
       "           [1., 1., 1., ..., 1., 1., 1.],\n",
       "           [1., 1., 1., ..., 1., 1., 1.]],\n",
       "\n",
       "          [[1., 1., 1., ..., 1., 1., 1.],\n",
       "           [1., 1., 1., ..., 1., 1., 1.],\n",
       "           [1., 1., 1., ..., 1., 1., 1.],\n",
       "           [1., 1., 1., ..., 1., 1., 1.],\n",
       "           [1., 1., 1., ..., 1., 1., 1.],\n",
       "           [1., 1., 1., ..., 1., 1., 1.]],\n",
       "\n",
       "          [[1., 1., 1., ..., 1., 1., 1.],\n",
       "           [1., 1., 1., ..., 1., 1., 1.],\n",
       "           [1., 1., 1., ..., 1., 1., 1.],\n",
       "           [1., 1., 1., ..., 1., 1., 1.],\n",
       "           [1., 1., 1., ..., 1., 1., 1.],\n",
       "           [1., 1., 1., ..., 1., 1., 1.]],\n",
       "\n",
       "          [[1., 1., 1., ..., 1., 1., 1.],\n",
       "           [1., 1., 1., ..., 1., 1., 1.],\n",
       "           [1., 1., 1., ..., 1., 1., 1.],\n",
       "           [1., 1., 1., ..., 1., 1., 1.],\n",
       "           [1., 1., 1., ..., 1., 1., 1.],\n",
       "           [1., 1., 1., ..., 1., 1., 1.]]],\n",
       "\n",
       "\n",
       "         [[[1., 1., 1., ..., 1., 1., 1.],\n",
       "           [1., 1., 1., ..., 1., 1., 1.],\n",
       "           [1., 1., 1., ..., 1., 1., 1.],\n",
       "           [1., 1., 1., ..., 1., 1., 1.],\n",
       "           [1., 1., 1., ..., 1., 1., 1.],\n",
       "           [1., 1., 1., ..., 1., 1., 1.]],\n",
       "\n",
       "          [[1., 1., 1., ..., 1., 1., 1.],\n",
       "           [1., 1., 1., ..., 1., 1., 1.],\n",
       "           [1., 1., 1., ..., 1., 1., 1.],\n",
       "           [1., 1., 1., ..., 1., 1., 1.],\n",
       "           [1., 1., 1., ..., 1., 1., 1.],\n",
       "           [1., 1., 1., ..., 1., 1., 1.]],\n",
       "\n",
       "          [[1., 1., 1., ..., 1., 1., 1.],\n",
       "           [1., 1., 1., ..., 1., 1., 1.],\n",
       "           [1., 1., 1., ..., 1., 1., 1.],\n",
       "           [1., 1., 1., ..., 1., 1., 1.],\n",
       "           [1., 1., 1., ..., 1., 1., 1.],\n",
       "           [1., 1., 1., ..., 1., 1., 1.]],\n",
       "\n",
       "          [[1., 1., 1., ..., 1., 1., 1.],\n",
       "           [1., 1., 1., ..., 1., 1., 1.],\n",
       "           [1., 1., 1., ..., 1., 1., 1.],\n",
       "           [1., 1., 1., ..., 1., 1., 1.],\n",
       "           [1., 1., 1., ..., 1., 1., 1.],\n",
       "           [1., 1., 1., ..., 1., 1., 1.]],\n",
       "\n",
       "          [[1., 1., 1., ..., 1., 1., 1.],\n",
       "           [1., 1., 1., ..., 1., 1., 1.],\n",
       "           [1., 1., 1., ..., 1., 1., 1.],\n",
       "           [1., 1., 1., ..., 1., 1., 1.],\n",
       "           [1., 1., 1., ..., 1., 1., 1.],\n",
       "           [1., 1., 1., ..., 1., 1., 1.]]],\n",
       "\n",
       "\n",
       "         [[[1., 1., 1., ..., 1., 1., 1.],\n",
       "           [1., 1., 1., ..., 1., 1., 1.],\n",
       "           [1., 1., 1., ..., 1., 1., 1.],\n",
       "           [1., 1., 1., ..., 1., 1., 1.],\n",
       "           [1., 1., 1., ..., 1., 1., 1.],\n",
       "           [1., 1., 1., ..., 1., 1., 1.]],\n",
       "\n",
       "          [[1., 1., 1., ..., 1., 1., 1.],\n",
       "           [1., 1., 1., ..., 1., 1., 1.],\n",
       "           [1., 1., 1., ..., 1., 1., 1.],\n",
       "           [1., 1., 1., ..., 1., 1., 1.],\n",
       "           [1., 1., 1., ..., 1., 1., 1.],\n",
       "           [1., 1., 1., ..., 1., 1., 1.]],\n",
       "\n",
       "          [[1., 1., 1., ..., 1., 1., 1.],\n",
       "           [1., 1., 1., ..., 1., 1., 1.],\n",
       "           [1., 1., 1., ..., 1., 1., 1.],\n",
       "           [1., 1., 1., ..., 1., 1., 1.],\n",
       "           [1., 1., 1., ..., 1., 1., 1.],\n",
       "           [1., 1., 1., ..., 1., 1., 1.]],\n",
       "\n",
       "          [[1., 1., 1., ..., 1., 1., 1.],\n",
       "           [1., 1., 1., ..., 1., 1., 1.],\n",
       "           [1., 1., 1., ..., 1., 1., 1.],\n",
       "           [1., 1., 1., ..., 1., 1., 1.],\n",
       "           [1., 1., 1., ..., 1., 1., 1.],\n",
       "           [1., 1., 1., ..., 1., 1., 1.]],\n",
       "\n",
       "          [[1., 1., 1., ..., 1., 1., 1.],\n",
       "           [1., 1., 1., ..., 1., 1., 1.],\n",
       "           [1., 1., 1., ..., 1., 1., 1.],\n",
       "           [1., 1., 1., ..., 1., 1., 1.],\n",
       "           [1., 1., 1., ..., 1., 1., 1.],\n",
       "           [1., 1., 1., ..., 1., 1., 1.]]],\n",
       "\n",
       "\n",
       "         [[[1., 1., 1., ..., 1., 1., 1.],\n",
       "           [1., 1., 1., ..., 1., 1., 1.],\n",
       "           [1., 1., 1., ..., 1., 1., 1.],\n",
       "           [1., 1., 1., ..., 1., 1., 1.],\n",
       "           [1., 1., 1., ..., 1., 1., 1.],\n",
       "           [1., 1., 1., ..., 1., 1., 1.]],\n",
       "\n",
       "          [[1., 1., 1., ..., 1., 1., 1.],\n",
       "           [1., 1., 1., ..., 1., 1., 1.],\n",
       "           [1., 1., 1., ..., 1., 1., 1.],\n",
       "           [1., 1., 1., ..., 1., 1., 1.],\n",
       "           [1., 1., 1., ..., 1., 1., 1.],\n",
       "           [1., 1., 1., ..., 1., 1., 1.]],\n",
       "\n",
       "          [[1., 1., 1., ..., 1., 1., 1.],\n",
       "           [1., 1., 1., ..., 1., 1., 1.],\n",
       "           [1., 1., 1., ..., 1., 1., 1.],\n",
       "           [1., 1., 1., ..., 1., 1., 1.],\n",
       "           [1., 1., 1., ..., 1., 1., 1.],\n",
       "           [1., 1., 1., ..., 1., 1., 1.]],\n",
       "\n",
       "          [[1., 1., 1., ..., 1., 1., 1.],\n",
       "           [1., 1., 1., ..., 1., 1., 1.],\n",
       "           [1., 1., 1., ..., 1., 1., 1.],\n",
       "           [1., 1., 1., ..., 1., 1., 1.],\n",
       "           [1., 1., 1., ..., 1., 1., 1.],\n",
       "           [1., 1., 1., ..., 1., 1., 1.]],\n",
       "\n",
       "          [[1., 1., 1., ..., 1., 1., 1.],\n",
       "           [1., 1., 1., ..., 1., 1., 1.],\n",
       "           [1., 1., 1., ..., 1., 1., 1.],\n",
       "           [1., 1., 1., ..., 1., 1., 1.],\n",
       "           [1., 1., 1., ..., 1., 1., 1.],\n",
       "           [1., 1., 1., ..., 1., 1., 1.]]]],\n",
       "\n",
       "\n",
       "\n",
       "        [[[[1., 1., 1., ..., 1., 1., 1.],\n",
       "           [1., 1., 1., ..., 1., 1., 1.],\n",
       "           [1., 1., 1., ..., 1., 1., 1.],\n",
       "           [1., 1., 1., ..., 1., 1., 1.],\n",
       "           [1., 1., 1., ..., 1., 1., 1.],\n",
       "           [1., 1., 1., ..., 1., 1., 1.]],\n",
       "\n",
       "          [[1., 1., 1., ..., 1., 1., 1.],\n",
       "           [1., 1., 1., ..., 1., 1., 1.],\n",
       "           [1., 1., 1., ..., 1., 1., 1.],\n",
       "           [1., 1., 1., ..., 1., 1., 1.],\n",
       "           [1., 1., 1., ..., 1., 1., 1.],\n",
       "           [1., 1., 1., ..., 1., 1., 1.]],\n",
       "\n",
       "          [[1., 1., 1., ..., 1., 1., 1.],\n",
       "           [1., 1., 1., ..., 1., 1., 1.],\n",
       "           [1., 1., 1., ..., 1., 1., 1.],\n",
       "           [1., 1., 1., ..., 1., 1., 1.],\n",
       "           [1., 1., 1., ..., 1., 1., 1.],\n",
       "           [1., 1., 1., ..., 1., 1., 1.]],\n",
       "\n",
       "          [[1., 1., 1., ..., 1., 1., 1.],\n",
       "           [1., 1., 1., ..., 1., 1., 1.],\n",
       "           [1., 1., 1., ..., 1., 1., 1.],\n",
       "           [1., 1., 1., ..., 1., 1., 1.],\n",
       "           [1., 1., 1., ..., 1., 1., 1.],\n",
       "           [1., 1., 1., ..., 1., 1., 1.]],\n",
       "\n",
       "          [[1., 1., 1., ..., 1., 1., 1.],\n",
       "           [1., 1., 1., ..., 1., 1., 1.],\n",
       "           [1., 1., 1., ..., 1., 1., 1.],\n",
       "           [1., 1., 1., ..., 1., 1., 1.],\n",
       "           [1., 1., 1., ..., 1., 1., 1.],\n",
       "           [1., 1., 1., ..., 1., 1., 1.]]],\n",
       "\n",
       "\n",
       "         [[[1., 1., 1., ..., 1., 1., 1.],\n",
       "           [1., 1., 1., ..., 1., 1., 1.],\n",
       "           [1., 1., 1., ..., 1., 1., 1.],\n",
       "           [1., 1., 1., ..., 1., 1., 1.],\n",
       "           [1., 1., 1., ..., 1., 1., 1.],\n",
       "           [1., 1., 1., ..., 1., 1., 1.]],\n",
       "\n",
       "          [[1., 1., 1., ..., 1., 1., 1.],\n",
       "           [1., 1., 1., ..., 1., 1., 1.],\n",
       "           [1., 1., 1., ..., 1., 1., 1.],\n",
       "           [1., 1., 1., ..., 1., 1., 1.],\n",
       "           [1., 1., 1., ..., 1., 1., 1.],\n",
       "           [1., 1., 1., ..., 1., 1., 1.]],\n",
       "\n",
       "          [[1., 1., 1., ..., 1., 1., 1.],\n",
       "           [1., 1., 1., ..., 1., 1., 1.],\n",
       "           [1., 1., 1., ..., 1., 1., 1.],\n",
       "           [1., 1., 1., ..., 1., 1., 1.],\n",
       "           [1., 1., 1., ..., 1., 1., 1.],\n",
       "           [1., 1., 1., ..., 1., 1., 1.]],\n",
       "\n",
       "          [[1., 1., 1., ..., 1., 1., 1.],\n",
       "           [1., 1., 1., ..., 1., 1., 1.],\n",
       "           [1., 1., 1., ..., 1., 1., 1.],\n",
       "           [1., 1., 1., ..., 1., 1., 1.],\n",
       "           [1., 1., 1., ..., 1., 1., 1.],\n",
       "           [1., 1., 1., ..., 1., 1., 1.]],\n",
       "\n",
       "          [[1., 1., 1., ..., 1., 1., 1.],\n",
       "           [1., 1., 1., ..., 1., 1., 1.],\n",
       "           [1., 1., 1., ..., 1., 1., 1.],\n",
       "           [1., 1., 1., ..., 1., 1., 1.],\n",
       "           [1., 1., 1., ..., 1., 1., 1.],\n",
       "           [1., 1., 1., ..., 1., 1., 1.]]],\n",
       "\n",
       "\n",
       "         [[[1., 1., 1., ..., 1., 1., 1.],\n",
       "           [1., 1., 1., ..., 1., 1., 1.],\n",
       "           [1., 1., 1., ..., 1., 1., 1.],\n",
       "           [1., 1., 1., ..., 1., 1., 1.],\n",
       "           [1., 1., 1., ..., 1., 1., 1.],\n",
       "           [1., 1., 1., ..., 1., 1., 1.]],\n",
       "\n",
       "          [[1., 1., 1., ..., 1., 1., 1.],\n",
       "           [1., 1., 1., ..., 1., 1., 1.],\n",
       "           [1., 1., 1., ..., 1., 1., 1.],\n",
       "           [1., 1., 1., ..., 1., 1., 1.],\n",
       "           [1., 1., 1., ..., 1., 1., 1.],\n",
       "           [1., 1., 1., ..., 1., 1., 1.]],\n",
       "\n",
       "          [[1., 1., 1., ..., 1., 1., 1.],\n",
       "           [1., 1., 1., ..., 1., 1., 1.],\n",
       "           [1., 1., 1., ..., 1., 1., 1.],\n",
       "           [1., 1., 1., ..., 1., 1., 1.],\n",
       "           [1., 1., 1., ..., 1., 1., 1.],\n",
       "           [1., 1., 1., ..., 1., 1., 1.]],\n",
       "\n",
       "          [[1., 1., 1., ..., 1., 1., 1.],\n",
       "           [1., 1., 1., ..., 1., 1., 1.],\n",
       "           [1., 1., 1., ..., 1., 1., 1.],\n",
       "           [1., 1., 1., ..., 1., 1., 1.],\n",
       "           [1., 1., 1., ..., 1., 1., 1.],\n",
       "           [1., 1., 1., ..., 1., 1., 1.]],\n",
       "\n",
       "          [[1., 1., 1., ..., 1., 1., 1.],\n",
       "           [1., 1., 1., ..., 1., 1., 1.],\n",
       "           [1., 1., 1., ..., 1., 1., 1.],\n",
       "           [1., 1., 1., ..., 1., 1., 1.],\n",
       "           [1., 1., 1., ..., 1., 1., 1.],\n",
       "           [1., 1., 1., ..., 1., 1., 1.]]],\n",
       "\n",
       "\n",
       "         [[[1., 1., 1., ..., 1., 1., 1.],\n",
       "           [1., 1., 1., ..., 1., 1., 1.],\n",
       "           [1., 1., 1., ..., 1., 1., 1.],\n",
       "           [1., 1., 1., ..., 1., 1., 1.],\n",
       "           [1., 1., 1., ..., 1., 1., 1.],\n",
       "           [1., 1., 1., ..., 1., 1., 1.]],\n",
       "\n",
       "          [[1., 1., 1., ..., 1., 1., 1.],\n",
       "           [1., 1., 1., ..., 1., 1., 1.],\n",
       "           [1., 1., 1., ..., 1., 1., 1.],\n",
       "           [1., 1., 1., ..., 1., 1., 1.],\n",
       "           [1., 1., 1., ..., 1., 1., 1.],\n",
       "           [1., 1., 1., ..., 1., 1., 1.]],\n",
       "\n",
       "          [[1., 1., 1., ..., 1., 1., 1.],\n",
       "           [1., 1., 1., ..., 1., 1., 1.],\n",
       "           [1., 1., 1., ..., 1., 1., 1.],\n",
       "           [1., 1., 1., ..., 1., 1., 1.],\n",
       "           [1., 1., 1., ..., 1., 1., 1.],\n",
       "           [1., 1., 1., ..., 1., 1., 1.]],\n",
       "\n",
       "          [[1., 1., 1., ..., 1., 1., 1.],\n",
       "           [1., 1., 1., ..., 1., 1., 1.],\n",
       "           [1., 1., 1., ..., 1., 1., 1.],\n",
       "           [1., 1., 1., ..., 1., 1., 1.],\n",
       "           [1., 1., 1., ..., 1., 1., 1.],\n",
       "           [1., 1., 1., ..., 1., 1., 1.]],\n",
       "\n",
       "          [[1., 1., 1., ..., 1., 1., 1.],\n",
       "           [1., 1., 1., ..., 1., 1., 1.],\n",
       "           [1., 1., 1., ..., 1., 1., 1.],\n",
       "           [1., 1., 1., ..., 1., 1., 1.],\n",
       "           [1., 1., 1., ..., 1., 1., 1.],\n",
       "           [1., 1., 1., ..., 1., 1., 1.]]]],\n",
       "\n",
       "\n",
       "\n",
       "        [[[[1., 1., 1., ..., 1., 1., 1.],\n",
       "           [1., 1., 1., ..., 1., 1., 1.],\n",
       "           [1., 1., 1., ..., 1., 1., 1.],\n",
       "           [1., 1., 1., ..., 1., 1., 1.],\n",
       "           [1., 1., 1., ..., 1., 1., 1.],\n",
       "           [1., 1., 1., ..., 1., 1., 1.]],\n",
       "\n",
       "          [[1., 1., 1., ..., 1., 1., 1.],\n",
       "           [1., 1., 1., ..., 1., 1., 1.],\n",
       "           [1., 1., 1., ..., 1., 1., 1.],\n",
       "           [1., 1., 1., ..., 1., 1., 1.],\n",
       "           [1., 1., 1., ..., 1., 1., 1.],\n",
       "           [1., 1., 1., ..., 1., 1., 1.]],\n",
       "\n",
       "          [[1., 1., 1., ..., 1., 1., 1.],\n",
       "           [1., 1., 1., ..., 1., 1., 1.],\n",
       "           [1., 1., 1., ..., 1., 1., 1.],\n",
       "           [1., 1., 1., ..., 1., 1., 1.],\n",
       "           [1., 1., 1., ..., 1., 1., 1.],\n",
       "           [1., 1., 1., ..., 1., 1., 1.]],\n",
       "\n",
       "          [[1., 1., 1., ..., 1., 1., 1.],\n",
       "           [1., 1., 1., ..., 1., 1., 1.],\n",
       "           [1., 1., 1., ..., 1., 1., 1.],\n",
       "           [1., 1., 1., ..., 1., 1., 1.],\n",
       "           [1., 1., 1., ..., 1., 1., 1.],\n",
       "           [1., 1., 1., ..., 1., 1., 1.]],\n",
       "\n",
       "          [[1., 1., 1., ..., 1., 1., 1.],\n",
       "           [1., 1., 1., ..., 1., 1., 1.],\n",
       "           [1., 1., 1., ..., 1., 1., 1.],\n",
       "           [1., 1., 1., ..., 1., 1., 1.],\n",
       "           [1., 1., 1., ..., 1., 1., 1.],\n",
       "           [1., 1., 1., ..., 1., 1., 1.]]],\n",
       "\n",
       "\n",
       "         [[[1., 1., 1., ..., 1., 1., 1.],\n",
       "           [1., 1., 1., ..., 1., 1., 1.],\n",
       "           [1., 1., 1., ..., 1., 1., 1.],\n",
       "           [1., 1., 1., ..., 1., 1., 1.],\n",
       "           [1., 1., 1., ..., 1., 1., 1.],\n",
       "           [1., 1., 1., ..., 1., 1., 1.]],\n",
       "\n",
       "          [[1., 1., 1., ..., 1., 1., 1.],\n",
       "           [1., 1., 1., ..., 1., 1., 1.],\n",
       "           [1., 1., 1., ..., 1., 1., 1.],\n",
       "           [1., 1., 1., ..., 1., 1., 1.],\n",
       "           [1., 1., 1., ..., 1., 1., 1.],\n",
       "           [1., 1., 1., ..., 1., 1., 1.]],\n",
       "\n",
       "          [[1., 1., 1., ..., 1., 1., 1.],\n",
       "           [1., 1., 1., ..., 1., 1., 1.],\n",
       "           [1., 1., 1., ..., 1., 1., 1.],\n",
       "           [1., 1., 1., ..., 1., 1., 1.],\n",
       "           [1., 1., 1., ..., 1., 1., 1.],\n",
       "           [1., 1., 1., ..., 1., 1., 1.]],\n",
       "\n",
       "          [[1., 1., 1., ..., 1., 1., 1.],\n",
       "           [1., 1., 1., ..., 1., 1., 1.],\n",
       "           [1., 1., 1., ..., 1., 1., 1.],\n",
       "           [1., 1., 1., ..., 1., 1., 1.],\n",
       "           [1., 1., 1., ..., 1., 1., 1.],\n",
       "           [1., 1., 1., ..., 1., 1., 1.]],\n",
       "\n",
       "          [[1., 1., 1., ..., 1., 1., 1.],\n",
       "           [1., 1., 1., ..., 1., 1., 1.],\n",
       "           [1., 1., 1., ..., 1., 1., 1.],\n",
       "           [1., 1., 1., ..., 1., 1., 1.],\n",
       "           [1., 1., 1., ..., 1., 1., 1.],\n",
       "           [1., 1., 1., ..., 1., 1., 1.]]],\n",
       "\n",
       "\n",
       "         [[[1., 1., 1., ..., 1., 1., 1.],\n",
       "           [1., 1., 1., ..., 1., 1., 1.],\n",
       "           [1., 1., 1., ..., 1., 1., 1.],\n",
       "           [1., 1., 1., ..., 1., 1., 1.],\n",
       "           [1., 1., 1., ..., 1., 1., 1.],\n",
       "           [1., 1., 1., ..., 1., 1., 1.]],\n",
       "\n",
       "          [[1., 1., 1., ..., 1., 1., 1.],\n",
       "           [1., 1., 1., ..., 1., 1., 1.],\n",
       "           [1., 1., 1., ..., 1., 1., 1.],\n",
       "           [1., 1., 1., ..., 1., 1., 1.],\n",
       "           [1., 1., 1., ..., 1., 1., 1.],\n",
       "           [1., 1., 1., ..., 1., 1., 1.]],\n",
       "\n",
       "          [[1., 1., 1., ..., 1., 1., 1.],\n",
       "           [1., 1., 1., ..., 1., 1., 1.],\n",
       "           [1., 1., 1., ..., 1., 1., 1.],\n",
       "           [1., 1., 1., ..., 1., 1., 1.],\n",
       "           [1., 1., 1., ..., 1., 1., 1.],\n",
       "           [1., 1., 1., ..., 1., 1., 1.]],\n",
       "\n",
       "          [[1., 1., 1., ..., 1., 1., 1.],\n",
       "           [1., 1., 1., ..., 1., 1., 1.],\n",
       "           [1., 1., 1., ..., 1., 1., 1.],\n",
       "           [1., 1., 1., ..., 1., 1., 1.],\n",
       "           [1., 1., 1., ..., 1., 1., 1.],\n",
       "           [1., 1., 1., ..., 1., 1., 1.]],\n",
       "\n",
       "          [[1., 1., 1., ..., 1., 1., 1.],\n",
       "           [1., 1., 1., ..., 1., 1., 1.],\n",
       "           [1., 1., 1., ..., 1., 1., 1.],\n",
       "           [1., 1., 1., ..., 1., 1., 1.],\n",
       "           [1., 1., 1., ..., 1., 1., 1.],\n",
       "           [1., 1., 1., ..., 1., 1., 1.]]],\n",
       "\n",
       "\n",
       "         [[[1., 1., 1., ..., 1., 1., 1.],\n",
       "           [1., 1., 1., ..., 1., 1., 1.],\n",
       "           [1., 1., 1., ..., 1., 1., 1.],\n",
       "           [1., 1., 1., ..., 1., 1., 1.],\n",
       "           [1., 1., 1., ..., 1., 1., 1.],\n",
       "           [1., 1., 1., ..., 1., 1., 1.]],\n",
       "\n",
       "          [[1., 1., 1., ..., 1., 1., 1.],\n",
       "           [1., 1., 1., ..., 1., 1., 1.],\n",
       "           [1., 1., 1., ..., 1., 1., 1.],\n",
       "           [1., 1., 1., ..., 1., 1., 1.],\n",
       "           [1., 1., 1., ..., 1., 1., 1.],\n",
       "           [1., 1., 1., ..., 1., 1., 1.]],\n",
       "\n",
       "          [[1., 1., 1., ..., 1., 1., 1.],\n",
       "           [1., 1., 1., ..., 1., 1., 1.],\n",
       "           [1., 1., 1., ..., 1., 1., 1.],\n",
       "           [1., 1., 1., ..., 1., 1., 1.],\n",
       "           [1., 1., 1., ..., 1., 1., 1.],\n",
       "           [1., 1., 1., ..., 1., 1., 1.]],\n",
       "\n",
       "          [[1., 1., 1., ..., 1., 1., 1.],\n",
       "           [1., 1., 1., ..., 1., 1., 1.],\n",
       "           [1., 1., 1., ..., 1., 1., 1.],\n",
       "           [1., 1., 1., ..., 1., 1., 1.],\n",
       "           [1., 1., 1., ..., 1., 1., 1.],\n",
       "           [1., 1., 1., ..., 1., 1., 1.]],\n",
       "\n",
       "          [[1., 1., 1., ..., 1., 1., 1.],\n",
       "           [1., 1., 1., ..., 1., 1., 1.],\n",
       "           [1., 1., 1., ..., 1., 1., 1.],\n",
       "           [1., 1., 1., ..., 1., 1., 1.],\n",
       "           [1., 1., 1., ..., 1., 1., 1.],\n",
       "           [1., 1., 1., ..., 1., 1., 1.]]]]]], dtype=float16)>"
      ]
     },
     "execution_count": 70,
     "metadata": {},
     "output_type": "execute_result"
    }
   ],
   "source": [
    "# create a rank 6 tensor\n",
    "rank6tensor = tf.ones(shape=[2,3,4,5,6,7], dtype = tf.float16)\n",
    "rank6tensor"
   ]
  },
  {
   "cell_type": "code",
   "execution_count": 71,
   "id": "ff8b4f80",
   "metadata": {},
   "outputs": [
    {
     "data": {
      "text/plain": [
       "<tf.Tensor: shape=(), dtype=int32, numpy=5040>"
      ]
     },
     "execution_count": 71,
     "metadata": {},
     "output_type": "execute_result"
    }
   ],
   "source": [
    "tf.size(rank6tensor)"
   ]
  },
  {
   "cell_type": "code",
   "execution_count": 73,
   "id": "e9231ddf",
   "metadata": {},
   "outputs": [
    {
     "data": {
      "text/plain": [
       "<tf.Tensor: shape=(1, 1, 1, 1, 1, 1), dtype=float16, numpy=array([[[[[[1.]]]]]], dtype=float16)>"
      ]
     },
     "execution_count": 73,
     "metadata": {},
     "output_type": "execute_result"
    }
   ],
   "source": [
    "# pull 1st element from each dims\n",
    "\n",
    "rank6tensor[:1, :1, :1, :1, :1, :1]"
   ]
  },
  {
   "cell_type": "code",
   "execution_count": 74,
   "id": "5e026625",
   "metadata": {
    "scrolled": true
   },
   "outputs": [
    {
     "data": {
      "text/plain": [
       "<tf.Tensor: shape=(2, 2, 2, 2, 2, 2), dtype=float16, numpy=\n",
       "array([[[[[[1., 1.],\n",
       "           [1., 1.]],\n",
       "\n",
       "          [[1., 1.],\n",
       "           [1., 1.]]],\n",
       "\n",
       "\n",
       "         [[[1., 1.],\n",
       "           [1., 1.]],\n",
       "\n",
       "          [[1., 1.],\n",
       "           [1., 1.]]]],\n",
       "\n",
       "\n",
       "\n",
       "        [[[[1., 1.],\n",
       "           [1., 1.]],\n",
       "\n",
       "          [[1., 1.],\n",
       "           [1., 1.]]],\n",
       "\n",
       "\n",
       "         [[[1., 1.],\n",
       "           [1., 1.]],\n",
       "\n",
       "          [[1., 1.],\n",
       "           [1., 1.]]]]],\n",
       "\n",
       "\n",
       "\n",
       "\n",
       "       [[[[[1., 1.],\n",
       "           [1., 1.]],\n",
       "\n",
       "          [[1., 1.],\n",
       "           [1., 1.]]],\n",
       "\n",
       "\n",
       "         [[[1., 1.],\n",
       "           [1., 1.]],\n",
       "\n",
       "          [[1., 1.],\n",
       "           [1., 1.]]]],\n",
       "\n",
       "\n",
       "\n",
       "        [[[[1., 1.],\n",
       "           [1., 1.]],\n",
       "\n",
       "          [[1., 1.],\n",
       "           [1., 1.]]],\n",
       "\n",
       "\n",
       "         [[[1., 1.],\n",
       "           [1., 1.]],\n",
       "\n",
       "          [[1., 1.],\n",
       "           [1., 1.]]]]]], dtype=float16)>"
      ]
     },
     "execution_count": 74,
     "metadata": {},
     "output_type": "execute_result"
    }
   ],
   "source": [
    "# pull 1st 2 element from each dims\n",
    "\n",
    "rank6tensor[:2, :2, :2, :2, :2, :2]"
   ]
  },
  {
   "cell_type": "code",
   "execution_count": 77,
   "id": "92810acb",
   "metadata": {},
   "outputs": [
    {
     "data": {
      "text/plain": [
       "<tf.Tensor: shape=(1, 1, 1, 1, 6, 1), dtype=float16, numpy=\n",
       "array([[[[[[1.],\n",
       "           [1.],\n",
       "           [1.],\n",
       "           [1.],\n",
       "           [1.],\n",
       "           [1.]]]]]], dtype=float16)>"
      ]
     },
     "execution_count": 77,
     "metadata": {},
     "output_type": "execute_result"
    }
   ],
   "source": [
    "# get 1st element from each dims from each index except the 2nd lastone\n",
    "rank6tensor[:1, :1, :1, :1, :, :1]"
   ]
  },
  {
   "cell_type": "code",
   "execution_count": 78,
   "id": "0e179473",
   "metadata": {},
   "outputs": [
    {
     "data": {
      "text/plain": [
       "<tf.Tensor: shape=(3, 8), dtype=int32, numpy=\n",
       "array([[ 5,  6,  7,  8,  9, 10, 11, 12],\n",
       "       [13, 14, 15, 16, 17, 18, 19, 20],\n",
       "       [21, 22, 23, 24, 25, 26, 27, 28]])>"
      ]
     },
     "execution_count": 78,
     "metadata": {},
     "output_type": "execute_result"
    }
   ],
   "source": [
    "# mathmetic operations with tensors\n",
    "\n",
    "tensor"
   ]
  },
  {
   "cell_type": "code",
   "execution_count": 79,
   "id": "7b445348",
   "metadata": {},
   "outputs": [],
   "source": [
    "tensor = tf.constant([[1,2], [3,4]])"
   ]
  },
  {
   "cell_type": "code",
   "execution_count": 80,
   "id": "b23a1400",
   "metadata": {},
   "outputs": [
    {
     "data": {
      "text/plain": [
       "<tf.Tensor: shape=(2, 2), dtype=int32, numpy=\n",
       "array([[1, 2],\n",
       "       [3, 4]])>"
      ]
     },
     "execution_count": 80,
     "metadata": {},
     "output_type": "execute_result"
    }
   ],
   "source": [
    "tensor"
   ]
  },
  {
   "cell_type": "code",
   "execution_count": 81,
   "id": "37d6f320",
   "metadata": {},
   "outputs": [
    {
     "data": {
      "text/plain": [
       "<tf.Tensor: shape=(2, 2), dtype=int32, numpy=\n",
       "array([[11, 12],\n",
       "       [13, 14]])>"
      ]
     },
     "execution_count": 81,
     "metadata": {},
     "output_type": "execute_result"
    }
   ],
   "source": [
    "tensor +10 "
   ]
  },
  {
   "cell_type": "code",
   "execution_count": 82,
   "id": "06f05dfd",
   "metadata": {},
   "outputs": [
    {
     "data": {
      "text/plain": [
       "<tf.Tensor: shape=(2, 2), dtype=int32, numpy=\n",
       "array([[-9, -8],\n",
       "       [-7, -6]])>"
      ]
     },
     "execution_count": 82,
     "metadata": {},
     "output_type": "execute_result"
    }
   ],
   "source": [
    "tensor - 10"
   ]
  },
  {
   "cell_type": "code",
   "execution_count": 83,
   "id": "4bfd209e",
   "metadata": {},
   "outputs": [
    {
     "data": {
      "text/plain": [
       "<tf.Tensor: shape=(2, 2), dtype=int32, numpy=\n",
       "array([[10, 20],\n",
       "       [30, 40]])>"
      ]
     },
     "execution_count": 83,
     "metadata": {},
     "output_type": "execute_result"
    }
   ],
   "source": [
    "tensor * 10"
   ]
  },
  {
   "cell_type": "code",
   "execution_count": 84,
   "id": "44c34408",
   "metadata": {},
   "outputs": [
    {
     "data": {
      "text/plain": [
       "<tf.Tensor: shape=(2, 2), dtype=float64, numpy=\n",
       "array([[0.1, 0.2],\n",
       "       [0.3, 0.4]])>"
      ]
     },
     "execution_count": 84,
     "metadata": {},
     "output_type": "execute_result"
    }
   ],
   "source": [
    "tensor / 10"
   ]
  },
  {
   "cell_type": "code",
   "execution_count": 87,
   "id": "f7d070c9",
   "metadata": {},
   "outputs": [
    {
     "data": {
      "text/plain": [
       "<tf.Tensor: shape=(2, 2), dtype=int32, numpy=\n",
       "array([[10, 20],\n",
       "       [30, 40]])>"
      ]
     },
     "execution_count": 87,
     "metadata": {},
     "output_type": "execute_result"
    }
   ],
   "source": [
    "# we can use build-in methods for those operations from tensorflow\n",
    "tf.multiply(tensor, 10)"
   ]
  },
  {
   "cell_type": "code",
   "execution_count": 88,
   "id": "7395812c",
   "metadata": {},
   "outputs": [
    {
     "data": {
      "text/plain": [
       "<tf.Tensor: shape=(2, 2), dtype=int32, numpy=\n",
       "array([[ 1,  4],\n",
       "       [ 9, 16]])>"
      ]
     },
     "execution_count": 88,
     "metadata": {},
     "output_type": "execute_result"
    }
   ],
   "source": [
    "tensor * tensor"
   ]
  },
  {
   "cell_type": "code",
   "execution_count": 91,
   "id": "96c05564",
   "metadata": {},
   "outputs": [
    {
     "data": {
      "text/plain": [
       "<tf.Tensor: shape=(2, 2), dtype=int32, numpy=\n",
       "array([[ 7, 10],\n",
       "       [15, 22]])>"
      ]
     },
     "execution_count": 91,
     "metadata": {},
     "output_type": "execute_result"
    }
   ],
   "source": [
    "# matrix multiplication\n",
    "\n",
    "tf.matmul(tensor, tensor)"
   ]
  },
  {
   "cell_type": "code",
   "execution_count": 92,
   "id": "ec4cc77f",
   "metadata": {},
   "outputs": [
    {
     "data": {
      "text/plain": [
       "<tf.Tensor: shape=(2, 2), dtype=int32, numpy=\n",
       "array([[1, 2],\n",
       "       [3, 4]])>"
      ]
     },
     "execution_count": 92,
     "metadata": {},
     "output_type": "execute_result"
    }
   ],
   "source": [
    "tensor"
   ]
  },
  {
   "cell_type": "code",
   "execution_count": 94,
   "id": "f5a9a044",
   "metadata": {},
   "outputs": [
    {
     "data": {
      "text/plain": [
       "<tf.Tensor: shape=(2, 2), dtype=int32, numpy=\n",
       "array([[ 7, 10],\n",
       "       [15, 22]])>"
      ]
     },
     "execution_count": 94,
     "metadata": {},
     "output_type": "execute_result"
    }
   ],
   "source": [
    "tensor @ tensor # @ represents tensorflow matmul method"
   ]
  },
  {
   "cell_type": "code",
   "execution_count": 95,
   "id": "eeca111b",
   "metadata": {},
   "outputs": [],
   "source": [
    "X = tf.constant([[1,2,3], [4,5,6]])"
   ]
  },
  {
   "cell_type": "code",
   "execution_count": 96,
   "id": "614f7c96",
   "metadata": {},
   "outputs": [
    {
     "data": {
      "text/plain": [
       "<tf.Tensor: shape=(2, 3), dtype=int32, numpy=\n",
       "array([[1, 2, 3],\n",
       "       [4, 5, 6]])>"
      ]
     },
     "execution_count": 96,
     "metadata": {},
     "output_type": "execute_result"
    }
   ],
   "source": [
    "X"
   ]
  },
  {
   "cell_type": "code",
   "execution_count": 97,
   "id": "2f224ea6",
   "metadata": {},
   "outputs": [],
   "source": [
    "y = tf.constant([[11, 12], [13, 14], [15, 16]])"
   ]
  },
  {
   "cell_type": "code",
   "execution_count": 98,
   "id": "7f1fe6f2",
   "metadata": {},
   "outputs": [
    {
     "data": {
      "text/plain": [
       "<tf.Tensor: shape=(3, 2), dtype=int32, numpy=\n",
       "array([[11, 12],\n",
       "       [13, 14],\n",
       "       [15, 16]])>"
      ]
     },
     "execution_count": 98,
     "metadata": {},
     "output_type": "execute_result"
    }
   ],
   "source": [
    "y"
   ]
  },
  {
   "cell_type": "code",
   "execution_count": 99,
   "id": "b90c680a",
   "metadata": {},
   "outputs": [
    {
     "data": {
      "text/plain": [
       "<tf.Tensor: shape=(2, 2), dtype=int32, numpy=\n",
       "array([[ 82,  88],\n",
       "       [199, 214]])>"
      ]
     },
     "execution_count": 99,
     "metadata": {},
     "output_type": "execute_result"
    }
   ],
   "source": [
    "tf.matmul(X, y)"
   ]
  },
  {
   "cell_type": "code",
   "execution_count": 100,
   "id": "9054c8a4",
   "metadata": {},
   "outputs": [
    {
     "data": {
      "text/plain": [
       "<tf.Tensor: shape=(3, 3), dtype=int32, numpy=\n",
       "array([[ 59,  82, 105],\n",
       "       [ 69,  96, 123],\n",
       "       [ 79, 110, 141]])>"
      ]
     },
     "execution_count": 100,
     "metadata": {},
     "output_type": "execute_result"
    }
   ],
   "source": [
    "tf.matmul(y, X)"
   ]
  },
  {
   "cell_type": "code",
   "execution_count": 101,
   "id": "3df3ea28",
   "metadata": {},
   "outputs": [],
   "source": [
    "y_ = tf.constant([[11, 22], [33, 44], [55, 66], [77, 88]])"
   ]
  },
  {
   "cell_type": "code",
   "execution_count": 102,
   "id": "f926b155",
   "metadata": {},
   "outputs": [
    {
     "data": {
      "text/plain": [
       "<tf.Tensor: shape=(4, 2), dtype=int32, numpy=\n",
       "array([[11, 22],\n",
       "       [33, 44],\n",
       "       [55, 66],\n",
       "       [77, 88]])>"
      ]
     },
     "execution_count": 102,
     "metadata": {},
     "output_type": "execute_result"
    }
   ],
   "source": [
    "y_\n"
   ]
  },
  {
   "cell_type": "code",
   "execution_count": 103,
   "id": "2cbc724c",
   "metadata": {},
   "outputs": [
    {
     "ename": "InvalidArgumentError",
     "evalue": "{{function_node __wrapped__MatMul_device_/job:localhost/replica:0/task:0/device:CPU:0}} Matrix size-incompatible: In[0]: [2,3], In[1]: [4,2] [Op:MatMul]",
     "output_type": "error",
     "traceback": [
      "\u001b[1;31m---------------------------------------------------------------------------\u001b[0m",
      "\u001b[1;31mInvalidArgumentError\u001b[0m                      Traceback (most recent call last)",
      "Cell \u001b[1;32mIn[103], line 1\u001b[0m\n\u001b[1;32m----> 1\u001b[0m \u001b[43mtf\u001b[49m\u001b[38;5;241;43m.\u001b[39;49m\u001b[43mmatmul\u001b[49m\u001b[43m(\u001b[49m\u001b[43mX\u001b[49m\u001b[43m,\u001b[49m\u001b[43m \u001b[49m\u001b[43my_\u001b[49m\u001b[43m)\u001b[49m\n",
      "File \u001b[1;32mC:\\Program Files\\Python310\\lib\\site-packages\\tensorflow\\python\\util\\traceback_utils.py:153\u001b[0m, in \u001b[0;36mfilter_traceback.<locals>.error_handler\u001b[1;34m(*args, **kwargs)\u001b[0m\n\u001b[0;32m    151\u001b[0m \u001b[38;5;28;01mexcept\u001b[39;00m \u001b[38;5;167;01mException\u001b[39;00m \u001b[38;5;28;01mas\u001b[39;00m e:\n\u001b[0;32m    152\u001b[0m   filtered_tb \u001b[38;5;241m=\u001b[39m _process_traceback_frames(e\u001b[38;5;241m.\u001b[39m__traceback__)\n\u001b[1;32m--> 153\u001b[0m   \u001b[38;5;28;01mraise\u001b[39;00m e\u001b[38;5;241m.\u001b[39mwith_traceback(filtered_tb) \u001b[38;5;28;01mfrom\u001b[39;00m \u001b[38;5;28mNone\u001b[39m\n\u001b[0;32m    154\u001b[0m \u001b[38;5;28;01mfinally\u001b[39;00m:\n\u001b[0;32m    155\u001b[0m   \u001b[38;5;28;01mdel\u001b[39;00m filtered_tb\n",
      "File \u001b[1;32mC:\\Program Files\\Python310\\lib\\site-packages\\tensorflow\\python\\framework\\ops.py:7262\u001b[0m, in \u001b[0;36mraise_from_not_ok_status\u001b[1;34m(e, name)\u001b[0m\n\u001b[0;32m   7260\u001b[0m \u001b[38;5;28;01mdef\u001b[39;00m \u001b[38;5;21mraise_from_not_ok_status\u001b[39m(e, name):\n\u001b[0;32m   7261\u001b[0m   e\u001b[38;5;241m.\u001b[39mmessage \u001b[38;5;241m+\u001b[39m\u001b[38;5;241m=\u001b[39m (\u001b[38;5;124m\"\u001b[39m\u001b[38;5;124m name: \u001b[39m\u001b[38;5;124m\"\u001b[39m \u001b[38;5;241m+\u001b[39m name \u001b[38;5;28;01mif\u001b[39;00m name \u001b[38;5;129;01mis\u001b[39;00m \u001b[38;5;129;01mnot\u001b[39;00m \u001b[38;5;28;01mNone\u001b[39;00m \u001b[38;5;28;01melse\u001b[39;00m \u001b[38;5;124m\"\u001b[39m\u001b[38;5;124m\"\u001b[39m)\n\u001b[1;32m-> 7262\u001b[0m   \u001b[38;5;28;01mraise\u001b[39;00m core\u001b[38;5;241m.\u001b[39m_status_to_exception(e) \u001b[38;5;28;01mfrom\u001b[39;00m \u001b[38;5;28mNone\u001b[39m\n",
      "\u001b[1;31mInvalidArgumentError\u001b[0m: {{function_node __wrapped__MatMul_device_/job:localhost/replica:0/task:0/device:CPU:0}} Matrix size-incompatible: In[0]: [2,3], In[1]: [4,2] [Op:MatMul]"
     ]
    }
   ],
   "source": [
    "tf.matmul(X, y_)"
   ]
  },
  {
   "cell_type": "code",
   "execution_count": 104,
   "id": "f6d52581",
   "metadata": {},
   "outputs": [
    {
     "data": {
      "text/plain": [
       "<tf.Tensor: shape=(4, 3), dtype=int32, numpy=\n",
       "array([[ 99, 132, 165],\n",
       "       [209, 286, 363],\n",
       "       [319, 440, 561],\n",
       "       [429, 594, 759]])>"
      ]
     },
     "execution_count": 104,
     "metadata": {},
     "output_type": "execute_result"
    }
   ],
   "source": [
    "tf.matmul(y_, X)"
   ]
  },
  {
   "cell_type": "code",
   "execution_count": 105,
   "id": "60eebdda",
   "metadata": {},
   "outputs": [],
   "source": [
    "# to avoid shape error we can make matrix traspose or change the shape "
   ]
  },
  {
   "cell_type": "code",
   "execution_count": 106,
   "id": "e4ec2bae",
   "metadata": {},
   "outputs": [],
   "source": [
    "X = tf.constant([[1,2],[3,4],[5,6]])"
   ]
  },
  {
   "cell_type": "code",
   "execution_count": 107,
   "id": "39a77534",
   "metadata": {},
   "outputs": [],
   "source": [
    "Y = tf.constant([[7,8],[9,10],[11,12]])"
   ]
  },
  {
   "cell_type": "code",
   "execution_count": 108,
   "id": "8f16e032",
   "metadata": {},
   "outputs": [
    {
     "ename": "InvalidArgumentError",
     "evalue": "{{function_node __wrapped__MatMul_device_/job:localhost/replica:0/task:0/device:CPU:0}} Matrix size-incompatible: In[0]: [3,2], In[1]: [3,2] [Op:MatMul]",
     "output_type": "error",
     "traceback": [
      "\u001b[1;31m---------------------------------------------------------------------------\u001b[0m",
      "\u001b[1;31mInvalidArgumentError\u001b[0m                      Traceback (most recent call last)",
      "Cell \u001b[1;32mIn[108], line 1\u001b[0m\n\u001b[1;32m----> 1\u001b[0m \u001b[43mX\u001b[49m\u001b[43m \u001b[49m\u001b[38;5;241;43m@\u001b[39;49m\u001b[43m \u001b[49m\u001b[43mY\u001b[49m\n",
      "File \u001b[1;32mC:\\Program Files\\Python310\\lib\\site-packages\\tensorflow\\python\\util\\traceback_utils.py:153\u001b[0m, in \u001b[0;36mfilter_traceback.<locals>.error_handler\u001b[1;34m(*args, **kwargs)\u001b[0m\n\u001b[0;32m    151\u001b[0m \u001b[38;5;28;01mexcept\u001b[39;00m \u001b[38;5;167;01mException\u001b[39;00m \u001b[38;5;28;01mas\u001b[39;00m e:\n\u001b[0;32m    152\u001b[0m   filtered_tb \u001b[38;5;241m=\u001b[39m _process_traceback_frames(e\u001b[38;5;241m.\u001b[39m__traceback__)\n\u001b[1;32m--> 153\u001b[0m   \u001b[38;5;28;01mraise\u001b[39;00m e\u001b[38;5;241m.\u001b[39mwith_traceback(filtered_tb) \u001b[38;5;28;01mfrom\u001b[39;00m \u001b[38;5;28mNone\u001b[39m\n\u001b[0;32m    154\u001b[0m \u001b[38;5;28;01mfinally\u001b[39;00m:\n\u001b[0;32m    155\u001b[0m   \u001b[38;5;28;01mdel\u001b[39;00m filtered_tb\n",
      "File \u001b[1;32mC:\\Program Files\\Python310\\lib\\site-packages\\tensorflow\\python\\framework\\ops.py:7262\u001b[0m, in \u001b[0;36mraise_from_not_ok_status\u001b[1;34m(e, name)\u001b[0m\n\u001b[0;32m   7260\u001b[0m \u001b[38;5;28;01mdef\u001b[39;00m \u001b[38;5;21mraise_from_not_ok_status\u001b[39m(e, name):\n\u001b[0;32m   7261\u001b[0m   e\u001b[38;5;241m.\u001b[39mmessage \u001b[38;5;241m+\u001b[39m\u001b[38;5;241m=\u001b[39m (\u001b[38;5;124m\"\u001b[39m\u001b[38;5;124m name: \u001b[39m\u001b[38;5;124m\"\u001b[39m \u001b[38;5;241m+\u001b[39m name \u001b[38;5;28;01mif\u001b[39;00m name \u001b[38;5;129;01mis\u001b[39;00m \u001b[38;5;129;01mnot\u001b[39;00m \u001b[38;5;28;01mNone\u001b[39;00m \u001b[38;5;28;01melse\u001b[39;00m \u001b[38;5;124m\"\u001b[39m\u001b[38;5;124m\"\u001b[39m)\n\u001b[1;32m-> 7262\u001b[0m   \u001b[38;5;28;01mraise\u001b[39;00m core\u001b[38;5;241m.\u001b[39m_status_to_exception(e) \u001b[38;5;28;01mfrom\u001b[39;00m \u001b[38;5;28mNone\u001b[39m\n",
      "\u001b[1;31mInvalidArgumentError\u001b[0m: {{function_node __wrapped__MatMul_device_/job:localhost/replica:0/task:0/device:CPU:0}} Matrix size-incompatible: In[0]: [3,2], In[1]: [3,2] [Op:MatMul]"
     ]
    }
   ],
   "source": [
    "X @ Y"
   ]
  },
  {
   "cell_type": "code",
   "execution_count": 109,
   "id": "fd72ad1f",
   "metadata": {},
   "outputs": [
    {
     "data": {
      "text/plain": [
       "<tf.Tensor: shape=(3, 3), dtype=int32, numpy=\n",
       "array([[ 23,  29,  35],\n",
       "       [ 53,  67,  81],\n",
       "       [ 83, 105, 127]])>"
      ]
     },
     "execution_count": 109,
     "metadata": {},
     "output_type": "execute_result"
    }
   ],
   "source": [
    "X @ tf.transpose(Y)"
   ]
  },
  {
   "cell_type": "code",
   "execution_count": 110,
   "id": "43be49d9",
   "metadata": {},
   "outputs": [
    {
     "ename": "InvalidArgumentError",
     "evalue": "{{function_node __wrapped__MatMul_device_/job:localhost/replica:0/task:0/device:CPU:0}} Matrix size-incompatible: In[0]: [3,2], In[1]: [3,2] [Op:MatMul]",
     "output_type": "error",
     "traceback": [
      "\u001b[1;31m---------------------------------------------------------------------------\u001b[0m",
      "\u001b[1;31mInvalidArgumentError\u001b[0m                      Traceback (most recent call last)",
      "Cell \u001b[1;32mIn[110], line 1\u001b[0m\n\u001b[1;32m----> 1\u001b[0m \u001b[43mtf\u001b[49m\u001b[38;5;241;43m.\u001b[39;49m\u001b[43mtensordot\u001b[49m\u001b[43m(\u001b[49m\u001b[43mX\u001b[49m\u001b[43m,\u001b[49m\u001b[43m \u001b[49m\u001b[43mY\u001b[49m\u001b[43m,\u001b[49m\u001b[43m \u001b[49m\u001b[43maxes\u001b[49m\u001b[43m \u001b[49m\u001b[38;5;241;43m=\u001b[39;49m\u001b[43m \u001b[49m\u001b[38;5;241;43m1\u001b[39;49m\u001b[43m)\u001b[49m\n",
      "File \u001b[1;32mC:\\Program Files\\Python310\\lib\\site-packages\\tensorflow\\python\\util\\traceback_utils.py:153\u001b[0m, in \u001b[0;36mfilter_traceback.<locals>.error_handler\u001b[1;34m(*args, **kwargs)\u001b[0m\n\u001b[0;32m    151\u001b[0m \u001b[38;5;28;01mexcept\u001b[39;00m \u001b[38;5;167;01mException\u001b[39;00m \u001b[38;5;28;01mas\u001b[39;00m e:\n\u001b[0;32m    152\u001b[0m   filtered_tb \u001b[38;5;241m=\u001b[39m _process_traceback_frames(e\u001b[38;5;241m.\u001b[39m__traceback__)\n\u001b[1;32m--> 153\u001b[0m   \u001b[38;5;28;01mraise\u001b[39;00m e\u001b[38;5;241m.\u001b[39mwith_traceback(filtered_tb) \u001b[38;5;28;01mfrom\u001b[39;00m \u001b[38;5;28mNone\u001b[39m\n\u001b[0;32m    154\u001b[0m \u001b[38;5;28;01mfinally\u001b[39;00m:\n\u001b[0;32m    155\u001b[0m   \u001b[38;5;28;01mdel\u001b[39;00m filtered_tb\n",
      "File \u001b[1;32mC:\\Program Files\\Python310\\lib\\site-packages\\tensorflow\\python\\framework\\ops.py:7262\u001b[0m, in \u001b[0;36mraise_from_not_ok_status\u001b[1;34m(e, name)\u001b[0m\n\u001b[0;32m   7260\u001b[0m \u001b[38;5;28;01mdef\u001b[39;00m \u001b[38;5;21mraise_from_not_ok_status\u001b[39m(e, name):\n\u001b[0;32m   7261\u001b[0m   e\u001b[38;5;241m.\u001b[39mmessage \u001b[38;5;241m+\u001b[39m\u001b[38;5;241m=\u001b[39m (\u001b[38;5;124m\"\u001b[39m\u001b[38;5;124m name: \u001b[39m\u001b[38;5;124m\"\u001b[39m \u001b[38;5;241m+\u001b[39m name \u001b[38;5;28;01mif\u001b[39;00m name \u001b[38;5;129;01mis\u001b[39;00m \u001b[38;5;129;01mnot\u001b[39;00m \u001b[38;5;28;01mNone\u001b[39;00m \u001b[38;5;28;01melse\u001b[39;00m \u001b[38;5;124m\"\u001b[39m\u001b[38;5;124m\"\u001b[39m)\n\u001b[1;32m-> 7262\u001b[0m   \u001b[38;5;28;01mraise\u001b[39;00m core\u001b[38;5;241m.\u001b[39m_status_to_exception(e) \u001b[38;5;28;01mfrom\u001b[39;00m \u001b[38;5;28mNone\u001b[39m\n",
      "\u001b[1;31mInvalidArgumentError\u001b[0m: {{function_node __wrapped__MatMul_device_/job:localhost/replica:0/task:0/device:CPU:0}} Matrix size-incompatible: In[0]: [3,2], In[1]: [3,2] [Op:MatMul]"
     ]
    }
   ],
   "source": [
    "tf.tensordot(X, Y, axes = 1)"
   ]
  },
  {
   "cell_type": "code",
   "execution_count": 113,
   "id": "ee1f9bc4",
   "metadata": {},
   "outputs": [
    {
     "data": {
      "text/plain": [
       "<tf.Tensor: shape=(3, 3), dtype=int32, numpy=\n",
       "array([[ 23,  29,  35],\n",
       "       [ 53,  67,  81],\n",
       "       [ 83, 105, 127]])>"
      ]
     },
     "execution_count": 113,
     "metadata": {},
     "output_type": "execute_result"
    }
   ],
   "source": [
    "tf.tensordot(X, tf.transpose(Y), axes = 1)"
   ]
  },
  {
   "cell_type": "code",
   "execution_count": 114,
   "id": "d9a89655",
   "metadata": {},
   "outputs": [
    {
     "data": {
      "text/plain": [
       "<tf.Tensor: shape=(3, 2, 2, 3), dtype=int32, numpy=\n",
       "array([[[[ 7,  9, 11],\n",
       "         [ 8, 10, 12]],\n",
       "\n",
       "        [[14, 18, 22],\n",
       "         [16, 20, 24]]],\n",
       "\n",
       "\n",
       "       [[[21, 27, 33],\n",
       "         [24, 30, 36]],\n",
       "\n",
       "        [[28, 36, 44],\n",
       "         [32, 40, 48]]],\n",
       "\n",
       "\n",
       "       [[[35, 45, 55],\n",
       "         [40, 50, 60]],\n",
       "\n",
       "        [[42, 54, 66],\n",
       "         [48, 60, 72]]]])>"
      ]
     },
     "execution_count": 114,
     "metadata": {},
     "output_type": "execute_result"
    }
   ],
   "source": [
    "tf.tensordot(X, tf.transpose(Y), axes = 0)"
   ]
  },
  {
   "cell_type": "code",
   "execution_count": 120,
   "id": "7a2a86be",
   "metadata": {},
   "outputs": [
    {
     "name": "stdout",
     "output_type": "stream",
     "text": [
      "Normal Y: tf.Tensor(\n",
      "[[ 7  8]\n",
      " [ 9 10]\n",
      " [11 12]], shape=(3, 2), dtype=int32)\n",
      "Transposed Y: tf.Tensor(\n",
      "[[ 7  9 11]\n",
      " [ 8 10 12]], shape=(2, 3), dtype=int32)\n",
      "Reshaped Y: tf.Tensor(\n",
      "[[ 7  8  9]\n",
      " [10 11 12]], shape=(2, 3), dtype=int32)\n"
     ]
    }
   ],
   "source": [
    "# reshape vs transpose\n",
    "\n",
    "print('Normal Y:', Y)\n",
    "print('Transposed Y:', tf.transpose(Y))\n",
    "print('Reshaped Y:', tf.reshape(Y, shape=(2, 3))) # read as human lol"
   ]
  },
  {
   "cell_type": "code",
   "execution_count": 122,
   "id": "44d8a7fa",
   "metadata": {},
   "outputs": [
    {
     "data": {
      "text/plain": [
       "<tf.Tensor: shape=(3, 2), dtype=int32, numpy=\n",
       "array([[1, 2],\n",
       "       [3, 4],\n",
       "       [5, 6]])>"
      ]
     },
     "execution_count": 122,
     "metadata": {},
     "output_type": "execute_result"
    }
   ],
   "source": [
    "# changing Datatype\n",
    "\n",
    "X"
   ]
  },
  {
   "cell_type": "code",
   "execution_count": 123,
   "id": "b86b58e7",
   "metadata": {},
   "outputs": [
    {
     "data": {
      "text/plain": [
       "<tf.Tensor: shape=(3, 2), dtype=int16, numpy=\n",
       "array([[1, 2],\n",
       "       [3, 4],\n",
       "       [5, 6]], dtype=int16)>"
      ]
     },
     "execution_count": 123,
     "metadata": {},
     "output_type": "execute_result"
    }
   ],
   "source": [
    "# int32 t0 int16\n",
    "tf.cast(X, dtype = tf.int16)"
   ]
  },
  {
   "cell_type": "code",
   "execution_count": 124,
   "id": "a40f5760",
   "metadata": {},
   "outputs": [
    {
     "data": {
      "text/plain": [
       "<tf.Tensor: shape=(3, 2), dtype=float32, numpy=\n",
       "array([[1., 2.],\n",
       "       [3., 4.],\n",
       "       [5., 6.]], dtype=float32)>"
      ]
     },
     "execution_count": 124,
     "metadata": {},
     "output_type": "execute_result"
    }
   ],
   "source": [
    "#int32 to float32\n",
    "tf.cast(X, dtype = tf.float32)"
   ]
  },
  {
   "cell_type": "code",
   "execution_count": 129,
   "id": "22f4f5dc",
   "metadata": {},
   "outputs": [],
   "source": [
    "# float to int\n",
    "t = tf.constant([1.3, 3.6])"
   ]
  },
  {
   "cell_type": "code",
   "execution_count": 130,
   "id": "5918e05d",
   "metadata": {},
   "outputs": [
    {
     "data": {
      "text/plain": [
       "<tf.Tensor: shape=(2,), dtype=float32, numpy=array([1.3, 3.6], dtype=float32)>"
      ]
     },
     "execution_count": 130,
     "metadata": {},
     "output_type": "execute_result"
    }
   ],
   "source": [
    "t"
   ]
  },
  {
   "cell_type": "code",
   "execution_count": 131,
   "id": "bcd56e96",
   "metadata": {},
   "outputs": [
    {
     "data": {
      "text/plain": [
       "<tf.Tensor: shape=(2,), dtype=int32, numpy=array([1, 3])>"
      ]
     },
     "execution_count": 131,
     "metadata": {},
     "output_type": "execute_result"
    }
   ],
   "source": [
    "tf.cast(t, dtype=tf.int32) # always put the floor value"
   ]
  },
  {
   "cell_type": "code",
   "execution_count": 132,
   "id": "ce846686",
   "metadata": {},
   "outputs": [],
   "source": [
    "t = tf.constant([-3,-4]) # absulate"
   ]
  },
  {
   "cell_type": "code",
   "execution_count": 133,
   "id": "492f8fff",
   "metadata": {},
   "outputs": [
    {
     "data": {
      "text/plain": [
       "<tf.Tensor: shape=(2,), dtype=int32, numpy=array([-3, -4])>"
      ]
     },
     "execution_count": 133,
     "metadata": {},
     "output_type": "execute_result"
    }
   ],
   "source": [
    "t"
   ]
  },
  {
   "cell_type": "code",
   "execution_count": 134,
   "id": "450a27a8",
   "metadata": {},
   "outputs": [
    {
     "data": {
      "text/plain": [
       "<tf.Tensor: shape=(2,), dtype=int32, numpy=array([3, 4])>"
      ]
     },
     "execution_count": 134,
     "metadata": {},
     "output_type": "execute_result"
    }
   ],
   "source": [
    "tf.abs(t)"
   ]
  },
  {
   "cell_type": "code",
   "execution_count": 135,
   "id": "42f4d625",
   "metadata": {},
   "outputs": [
    {
     "data": {
      "text/plain": [
       "<tf.Tensor: shape=(), dtype=int32, numpy=-4>"
      ]
     },
     "execution_count": 135,
     "metadata": {},
     "output_type": "execute_result"
    }
   ],
   "source": [
    "# Aggregetions\n",
    "# min\n",
    "tf.reduce_min(t)"
   ]
  },
  {
   "cell_type": "code",
   "execution_count": 136,
   "id": "8bbf8bdd",
   "metadata": {},
   "outputs": [
    {
     "data": {
      "text/plain": [
       "<tf.Tensor: shape=(), dtype=int32, numpy=-3>"
      ]
     },
     "execution_count": 136,
     "metadata": {},
     "output_type": "execute_result"
    }
   ],
   "source": [
    "#max\n",
    "tf.reduce_max(t)"
   ]
  },
  {
   "cell_type": "code",
   "execution_count": 137,
   "id": "22e917b3",
   "metadata": {},
   "outputs": [
    {
     "data": {
      "text/plain": [
       "<tf.Tensor: shape=(), dtype=int32, numpy=-3>"
      ]
     },
     "execution_count": 137,
     "metadata": {},
     "output_type": "execute_result"
    }
   ],
   "source": [
    "# mean\n",
    "tf.reduce_mean(t)"
   ]
  },
  {
   "cell_type": "code",
   "execution_count": 138,
   "id": "a37e1088",
   "metadata": {},
   "outputs": [
    {
     "data": {
      "text/plain": [
       "<tf.Tensor: shape=(), dtype=int32, numpy=-7>"
      ]
     },
     "execution_count": 138,
     "metadata": {},
     "output_type": "execute_result"
    }
   ],
   "source": [
    "tf.reduce_sum(t) #sum"
   ]
  },
  {
   "cell_type": "code",
   "execution_count": 140,
   "id": "a65e0e5e",
   "metadata": {},
   "outputs": [
    {
     "ename": "AttributeError",
     "evalue": "module 'tensorflow' has no attribute 'reduce_variance'",
     "output_type": "error",
     "traceback": [
      "\u001b[1;31m---------------------------------------------------------------------------\u001b[0m",
      "\u001b[1;31mAttributeError\u001b[0m                            Traceback (most recent call last)",
      "Cell \u001b[1;32mIn[140], line 2\u001b[0m\n\u001b[0;32m      1\u001b[0m \u001b[38;5;66;03m# varience\u001b[39;00m\n\u001b[1;32m----> 2\u001b[0m \u001b[43mtf\u001b[49m\u001b[38;5;241;43m.\u001b[39;49m\u001b[43mreduce_variance\u001b[49m(t)\n",
      "\u001b[1;31mAttributeError\u001b[0m: module 'tensorflow' has no attribute 'reduce_variance'"
     ]
    }
   ],
   "source": [
    "# varience\n",
    "tf.reduce_variance(t)"
   ]
  },
  {
   "cell_type": "code",
   "execution_count": 145,
   "id": "f5676899",
   "metadata": {},
   "outputs": [],
   "source": [
    "#import tensorflow_probability as tfp\n",
    "\n",
    "import tensorflow_probability as tfp"
   ]
  },
  {
   "cell_type": "code",
   "execution_count": 146,
   "id": "941e9011",
   "metadata": {},
   "outputs": [
    {
     "ename": "AttributeError",
     "evalue": "module 'tensorflow_probability' has no attribute 'reduce_variance'",
     "output_type": "error",
     "traceback": [
      "\u001b[1;31m---------------------------------------------------------------------------\u001b[0m",
      "\u001b[1;31mAttributeError\u001b[0m                            Traceback (most recent call last)",
      "Cell \u001b[1;32mIn[146], line 1\u001b[0m\n\u001b[1;32m----> 1\u001b[0m \u001b[43mtfp\u001b[49m\u001b[38;5;241;43m.\u001b[39;49m\u001b[43mreduce_variance\u001b[49m(t)\n",
      "\u001b[1;31mAttributeError\u001b[0m: module 'tensorflow_probability' has no attribute 'reduce_variance'"
     ]
    }
   ],
   "source": [
    "tfp.reduce_variance(t)"
   ]
  },
  {
   "cell_type": "code",
   "execution_count": 148,
   "id": "f254caa6",
   "metadata": {},
   "outputs": [
    {
     "data": {
      "text/plain": [
       "<tf.Tensor: shape=(), dtype=int32, numpy=0>"
      ]
     },
     "execution_count": 148,
     "metadata": {},
     "output_type": "execute_result"
    }
   ],
   "source": [
    "tfp.stats.variance(t)"
   ]
  },
  {
   "cell_type": "code",
   "execution_count": 150,
   "id": "62efcb2f",
   "metadata": {},
   "outputs": [],
   "source": [
    "# Find positional maximum minimum\n",
    "tf.random.set_seed(7)\n",
    "t = tf.random.uniform(shape=[50])"
   ]
  },
  {
   "cell_type": "code",
   "execution_count": 151,
   "id": "987362c9",
   "metadata": {},
   "outputs": [
    {
     "data": {
      "text/plain": [
       "<tf.Tensor: shape=(50,), dtype=float32, numpy=\n",
       "array([0.8344538 , 0.23336661, 0.8796519 , 0.04664922, 0.80349684,\n",
       "       0.9420098 , 0.48560476, 0.9596517 , 0.65881574, 0.11269152,\n",
       "       0.42992353, 0.60388005, 0.09393823, 0.08232665, 0.87509394,\n",
       "       0.9595978 , 0.24487329, 0.4698069 , 0.7515631 , 0.83605003,\n",
       "       0.8556993 , 0.30181408, 0.82694066, 0.49390066, 0.63653564,\n",
       "       0.29243422, 0.9494889 , 0.5301058 , 0.1835326 , 0.58373356,\n",
       "       0.89675355, 0.5347773 , 0.29837036, 0.07734811, 0.17663229,\n",
       "       0.3444836 , 0.4229324 , 0.68379617, 0.4887246 , 0.5376346 ,\n",
       "       0.91624343, 0.33474946, 0.06718647, 0.84025824, 0.6102561 ,\n",
       "       0.1546061 , 0.23240829, 0.7687037 , 0.5492232 , 0.54143226],\n",
       "      dtype=float32)>"
      ]
     },
     "execution_count": 151,
     "metadata": {},
     "output_type": "execute_result"
    }
   ],
   "source": [
    "t"
   ]
  },
  {
   "cell_type": "code",
   "execution_count": 152,
   "id": "a7614cab",
   "metadata": {},
   "outputs": [
    {
     "data": {
      "text/plain": [
       "<tf.Tensor: shape=(), dtype=int64, numpy=7>"
      ]
     },
     "execution_count": 152,
     "metadata": {},
     "output_type": "execute_result"
    }
   ],
   "source": [
    "tf.argmax(t)"
   ]
  },
  {
   "cell_type": "code",
   "execution_count": 153,
   "id": "9143b464",
   "metadata": {},
   "outputs": [
    {
     "data": {
      "text/plain": [
       "<tf.Tensor: shape=(), dtype=int64, numpy=3>"
      ]
     },
     "execution_count": 153,
     "metadata": {},
     "output_type": "execute_result"
    }
   ],
   "source": [
    "tf.argmin(t)"
   ]
  },
  {
   "cell_type": "code",
   "execution_count": null,
   "id": "b1895938",
   "metadata": {},
   "outputs": [],
   "source": []
  }
 ],
 "metadata": {
  "kernelspec": {
   "display_name": "Python 3 (ipykernel)",
   "language": "python",
   "name": "python3"
  },
  "language_info": {
   "codemirror_mode": {
    "name": "ipython",
    "version": 3
   },
   "file_extension": ".py",
   "mimetype": "text/x-python",
   "name": "python",
   "nbconvert_exporter": "python",
   "pygments_lexer": "ipython3",
   "version": "3.10.4"
  }
 },
 "nbformat": 4,
 "nbformat_minor": 5
}
