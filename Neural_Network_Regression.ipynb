{
 "cells": [
  {
   "cell_type": "markdown",
   "id": "86aa83f8",
   "metadata": {},
   "source": [
    "# Regression with neural Network using TensorFlow\n"
   ]
  },
  {
   "cell_type": "code",
   "execution_count": 1,
   "id": "d6fbfcf1",
   "metadata": {},
   "outputs": [],
   "source": [
    "import tensorflow as tf"
   ]
  },
  {
   "cell_type": "code",
   "execution_count": 3,
   "id": "59acd672",
   "metadata": {},
   "outputs": [
    {
     "name": "stdout",
     "output_type": "stream",
     "text": [
      "2.12.0\n"
     ]
    }
   ],
   "source": [
    "print(tf.__version__)"
   ]
  },
  {
   "cell_type": "code",
   "execution_count": 8,
   "id": "2b327b24",
   "metadata": {},
   "outputs": [
    {
     "data": {
      "text/plain": [
       "<matplotlib.collections.PathCollection at 0x21a35643ac0>"
      ]
     },
     "execution_count": 8,
     "metadata": {},
     "output_type": "execute_result"
    },
    {
     "data": {
      "image/png": "[encoded data removed]",
      "text/plain": [
       "<Figure size 640x480 with 1 Axes>"
      ]
     },
     "metadata": {},
     "output_type": "display_data"
    }
   ],
   "source": [
    "import numpy as np\n",
    "import matplotlib.pyplot as plt\n",
    "\n",
    "# Create features\n",
    "X = np.array([-7, -4, -1, 2.0, 5.0, 8.0, 11.0, 14.0])\n",
    "\n",
    "# Create labels\n",
    "y = np.array([3.0, 6.0, 9.0, 12.0, 15.0, 18.0, 21.0, 24.0])\n",
    "\n",
    "# Visualize it\n",
    "plt.scatter(X, y)"
   ]
  },
  {
   "cell_type": "markdown",
   "id": "664cebbe",
   "metadata": {},
   "source": [
    "# Input and Output Shapes"
   ]
  },
  {
   "cell_type": "code",
   "execution_count": 10,
   "id": "f1878112",
   "metadata": {},
   "outputs": [
    {
     "data": {
      "text/plain": [
       "(<tf.Tensor: shape=(3,), dtype=string, numpy=array([b'bedroom', b'batheoom', b'garage'], dtype=object)>,\n",
       " <tf.Tensor: shape=(1,), dtype=int32, numpy=array([12904])>)"
      ]
     },
     "execution_count": 10,
     "metadata": {},
     "output_type": "execute_result"
    }
   ],
   "source": [
    "# Demo tensor for our housing price prediction problem\n",
    "\n",
    "house_info = tf.constant(['bedroom', 'batheoom', 'garage'])\n",
    "house_price = tf.constant([12904])\n",
    "\n",
    "house_info, house_price\n",
    "# here there is a difference for input and output shape"
   ]
  },
  {
   "cell_type": "code",
   "execution_count": 11,
   "id": "dde04a04",
   "metadata": {},
   "outputs": [
    {
     "data": {
      "text/plain": [
       "((), ())"
      ]
     },
     "execution_count": 11,
     "metadata": {},
     "output_type": "execute_result"
    }
   ],
   "source": [
    "input_shape = X[0].shape\n",
    "output_shape = y[0].shape\n",
    "\n",
    "input_shape, output_shape"
   ]
  },
  {
   "cell_type": "code",
   "execution_count": 13,
   "id": "a6d82515",
   "metadata": {},
   "outputs": [
    {
     "data": {
      "text/plain": [
       "0"
      ]
     },
     "execution_count": 13,
     "metadata": {},
     "output_type": "execute_result"
    }
   ],
   "source": [
    "X[0].ndim\n",
    "#it has 0 dim, so it has no shape"
   ]
  },
  {
   "cell_type": "code",
   "execution_count": 21,
   "id": "b3ee03c6",
   "metadata": {},
   "outputs": [
    {
     "data": {
      "text/plain": [
       "(<tf.Tensor: shape=(8,), dtype=float32, numpy=array([-7., -4., -1.,  2.,  5.,  8., 11., 14.], dtype=float32)>,\n",
       " <tf.Tensor: shape=(8,), dtype=float32, numpy=array([ 3.,  6.,  9., 12., 15., 18., 21., 24.], dtype=float32)>)"
      ]
     },
     "execution_count": 21,
     "metadata": {},
     "output_type": "execute_result"
    }
   ],
   "source": [
    "#turn out numpy to tensor\n",
    "X = tf.cast(tf.constant(X), dtype = tf.float32)\n",
    "y = tf.cast(tf.constant(y), dtype = tf.float32)\n",
    "X, y"
   ]
  },
  {
   "cell_type": "code",
   "execution_count": 15,
   "id": "d74431f6",
   "metadata": {},
   "outputs": [
    {
     "data": {
      "text/plain": [
       "(TensorShape([]), TensorShape([]))"
      ]
     },
     "execution_count": 15,
     "metadata": {},
     "output_type": "execute_result"
    }
   ],
   "source": [
    "input_shape = X[0].shape\n",
    "output_shape = y[0].shape\n",
    "input_shape, output_shape"
   ]
  },
  {
   "cell_type": "code",
   "execution_count": 16,
   "id": "68f5f74e",
   "metadata": {},
   "outputs": [
    {
     "data": {
      "text/plain": [
       "<matplotlib.collections.PathCollection at 0x21a358017b0>"
      ]
     },
     "execution_count": 16,
     "metadata": {},
     "output_type": "execute_result"
    },
    {
     "data": {
      "image/png": "[encoded data removed]",
      "text/plain": [
       "<Figure size 640x480 with 1 Axes>"
      ]
     },
     "metadata": {},
     "output_type": "display_data"
    }
   ],
   "source": [
    "plt.scatter(X, y)"
   ]
  },
  {
   "cell_type": "markdown",
   "id": "2a872bc8",
   "metadata": {},
   "source": [
    "# Modelling"
   ]
  },
  {
   "cell_type": "code",
   "execution_count": 18,
   "id": "c6f99789",
   "metadata": {},
   "outputs": [],
   "source": [
    "# set random seed\n",
    "tf.random.set_seed(7)"
   ]
  },
  {
   "cell_type": "code",
   "execution_count": 53,
   "id": "3c250b1c",
   "metadata": {},
   "outputs": [
    {
     "name": "stdout",
     "output_type": "stream",
     "text": [
      "Epoch 1/100\n",
      "1/1 [==============================] - 0s 332ms/step - loss: 15.4386 - mae: 15.4386\n",
      "Epoch 2/100\n",
      "1/1 [==============================] - 0s 8ms/step - loss: 15.1573 - mae: 15.1573\n",
      "Epoch 3/100\n",
      "1/1 [==============================] - 0s 6ms/step - loss: 14.9099 - mae: 14.9099\n",
      "Epoch 4/100\n",
      "1/1 [==============================] - 0s 8ms/step - loss: 14.7774 - mae: 14.7774\n",
      "Epoch 5/100\n",
      "1/1 [==============================] - 0s 14ms/step - loss: 14.6449 - mae: 14.6449\n",
      "Epoch 6/100\n",
      "1/1 [==============================] - 0s 13ms/step - loss: 14.5124 - mae: 14.5124\n",
      "Epoch 7/100\n",
      "1/1 [==============================] - 0s 17ms/step - loss: 14.3799 - mae: 14.3799\n",
      "Epoch 8/100\n",
      "1/1 [==============================] - 0s 13ms/step - loss: 14.2474 - mae: 14.2474\n",
      "Epoch 9/100\n",
      "1/1 [==============================] - 0s 14ms/step - loss: 14.1149 - mae: 14.1149\n",
      "Epoch 10/100\n",
      "1/1 [==============================] - 0s 17ms/step - loss: 13.9824 - mae: 13.9824\n",
      "Epoch 11/100\n",
      "1/1 [==============================] - 0s 14ms/step - loss: 13.8499 - mae: 13.8499\n",
      "Epoch 12/100\n",
      "1/1 [==============================] - 0s 13ms/step - loss: 13.7174 - mae: 13.7174\n",
      "Epoch 13/100\n",
      "1/1 [==============================] - 0s 12ms/step - loss: 13.5849 - mae: 13.5849\n",
      "Epoch 14/100\n",
      "1/1 [==============================] - 0s 15ms/step - loss: 13.4524 - mae: 13.4524\n",
      "Epoch 15/100\n",
      "1/1 [==============================] - 0s 14ms/step - loss: 13.3199 - mae: 13.3199\n",
      "Epoch 16/100\n",
      "1/1 [==============================] - 0s 12ms/step - loss: 13.1874 - mae: 13.1874\n",
      "Epoch 17/100\n",
      "1/1 [==============================] - 0s 11ms/step - loss: 13.0549 - mae: 13.0549\n",
      "Epoch 18/100\n",
      "1/1 [==============================] - 0s 21ms/step - loss: 12.9224 - mae: 12.9224\n",
      "Epoch 19/100\n",
      "1/1 [==============================] - 0s 11ms/step - loss: 12.7899 - mae: 12.7899\n",
      "Epoch 20/100\n",
      "1/1 [==============================] - 0s 11ms/step - loss: 12.6574 - mae: 12.6574\n",
      "Epoch 21/100\n",
      "1/1 [==============================] - 0s 14ms/step - loss: 12.5249 - mae: 12.5249\n",
      "Epoch 22/100\n",
      "1/1 [==============================] - 0s 15ms/step - loss: 12.3924 - mae: 12.3924\n",
      "Epoch 23/100\n",
      "1/1 [==============================] - 0s 16ms/step - loss: 12.2599 - mae: 12.2599\n",
      "Epoch 24/100\n",
      "1/1 [==============================] - 0s 12ms/step - loss: 12.1274 - mae: 12.1274\n",
      "Epoch 25/100\n",
      "1/1 [==============================] - 0s 14ms/step - loss: 11.9949 - mae: 11.9949\n",
      "Epoch 26/100\n",
      "1/1 [==============================] - 0s 14ms/step - loss: 11.8624 - mae: 11.8624\n",
      "Epoch 27/100\n",
      "1/1 [==============================] - 0s 7ms/step - loss: 11.7299 - mae: 11.7299\n",
      "Epoch 28/100\n",
      "1/1 [==============================] - 0s 8ms/step - loss: 11.5974 - mae: 11.5974\n",
      "Epoch 29/100\n",
      "1/1 [==============================] - 0s 3ms/step - loss: 11.4649 - mae: 11.4649\n",
      "Epoch 30/100\n",
      "1/1 [==============================] - 0s 6ms/step - loss: 11.3324 - mae: 11.3324\n",
      "Epoch 31/100\n",
      "1/1 [==============================] - 0s 9ms/step - loss: 11.1999 - mae: 11.1999\n",
      "Epoch 32/100\n",
      "1/1 [==============================] - 0s 14ms/step - loss: 11.0674 - mae: 11.0674\n",
      "Epoch 33/100\n",
      "1/1 [==============================] - 0s 15ms/step - loss: 10.9349 - mae: 10.9349\n",
      "Epoch 34/100\n",
      "1/1 [==============================] - 0s 8ms/step - loss: 10.8024 - mae: 10.8024\n",
      "Epoch 35/100\n",
      "1/1 [==============================] - 0s 6ms/step - loss: 10.6699 - mae: 10.6699\n",
      "Epoch 36/100\n",
      "1/1 [==============================] - 0s 5ms/step - loss: 10.5374 - mae: 10.5374\n",
      "Epoch 37/100\n",
      "1/1 [==============================] - 0s 13ms/step - loss: 10.4049 - mae: 10.4049\n",
      "Epoch 38/100\n",
      "1/1 [==============================] - 0s 7ms/step - loss: 10.2724 - mae: 10.2724\n",
      "Epoch 39/100\n",
      "1/1 [==============================] - 0s 5ms/step - loss: 10.1399 - mae: 10.1399\n",
      "Epoch 40/100\n",
      "1/1 [==============================] - 0s 11ms/step - loss: 10.0074 - mae: 10.0074\n",
      "Epoch 41/100\n",
      "1/1 [==============================] - 0s 5ms/step - loss: 9.8749 - mae: 9.8749\n",
      "Epoch 42/100\n",
      "1/1 [==============================] - 0s 6ms/step - loss: 9.7424 - mae: 9.7424\n",
      "Epoch 43/100\n",
      "1/1 [==============================] - 0s 7ms/step - loss: 9.6099 - mae: 9.6099\n",
      "Epoch 44/100\n",
      "1/1 [==============================] - 0s 3ms/step - loss: 9.4774 - mae: 9.4774\n",
      "Epoch 45/100\n",
      "1/1 [==============================] - 0s 10ms/step - loss: 9.3449 - mae: 9.3449\n",
      "Epoch 46/100\n",
      "1/1 [==============================] - 0s 9ms/step - loss: 9.2124 - mae: 9.2124\n",
      "Epoch 47/100\n",
      "1/1 [==============================] - 0s 8ms/step - loss: 9.0799 - mae: 9.0799\n",
      "Epoch 48/100\n",
      "1/1 [==============================] - 0s 8ms/step - loss: 8.9474 - mae: 8.9474\n",
      "Epoch 49/100\n",
      "1/1 [==============================] - 0s 5ms/step - loss: 8.8149 - mae: 8.8149\n",
      "Epoch 50/100\n",
      "1/1 [==============================] - 0s 7ms/step - loss: 8.6824 - mae: 8.6824\n",
      "Epoch 51/100\n",
      "1/1 [==============================] - 0s 7ms/step - loss: 8.5499 - mae: 8.5499\n",
      "Epoch 52/100\n",
      "1/1 [==============================] - 0s 7ms/step - loss: 8.4174 - mae: 8.4174\n",
      "Epoch 53/100\n",
      "1/1 [==============================] - 0s 4ms/step - loss: 8.2849 - mae: 8.2849\n",
      "Epoch 54/100\n",
      "1/1 [==============================] - 0s 5ms/step - loss: 8.1524 - mae: 8.1524\n",
      "Epoch 55/100\n",
      "1/1 [==============================] - 0s 7ms/step - loss: 8.0199 - mae: 8.0199\n",
      "Epoch 56/100\n",
      "1/1 [==============================] - 0s 8ms/step - loss: 7.8874 - mae: 7.8874\n",
      "Epoch 57/100\n",
      "1/1 [==============================] - 0s 12ms/step - loss: 7.7549 - mae: 7.7549\n",
      "Epoch 58/100\n",
      "1/1 [==============================] - 0s 16ms/step - loss: 7.6224 - mae: 7.6224\n",
      "Epoch 59/100\n",
      "1/1 [==============================] - 0s 10ms/step - loss: 7.4899 - mae: 7.4899\n",
      "Epoch 60/100\n",
      "1/1 [==============================] - 0s 17ms/step - loss: 7.3574 - mae: 7.3574\n",
      "Epoch 61/100\n",
      "1/1 [==============================] - 0s 11ms/step - loss: 7.2249 - mae: 7.2249\n",
      "Epoch 62/100\n",
      "1/1 [==============================] - 0s 16ms/step - loss: 7.0924 - mae: 7.0924\n",
      "Epoch 63/100\n",
      "1/1 [==============================] - 0s 11ms/step - loss: 7.0388 - mae: 7.0388\n",
      "Epoch 64/100\n",
      "1/1 [==============================] - 0s 12ms/step - loss: 7.0331 - mae: 7.0331\n",
      "Epoch 65/100\n",
      "1/1 [==============================] - 0s 11ms/step - loss: 7.0275 - mae: 7.0275\n",
      "Epoch 66/100\n",
      "1/1 [==============================] - 0s 12ms/step - loss: 7.0219 - mae: 7.0219\n",
      "Epoch 67/100\n",
      "1/1 [==============================] - 0s 7ms/step - loss: 7.0163 - mae: 7.0163\n",
      "Epoch 68/100\n",
      "1/1 [==============================] - 0s 8ms/step - loss: 7.0106 - mae: 7.0106\n",
      "Epoch 69/100\n",
      "1/1 [==============================] - 0s 14ms/step - loss: 7.0050 - mae: 7.0050\n",
      "Epoch 70/100\n",
      "1/1 [==============================] - 0s 8ms/step - loss: 6.9994 - mae: 6.9994\n",
      "Epoch 71/100\n",
      "1/1 [==============================] - 0s 12ms/step - loss: 6.9938 - mae: 6.9938\n",
      "Epoch 72/100\n",
      "1/1 [==============================] - 0s 9ms/step - loss: 6.9881 - mae: 6.9881\n",
      "Epoch 73/100\n",
      "1/1 [==============================] - 0s 10ms/step - loss: 6.9825 - mae: 6.9825\n",
      "Epoch 74/100\n",
      "1/1 [==============================] - 0s 12ms/step - loss: 6.9769 - mae: 6.9769\n",
      "Epoch 75/100\n",
      "1/1 [==============================] - 0s 12ms/step - loss: 6.9713 - mae: 6.9713\n",
      "Epoch 76/100\n",
      "1/1 [==============================] - 0s 11ms/step - loss: 6.9656 - mae: 6.9656\n",
      "Epoch 77/100\n",
      "1/1 [==============================] - 0s 10ms/step - loss: 6.9600 - mae: 6.9600\n",
      "Epoch 78/100\n",
      "1/1 [==============================] - 0s 9ms/step - loss: 6.9544 - mae: 6.9544\n",
      "Epoch 79/100\n",
      "1/1 [==============================] - 0s 7ms/step - loss: 6.9488 - mae: 6.9488\n",
      "Epoch 80/100\n",
      "1/1 [==============================] - 0s 10ms/step - loss: 6.9431 - mae: 6.9431\n",
      "Epoch 81/100\n",
      "1/1 [==============================] - 0s 10ms/step - loss: 6.9375 - mae: 6.9375\n",
      "Epoch 82/100\n",
      "1/1 [==============================] - 0s 8ms/step - loss: 6.9319 - mae: 6.9319\n",
      "Epoch 83/100\n",
      "1/1 [==============================] - 0s 8ms/step - loss: 6.9263 - mae: 6.9263\n",
      "Epoch 84/100\n",
      "1/1 [==============================] - 0s 8ms/step - loss: 6.9206 - mae: 6.9206\n",
      "Epoch 85/100\n",
      "1/1 [==============================] - 0s 7ms/step - loss: 6.9150 - mae: 6.9150\n",
      "Epoch 86/100\n",
      "1/1 [==============================] - 0s 9ms/step - loss: 6.9094 - mae: 6.9094\n",
      "Epoch 87/100\n"
     ]
    },
    {
     "name": "stdout",
     "output_type": "stream",
     "text": [
      "1/1 [==============================] - 0s 7ms/step - loss: 6.9038 - mae: 6.9038\n",
      "Epoch 88/100\n",
      "1/1 [==============================] - 0s 5ms/step - loss: 6.8981 - mae: 6.8981\n",
      "Epoch 89/100\n",
      "1/1 [==============================] - 0s 2ms/step - loss: 6.8925 - mae: 6.8925\n",
      "Epoch 90/100\n",
      "1/1 [==============================] - 0s 10ms/step - loss: 6.8869 - mae: 6.8869\n",
      "Epoch 91/100\n",
      "1/1 [==============================] - 0s 8ms/step - loss: 6.8813 - mae: 6.8813\n",
      "Epoch 92/100\n",
      "1/1 [==============================] - 0s 10ms/step - loss: 6.8756 - mae: 6.8756\n",
      "Epoch 93/100\n",
      "1/1 [==============================] - 0s 11ms/step - loss: 6.8700 - mae: 6.8700\n",
      "Epoch 94/100\n",
      "1/1 [==============================] - 0s 6ms/step - loss: 6.8644 - mae: 6.8644\n",
      "Epoch 95/100\n",
      "1/1 [==============================] - 0s 5ms/step - loss: 6.8588 - mae: 6.8588\n",
      "Epoch 96/100\n",
      "1/1 [==============================] - 0s 8ms/step - loss: 6.8531 - mae: 6.8531\n",
      "Epoch 97/100\n",
      "1/1 [==============================] - 0s 5ms/step - loss: 6.8475 - mae: 6.8475\n",
      "Epoch 98/100\n",
      "1/1 [==============================] - 0s 5ms/step - loss: 6.8419 - mae: 6.8419\n",
      "Epoch 99/100\n",
      "1/1 [==============================] - 0s 5ms/step - loss: 6.8363 - mae: 6.8363\n",
      "Epoch 100/100\n",
      "1/1 [==============================] - 0s 8ms/step - loss: 6.8306 - mae: 6.8306\n"
     ]
    },
    {
     "data": {
      "text/plain": [
       "<keras.callbacks.History at 0x21a3936fb80>"
      ]
     },
     "execution_count": 53,
     "metadata": {},
     "output_type": "execute_result"
    }
   ],
   "source": [
    "# set random seed\n",
    "tf.random.set_seed(42)\n",
    "# 1. Create a model using the Sequential API\n",
    "# we can use add method to add layers or put into the list as below\n",
    "model = tf.keras.Sequential([\n",
    "    tf.keras.layers.Dense(1)\n",
    "])\n",
    "\n",
    "# 2. Compile the model\n",
    "model.compile(loss=tf.keras.losses.mae, # mean absolute error\n",
    "             optimizer=tf.keras.optimizers.SGD(), #stochastic gradient descent\n",
    "             metrics = ['mae'])\n",
    "\n",
    "#fit the model\n",
    "\n",
    "model.fit(\n",
    "    tf.expand_dims(X, axis=-1), # for avoid shape error, Input 0 of layer \"dense\" is incompatible with the layer: expected min_ndim=2, found ndim=1. Full shape received: (None,)\n",
    "    y,\n",
    "    epochs = 100\n",
    ")\n",
    "\n"
   ]
  },
  {
   "cell_type": "code",
   "execution_count": 54,
   "id": "1716d328",
   "metadata": {},
   "outputs": [
    {
     "name": "stdout",
     "output_type": "stream",
     "text": [
      "WARNING:tensorflow:5 out of the last 10 calls to <function Model.make_predict_function.<locals>.predict_function at 0x0000021A39374B80> triggered tf.function retracing. Tracing is expensive and the excessive number of tracings could be due to (1) creating @tf.function repeatedly in a loop, (2) passing tensors with different shapes, (3) passing Python objects instead of tensors. For (1), please define your @tf.function outside of the loop. For (2), @tf.function has reduce_retracing=True option that can avoid unnecessary retracing. For (3), please refer to https://www.tensorflow.org/guide/function#controlling_retracing and https://www.tensorflow.org/api_docs/python/tf/function for  more details.\n",
      "1/1 [==============================] - 0s 70ms/step\n"
     ]
    },
    {
     "data": {
      "text/plain": [
       "array([[29.679066]], dtype=float32)"
      ]
     },
     "execution_count": 54,
     "metadata": {},
     "output_type": "execute_result"
    }
   ],
   "source": [
    "model.predict([17])"
   ]
  },
  {
   "cell_type": "code",
   "execution_count": 33,
   "id": "037bc05f",
   "metadata": {},
   "outputs": [
    {
     "data": {
      "text/plain": [
       "(<tf.Tensor: shape=(8,), dtype=float32, numpy=array([-7., -4., -1.,  2.,  5.,  8., 11., 14.], dtype=float32)>,\n",
       " <tf.Tensor: shape=(8,), dtype=float32, numpy=array([ 3.,  6.,  9., 12., 15., 18., 21., 24.], dtype=float32)>)"
      ]
     },
     "execution_count": 33,
     "metadata": {},
     "output_type": "execute_result"
    }
   ],
   "source": [
    "X, y"
   ]
  },
  {
   "cell_type": "code",
   "execution_count": 36,
   "id": "eda820e4",
   "metadata": {},
   "outputs": [
    {
     "name": "stdout",
     "output_type": "stream",
     "text": [
      "Model: \"sequential_9\"\n",
      "_________________________________________________________________\n",
      " Layer (type)                Output Shape              Param #   \n",
      "=================================================================\n",
      " dense_9 (Dense)             (None, 1)                 2         \n",
      "                                                                 \n",
      "=================================================================\n",
      "Total params: 2\n",
      "Trainable params: 2\n",
      "Non-trainable params: 0\n",
      "_________________________________________________________________\n"
     ]
    }
   ],
   "source": [
    "model.summary()"
   ]
  },
  {
   "cell_type": "markdown",
   "id": "ada73ed9",
   "metadata": {},
   "source": [
    "# improving the Model"
   ]
  },
  {
   "cell_type": "code",
   "execution_count": 64,
   "id": "afd49416",
   "metadata": {},
   "outputs": [
    {
     "name": "stderr",
     "output_type": "stream",
     "text": [
      "WARNING:absl:`lr` is deprecated in Keras optimizer, please use `learning_rate` or use the legacy optimizer, e.g.,tf.keras.optimizers.legacy.Adam.\n"
     ]
    },
    {
     "name": "stdout",
     "output_type": "stream",
     "text": [
      "Epoch 1/100\n",
      "1/1 [==============================] - 1s 518ms/step - loss: 13.1884 - mae: 13.1884\n",
      "Epoch 2/100\n",
      "1/1 [==============================] - 0s 8ms/step - loss: 13.1020 - mae: 13.1020\n",
      "Epoch 3/100\n",
      "1/1 [==============================] - 0s 10ms/step - loss: 13.0155 - mae: 13.0155\n",
      "Epoch 4/100\n",
      "1/1 [==============================] - 0s 8ms/step - loss: 12.9291 - mae: 12.9291\n",
      "Epoch 5/100\n",
      "1/1 [==============================] - 0s 13ms/step - loss: 12.8426 - mae: 12.8426\n",
      "Epoch 6/100\n",
      "1/1 [==============================] - 0s 17ms/step - loss: 12.7560 - mae: 12.7560\n",
      "Epoch 7/100\n",
      "1/1 [==============================] - 0s 21ms/step - loss: 12.6694 - mae: 12.6694\n",
      "Epoch 8/100\n",
      "1/1 [==============================] - 0s 14ms/step - loss: 12.5828 - mae: 12.5828\n",
      "Epoch 9/100\n",
      "1/1 [==============================] - 0s 14ms/step - loss: 12.4961 - mae: 12.4961\n",
      "Epoch 10/100\n",
      "1/1 [==============================] - 0s 10ms/step - loss: 12.4096 - mae: 12.4096\n",
      "Epoch 11/100\n",
      "1/1 [==============================] - 0s 13ms/step - loss: 12.3232 - mae: 12.3232\n",
      "Epoch 12/100\n",
      "1/1 [==============================] - 0s 11ms/step - loss: 12.2367 - mae: 12.2367\n",
      "Epoch 13/100\n",
      "1/1 [==============================] - 0s 10ms/step - loss: 12.1502 - mae: 12.1502\n",
      "Epoch 14/100\n",
      "1/1 [==============================] - 0s 10ms/step - loss: 12.0637 - mae: 12.0637\n",
      "Epoch 15/100\n",
      "1/1 [==============================] - 0s 8ms/step - loss: 11.9772 - mae: 11.9772\n",
      "Epoch 16/100\n",
      "1/1 [==============================] - 0s 17ms/step - loss: 11.8909 - mae: 11.8909\n",
      "Epoch 17/100\n",
      "1/1 [==============================] - 0s 17ms/step - loss: 11.8046 - mae: 11.8046\n",
      "Epoch 18/100\n",
      "1/1 [==============================] - 0s 14ms/step - loss: 11.7184 - mae: 11.7184\n",
      "Epoch 19/100\n",
      "1/1 [==============================] - 0s 6ms/step - loss: 11.6320 - mae: 11.6320\n",
      "Epoch 20/100\n",
      "1/1 [==============================] - 0s 8ms/step - loss: 11.5455 - mae: 11.5455\n",
      "Epoch 21/100\n",
      "1/1 [==============================] - 0s 11ms/step - loss: 11.4590 - mae: 11.4590\n",
      "Epoch 22/100\n",
      "1/1 [==============================] - 0s 8ms/step - loss: 11.3723 - mae: 11.3723\n",
      "Epoch 23/100\n",
      "1/1 [==============================] - 0s 7ms/step - loss: 11.2856 - mae: 11.2856\n",
      "Epoch 24/100\n",
      "1/1 [==============================] - 0s 11ms/step - loss: 11.1986 - mae: 11.1986\n",
      "Epoch 25/100\n",
      "1/1 [==============================] - 0s 10ms/step - loss: 11.1114 - mae: 11.1114\n",
      "Epoch 26/100\n",
      "1/1 [==============================] - 0s 11ms/step - loss: 11.0243 - mae: 11.0243\n",
      "Epoch 27/100\n",
      "1/1 [==============================] - 0s 10ms/step - loss: 10.9453 - mae: 10.9453\n",
      "Epoch 28/100\n",
      "1/1 [==============================] - 0s 11ms/step - loss: 10.8749 - mae: 10.8749\n",
      "Epoch 29/100\n",
      "1/1 [==============================] - 0s 10ms/step - loss: 10.8041 - mae: 10.8041\n",
      "Epoch 30/100\n",
      "1/1 [==============================] - 0s 5ms/step - loss: 10.7330 - mae: 10.7330\n",
      "Epoch 31/100\n",
      "1/1 [==============================] - 0s 8ms/step - loss: 10.6614 - mae: 10.6614\n",
      "Epoch 32/100\n",
      "1/1 [==============================] - 0s 11ms/step - loss: 10.5894 - mae: 10.5894\n",
      "Epoch 33/100\n",
      "1/1 [==============================] - 0s 5ms/step - loss: 10.5171 - mae: 10.5171\n",
      "Epoch 34/100\n",
      "1/1 [==============================] - 0s 8ms/step - loss: 10.4445 - mae: 10.4445\n",
      "Epoch 35/100\n",
      "1/1 [==============================] - 0s 7ms/step - loss: 10.3716 - mae: 10.3716\n",
      "Epoch 36/100\n",
      "1/1 [==============================] - 0s 15ms/step - loss: 10.2982 - mae: 10.2982\n",
      "Epoch 37/100\n",
      "1/1 [==============================] - 0s 14ms/step - loss: 10.2245 - mae: 10.2245\n",
      "Epoch 38/100\n",
      "1/1 [==============================] - 0s 8ms/step - loss: 10.1503 - mae: 10.1503\n",
      "Epoch 39/100\n",
      "1/1 [==============================] - 0s 9ms/step - loss: 10.0757 - mae: 10.0757\n",
      "Epoch 40/100\n",
      "1/1 [==============================] - 0s 12ms/step - loss: 10.0008 - mae: 10.0008\n",
      "Epoch 41/100\n",
      "1/1 [==============================] - 0s 10ms/step - loss: 9.9254 - mae: 9.9254\n",
      "Epoch 42/100\n",
      "1/1 [==============================] - 0s 10ms/step - loss: 9.8497 - mae: 9.8497\n",
      "Epoch 43/100\n",
      "1/1 [==============================] - 0s 17ms/step - loss: 9.7736 - mae: 9.7736\n",
      "Epoch 44/100\n",
      "1/1 [==============================] - 0s 8ms/step - loss: 9.6972 - mae: 9.6972\n",
      "Epoch 45/100\n",
      "1/1 [==============================] - 0s 10ms/step - loss: 9.6204 - mae: 9.6204\n",
      "Epoch 46/100\n",
      "1/1 [==============================] - 0s 15ms/step - loss: 9.5432 - mae: 9.5432\n",
      "Epoch 47/100\n",
      "1/1 [==============================] - 0s 9ms/step - loss: 9.4656 - mae: 9.4656\n",
      "Epoch 48/100\n",
      "1/1 [==============================] - 0s 9ms/step - loss: 9.3877 - mae: 9.3877\n",
      "Epoch 49/100\n",
      "1/1 [==============================] - 0s 8ms/step - loss: 9.3093 - mae: 9.3093\n",
      "Epoch 50/100\n",
      "1/1 [==============================] - 0s 11ms/step - loss: 9.2306 - mae: 9.2306\n",
      "Epoch 51/100\n",
      "1/1 [==============================] - 0s 14ms/step - loss: 9.1515 - mae: 9.1515\n",
      "Epoch 52/100\n",
      "1/1 [==============================] - 0s 12ms/step - loss: 9.0719 - mae: 9.0719\n",
      "Epoch 53/100\n",
      "1/1 [==============================] - 0s 9ms/step - loss: 8.9919 - mae: 8.9919\n",
      "Epoch 54/100\n",
      "1/1 [==============================] - 0s 9ms/step - loss: 8.9115 - mae: 8.9115\n",
      "Epoch 55/100\n",
      "1/1 [==============================] - 0s 16ms/step - loss: 8.8307 - mae: 8.8307\n",
      "Epoch 56/100\n",
      "1/1 [==============================] - 0s 14ms/step - loss: 8.7494 - mae: 8.7494\n",
      "Epoch 57/100\n",
      "1/1 [==============================] - 0s 12ms/step - loss: 8.6676 - mae: 8.6676\n",
      "Epoch 58/100\n",
      "1/1 [==============================] - 0s 17ms/step - loss: 8.5854 - mae: 8.5854\n",
      "Epoch 59/100\n",
      "1/1 [==============================] - 0s 15ms/step - loss: 8.5028 - mae: 8.5028\n",
      "Epoch 60/100\n",
      "1/1 [==============================] - 0s 12ms/step - loss: 8.4197 - mae: 8.4197\n",
      "Epoch 61/100\n",
      "1/1 [==============================] - 0s 19ms/step - loss: 8.3361 - mae: 8.3361\n",
      "Epoch 62/100\n",
      "1/1 [==============================] - 0s 12ms/step - loss: 8.2522 - mae: 8.2522\n",
      "Epoch 63/100\n",
      "1/1 [==============================] - 0s 13ms/step - loss: 8.1677 - mae: 8.1677\n",
      "Epoch 64/100\n",
      "1/1 [==============================] - 0s 10ms/step - loss: 8.0828 - mae: 8.0828\n",
      "Epoch 65/100\n",
      "1/1 [==============================] - 0s 12ms/step - loss: 7.9974 - mae: 7.9974\n",
      "Epoch 66/100\n",
      "1/1 [==============================] - 0s 9ms/step - loss: 7.9115 - mae: 7.9115\n",
      "Epoch 67/100\n",
      "1/1 [==============================] - 0s 15ms/step - loss: 7.8252 - mae: 7.8252\n",
      "Epoch 68/100\n",
      "1/1 [==============================] - 0s 13ms/step - loss: 7.7385 - mae: 7.7385\n",
      "Epoch 69/100\n",
      "1/1 [==============================] - 0s 14ms/step - loss: 7.6513 - mae: 7.6513\n",
      "Epoch 70/100\n",
      "1/1 [==============================] - 0s 7ms/step - loss: 7.5637 - mae: 7.5637\n",
      "Epoch 71/100\n",
      "1/1 [==============================] - 0s 8ms/step - loss: 7.4756 - mae: 7.4756\n",
      "Epoch 72/100\n",
      "1/1 [==============================] - 0s 6ms/step - loss: 7.3870 - mae: 7.3870\n",
      "Epoch 73/100\n",
      "1/1 [==============================] - 0s 9ms/step - loss: 7.2979 - mae: 7.2979\n",
      "Epoch 74/100\n",
      "1/1 [==============================] - 0s 10ms/step - loss: 7.2081 - mae: 7.2081\n",
      "Epoch 75/100\n",
      "1/1 [==============================] - 0s 12ms/step - loss: 7.1179 - mae: 7.1179\n",
      "Epoch 76/100\n",
      "1/1 [==============================] - 0s 8ms/step - loss: 7.0271 - mae: 7.0271\n",
      "Epoch 77/100\n",
      "1/1 [==============================] - 0s 6ms/step - loss: 6.9357 - mae: 6.9357\n",
      "Epoch 78/100\n",
      "1/1 [==============================] - 0s 6ms/step - loss: 6.8436 - mae: 6.8436\n",
      "Epoch 79/100\n",
      "1/1 [==============================] - 0s 6ms/step - loss: 6.7510 - mae: 6.7510\n",
      "Epoch 80/100\n",
      "1/1 [==============================] - 0s 4ms/step - loss: 6.6579 - mae: 6.6579\n",
      "Epoch 81/100\n",
      "1/1 [==============================] - 0s 8ms/step - loss: 6.5643 - mae: 6.5643\n",
      "Epoch 82/100\n",
      "1/1 [==============================] - 0s 11ms/step - loss: 6.4700 - mae: 6.4700\n",
      "Epoch 83/100\n",
      "1/1 [==============================] - 0s 8ms/step - loss: 6.3752 - mae: 6.3752\n",
      "Epoch 84/100\n",
      "1/1 [==============================] - 0s 2ms/step - loss: 6.2798 - mae: 6.2798\n",
      "Epoch 85/100\n",
      "1/1 [==============================] - 0s 7ms/step - loss: 6.1840 - mae: 6.1840\n",
      "Epoch 86/100\n",
      "1/1 [==============================] - 0s 12ms/step - loss: 6.0875 - mae: 6.0875\n",
      "Epoch 87/100\n"
     ]
    },
    {
     "name": "stdout",
     "output_type": "stream",
     "text": [
      "1/1 [==============================] - 0s 8ms/step - loss: 5.9927 - mae: 5.9927\n",
      "Epoch 88/100\n",
      "1/1 [==============================] - 0s 7ms/step - loss: 5.8956 - mae: 5.8956\n",
      "Epoch 89/100\n",
      "1/1 [==============================] - 0s 6ms/step - loss: 5.7950 - mae: 5.7950\n",
      "Epoch 90/100\n",
      "1/1 [==============================] - 0s 8ms/step - loss: 5.6964 - mae: 5.6964\n",
      "Epoch 91/100\n",
      "1/1 [==============================] - 0s 9ms/step - loss: 5.5970 - mae: 5.5970\n",
      "Epoch 92/100\n",
      "1/1 [==============================] - 0s 7ms/step - loss: 5.4969 - mae: 5.4969\n",
      "Epoch 93/100\n",
      "1/1 [==============================] - 0s 6ms/step - loss: 5.3959 - mae: 5.3959\n",
      "Epoch 94/100\n",
      "1/1 [==============================] - 0s 8ms/step - loss: 5.2942 - mae: 5.2942\n",
      "Epoch 95/100\n",
      "1/1 [==============================] - 0s 12ms/step - loss: 5.1917 - mae: 5.1917\n",
      "Epoch 96/100\n",
      "1/1 [==============================] - 0s 13ms/step - loss: 5.0884 - mae: 5.0884\n",
      "Epoch 97/100\n",
      "1/1 [==============================] - 0s 12ms/step - loss: 4.9843 - mae: 4.9843\n",
      "Epoch 98/100\n",
      "1/1 [==============================] - 0s 9ms/step - loss: 4.8795 - mae: 4.8795\n",
      "Epoch 99/100\n",
      "1/1 [==============================] - 0s 6ms/step - loss: 4.7741 - mae: 4.7741\n",
      "Epoch 100/100\n",
      "1/1 [==============================] - 0s 8ms/step - loss: 4.6679 - mae: 4.6679\n"
     ]
    },
    {
     "data": {
      "text/plain": [
       "<keras.callbacks.History at 0x21a37fe92d0>"
      ]
     },
     "execution_count": 64,
     "metadata": {},
     "output_type": "execute_result"
    }
   ],
   "source": [
    "# set random seed\n",
    "tf.random.set_seed(42)\n",
    "# 1. Create a model using the Sequential API\n",
    "# we can use add method to add layers or put into the list as below\n",
    "modelA = tf.keras.Sequential([\n",
    "    tf.keras.layers.Dense(100, activation = 'relu'),\n",
    "    tf.keras.layers.Dense(1)\n",
    "])\n",
    "\n",
    "# 2. Compile the model\n",
    "modelA.compile(loss=tf.keras.losses.mae, # mean absolute error\n",
    "             optimizer=tf.keras.optimizers.Adam(lr = .0001), #stochastic gradient descent\n",
    "             metrics = ['mae'])\n",
    "\n",
    "#fit the model\n",
    "\n",
    "modelA.fit(\n",
    "    tf.expand_dims(X, axis=-1), # for avoid shape error, Input 0 of layer \"dense\" is incompatible with the layer: expected min_ndim=2, found ndim=1. Full shape received: (None,)\n",
    "    y,\n",
    "    epochs = 100\n",
    ")\n",
    "\n"
   ]
  },
  {
   "cell_type": "code",
   "execution_count": 65,
   "id": "b8e173d9",
   "metadata": {},
   "outputs": [
    {
     "name": "stdout",
     "output_type": "stream",
     "text": [
      "1/1 [==============================] - 0s 82ms/step\n"
     ]
    },
    {
     "data": {
      "text/plain": [
       "array([[26.920977]], dtype=float32)"
      ]
     },
     "execution_count": 65,
     "metadata": {},
     "output_type": "execute_result"
    }
   ],
   "source": [
    "modelA.predict([17])"
   ]
  },
  {
   "cell_type": "code",
   "execution_count": 66,
   "id": "8b6a5bfe",
   "metadata": {},
   "outputs": [
    {
     "name": "stdout",
     "output_type": "stream",
     "text": [
      "Model: \"sequential_21\"\n",
      "_________________________________________________________________\n",
      " Layer (type)                Output Shape              Param #   \n",
      "=================================================================\n",
      " dense_21 (Dense)            (None, 100)               200       \n",
      "                                                                 \n",
      " dense_22 (Dense)            (None, 1)                 101       \n",
      "                                                                 \n",
      "=================================================================\n",
      "Total params: 301\n",
      "Trainable params: 301\n",
      "Non-trainable params: 0\n",
      "_________________________________________________________________\n"
     ]
    }
   ],
   "source": [
    "modelA.summary()"
   ]
  },
  {
   "cell_type": "code",
   "execution_count": 110,
   "id": "08466581",
   "metadata": {},
   "outputs": [
    {
     "name": "stdout",
     "output_type": "stream",
     "text": [
      "Epoch 1/100\n",
      "1/1 [==============================] - 0s 481ms/step - loss: 11.9652 - mae: 11.9652\n",
      "Epoch 2/100\n",
      "1/1 [==============================] - 0s 8ms/step - loss: 11.2458 - mae: 11.2458\n",
      "Epoch 3/100\n",
      "1/1 [==============================] - 0s 4ms/step - loss: 10.5183 - mae: 10.5183\n",
      "Epoch 4/100\n",
      "1/1 [==============================] - 0s 2ms/step - loss: 9.7806 - mae: 9.7806\n",
      "Epoch 5/100\n",
      "1/1 [==============================] - 0s 8ms/step - loss: 9.0304 - mae: 9.0304\n",
      "Epoch 6/100\n",
      "1/1 [==============================] - 0s 12ms/step - loss: 8.2652 - mae: 8.2652\n",
      "Epoch 7/100\n",
      "1/1 [==============================] - 0s 16ms/step - loss: 7.4827 - mae: 7.4827\n",
      "Epoch 8/100\n",
      "1/1 [==============================] - 0s 16ms/step - loss: 6.8918 - mae: 6.8918\n",
      "Epoch 9/100\n",
      "1/1 [==============================] - 0s 10ms/step - loss: 6.9803 - mae: 6.9803\n",
      "Epoch 10/100\n",
      "1/1 [==============================] - 0s 16ms/step - loss: 7.2436 - mae: 7.2436\n",
      "Epoch 11/100\n",
      "1/1 [==============================] - 0s 8ms/step - loss: 7.3816 - mae: 7.3816\n",
      "Epoch 12/100\n",
      "1/1 [==============================] - 0s 13ms/step - loss: 7.4662 - mae: 7.4662\n",
      "Epoch 13/100\n",
      "1/1 [==============================] - 0s 8ms/step - loss: 7.3577 - mae: 7.3577\n",
      "Epoch 14/100\n",
      "1/1 [==============================] - 0s 14ms/step - loss: 7.1309 - mae: 7.1309\n",
      "Epoch 15/100\n",
      "1/1 [==============================] - 0s 14ms/step - loss: 6.9059 - mae: 6.9059\n",
      "Epoch 16/100\n",
      "1/1 [==============================] - 0s 14ms/step - loss: 6.6524 - mae: 6.6524\n",
      "Epoch 17/100\n",
      "1/1 [==============================] - 0s 17ms/step - loss: 6.3766 - mae: 6.3766\n",
      "Epoch 18/100\n",
      "1/1 [==============================] - 0s 12ms/step - loss: 6.1763 - mae: 6.1763\n",
      "Epoch 19/100\n",
      "1/1 [==============================] - 0s 8ms/step - loss: 6.1207 - mae: 6.1207\n",
      "Epoch 20/100\n",
      "1/1 [==============================] - 0s 15ms/step - loss: 6.1214 - mae: 6.1214\n",
      "Epoch 21/100\n",
      "1/1 [==============================] - 0s 10ms/step - loss: 6.1643 - mae: 6.1643\n",
      "Epoch 22/100\n",
      "1/1 [==============================] - 0s 14ms/step - loss: 6.0964 - mae: 6.0964\n",
      "Epoch 23/100\n",
      "1/1 [==============================] - 0s 14ms/step - loss: 5.9320 - mae: 5.9320\n",
      "Epoch 24/100\n",
      "1/1 [==============================] - 0s 14ms/step - loss: 5.7100 - mae: 5.7100\n",
      "Epoch 25/100\n",
      "1/1 [==============================] - 0s 18ms/step - loss: 5.6032 - mae: 5.6032\n",
      "Epoch 26/100\n",
      "1/1 [==============================] - 0s 10ms/step - loss: 5.4925 - mae: 5.4925\n",
      "Epoch 27/100\n",
      "1/1 [==============================] - 0s 12ms/step - loss: 5.3775 - mae: 5.3775\n",
      "Epoch 28/100\n",
      "1/1 [==============================] - 0s 10ms/step - loss: 5.3489 - mae: 5.3489\n",
      "Epoch 29/100\n",
      "1/1 [==============================] - 0s 8ms/step - loss: 5.2939 - mae: 5.2939\n",
      "Epoch 30/100\n",
      "1/1 [==============================] - 0s 14ms/step - loss: 5.1898 - mae: 5.1898\n",
      "Epoch 31/100\n",
      "1/1 [==============================] - 0s 8ms/step - loss: 5.0406 - mae: 5.0406\n",
      "Epoch 32/100\n",
      "1/1 [==============================] - 0s 9ms/step - loss: 4.8499 - mae: 4.8499\n",
      "Epoch 33/100\n",
      "1/1 [==============================] - 0s 9ms/step - loss: 4.7122 - mae: 4.7122\n",
      "Epoch 34/100\n",
      "1/1 [==============================] - 0s 8ms/step - loss: 4.6002 - mae: 4.6002\n",
      "Epoch 35/100\n",
      "1/1 [==============================] - 0s 8ms/step - loss: 4.4799 - mae: 4.4799\n",
      "Epoch 36/100\n",
      "1/1 [==============================] - 0s 10ms/step - loss: 4.4090 - mae: 4.4090\n",
      "Epoch 37/100\n",
      "1/1 [==============================] - 0s 5ms/step - loss: 4.2454 - mae: 4.2454\n",
      "Epoch 38/100\n",
      "1/1 [==============================] - 0s 5ms/step - loss: 4.0385 - mae: 4.0385\n",
      "Epoch 39/100\n",
      "1/1 [==============================] - 0s 8ms/step - loss: 3.8657 - mae: 3.8657\n",
      "Epoch 40/100\n",
      "1/1 [==============================] - 0s 5ms/step - loss: 3.6889 - mae: 3.6889\n",
      "Epoch 41/100\n",
      "1/1 [==============================] - 0s 8ms/step - loss: 3.5596 - mae: 3.5596\n",
      "Epoch 42/100\n",
      "1/1 [==============================] - 0s 9ms/step - loss: 3.3700 - mae: 3.3700\n",
      "Epoch 43/100\n",
      "1/1 [==============================] - 0s 6ms/step - loss: 3.1584 - mae: 3.1584\n",
      "Epoch 44/100\n",
      "1/1 [==============================] - 0s 7ms/step - loss: 2.9737 - mae: 2.9737\n",
      "Epoch 45/100\n",
      "1/1 [==============================] - 0s 10ms/step - loss: 2.7778 - mae: 2.7778\n",
      "Epoch 46/100\n",
      "1/1 [==============================] - 0s 6ms/step - loss: 2.5705 - mae: 2.5705\n",
      "Epoch 47/100\n",
      "1/1 [==============================] - 0s 10ms/step - loss: 2.3647 - mae: 2.3647\n",
      "Epoch 48/100\n",
      "1/1 [==============================] - 0s 7ms/step - loss: 2.1095 - mae: 2.1095\n",
      "Epoch 49/100\n",
      "1/1 [==============================] - 0s 5ms/step - loss: 1.8964 - mae: 1.8964\n",
      "Epoch 50/100\n",
      "1/1 [==============================] - 0s 8ms/step - loss: 1.6723 - mae: 1.6723\n",
      "Epoch 51/100\n",
      "1/1 [==============================] - 0s 18ms/step - loss: 1.3702 - mae: 1.3702\n",
      "Epoch 52/100\n",
      "1/1 [==============================] - 0s 17ms/step - loss: 1.1506 - mae: 1.1506\n",
      "Epoch 53/100\n",
      "1/1 [==============================] - 0s 15ms/step - loss: 0.8760 - mae: 0.8760\n",
      "Epoch 54/100\n",
      "1/1 [==============================] - 0s 22ms/step - loss: 0.5843 - mae: 0.5843\n",
      "Epoch 55/100\n",
      "1/1 [==============================] - 0s 16ms/step - loss: 0.4107 - mae: 0.4107\n",
      "Epoch 56/100\n",
      "1/1 [==============================] - 0s 12ms/step - loss: 0.0768 - mae: 0.0768\n",
      "Epoch 57/100\n",
      "1/1 [==============================] - 0s 12ms/step - loss: 0.3284 - mae: 0.3284\n",
      "Epoch 58/100\n",
      "1/1 [==============================] - 0s 8ms/step - loss: 0.4707 - mae: 0.4707\n",
      "Epoch 59/100\n",
      "1/1 [==============================] - 0s 13ms/step - loss: 0.5770 - mae: 0.5770\n",
      "Epoch 60/100\n",
      "1/1 [==============================] - 0s 8ms/step - loss: 0.7044 - mae: 0.7044\n",
      "Epoch 61/100\n",
      "1/1 [==============================] - 0s 9ms/step - loss: 0.6679 - mae: 0.6679\n",
      "Epoch 62/100\n",
      "1/1 [==============================] - 0s 23ms/step - loss: 0.6654 - mae: 0.6654\n",
      "Epoch 63/100\n",
      "1/1 [==============================] - 0s 8ms/step - loss: 0.5948 - mae: 0.5948\n",
      "Epoch 64/100\n",
      "1/1 [==============================] - 0s 8ms/step - loss: 0.5457 - mae: 0.5457\n",
      "Epoch 65/100\n",
      "1/1 [==============================] - 0s 7ms/step - loss: 0.3819 - mae: 0.3819\n",
      "Epoch 66/100\n",
      "1/1 [==============================] - 0s 10ms/step - loss: 0.2819 - mae: 0.2819\n",
      "Epoch 67/100\n",
      "1/1 [==============================] - 0s 8ms/step - loss: 0.1248 - mae: 0.1248\n",
      "Epoch 68/100\n",
      "1/1 [==============================] - 0s 14ms/step - loss: 0.1006 - mae: 0.1006\n",
      "Epoch 69/100\n",
      "1/1 [==============================] - 0s 16ms/step - loss: 0.2482 - mae: 0.2482\n",
      "Epoch 70/100\n",
      "1/1 [==============================] - 0s 8ms/step - loss: 0.2717 - mae: 0.2717\n",
      "Epoch 71/100\n",
      "1/1 [==============================] - 0s 8ms/step - loss: 0.3494 - mae: 0.3494\n",
      "Epoch 72/100\n",
      "1/1 [==============================] - 0s 11ms/step - loss: 0.3226 - mae: 0.3226\n",
      "Epoch 73/100\n",
      "1/1 [==============================] - 0s 5ms/step - loss: 0.2980 - mae: 0.2980\n",
      "Epoch 74/100\n",
      "1/1 [==============================] - 0s 8ms/step - loss: 0.2318 - mae: 0.2318\n",
      "Epoch 75/100\n",
      "1/1 [==============================] - 0s 14ms/step - loss: 0.1770 - mae: 0.1770\n",
      "Epoch 76/100\n",
      "1/1 [==============================] - 0s 13ms/step - loss: 0.0658 - mae: 0.0658\n",
      "Epoch 77/100\n",
      "1/1 [==============================] - 0s 9ms/step - loss: 0.1207 - mae: 0.1207\n",
      "Epoch 78/100\n",
      "1/1 [==============================] - 0s 12ms/step - loss: 0.2041 - mae: 0.2041\n",
      "Epoch 79/100\n",
      "1/1 [==============================] - 0s 15ms/step - loss: 0.2296 - mae: 0.2296\n",
      "Epoch 80/100\n",
      "1/1 [==============================] - 0s 11ms/step - loss: 0.2392 - mae: 0.2392\n",
      "Epoch 81/100\n",
      "1/1 [==============================] - 0s 13ms/step - loss: 0.2050 - mae: 0.2050\n",
      "Epoch 82/100\n",
      "1/1 [==============================] - 0s 10ms/step - loss: 0.1999 - mae: 0.1999\n",
      "Epoch 83/100\n",
      "1/1 [==============================] - 0s 8ms/step - loss: 0.0643 - mae: 0.0643\n",
      "Epoch 84/100\n",
      "1/1 [==============================] - 0s 7ms/step - loss: 0.2986 - mae: 0.2986\n",
      "Epoch 85/100\n",
      "1/1 [==============================] - 0s 6ms/step - loss: 0.2703 - mae: 0.2703\n",
      "Epoch 86/100\n",
      "1/1 [==============================] - 0s 9ms/step - loss: 0.1962 - mae: 0.1962\n",
      "Epoch 87/100\n",
      "1/1 [==============================] - 0s 10ms/step - loss: 0.2984 - mae: 0.2984\n",
      "Epoch 88/100\n"
     ]
    },
    {
     "name": "stdout",
     "output_type": "stream",
     "text": [
      "1/1 [==============================] - 0s 6ms/step - loss: 0.1964 - mae: 0.1964\n",
      "Epoch 89/100\n",
      "1/1 [==============================] - 0s 5ms/step - loss: 0.2471 - mae: 0.2471\n",
      "Epoch 90/100\n",
      "1/1 [==============================] - 0s 10ms/step - loss: 0.1349 - mae: 0.1349\n",
      "Epoch 91/100\n",
      "1/1 [==============================] - 0s 8ms/step - loss: 0.2485 - mae: 0.2485\n",
      "Epoch 92/100\n",
      "1/1 [==============================] - 0s 6ms/step - loss: 0.1708 - mae: 0.1708\n",
      "Epoch 93/100\n",
      "1/1 [==============================] - 0s 9ms/step - loss: 0.2581 - mae: 0.2581\n",
      "Epoch 94/100\n",
      "1/1 [==============================] - 0s 7ms/step - loss: 0.3015 - mae: 0.3015\n",
      "Epoch 95/100\n",
      "1/1 [==============================] - 0s 6ms/step - loss: 0.2049 - mae: 0.2049\n",
      "Epoch 96/100\n",
      "1/1 [==============================] - 0s 7ms/step - loss: 0.2110 - mae: 0.2110\n",
      "Epoch 97/100\n",
      "1/1 [==============================] - 0s 12ms/step - loss: 0.1478 - mae: 0.1478\n",
      "Epoch 98/100\n",
      "1/1 [==============================] - 0s 5ms/step - loss: 0.0474 - mae: 0.0474\n",
      "Epoch 99/100\n",
      "1/1 [==============================] - 0s 7ms/step - loss: 0.1706 - mae: 0.1706\n",
      "Epoch 100/100\n",
      "1/1 [==============================] - 0s 11ms/step - loss: 0.1181 - mae: 0.1181\n"
     ]
    },
    {
     "data": {
      "text/plain": [
       "<keras.callbacks.History at 0x21a46e59720>"
      ]
     },
     "execution_count": 110,
     "metadata": {},
     "output_type": "execute_result"
    }
   ],
   "source": [
    "# set random seed\n",
    "tf.random.set_seed(42)\n",
    "# 1. Create a model using the Sequential API\n",
    "# we can use add method to add layers or put into the list as below\n",
    "modelB = tf.keras.Sequential([\n",
    "    #tf.keras.layers.Dense(100, activation = 'relu'),\n",
    "    tf.keras.layers.Dense(50, activation = None),\n",
    "    #tf.keras.layers.Dense(3, activation = 'relu'),\n",
    "\n",
    "\n",
    "    tf.keras.layers.Dense(1)\n",
    "])\n",
    "\n",
    "# 2. Compile the model\n",
    "modelB.compile(loss=tf.keras.losses.mae, # mean absolute error\n",
    "             optimizer=tf.keras.optimizers.Adam(0.01), #stochastic gradient descent\n",
    "             metrics = ['mae'])\n",
    "\n",
    "#fit the model\n",
    "\n",
    "modelB.fit(\n",
    "    tf.expand_dims(X, axis=-1), # for avoid shape error, Input 0 of layer \"dense\" is incompatible with the layer: expected min_ndim=2, found ndim=1. Full shape received: (None,)\n",
    "    y,\n",
    "    epochs = 100\n",
    ")\n",
    "\n"
   ]
  },
  {
   "cell_type": "code",
   "execution_count": 112,
   "id": "2f78fa60",
   "metadata": {},
   "outputs": [
    {
     "name": "stdout",
     "output_type": "stream",
     "text": [
      "Model: \"sequential_48\"\n",
      "_________________________________________________________________\n",
      " Layer (type)                Output Shape              Param #   \n",
      "=================================================================\n",
      " dense_83 (Dense)            (None, 50)                100       \n",
      "                                                                 \n",
      " dense_84 (Dense)            (None, 1)                 51        \n",
      "                                                                 \n",
      "=================================================================\n",
      "Total params: 151\n",
      "Trainable params: 151\n",
      "Non-trainable params: 0\n",
      "_________________________________________________________________\n"
     ]
    }
   ],
   "source": [
    "modelB.summary()"
   ]
  },
  {
   "cell_type": "code",
   "execution_count": 111,
   "id": "1ba0b977",
   "metadata": {},
   "outputs": [
    {
     "name": "stdout",
     "output_type": "stream",
     "text": [
      "1/1 [==============================] - 0s 99ms/step\n"
     ]
    },
    {
     "data": {
      "text/plain": [
       "array([[27.179876]], dtype=float32)"
      ]
     },
     "execution_count": 111,
     "metadata": {},
     "output_type": "execute_result"
    }
   ],
   "source": [
    "modelB.predict([17.0])"
   ]
  },
  {
   "cell_type": "markdown",
   "id": "970fbb1a",
   "metadata": {},
   "source": [
    "# Working with a bit bigger dataset\n"
   ]
  },
  {
   "cell_type": "code",
   "execution_count": 113,
   "id": "c2fa27ec",
   "metadata": {},
   "outputs": [
    {
     "data": {
      "text/plain": [
       "<tf.Tensor: shape=(50,), dtype=int32, numpy=\n",
       "array([-100,  -96,  -92,  -88,  -84,  -80,  -76,  -72,  -68,  -64,  -60,\n",
       "        -56,  -52,  -48,  -44,  -40,  -36,  -32,  -28,  -24,  -20,  -16,\n",
       "        -12,   -8,   -4,    0,    4,    8,   12,   16,   20,   24,   28,\n",
       "         32,   36,   40,   44,   48,   52,   56,   60,   64,   68,   72,\n",
       "         76,   80,   84,   88,   92,   96])>"
      ]
     },
     "execution_count": 113,
     "metadata": {},
     "output_type": "execute_result"
    }
   ],
   "source": [
    "X = tf.range(-100, 100, 4)\n",
    "X\n"
   ]
  },
  {
   "cell_type": "code",
   "execution_count": 114,
   "id": "20223d4b",
   "metadata": {},
   "outputs": [
    {
     "data": {
      "text/plain": [
       "<tf.Tensor: shape=(50,), dtype=int32, numpy=\n",
       "array([-90, -86, -82, -78, -74, -70, -66, -62, -58, -54, -50, -46, -42,\n",
       "       -38, -34, -30, -26, -22, -18, -14, -10,  -6,  -2,   2,   6,  10,\n",
       "        14,  18,  22,  26,  30,  34,  38,  42,  46,  50,  54,  58,  62,\n",
       "        66,  70,  74,  78,  82,  86,  90,  94,  98, 102, 106])>"
      ]
     },
     "execution_count": 114,
     "metadata": {},
     "output_type": "execute_result"
    }
   ],
   "source": [
    "y = X + 10\n",
    "y"
   ]
  },
  {
   "cell_type": "code",
   "execution_count": 115,
   "id": "703c82f9",
   "metadata": {},
   "outputs": [
    {
     "data": {
      "text/plain": [
       "<matplotlib.collections.PathCollection at 0x21a46f71f30>"
      ]
     },
     "execution_count": 115,
     "metadata": {},
     "output_type": "execute_result"
    },
    {
     "data": {
      "image/png": "[encoded data removed]",
      "text/plain": [
       "<Figure size 640x480 with 1 Axes>"
      ]
     },
     "metadata": {},
     "output_type": "display_data"
    }
   ],
   "source": [
    "plt.scatter(X, y)"
   ]
  },
  {
   "cell_type": "code",
   "execution_count": 116,
   "id": "d577764f",
   "metadata": {},
   "outputs": [
    {
     "data": {
      "text/plain": [
       "50"
      ]
     },
     "execution_count": 116,
     "metadata": {},
     "output_type": "execute_result"
    }
   ],
   "source": [
    "len(y)"
   ]
  },
  {
   "cell_type": "code",
   "execution_count": 117,
   "id": "8c56fb01",
   "metadata": {},
   "outputs": [
    {
     "data": {
      "text/plain": [
       "(40, 10)"
      ]
     },
     "execution_count": 117,
     "metadata": {},
     "output_type": "execute_result"
    }
   ],
   "source": [
    "X_train = X[:40] #1st 40 data\n",
    "y_train = y[:40] \n",
    "\n",
    "X_test = X[40:] #rest of data\n",
    "y_test = y[40:]\n",
    "len(X_train), len(y_test)"
   ]
  },
  {
   "cell_type": "code",
   "execution_count": 120,
   "id": "7a685173",
   "metadata": {},
   "outputs": [
    {
     "data": {
      "text/plain": [
       "<matplotlib.legend.Legend at 0x21a471efa60>"
      ]
     },
     "execution_count": 120,
     "metadata": {},
     "output_type": "execute_result"
    },
    {
     "data": {
      "image/png": "[encoded data removed]",
      "text/plain": [
       "<Figure size 1000x700 with 1 Axes>"
      ]
     },
     "metadata": {},
     "output_type": "display_data"
    }
   ],
   "source": [
    "plt.figure(figsize=(10,7))\n",
    "plt.scatter(X_train, y_train, c = 'b', label = 'training dataset')\n",
    "plt.scatter(X_test, y_test, c='g', label = 'testing dataset')\n",
    "plt.legend()"
   ]
  },
  {
   "cell_type": "code",
   "execution_count": 143,
   "id": "43df5489",
   "metadata": {},
   "outputs": [
    {
     "data": {
      "text/plain": [
       "\"'\\n# fit the model\\nmodel.fit(\\n    X_train,\\n    y_train,\\n    epochs = 100\\n)\\n\""
      ]
     },
     "execution_count": 143,
     "metadata": {},
     "output_type": "execute_result"
    }
   ],
   "source": [
    "# let's bouild a model for this data\n",
    "# create the model by defining the input shape arg in the first layer\n",
    "\n",
    "model = tf.keras.Sequential([\n",
    "    tf.keras.layers.Dense(1,input_shape=[1]),\n",
    "\n",
    "    tf.keras.layers.Dense(10,input_shape=[1], activation = 'relu'),\n",
    "\n",
    "    tf.keras.layers.Dense(1, input_shape=[1])\n",
    "])\n",
    "\n",
    "# compile the model\n",
    "model.compile(loss=tf.keras.losses.mae,\n",
    "             optimizer = tf.keras.optimizers.SGD(),\n",
    "             metrics=['mae'])\n",
    "''''\n",
    "# fit the model\n",
    "model.fit(\n",
    "    X_train,\n",
    "    y_train,\n",
    "    epochs = 100\n",
    ")\n",
    "'''"
   ]
  },
  {
   "cell_type": "code",
   "execution_count": 146,
   "id": "2ae6bc0b",
   "metadata": {},
   "outputs": [
    {
     "name": "stdout",
     "output_type": "stream",
     "text": [
      "Model: \"sequential_60\"\n",
      "_________________________________________________________________\n",
      " Layer (type)                Output Shape              Param #   \n",
      "=================================================================\n",
      " dense_103 (Dense)           (None, 1)                 2         \n",
      "                                                                 \n",
      " dense_104 (Dense)           (None, 10)                20        \n",
      "                                                                 \n",
      " dense_105 (Dense)           (None, 1)                 11        \n",
      "                                                                 \n",
      "=================================================================\n",
      "Total params: 33\n",
      "Trainable params: 33\n",
      "Non-trainable params: 0\n",
      "_________________________________________________________________\n"
     ]
    }
   ],
   "source": [
    "model.summary()"
   ]
  },
  {
   "cell_type": "code",
   "execution_count": 147,
   "id": "f4abf4d4",
   "metadata": {},
   "outputs": [
    {
     "name": "stdout",
     "output_type": "stream",
     "text": [
      "You must install pydot (`pip install pydot`) and install graphviz (see instructions at https://graphviz.gitlab.io/download/) for plot_model to work.\n"
     ]
    }
   ],
   "source": [
    "from tensorflow.keras.utils import plot_model\n",
    "plot_model(model=model)"
   ]
  },
  {
   "cell_type": "code",
   "execution_count": 148,
   "id": "b05667c7",
   "metadata": {},
   "outputs": [
    {
     "name": "stdout",
     "output_type": "stream",
     "text": [
      "You must install pydot (`pip install pydot`) and install graphviz (see instructions at https://graphviz.gitlab.io/download/) for plot_model to work.\n"
     ]
    }
   ],
   "source": [
    "from tensorflow.keras.utils import plot_model\n",
    "plot_model(model=model)"
   ]
  },
  {
   "cell_type": "code",
   "execution_count": null,
   "id": "da10f69c",
   "metadata": {},
   "outputs": [],
   "source": []
  }
 ],
 "metadata": {
  "kernelspec": {
   "display_name": "Python 3 (ipykernel)",
   "language": "python",
   "name": "python3"
  },
  "language_info": {
   "codemirror_mode": {
    "name": "ipython",
    "version": 3
   },
   "file_extension": ".py",
   "mimetype": "text/x-python",
   "name": "python",
   "nbconvert_exporter": "python",
   "pygments_lexer": "ipython3",
   "version": "3.10.4"
  }
 },
 "nbformat": 4,
 "nbformat_minor": 5
}
