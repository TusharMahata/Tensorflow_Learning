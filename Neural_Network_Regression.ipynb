{
 "cells": [
  {
   "cell_type": "markdown",
   "id": "06bc6ab1",
   "metadata": {},
   "source": [
    "# Regression with neural Network using TensorFlow\n"
   ]
  },
  {
   "cell_type": "code",
   "execution_count": 1,
   "id": "3a00729f",
   "metadata": {},
   "outputs": [],
   "source": [
    "import tensorflow as tf"
   ]
  },
  {
   "cell_type": "code",
   "execution_count": 3,
   "id": "46f35a37",
   "metadata": {},
   "outputs": [
    {
     "name": "stdout",
     "output_type": "stream",
     "text": [
      "2.12.0\n"
     ]
    }
   ],
   "source": [
    "print(tf.__version__)"
   ]
  },
  {
   "cell_type": "code",
   "execution_count": 8,
   "id": "5e7a0b2d",
   "metadata": {},
   "outputs": [
    {
     "data": {
      "text/plain": [
       "<matplotlib.collections.PathCollection at 0x21a35643ac0>"
      ]
     },
     "execution_count": 8,
     "metadata": {},
     "output_type": "execute_result"
    },
    {
     "data": {
      "image/png": "[encoded data removed]",
      "text/plain": [
       "<Figure size 640x480 with 1 Axes>"
      ]
     },
     "metadata": {},
     "output_type": "display_data"
    }
   ],
   "source": [
    "import numpy as np\n",
    "import matplotlib.pyplot as plt\n",
    "\n",
    "# Create features\n",
    "X = np.array([-7, -4, -1, 2.0, 5.0, 8.0, 11.0, 14.0])\n",
    "\n",
    "# Create labels\n",
    "y = np.array([3.0, 6.0, 9.0, 12.0, 15.0, 18.0, 21.0, 24.0])\n",
    "\n",
    "# Visualize it\n",
    "plt.scatter(X, y)"
   ]
  },
  {
   "cell_type": "markdown",
   "id": "0c900980",
   "metadata": {},
   "source": [
    "# Input and Output Shapes"
   ]
  },
  {
   "cell_type": "code",
   "execution_count": 10,
   "id": "eab641f6",
   "metadata": {},
   "outputs": [
    {
     "data": {
      "text/plain": [
       "(<tf.Tensor: shape=(3,), dtype=string, numpy=array([b'bedroom', b'batheoom', b'garage'], dtype=object)>,\n",
       " <tf.Tensor: shape=(1,), dtype=int32, numpy=array([12904])>)"
      ]
     },
     "execution_count": 10,
     "metadata": {},
     "output_type": "execute_result"
    }
   ],
   "source": [
    "# Demo tensor for our housing price prediction problem\n",
    "\n",
    "house_info = tf.constant(['bedroom', 'batheoom', 'garage'])\n",
    "house_price = tf.constant([12904])\n",
    "\n",
    "house_info, house_price\n",
    "# here there is a difference for input and output shape"
   ]
  },
  {
   "cell_type": "code",
   "execution_count": 11,
   "id": "94914344",
   "metadata": {},
   "outputs": [
    {
     "data": {
      "text/plain": [
       "((), ())"
      ]
     },
     "execution_count": 11,
     "metadata": {},
     "output_type": "execute_result"
    }
   ],
   "source": [
    "input_shape = X[0].shape\n",
    "output_shape = y[0].shape\n",
    "\n",
    "input_shape, output_shape"
   ]
  },
  {
   "cell_type": "code",
   "execution_count": 13,
   "id": "625b1c33",
   "metadata": {},
   "outputs": [
    {
     "data": {
      "text/plain": [
       "0"
      ]
     },
     "execution_count": 13,
     "metadata": {},
     "output_type": "execute_result"
    }
   ],
   "source": [
    "X[0].ndim\n",
    "#it has 0 dim, so it has no shape"
   ]
  },
  {
   "cell_type": "code",
   "execution_count": 21,
   "id": "200b01ab",
   "metadata": {},
   "outputs": [
    {
     "data": {
      "text/plain": [
       "(<tf.Tensor: shape=(8,), dtype=float32, numpy=array([-7., -4., -1.,  2.,  5.,  8., 11., 14.], dtype=float32)>,\n",
       " <tf.Tensor: shape=(8,), dtype=float32, numpy=array([ 3.,  6.,  9., 12., 15., 18., 21., 24.], dtype=float32)>)"
      ]
     },
     "execution_count": 21,
     "metadata": {},
     "output_type": "execute_result"
    }
   ],
   "source": [
    "#turn out numpy to tensor\n",
    "X = tf.cast(tf.constant(X), dtype = tf.float32)\n",
    "y = tf.cast(tf.constant(y), dtype = tf.float32)\n",
    "X, y"
   ]
  },
  {
   "cell_type": "code",
   "execution_count": 15,
   "id": "57ef2f2b",
   "metadata": {},
   "outputs": [
    {
     "data": {
      "text/plain": [
       "(TensorShape([]), TensorShape([]))"
      ]
     },
     "execution_count": 15,
     "metadata": {},
     "output_type": "execute_result"
    }
   ],
   "source": [
    "input_shape = X[0].shape\n",
    "output_shape = y[0].shape\n",
    "input_shape, output_shape"
   ]
  },
  {
   "cell_type": "code",
   "execution_count": 16,
   "id": "c61fb06c",
   "metadata": {},
   "outputs": [
    {
     "data": {
      "text/plain": [
       "<matplotlib.collections.PathCollection at 0x21a358017b0>"
      ]
     },
     "execution_count": 16,
     "metadata": {},
     "output_type": "execute_result"
    },
    {
     "data": {
      "image/png": "[encoded data removed]",
      "text/plain": [
       "<Figure size 640x480 with 1 Axes>"
      ]
     },
     "metadata": {},
     "output_type": "display_data"
    }
   ],
   "source": [
    "plt.scatter(X, y)"
   ]
  },
  {
   "cell_type": "markdown",
   "id": "8420c647",
   "metadata": {},
   "source": [
    "# Modelling"
   ]
  },
  {
   "cell_type": "code",
   "execution_count": 18,
   "id": "460521eb",
   "metadata": {},
   "outputs": [],
   "source": [
    "# set random seed\n",
    "tf.random.set_seed(7)"
   ]
  },
  {
   "cell_type": "code",
   "execution_count": 53,
   "id": "a71e2c34",
   "metadata": {},
   "outputs": [
    {
     "name": "stdout",
     "output_type": "stream",
     "text": [
      "Epoch 1/100\n",
      "1/1 [==============================] - 0s 332ms/step - loss: 15.4386 - mae: 15.4386\n",
      "Epoch 2/100\n",
      "1/1 [==============================] - 0s 8ms/step - loss: 15.1573 - mae: 15.1573\n",
      "Epoch 3/100\n",
      "1/1 [==============================] - 0s 6ms/step - loss: 14.9099 - mae: 14.9099\n",
      "Epoch 4/100\n",
      "1/1 [==============================] - 0s 8ms/step - loss: 14.7774 - mae: 14.7774\n",
      "Epoch 5/100\n",
      "1/1 [==============================] - 0s 14ms/step - loss: 14.6449 - mae: 14.6449\n",
      "Epoch 6/100\n",
      "1/1 [==============================] - 0s 13ms/step - loss: 14.5124 - mae: 14.5124\n",
      "Epoch 7/100\n",
      "1/1 [==============================] - 0s 17ms/step - loss: 14.3799 - mae: 14.3799\n",
      "Epoch 8/100\n",
      "1/1 [==============================] - 0s 13ms/step - loss: 14.2474 - mae: 14.2474\n",
      "Epoch 9/100\n",
      "1/1 [==============================] - 0s 14ms/step - loss: 14.1149 - mae: 14.1149\n",
      "Epoch 10/100\n",
      "1/1 [==============================] - 0s 17ms/step - loss: 13.9824 - mae: 13.9824\n",
      "Epoch 11/100\n",
      "1/1 [==============================] - 0s 14ms/step - loss: 13.8499 - mae: 13.8499\n",
      "Epoch 12/100\n",
      "1/1 [==============================] - 0s 13ms/step - loss: 13.7174 - mae: 13.7174\n",
      "Epoch 13/100\n",
      "1/1 [==============================] - 0s 12ms/step - loss: 13.5849 - mae: 13.5849\n",
      "Epoch 14/100\n",
      "1/1 [==============================] - 0s 15ms/step - loss: 13.4524 - mae: 13.4524\n",
      "Epoch 15/100\n",
      "1/1 [==============================] - 0s 14ms/step - loss: 13.3199 - mae: 13.3199\n",
      "Epoch 16/100\n",
      "1/1 [==============================] - 0s 12ms/step - loss: 13.1874 - mae: 13.1874\n",
      "Epoch 17/100\n",
      "1/1 [==============================] - 0s 11ms/step - loss: 13.0549 - mae: 13.0549\n",
      "Epoch 18/100\n",
      "1/1 [==============================] - 0s 21ms/step - loss: 12.9224 - mae: 12.9224\n",
      "Epoch 19/100\n",
      "1/1 [==============================] - 0s 11ms/step - loss: 12.7899 - mae: 12.7899\n",
      "Epoch 20/100\n",
      "1/1 [==============================] - 0s 11ms/step - loss: 12.6574 - mae: 12.6574\n",
      "Epoch 21/100\n",
      "1/1 [==============================] - 0s 14ms/step - loss: 12.5249 - mae: 12.5249\n",
      "Epoch 22/100\n",
      "1/1 [==============================] - 0s 15ms/step - loss: 12.3924 - mae: 12.3924\n",
      "Epoch 23/100\n",
      "1/1 [==============================] - 0s 16ms/step - loss: 12.2599 - mae: 12.2599\n",
      "Epoch 24/100\n",
      "1/1 [==============================] - 0s 12ms/step - loss: 12.1274 - mae: 12.1274\n",
      "Epoch 25/100\n",
      "1/1 [==============================] - 0s 14ms/step - loss: 11.9949 - mae: 11.9949\n",
      "Epoch 26/100\n",
      "1/1 [==============================] - 0s 14ms/step - loss: 11.8624 - mae: 11.8624\n",
      "Epoch 27/100\n",
      "1/1 [==============================] - 0s 7ms/step - loss: 11.7299 - mae: 11.7299\n",
      "Epoch 28/100\n",
      "1/1 [==============================] - 0s 8ms/step - loss: 11.5974 - mae: 11.5974\n",
      "Epoch 29/100\n",
      "1/1 [==============================] - 0s 3ms/step - loss: 11.4649 - mae: 11.4649\n",
      "Epoch 30/100\n",
      "1/1 [==============================] - 0s 6ms/step - loss: 11.3324 - mae: 11.3324\n",
      "Epoch 31/100\n",
      "1/1 [==============================] - 0s 9ms/step - loss: 11.1999 - mae: 11.1999\n",
      "Epoch 32/100\n",
      "1/1 [==============================] - 0s 14ms/step - loss: 11.0674 - mae: 11.0674\n",
      "Epoch 33/100\n",
      "1/1 [==============================] - 0s 15ms/step - loss: 10.9349 - mae: 10.9349\n",
      "Epoch 34/100\n",
      "1/1 [==============================] - 0s 8ms/step - loss: 10.8024 - mae: 10.8024\n",
      "Epoch 35/100\n",
      "1/1 [==============================] - 0s 6ms/step - loss: 10.6699 - mae: 10.6699\n",
      "Epoch 36/100\n",
      "1/1 [==============================] - 0s 5ms/step - loss: 10.5374 - mae: 10.5374\n",
      "Epoch 37/100\n",
      "1/1 [==============================] - 0s 13ms/step - loss: 10.4049 - mae: 10.4049\n",
      "Epoch 38/100\n",
      "1/1 [==============================] - 0s 7ms/step - loss: 10.2724 - mae: 10.2724\n",
      "Epoch 39/100\n",
      "1/1 [==============================] - 0s 5ms/step - loss: 10.1399 - mae: 10.1399\n",
      "Epoch 40/100\n",
      "1/1 [==============================] - 0s 11ms/step - loss: 10.0074 - mae: 10.0074\n",
      "Epoch 41/100\n",
      "1/1 [==============================] - 0s 5ms/step - loss: 9.8749 - mae: 9.8749\n",
      "Epoch 42/100\n",
      "1/1 [==============================] - 0s 6ms/step - loss: 9.7424 - mae: 9.7424\n",
      "Epoch 43/100\n",
      "1/1 [==============================] - 0s 7ms/step - loss: 9.6099 - mae: 9.6099\n",
      "Epoch 44/100\n",
      "1/1 [==============================] - 0s 3ms/step - loss: 9.4774 - mae: 9.4774\n",
      "Epoch 45/100\n",
      "1/1 [==============================] - 0s 10ms/step - loss: 9.3449 - mae: 9.3449\n",
      "Epoch 46/100\n",
      "1/1 [==============================] - 0s 9ms/step - loss: 9.2124 - mae: 9.2124\n",
      "Epoch 47/100\n",
      "1/1 [==============================] - 0s 8ms/step - loss: 9.0799 - mae: 9.0799\n",
      "Epoch 48/100\n",
      "1/1 [==============================] - 0s 8ms/step - loss: 8.9474 - mae: 8.9474\n",
      "Epoch 49/100\n",
      "1/1 [==============================] - 0s 5ms/step - loss: 8.8149 - mae: 8.8149\n",
      "Epoch 50/100\n",
      "1/1 [==============================] - 0s 7ms/step - loss: 8.6824 - mae: 8.6824\n",
      "Epoch 51/100\n",
      "1/1 [==============================] - 0s 7ms/step - loss: 8.5499 - mae: 8.5499\n",
      "Epoch 52/100\n",
      "1/1 [==============================] - 0s 7ms/step - loss: 8.4174 - mae: 8.4174\n",
      "Epoch 53/100\n",
      "1/1 [==============================] - 0s 4ms/step - loss: 8.2849 - mae: 8.2849\n",
      "Epoch 54/100\n",
      "1/1 [==============================] - 0s 5ms/step - loss: 8.1524 - mae: 8.1524\n",
      "Epoch 55/100\n",
      "1/1 [==============================] - 0s 7ms/step - loss: 8.0199 - mae: 8.0199\n",
      "Epoch 56/100\n",
      "1/1 [==============================] - 0s 8ms/step - loss: 7.8874 - mae: 7.8874\n",
      "Epoch 57/100\n",
      "1/1 [==============================] - 0s 12ms/step - loss: 7.7549 - mae: 7.7549\n",
      "Epoch 58/100\n",
      "1/1 [==============================] - 0s 16ms/step - loss: 7.6224 - mae: 7.6224\n",
      "Epoch 59/100\n",
      "1/1 [==============================] - 0s 10ms/step - loss: 7.4899 - mae: 7.4899\n",
      "Epoch 60/100\n",
      "1/1 [==============================] - 0s 17ms/step - loss: 7.3574 - mae: 7.3574\n",
      "Epoch 61/100\n",
      "1/1 [==============================] - 0s 11ms/step - loss: 7.2249 - mae: 7.2249\n",
      "Epoch 62/100\n",
      "1/1 [==============================] - 0s 16ms/step - loss: 7.0924 - mae: 7.0924\n",
      "Epoch 63/100\n",
      "1/1 [==============================] - 0s 11ms/step - loss: 7.0388 - mae: 7.0388\n",
      "Epoch 64/100\n",
      "1/1 [==============================] - 0s 12ms/step - loss: 7.0331 - mae: 7.0331\n",
      "Epoch 65/100\n",
      "1/1 [==============================] - 0s 11ms/step - loss: 7.0275 - mae: 7.0275\n",
      "Epoch 66/100\n",
      "1/1 [==============================] - 0s 12ms/step - loss: 7.0219 - mae: 7.0219\n",
      "Epoch 67/100\n",
      "1/1 [==============================] - 0s 7ms/step - loss: 7.0163 - mae: 7.0163\n",
      "Epoch 68/100\n",
      "1/1 [==============================] - 0s 8ms/step - loss: 7.0106 - mae: 7.0106\n",
      "Epoch 69/100\n",
      "1/1 [==============================] - 0s 14ms/step - loss: 7.0050 - mae: 7.0050\n",
      "Epoch 70/100\n",
      "1/1 [==============================] - 0s 8ms/step - loss: 6.9994 - mae: 6.9994\n",
      "Epoch 71/100\n",
      "1/1 [==============================] - 0s 12ms/step - loss: 6.9938 - mae: 6.9938\n",
      "Epoch 72/100\n",
      "1/1 [==============================] - 0s 9ms/step - loss: 6.9881 - mae: 6.9881\n",
      "Epoch 73/100\n",
      "1/1 [==============================] - 0s 10ms/step - loss: 6.9825 - mae: 6.9825\n",
      "Epoch 74/100\n",
      "1/1 [==============================] - 0s 12ms/step - loss: 6.9769 - mae: 6.9769\n",
      "Epoch 75/100\n",
      "1/1 [==============================] - 0s 12ms/step - loss: 6.9713 - mae: 6.9713\n",
      "Epoch 76/100\n",
      "1/1 [==============================] - 0s 11ms/step - loss: 6.9656 - mae: 6.9656\n",
      "Epoch 77/100\n",
      "1/1 [==============================] - 0s 10ms/step - loss: 6.9600 - mae: 6.9600\n",
      "Epoch 78/100\n",
      "1/1 [==============================] - 0s 9ms/step - loss: 6.9544 - mae: 6.9544\n",
      "Epoch 79/100\n",
      "1/1 [==============================] - 0s 7ms/step - loss: 6.9488 - mae: 6.9488\n",
      "Epoch 80/100\n",
      "1/1 [==============================] - 0s 10ms/step - loss: 6.9431 - mae: 6.9431\n",
      "Epoch 81/100\n",
      "1/1 [==============================] - 0s 10ms/step - loss: 6.9375 - mae: 6.9375\n",
      "Epoch 82/100\n",
      "1/1 [==============================] - 0s 8ms/step - loss: 6.9319 - mae: 6.9319\n",
      "Epoch 83/100\n",
      "1/1 [==============================] - 0s 8ms/step - loss: 6.9263 - mae: 6.9263\n",
      "Epoch 84/100\n",
      "1/1 [==============================] - 0s 8ms/step - loss: 6.9206 - mae: 6.9206\n",
      "Epoch 85/100\n",
      "1/1 [==============================] - 0s 7ms/step - loss: 6.9150 - mae: 6.9150\n",
      "Epoch 86/100\n",
      "1/1 [==============================] - 0s 9ms/step - loss: 6.9094 - mae: 6.9094\n",
      "Epoch 87/100\n"
     ]
    },
    {
     "name": "stdout",
     "output_type": "stream",
     "text": [
      "1/1 [==============================] - 0s 7ms/step - loss: 6.9038 - mae: 6.9038\n",
      "Epoch 88/100\n",
      "1/1 [==============================] - 0s 5ms/step - loss: 6.8981 - mae: 6.8981\n",
      "Epoch 89/100\n",
      "1/1 [==============================] - 0s 2ms/step - loss: 6.8925 - mae: 6.8925\n",
      "Epoch 90/100\n",
      "1/1 [==============================] - 0s 10ms/step - loss: 6.8869 - mae: 6.8869\n",
      "Epoch 91/100\n",
      "1/1 [==============================] - 0s 8ms/step - loss: 6.8813 - mae: 6.8813\n",
      "Epoch 92/100\n",
      "1/1 [==============================] - 0s 10ms/step - loss: 6.8756 - mae: 6.8756\n",
      "Epoch 93/100\n",
      "1/1 [==============================] - 0s 11ms/step - loss: 6.8700 - mae: 6.8700\n",
      "Epoch 94/100\n",
      "1/1 [==============================] - 0s 6ms/step - loss: 6.8644 - mae: 6.8644\n",
      "Epoch 95/100\n",
      "1/1 [==============================] - 0s 5ms/step - loss: 6.8588 - mae: 6.8588\n",
      "Epoch 96/100\n",
      "1/1 [==============================] - 0s 8ms/step - loss: 6.8531 - mae: 6.8531\n",
      "Epoch 97/100\n",
      "1/1 [==============================] - 0s 5ms/step - loss: 6.8475 - mae: 6.8475\n",
      "Epoch 98/100\n",
      "1/1 [==============================] - 0s 5ms/step - loss: 6.8419 - mae: 6.8419\n",
      "Epoch 99/100\n",
      "1/1 [==============================] - 0s 5ms/step - loss: 6.8363 - mae: 6.8363\n",
      "Epoch 100/100\n",
      "1/1 [==============================] - 0s 8ms/step - loss: 6.8306 - mae: 6.8306\n"
     ]
    },
    {
     "data": {
      "text/plain": [
       "<keras.callbacks.History at 0x21a3936fb80>"
      ]
     },
     "execution_count": 53,
     "metadata": {},
     "output_type": "execute_result"
    }
   ],
   "source": [
    "# set random seed\n",
    "tf.random.set_seed(42)\n",
    "# 1. Create a model using the Sequential API\n",
    "# we can use add method to add layers or put into the list as below\n",
    "model = tf.keras.Sequential([\n",
    "    tf.keras.layers.Dense(1)\n",
    "])\n",
    "\n",
    "# 2. Compile the model\n",
    "model.compile(loss=tf.keras.losses.mae, # mean absolute error\n",
    "             optimizer=tf.keras.optimizers.SGD(), #stochastic gradient descent\n",
    "             metrics = ['mae'])\n",
    "\n",
    "#fit the model\n",
    "\n",
    "model.fit(\n",
    "    tf.expand_dims(X, axis=-1), # for avoid shape error, Input 0 of layer \"dense\" is incompatible with the layer: expected min_ndim=2, found ndim=1. Full shape received: (None,)\n",
    "    y,\n",
    "    epochs = 100\n",
    ")\n",
    "\n"
   ]
  },
  {
   "cell_type": "code",
   "execution_count": 54,
   "id": "95960bfe",
   "metadata": {},
   "outputs": [
    {
     "name": "stdout",
     "output_type": "stream",
     "text": [
      "WARNING:tensorflow:5 out of the last 10 calls to <function Model.make_predict_function.<locals>.predict_function at 0x0000021A39374B80> triggered tf.function retracing. Tracing is expensive and the excessive number of tracings could be due to (1) creating @tf.function repeatedly in a loop, (2) passing tensors with different shapes, (3) passing Python objects instead of tensors. For (1), please define your @tf.function outside of the loop. For (2), @tf.function has reduce_retracing=True option that can avoid unnecessary retracing. For (3), please refer to https://www.tensorflow.org/guide/function#controlling_retracing and https://www.tensorflow.org/api_docs/python/tf/function for  more details.\n",
      "1/1 [==============================] - 0s 70ms/step\n"
     ]
    },
    {
     "data": {
      "text/plain": [
       "array([[29.679066]], dtype=float32)"
      ]
     },
     "execution_count": 54,
     "metadata": {},
     "output_type": "execute_result"
    }
   ],
   "source": [
    "model.predict([17])"
   ]
  },
  {
   "cell_type": "code",
   "execution_count": 33,
   "id": "9dd54c31",
   "metadata": {},
   "outputs": [
    {
     "data": {
      "text/plain": [
       "(<tf.Tensor: shape=(8,), dtype=float32, numpy=array([-7., -4., -1.,  2.,  5.,  8., 11., 14.], dtype=float32)>,\n",
       " <tf.Tensor: shape=(8,), dtype=float32, numpy=array([ 3.,  6.,  9., 12., 15., 18., 21., 24.], dtype=float32)>)"
      ]
     },
     "execution_count": 33,
     "metadata": {},
     "output_type": "execute_result"
    }
   ],
   "source": [
    "X, y"
   ]
  },
  {
   "cell_type": "code",
   "execution_count": 36,
   "id": "a0c80331",
   "metadata": {},
   "outputs": [
    {
     "name": "stdout",
     "output_type": "stream",
     "text": [
      "Model: \"sequential_9\"\n",
      "_________________________________________________________________\n",
      " Layer (type)                Output Shape              Param #   \n",
      "=================================================================\n",
      " dense_9 (Dense)             (None, 1)                 2         \n",
      "                                                                 \n",
      "=================================================================\n",
      "Total params: 2\n",
      "Trainable params: 2\n",
      "Non-trainable params: 0\n",
      "_________________________________________________________________\n"
     ]
    }
   ],
   "source": [
    "model.summary()"
   ]
  },
  {
   "cell_type": "markdown",
   "id": "6492eba3",
   "metadata": {},
   "source": [
    "# improving the Model"
   ]
  },
  {
   "cell_type": "code",
   "execution_count": 64,
   "id": "c36e4df8",
   "metadata": {},
   "outputs": [
    {
     "name": "stderr",
     "output_type": "stream",
     "text": [
      "WARNING:absl:`lr` is deprecated in Keras optimizer, please use `learning_rate` or use the legacy optimizer, e.g.,tf.keras.optimizers.legacy.Adam.\n"
     ]
    },
    {
     "name": "stdout",
     "output_type": "stream",
     "text": [
      "Epoch 1/100\n",
      "1/1 [==============================] - 1s 518ms/step - loss: 13.1884 - mae: 13.1884\n",
      "Epoch 2/100\n",
      "1/1 [==============================] - 0s 8ms/step - loss: 13.1020 - mae: 13.1020\n",
      "Epoch 3/100\n",
      "1/1 [==============================] - 0s 10ms/step - loss: 13.0155 - mae: 13.0155\n",
      "Epoch 4/100\n",
      "1/1 [==============================] - 0s 8ms/step - loss: 12.9291 - mae: 12.9291\n",
      "Epoch 5/100\n",
      "1/1 [==============================] - 0s 13ms/step - loss: 12.8426 - mae: 12.8426\n",
      "Epoch 6/100\n",
      "1/1 [==============================] - 0s 17ms/step - loss: 12.7560 - mae: 12.7560\n",
      "Epoch 7/100\n",
      "1/1 [==============================] - 0s 21ms/step - loss: 12.6694 - mae: 12.6694\n",
      "Epoch 8/100\n",
      "1/1 [==============================] - 0s 14ms/step - loss: 12.5828 - mae: 12.5828\n",
      "Epoch 9/100\n",
      "1/1 [==============================] - 0s 14ms/step - loss: 12.4961 - mae: 12.4961\n",
      "Epoch 10/100\n",
      "1/1 [==============================] - 0s 10ms/step - loss: 12.4096 - mae: 12.4096\n",
      "Epoch 11/100\n",
      "1/1 [==============================] - 0s 13ms/step - loss: 12.3232 - mae: 12.3232\n",
      "Epoch 12/100\n",
      "1/1 [==============================] - 0s 11ms/step - loss: 12.2367 - mae: 12.2367\n",
      "Epoch 13/100\n",
      "1/1 [==============================] - 0s 10ms/step - loss: 12.1502 - mae: 12.1502\n",
      "Epoch 14/100\n",
      "1/1 [==============================] - 0s 10ms/step - loss: 12.0637 - mae: 12.0637\n",
      "Epoch 15/100\n",
      "1/1 [==============================] - 0s 8ms/step - loss: 11.9772 - mae: 11.9772\n",
      "Epoch 16/100\n",
      "1/1 [==============================] - 0s 17ms/step - loss: 11.8909 - mae: 11.8909\n",
      "Epoch 17/100\n",
      "1/1 [==============================] - 0s 17ms/step - loss: 11.8046 - mae: 11.8046\n",
      "Epoch 18/100\n",
      "1/1 [==============================] - 0s 14ms/step - loss: 11.7184 - mae: 11.7184\n",
      "Epoch 19/100\n",
      "1/1 [==============================] - 0s 6ms/step - loss: 11.6320 - mae: 11.6320\n",
      "Epoch 20/100\n",
      "1/1 [==============================] - 0s 8ms/step - loss: 11.5455 - mae: 11.5455\n",
      "Epoch 21/100\n",
      "1/1 [==============================] - 0s 11ms/step - loss: 11.4590 - mae: 11.4590\n",
      "Epoch 22/100\n",
      "1/1 [==============================] - 0s 8ms/step - loss: 11.3723 - mae: 11.3723\n",
      "Epoch 23/100\n",
      "1/1 [==============================] - 0s 7ms/step - loss: 11.2856 - mae: 11.2856\n",
      "Epoch 24/100\n",
      "1/1 [==============================] - 0s 11ms/step - loss: 11.1986 - mae: 11.1986\n",
      "Epoch 25/100\n",
      "1/1 [==============================] - 0s 10ms/step - loss: 11.1114 - mae: 11.1114\n",
      "Epoch 26/100\n",
      "1/1 [==============================] - 0s 11ms/step - loss: 11.0243 - mae: 11.0243\n",
      "Epoch 27/100\n",
      "1/1 [==============================] - 0s 10ms/step - loss: 10.9453 - mae: 10.9453\n",
      "Epoch 28/100\n",
      "1/1 [==============================] - 0s 11ms/step - loss: 10.8749 - mae: 10.8749\n",
      "Epoch 29/100\n",
      "1/1 [==============================] - 0s 10ms/step - loss: 10.8041 - mae: 10.8041\n",
      "Epoch 30/100\n",
      "1/1 [==============================] - 0s 5ms/step - loss: 10.7330 - mae: 10.7330\n",
      "Epoch 31/100\n",
      "1/1 [==============================] - 0s 8ms/step - loss: 10.6614 - mae: 10.6614\n",
      "Epoch 32/100\n",
      "1/1 [==============================] - 0s 11ms/step - loss: 10.5894 - mae: 10.5894\n",
      "Epoch 33/100\n",
      "1/1 [==============================] - 0s 5ms/step - loss: 10.5171 - mae: 10.5171\n",
      "Epoch 34/100\n",
      "1/1 [==============================] - 0s 8ms/step - loss: 10.4445 - mae: 10.4445\n",
      "Epoch 35/100\n",
      "1/1 [==============================] - 0s 7ms/step - loss: 10.3716 - mae: 10.3716\n",
      "Epoch 36/100\n",
      "1/1 [==============================] - 0s 15ms/step - loss: 10.2982 - mae: 10.2982\n",
      "Epoch 37/100\n",
      "1/1 [==============================] - 0s 14ms/step - loss: 10.2245 - mae: 10.2245\n",
      "Epoch 38/100\n",
      "1/1 [==============================] - 0s 8ms/step - loss: 10.1503 - mae: 10.1503\n",
      "Epoch 39/100\n",
      "1/1 [==============================] - 0s 9ms/step - loss: 10.0757 - mae: 10.0757\n",
      "Epoch 40/100\n",
      "1/1 [==============================] - 0s 12ms/step - loss: 10.0008 - mae: 10.0008\n",
      "Epoch 41/100\n",
      "1/1 [==============================] - 0s 10ms/step - loss: 9.9254 - mae: 9.9254\n",
      "Epoch 42/100\n",
      "1/1 [==============================] - 0s 10ms/step - loss: 9.8497 - mae: 9.8497\n",
      "Epoch 43/100\n",
      "1/1 [==============================] - 0s 17ms/step - loss: 9.7736 - mae: 9.7736\n",
      "Epoch 44/100\n",
      "1/1 [==============================] - 0s 8ms/step - loss: 9.6972 - mae: 9.6972\n",
      "Epoch 45/100\n",
      "1/1 [==============================] - 0s 10ms/step - loss: 9.6204 - mae: 9.6204\n",
      "Epoch 46/100\n",
      "1/1 [==============================] - 0s 15ms/step - loss: 9.5432 - mae: 9.5432\n",
      "Epoch 47/100\n",
      "1/1 [==============================] - 0s 9ms/step - loss: 9.4656 - mae: 9.4656\n",
      "Epoch 48/100\n",
      "1/1 [==============================] - 0s 9ms/step - loss: 9.3877 - mae: 9.3877\n",
      "Epoch 49/100\n",
      "1/1 [==============================] - 0s 8ms/step - loss: 9.3093 - mae: 9.3093\n",
      "Epoch 50/100\n",
      "1/1 [==============================] - 0s 11ms/step - loss: 9.2306 - mae: 9.2306\n",
      "Epoch 51/100\n",
      "1/1 [==============================] - 0s 14ms/step - loss: 9.1515 - mae: 9.1515\n",
      "Epoch 52/100\n",
      "1/1 [==============================] - 0s 12ms/step - loss: 9.0719 - mae: 9.0719\n",
      "Epoch 53/100\n",
      "1/1 [==============================] - 0s 9ms/step - loss: 8.9919 - mae: 8.9919\n",
      "Epoch 54/100\n",
      "1/1 [==============================] - 0s 9ms/step - loss: 8.9115 - mae: 8.9115\n",
      "Epoch 55/100\n",
      "1/1 [==============================] - 0s 16ms/step - loss: 8.8307 - mae: 8.8307\n",
      "Epoch 56/100\n",
      "1/1 [==============================] - 0s 14ms/step - loss: 8.7494 - mae: 8.7494\n",
      "Epoch 57/100\n",
      "1/1 [==============================] - 0s 12ms/step - loss: 8.6676 - mae: 8.6676\n",
      "Epoch 58/100\n",
      "1/1 [==============================] - 0s 17ms/step - loss: 8.5854 - mae: 8.5854\n",
      "Epoch 59/100\n",
      "1/1 [==============================] - 0s 15ms/step - loss: 8.5028 - mae: 8.5028\n",
      "Epoch 60/100\n",
      "1/1 [==============================] - 0s 12ms/step - loss: 8.4197 - mae: 8.4197\n",
      "Epoch 61/100\n",
      "1/1 [==============================] - 0s 19ms/step - loss: 8.3361 - mae: 8.3361\n",
      "Epoch 62/100\n",
      "1/1 [==============================] - 0s 12ms/step - loss: 8.2522 - mae: 8.2522\n",
      "Epoch 63/100\n",
      "1/1 [==============================] - 0s 13ms/step - loss: 8.1677 - mae: 8.1677\n",
      "Epoch 64/100\n",
      "1/1 [==============================] - 0s 10ms/step - loss: 8.0828 - mae: 8.0828\n",
      "Epoch 65/100\n",
      "1/1 [==============================] - 0s 12ms/step - loss: 7.9974 - mae: 7.9974\n",
      "Epoch 66/100\n",
      "1/1 [==============================] - 0s 9ms/step - loss: 7.9115 - mae: 7.9115\n",
      "Epoch 67/100\n",
      "1/1 [==============================] - 0s 15ms/step - loss: 7.8252 - mae: 7.8252\n",
      "Epoch 68/100\n",
      "1/1 [==============================] - 0s 13ms/step - loss: 7.7385 - mae: 7.7385\n",
      "Epoch 69/100\n",
      "1/1 [==============================] - 0s 14ms/step - loss: 7.6513 - mae: 7.6513\n",
      "Epoch 70/100\n",
      "1/1 [==============================] - 0s 7ms/step - loss: 7.5637 - mae: 7.5637\n",
      "Epoch 71/100\n",
      "1/1 [==============================] - 0s 8ms/step - loss: 7.4756 - mae: 7.4756\n",
      "Epoch 72/100\n",
      "1/1 [==============================] - 0s 6ms/step - loss: 7.3870 - mae: 7.3870\n",
      "Epoch 73/100\n",
      "1/1 [==============================] - 0s 9ms/step - loss: 7.2979 - mae: 7.2979\n",
      "Epoch 74/100\n",
      "1/1 [==============================] - 0s 10ms/step - loss: 7.2081 - mae: 7.2081\n",
      "Epoch 75/100\n",
      "1/1 [==============================] - 0s 12ms/step - loss: 7.1179 - mae: 7.1179\n",
      "Epoch 76/100\n",
      "1/1 [==============================] - 0s 8ms/step - loss: 7.0271 - mae: 7.0271\n",
      "Epoch 77/100\n",
      "1/1 [==============================] - 0s 6ms/step - loss: 6.9357 - mae: 6.9357\n",
      "Epoch 78/100\n",
      "1/1 [==============================] - 0s 6ms/step - loss: 6.8436 - mae: 6.8436\n",
      "Epoch 79/100\n",
      "1/1 [==============================] - 0s 6ms/step - loss: 6.7510 - mae: 6.7510\n",
      "Epoch 80/100\n",
      "1/1 [==============================] - 0s 4ms/step - loss: 6.6579 - mae: 6.6579\n",
      "Epoch 81/100\n",
      "1/1 [==============================] - 0s 8ms/step - loss: 6.5643 - mae: 6.5643\n",
      "Epoch 82/100\n",
      "1/1 [==============================] - 0s 11ms/step - loss: 6.4700 - mae: 6.4700\n",
      "Epoch 83/100\n",
      "1/1 [==============================] - 0s 8ms/step - loss: 6.3752 - mae: 6.3752\n",
      "Epoch 84/100\n",
      "1/1 [==============================] - 0s 2ms/step - loss: 6.2798 - mae: 6.2798\n",
      "Epoch 85/100\n",
      "1/1 [==============================] - 0s 7ms/step - loss: 6.1840 - mae: 6.1840\n",
      "Epoch 86/100\n",
      "1/1 [==============================] - 0s 12ms/step - loss: 6.0875 - mae: 6.0875\n",
      "Epoch 87/100\n"
     ]
    },
    {
     "name": "stdout",
     "output_type": "stream",
     "text": [
      "1/1 [==============================] - 0s 8ms/step - loss: 5.9927 - mae: 5.9927\n",
      "Epoch 88/100\n",
      "1/1 [==============================] - 0s 7ms/step - loss: 5.8956 - mae: 5.8956\n",
      "Epoch 89/100\n",
      "1/1 [==============================] - 0s 6ms/step - loss: 5.7950 - mae: 5.7950\n",
      "Epoch 90/100\n",
      "1/1 [==============================] - 0s 8ms/step - loss: 5.6964 - mae: 5.6964\n",
      "Epoch 91/100\n",
      "1/1 [==============================] - 0s 9ms/step - loss: 5.5970 - mae: 5.5970\n",
      "Epoch 92/100\n",
      "1/1 [==============================] - 0s 7ms/step - loss: 5.4969 - mae: 5.4969\n",
      "Epoch 93/100\n",
      "1/1 [==============================] - 0s 6ms/step - loss: 5.3959 - mae: 5.3959\n",
      "Epoch 94/100\n",
      "1/1 [==============================] - 0s 8ms/step - loss: 5.2942 - mae: 5.2942\n",
      "Epoch 95/100\n",
      "1/1 [==============================] - 0s 12ms/step - loss: 5.1917 - mae: 5.1917\n",
      "Epoch 96/100\n",
      "1/1 [==============================] - 0s 13ms/step - loss: 5.0884 - mae: 5.0884\n",
      "Epoch 97/100\n",
      "1/1 [==============================] - 0s 12ms/step - loss: 4.9843 - mae: 4.9843\n",
      "Epoch 98/100\n",
      "1/1 [==============================] - 0s 9ms/step - loss: 4.8795 - mae: 4.8795\n",
      "Epoch 99/100\n",
      "1/1 [==============================] - 0s 6ms/step - loss: 4.7741 - mae: 4.7741\n",
      "Epoch 100/100\n",
      "1/1 [==============================] - 0s 8ms/step - loss: 4.6679 - mae: 4.6679\n"
     ]
    },
    {
     "data": {
      "text/plain": [
       "<keras.callbacks.History at 0x21a37fe92d0>"
      ]
     },
     "execution_count": 64,
     "metadata": {},
     "output_type": "execute_result"
    }
   ],
   "source": [
    "# set random seed\n",
    "tf.random.set_seed(42)\n",
    "# 1. Create a model using the Sequential API\n",
    "# we can use add method to add layers or put into the list as below\n",
    "modelA = tf.keras.Sequential([\n",
    "    tf.keras.layers.Dense(100, activation = 'relu'),\n",
    "    tf.keras.layers.Dense(1)\n",
    "])\n",
    "\n",
    "# 2. Compile the model\n",
    "modelA.compile(loss=tf.keras.losses.mae, # mean absolute error\n",
    "             optimizer=tf.keras.optimizers.Adam(lr = .0001), #stochastic gradient descent\n",
    "             metrics = ['mae'])\n",
    "\n",
    "#fit the model\n",
    "\n",
    "modelA.fit(\n",
    "    tf.expand_dims(X, axis=-1), # for avoid shape error, Input 0 of layer \"dense\" is incompatible with the layer: expected min_ndim=2, found ndim=1. Full shape received: (None,)\n",
    "    y,\n",
    "    epochs = 100\n",
    ")\n",
    "\n"
   ]
  },
  {
   "cell_type": "code",
   "execution_count": 65,
   "id": "0ddf2e36",
   "metadata": {},
   "outputs": [
    {
     "name": "stdout",
     "output_type": "stream",
     "text": [
      "1/1 [==============================] - 0s 82ms/step\n"
     ]
    },
    {
     "data": {
      "text/plain": [
       "array([[26.920977]], dtype=float32)"
      ]
     },
     "execution_count": 65,
     "metadata": {},
     "output_type": "execute_result"
    }
   ],
   "source": [
    "modelA.predict([17])"
   ]
  },
  {
   "cell_type": "code",
   "execution_count": 66,
   "id": "115d4881",
   "metadata": {},
   "outputs": [
    {
     "name": "stdout",
     "output_type": "stream",
     "text": [
      "Model: \"sequential_21\"\n",
      "_________________________________________________________________\n",
      " Layer (type)                Output Shape              Param #   \n",
      "=================================================================\n",
      " dense_21 (Dense)            (None, 100)               200       \n",
      "                                                                 \n",
      " dense_22 (Dense)            (None, 1)                 101       \n",
      "                                                                 \n",
      "=================================================================\n",
      "Total params: 301\n",
      "Trainable params: 301\n",
      "Non-trainable params: 0\n",
      "_________________________________________________________________\n"
     ]
    }
   ],
   "source": [
    "modelA.summary()"
   ]
  },
  {
   "cell_type": "code",
   "execution_count": 110,
   "id": "5f2208e9",
   "metadata": {},
   "outputs": [
    {
     "name": "stdout",
     "output_type": "stream",
     "text": [
      "Epoch 1/100\n",
      "1/1 [==============================] - 0s 481ms/step - loss: 11.9652 - mae: 11.9652\n",
      "Epoch 2/100\n",
      "1/1 [==============================] - 0s 8ms/step - loss: 11.2458 - mae: 11.2458\n",
      "Epoch 3/100\n",
      "1/1 [==============================] - 0s 4ms/step - loss: 10.5183 - mae: 10.5183\n",
      "Epoch 4/100\n",
      "1/1 [==============================] - 0s 2ms/step - loss: 9.7806 - mae: 9.7806\n",
      "Epoch 5/100\n",
      "1/1 [==============================] - 0s 8ms/step - loss: 9.0304 - mae: 9.0304\n",
      "Epoch 6/100\n",
      "1/1 [==============================] - 0s 12ms/step - loss: 8.2652 - mae: 8.2652\n",
      "Epoch 7/100\n",
      "1/1 [==============================] - 0s 16ms/step - loss: 7.4827 - mae: 7.4827\n",
      "Epoch 8/100\n",
      "1/1 [==============================] - 0s 16ms/step - loss: 6.8918 - mae: 6.8918\n",
      "Epoch 9/100\n",
      "1/1 [==============================] - 0s 10ms/step - loss: 6.9803 - mae: 6.9803\n",
      "Epoch 10/100\n",
      "1/1 [==============================] - 0s 16ms/step - loss: 7.2436 - mae: 7.2436\n",
      "Epoch 11/100\n",
      "1/1 [==============================] - 0s 8ms/step - loss: 7.3816 - mae: 7.3816\n",
      "Epoch 12/100\n",
      "1/1 [==============================] - 0s 13ms/step - loss: 7.4662 - mae: 7.4662\n",
      "Epoch 13/100\n",
      "1/1 [==============================] - 0s 8ms/step - loss: 7.3577 - mae: 7.3577\n",
      "Epoch 14/100\n",
      "1/1 [==============================] - 0s 14ms/step - loss: 7.1309 - mae: 7.1309\n",
      "Epoch 15/100\n",
      "1/1 [==============================] - 0s 14ms/step - loss: 6.9059 - mae: 6.9059\n",
      "Epoch 16/100\n",
      "1/1 [==============================] - 0s 14ms/step - loss: 6.6524 - mae: 6.6524\n",
      "Epoch 17/100\n",
      "1/1 [==============================] - 0s 17ms/step - loss: 6.3766 - mae: 6.3766\n",
      "Epoch 18/100\n",
      "1/1 [==============================] - 0s 12ms/step - loss: 6.1763 - mae: 6.1763\n",
      "Epoch 19/100\n",
      "1/1 [==============================] - 0s 8ms/step - loss: 6.1207 - mae: 6.1207\n",
      "Epoch 20/100\n",
      "1/1 [==============================] - 0s 15ms/step - loss: 6.1214 - mae: 6.1214\n",
      "Epoch 21/100\n",
      "1/1 [==============================] - 0s 10ms/step - loss: 6.1643 - mae: 6.1643\n",
      "Epoch 22/100\n",
      "1/1 [==============================] - 0s 14ms/step - loss: 6.0964 - mae: 6.0964\n",
      "Epoch 23/100\n",
      "1/1 [==============================] - 0s 14ms/step - loss: 5.9320 - mae: 5.9320\n",
      "Epoch 24/100\n",
      "1/1 [==============================] - 0s 14ms/step - loss: 5.7100 - mae: 5.7100\n",
      "Epoch 25/100\n",
      "1/1 [==============================] - 0s 18ms/step - loss: 5.6032 - mae: 5.6032\n",
      "Epoch 26/100\n",
      "1/1 [==============================] - 0s 10ms/step - loss: 5.4925 - mae: 5.4925\n",
      "Epoch 27/100\n",
      "1/1 [==============================] - 0s 12ms/step - loss: 5.3775 - mae: 5.3775\n",
      "Epoch 28/100\n",
      "1/1 [==============================] - 0s 10ms/step - loss: 5.3489 - mae: 5.3489\n",
      "Epoch 29/100\n",
      "1/1 [==============================] - 0s 8ms/step - loss: 5.2939 - mae: 5.2939\n",
      "Epoch 30/100\n",
      "1/1 [==============================] - 0s 14ms/step - loss: 5.1898 - mae: 5.1898\n",
      "Epoch 31/100\n",
      "1/1 [==============================] - 0s 8ms/step - loss: 5.0406 - mae: 5.0406\n",
      "Epoch 32/100\n",
      "1/1 [==============================] - 0s 9ms/step - loss: 4.8499 - mae: 4.8499\n",
      "Epoch 33/100\n",
      "1/1 [==============================] - 0s 9ms/step - loss: 4.7122 - mae: 4.7122\n",
      "Epoch 34/100\n",
      "1/1 [==============================] - 0s 8ms/step - loss: 4.6002 - mae: 4.6002\n",
      "Epoch 35/100\n",
      "1/1 [==============================] - 0s 8ms/step - loss: 4.4799 - mae: 4.4799\n",
      "Epoch 36/100\n",
      "1/1 [==============================] - 0s 10ms/step - loss: 4.4090 - mae: 4.4090\n",
      "Epoch 37/100\n",
      "1/1 [==============================] - 0s 5ms/step - loss: 4.2454 - mae: 4.2454\n",
      "Epoch 38/100\n",
      "1/1 [==============================] - 0s 5ms/step - loss: 4.0385 - mae: 4.0385\n",
      "Epoch 39/100\n",
      "1/1 [==============================] - 0s 8ms/step - loss: 3.8657 - mae: 3.8657\n",
      "Epoch 40/100\n",
      "1/1 [==============================] - 0s 5ms/step - loss: 3.6889 - mae: 3.6889\n",
      "Epoch 41/100\n",
      "1/1 [==============================] - 0s 8ms/step - loss: 3.5596 - mae: 3.5596\n",
      "Epoch 42/100\n",
      "1/1 [==============================] - 0s 9ms/step - loss: 3.3700 - mae: 3.3700\n",
      "Epoch 43/100\n",
      "1/1 [==============================] - 0s 6ms/step - loss: 3.1584 - mae: 3.1584\n",
      "Epoch 44/100\n",
      "1/1 [==============================] - 0s 7ms/step - loss: 2.9737 - mae: 2.9737\n",
      "Epoch 45/100\n",
      "1/1 [==============================] - 0s 10ms/step - loss: 2.7778 - mae: 2.7778\n",
      "Epoch 46/100\n",
      "1/1 [==============================] - 0s 6ms/step - loss: 2.5705 - mae: 2.5705\n",
      "Epoch 47/100\n",
      "1/1 [==============================] - 0s 10ms/step - loss: 2.3647 - mae: 2.3647\n",
      "Epoch 48/100\n",
      "1/1 [==============================] - 0s 7ms/step - loss: 2.1095 - mae: 2.1095\n",
      "Epoch 49/100\n",
      "1/1 [==============================] - 0s 5ms/step - loss: 1.8964 - mae: 1.8964\n",
      "Epoch 50/100\n",
      "1/1 [==============================] - 0s 8ms/step - loss: 1.6723 - mae: 1.6723\n",
      "Epoch 51/100\n",
      "1/1 [==============================] - 0s 18ms/step - loss: 1.3702 - mae: 1.3702\n",
      "Epoch 52/100\n",
      "1/1 [==============================] - 0s 17ms/step - loss: 1.1506 - mae: 1.1506\n",
      "Epoch 53/100\n",
      "1/1 [==============================] - 0s 15ms/step - loss: 0.8760 - mae: 0.8760\n",
      "Epoch 54/100\n",
      "1/1 [==============================] - 0s 22ms/step - loss: 0.5843 - mae: 0.5843\n",
      "Epoch 55/100\n",
      "1/1 [==============================] - 0s 16ms/step - loss: 0.4107 - mae: 0.4107\n",
      "Epoch 56/100\n",
      "1/1 [==============================] - 0s 12ms/step - loss: 0.0768 - mae: 0.0768\n",
      "Epoch 57/100\n",
      "1/1 [==============================] - 0s 12ms/step - loss: 0.3284 - mae: 0.3284\n",
      "Epoch 58/100\n",
      "1/1 [==============================] - 0s 8ms/step - loss: 0.4707 - mae: 0.4707\n",
      "Epoch 59/100\n",
      "1/1 [==============================] - 0s 13ms/step - loss: 0.5770 - mae: 0.5770\n",
      "Epoch 60/100\n",
      "1/1 [==============================] - 0s 8ms/step - loss: 0.7044 - mae: 0.7044\n",
      "Epoch 61/100\n",
      "1/1 [==============================] - 0s 9ms/step - loss: 0.6679 - mae: 0.6679\n",
      "Epoch 62/100\n",
      "1/1 [==============================] - 0s 23ms/step - loss: 0.6654 - mae: 0.6654\n",
      "Epoch 63/100\n",
      "1/1 [==============================] - 0s 8ms/step - loss: 0.5948 - mae: 0.5948\n",
      "Epoch 64/100\n",
      "1/1 [==============================] - 0s 8ms/step - loss: 0.5457 - mae: 0.5457\n",
      "Epoch 65/100\n",
      "1/1 [==============================] - 0s 7ms/step - loss: 0.3819 - mae: 0.3819\n",
      "Epoch 66/100\n",
      "1/1 [==============================] - 0s 10ms/step - loss: 0.2819 - mae: 0.2819\n",
      "Epoch 67/100\n",
      "1/1 [==============================] - 0s 8ms/step - loss: 0.1248 - mae: 0.1248\n",
      "Epoch 68/100\n",
      "1/1 [==============================] - 0s 14ms/step - loss: 0.1006 - mae: 0.1006\n",
      "Epoch 69/100\n",
      "1/1 [==============================] - 0s 16ms/step - loss: 0.2482 - mae: 0.2482\n",
      "Epoch 70/100\n",
      "1/1 [==============================] - 0s 8ms/step - loss: 0.2717 - mae: 0.2717\n",
      "Epoch 71/100\n",
      "1/1 [==============================] - 0s 8ms/step - loss: 0.3494 - mae: 0.3494\n",
      "Epoch 72/100\n",
      "1/1 [==============================] - 0s 11ms/step - loss: 0.3226 - mae: 0.3226\n",
      "Epoch 73/100\n",
      "1/1 [==============================] - 0s 5ms/step - loss: 0.2980 - mae: 0.2980\n",
      "Epoch 74/100\n",
      "1/1 [==============================] - 0s 8ms/step - loss: 0.2318 - mae: 0.2318\n",
      "Epoch 75/100\n",
      "1/1 [==============================] - 0s 14ms/step - loss: 0.1770 - mae: 0.1770\n",
      "Epoch 76/100\n",
      "1/1 [==============================] - 0s 13ms/step - loss: 0.0658 - mae: 0.0658\n",
      "Epoch 77/100\n",
      "1/1 [==============================] - 0s 9ms/step - loss: 0.1207 - mae: 0.1207\n",
      "Epoch 78/100\n",
      "1/1 [==============================] - 0s 12ms/step - loss: 0.2041 - mae: 0.2041\n",
      "Epoch 79/100\n",
      "1/1 [==============================] - 0s 15ms/step - loss: 0.2296 - mae: 0.2296\n",
      "Epoch 80/100\n",
      "1/1 [==============================] - 0s 11ms/step - loss: 0.2392 - mae: 0.2392\n",
      "Epoch 81/100\n",
      "1/1 [==============================] - 0s 13ms/step - loss: 0.2050 - mae: 0.2050\n",
      "Epoch 82/100\n",
      "1/1 [==============================] - 0s 10ms/step - loss: 0.1999 - mae: 0.1999\n",
      "Epoch 83/100\n",
      "1/1 [==============================] - 0s 8ms/step - loss: 0.0643 - mae: 0.0643\n",
      "Epoch 84/100\n",
      "1/1 [==============================] - 0s 7ms/step - loss: 0.2986 - mae: 0.2986\n",
      "Epoch 85/100\n",
      "1/1 [==============================] - 0s 6ms/step - loss: 0.2703 - mae: 0.2703\n",
      "Epoch 86/100\n",
      "1/1 [==============================] - 0s 9ms/step - loss: 0.1962 - mae: 0.1962\n",
      "Epoch 87/100\n",
      "1/1 [==============================] - 0s 10ms/step - loss: 0.2984 - mae: 0.2984\n",
      "Epoch 88/100\n"
     ]
    },
    {
     "name": "stdout",
     "output_type": "stream",
     "text": [
      "1/1 [==============================] - 0s 6ms/step - loss: 0.1964 - mae: 0.1964\n",
      "Epoch 89/100\n",
      "1/1 [==============================] - 0s 5ms/step - loss: 0.2471 - mae: 0.2471\n",
      "Epoch 90/100\n",
      "1/1 [==============================] - 0s 10ms/step - loss: 0.1349 - mae: 0.1349\n",
      "Epoch 91/100\n",
      "1/1 [==============================] - 0s 8ms/step - loss: 0.2485 - mae: 0.2485\n",
      "Epoch 92/100\n",
      "1/1 [==============================] - 0s 6ms/step - loss: 0.1708 - mae: 0.1708\n",
      "Epoch 93/100\n",
      "1/1 [==============================] - 0s 9ms/step - loss: 0.2581 - mae: 0.2581\n",
      "Epoch 94/100\n",
      "1/1 [==============================] - 0s 7ms/step - loss: 0.3015 - mae: 0.3015\n",
      "Epoch 95/100\n",
      "1/1 [==============================] - 0s 6ms/step - loss: 0.2049 - mae: 0.2049\n",
      "Epoch 96/100\n",
      "1/1 [==============================] - 0s 7ms/step - loss: 0.2110 - mae: 0.2110\n",
      "Epoch 97/100\n",
      "1/1 [==============================] - 0s 12ms/step - loss: 0.1478 - mae: 0.1478\n",
      "Epoch 98/100\n",
      "1/1 [==============================] - 0s 5ms/step - loss: 0.0474 - mae: 0.0474\n",
      "Epoch 99/100\n",
      "1/1 [==============================] - 0s 7ms/step - loss: 0.1706 - mae: 0.1706\n",
      "Epoch 100/100\n",
      "1/1 [==============================] - 0s 11ms/step - loss: 0.1181 - mae: 0.1181\n"
     ]
    },
    {
     "data": {
      "text/plain": [
       "<keras.callbacks.History at 0x21a46e59720>"
      ]
     },
     "execution_count": 110,
     "metadata": {},
     "output_type": "execute_result"
    }
   ],
   "source": [
    "# set random seed\n",
    "tf.random.set_seed(42)\n",
    "# 1. Create a model using the Sequential API\n",
    "# we can use add method to add layers or put into the list as below\n",
    "modelB = tf.keras.Sequential([\n",
    "    #tf.keras.layers.Dense(100, activation = 'relu'),\n",
    "    tf.keras.layers.Dense(50, activation = None),\n",
    "    #tf.keras.layers.Dense(3, activation = 'relu'),\n",
    "\n",
    "\n",
    "    tf.keras.layers.Dense(1)\n",
    "])\n",
    "\n",
    "# 2. Compile the model\n",
    "modelB.compile(loss=tf.keras.losses.mae, # mean absolute error\n",
    "             optimizer=tf.keras.optimizers.Adam(0.01), #stochastic gradient descent\n",
    "             metrics = ['mae'])\n",
    "\n",
    "#fit the model\n",
    "\n",
    "modelB.fit(\n",
    "    tf.expand_dims(X, axis=-1), # for avoid shape error, Input 0 of layer \"dense\" is incompatible with the layer: expected min_ndim=2, found ndim=1. Full shape received: (None,)\n",
    "    y,\n",
    "    epochs = 100\n",
    ")\n",
    "\n"
   ]
  },
  {
   "cell_type": "code",
   "execution_count": 112,
   "id": "0c891fc1",
   "metadata": {},
   "outputs": [
    {
     "name": "stdout",
     "output_type": "stream",
     "text": [
      "Model: \"sequential_48\"\n",
      "_________________________________________________________________\n",
      " Layer (type)                Output Shape              Param #   \n",
      "=================================================================\n",
      " dense_83 (Dense)            (None, 50)                100       \n",
      "                                                                 \n",
      " dense_84 (Dense)            (None, 1)                 51        \n",
      "                                                                 \n",
      "=================================================================\n",
      "Total params: 151\n",
      "Trainable params: 151\n",
      "Non-trainable params: 0\n",
      "_________________________________________________________________\n"
     ]
    }
   ],
   "source": [
    "modelB.summary()"
   ]
  },
  {
   "cell_type": "code",
   "execution_count": 111,
   "id": "481582c2",
   "metadata": {},
   "outputs": [
    {
     "name": "stdout",
     "output_type": "stream",
     "text": [
      "1/1 [==============================] - 0s 99ms/step\n"
     ]
    },
    {
     "data": {
      "text/plain": [
       "array([[27.179876]], dtype=float32)"
      ]
     },
     "execution_count": 111,
     "metadata": {},
     "output_type": "execute_result"
    }
   ],
   "source": [
    "modelB.predict([17.0])"
   ]
  },
  {
   "cell_type": "markdown",
   "id": "04182ac7",
   "metadata": {},
   "source": [
    "# Working with a bit bigger dataset\n"
   ]
  },
  {
   "cell_type": "code",
   "execution_count": 149,
   "id": "09776981",
   "metadata": {},
   "outputs": [
    {
     "data": {
      "text/plain": [
       "<tf.Tensor: shape=(50,), dtype=int32, numpy=\n",
       "array([-100,  -96,  -92,  -88,  -84,  -80,  -76,  -72,  -68,  -64,  -60,\n",
       "        -56,  -52,  -48,  -44,  -40,  -36,  -32,  -28,  -24,  -20,  -16,\n",
       "        -12,   -8,   -4,    0,    4,    8,   12,   16,   20,   24,   28,\n",
       "         32,   36,   40,   44,   48,   52,   56,   60,   64,   68,   72,\n",
       "         76,   80,   84,   88,   92,   96])>"
      ]
     },
     "execution_count": 149,
     "metadata": {},
     "output_type": "execute_result"
    }
   ],
   "source": [
    "X = tf.range(-100, 100, 4)\n",
    "X\n"
   ]
  },
  {
   "cell_type": "code",
   "execution_count": 150,
   "id": "11c08d37",
   "metadata": {},
   "outputs": [
    {
     "data": {
      "text/plain": [
       "<tf.Tensor: shape=(50,), dtype=int32, numpy=\n",
       "array([-90, -86, -82, -78, -74, -70, -66, -62, -58, -54, -50, -46, -42,\n",
       "       -38, -34, -30, -26, -22, -18, -14, -10,  -6,  -2,   2,   6,  10,\n",
       "        14,  18,  22,  26,  30,  34,  38,  42,  46,  50,  54,  58,  62,\n",
       "        66,  70,  74,  78,  82,  86,  90,  94,  98, 102, 106])>"
      ]
     },
     "execution_count": 150,
     "metadata": {},
     "output_type": "execute_result"
    }
   ],
   "source": [
    "y = X + 10\n",
    "y"
   ]
  },
  {
   "cell_type": "code",
   "execution_count": 151,
   "id": "5fd126a2",
   "metadata": {},
   "outputs": [
    {
     "data": {
      "text/plain": [
       "<matplotlib.collections.PathCollection at 0x21a4738cdf0>"
      ]
     },
     "execution_count": 151,
     "metadata": {},
     "output_type": "execute_result"
    },
    {
     "data": {
      "image/png": "[encoded data removed]",
      "text/plain": [
       "<Figure size 640x480 with 1 Axes>"
      ]
     },
     "metadata": {},
     "output_type": "display_data"
    }
   ],
   "source": [
    "plt.scatter(X, y)"
   ]
  },
  {
   "cell_type": "code",
   "execution_count": 152,
   "id": "7b990cd8",
   "metadata": {},
   "outputs": [
    {
     "data": {
      "text/plain": [
       "50"
      ]
     },
     "execution_count": 152,
     "metadata": {},
     "output_type": "execute_result"
    }
   ],
   "source": [
    "len(y)"
   ]
  },
  {
   "cell_type": "code",
   "execution_count": 153,
   "id": "7d14d10a",
   "metadata": {},
   "outputs": [
    {
     "data": {
      "text/plain": [
       "(40, 10)"
      ]
     },
     "execution_count": 153,
     "metadata": {},
     "output_type": "execute_result"
    }
   ],
   "source": [
    "X_train = X[:40] #1st 40 data\n",
    "y_train = y[:40] \n",
    "\n",
    "X_test = X[40:] #rest of data\n",
    "y_test = y[40:]\n",
    "len(X_train), len(y_test)"
   ]
  },
  {
   "cell_type": "code",
   "execution_count": 154,
   "id": "f8adb674",
   "metadata": {},
   "outputs": [
    {
     "data": {
      "text/plain": [
       "<matplotlib.legend.Legend at 0x21a3813f1c0>"
      ]
     },
     "execution_count": 154,
     "metadata": {},
     "output_type": "execute_result"
    },
    {
     "data": {
      "image/png": "[encoded data removed]",
      "text/plain": [
       "<Figure size 1000x700 with 1 Axes>"
      ]
     },
     "metadata": {},
     "output_type": "display_data"
    }
   ],
   "source": [
    "plt.figure(figsize=(10,7))\n",
    "plt.scatter(X_train, y_train, c = 'b', label = 'training dataset')\n",
    "plt.scatter(X_test, y_test, c='g', label = 'testing dataset')\n",
    "plt.legend()"
   ]
  },
  {
   "cell_type": "code",
   "execution_count": 165,
   "id": "d0e9935c",
   "metadata": {},
   "outputs": [
    {
     "name": "stdout",
     "output_type": "stream",
     "text": [
      "Epoch 1/100\n",
      "2/2 [==============================] - 1s 8ms/step - loss: 29.7475 - mae: 29.7475\n",
      "Epoch 2/100\n",
      "2/2 [==============================] - 0s 4ms/step - loss: 27.7362 - mae: 27.7362\n",
      "Epoch 3/100\n",
      "2/2 [==============================] - 0s 9ms/step - loss: 33.4874 - mae: 33.4874\n",
      "Epoch 4/100\n",
      "2/2 [==============================] - 0s 13ms/step - loss: 19.3813 - mae: 19.3813\n",
      "Epoch 5/100\n",
      "2/2 [==============================] - 0s 15ms/step - loss: 20.2737 - mae: 20.2737\n",
      "Epoch 6/100\n",
      "2/2 [==============================] - 0s 6ms/step - loss: 13.4838 - mae: 13.4838\n",
      "Epoch 7/100\n",
      "2/2 [==============================] - 0s 13ms/step - loss: 13.0660 - mae: 13.0660\n",
      "Epoch 8/100\n",
      "2/2 [==============================] - 0s 10ms/step - loss: 10.4410 - mae: 10.4410\n",
      "Epoch 9/100\n",
      "2/2 [==============================] - 0s 5ms/step - loss: 29.6306 - mae: 29.6306\n",
      "Epoch 10/100\n",
      "2/2 [==============================] - 0s 11ms/step - loss: 15.6897 - mae: 15.6897\n",
      "Epoch 11/100\n",
      "2/2 [==============================] - 0s 4ms/step - loss: 9.3890 - mae: 9.3890\n",
      "Epoch 12/100\n",
      "2/2 [==============================] - 0s 9ms/step - loss: 20.4930 - mae: 20.4930\n",
      "Epoch 13/100\n",
      "2/2 [==============================] - 0s 11ms/step - loss: 7.2764 - mae: 7.2764\n",
      "Epoch 14/100\n",
      "2/2 [==============================] - 0s 8ms/step - loss: 18.3605 - mae: 18.3605\n",
      "Epoch 15/100\n",
      "2/2 [==============================] - 0s 11ms/step - loss: 6.7325 - mae: 6.7325\n",
      "Epoch 16/100\n",
      "2/2 [==============================] - 0s 9ms/step - loss: 11.1785 - mae: 11.1785\n",
      "Epoch 17/100\n",
      "2/2 [==============================] - 0s 8ms/step - loss: 16.5111 - mae: 16.5111\n",
      "Epoch 18/100\n",
      "2/2 [==============================] - 0s 8ms/step - loss: 12.3707 - mae: 12.3707\n",
      "Epoch 19/100\n",
      "2/2 [==============================] - 0s 10ms/step - loss: 10.2888 - mae: 10.2888\n",
      "Epoch 20/100\n",
      "2/2 [==============================] - 0s 7ms/step - loss: 6.6917 - mae: 6.6917\n",
      "Epoch 21/100\n",
      "2/2 [==============================] - 0s 8ms/step - loss: 11.3259 - mae: 11.3259\n",
      "Epoch 22/100\n",
      "2/2 [==============================] - 0s 13ms/step - loss: 13.9513 - mae: 13.9513\n",
      "Epoch 23/100\n",
      "2/2 [==============================] - 0s 14ms/step - loss: 10.4098 - mae: 10.4098\n",
      "Epoch 24/100\n",
      "2/2 [==============================] - 0s 9ms/step - loss: 11.3457 - mae: 11.3457\n",
      "Epoch 25/100\n",
      "2/2 [==============================] - 0s 6ms/step - loss: 16.4182 - mae: 16.4182\n",
      "Epoch 26/100\n",
      "2/2 [==============================] - 0s 8ms/step - loss: 20.1323 - mae: 20.1323\n",
      "Epoch 27/100\n",
      "2/2 [==============================] - 0s 7ms/step - loss: 13.8660 - mae: 13.8660\n",
      "Epoch 28/100\n",
      "2/2 [==============================] - 0s 10ms/step - loss: 13.5990 - mae: 13.5990\n",
      "Epoch 29/100\n",
      "2/2 [==============================] - 0s 8ms/step - loss: 5.3088 - mae: 5.3088\n",
      "Epoch 30/100\n",
      "2/2 [==============================] - 0s 10ms/step - loss: 22.9227 - mae: 22.9227\n",
      "Epoch 31/100\n",
      "2/2 [==============================] - 0s 12ms/step - loss: 9.3795 - mae: 9.3795\n",
      "Epoch 32/100\n",
      "2/2 [==============================] - 0s 8ms/step - loss: 11.8021 - mae: 11.8021\n",
      "Epoch 33/100\n",
      "2/2 [==============================] - 0s 9ms/step - loss: 5.0437 - mae: 5.0437\n",
      "Epoch 34/100\n",
      "2/2 [==============================] - 0s 7ms/step - loss: 17.9430 - mae: 17.9430\n",
      "Epoch 35/100\n",
      "2/2 [==============================] - 0s 12ms/step - loss: 7.0608 - mae: 7.0608\n",
      "Epoch 36/100\n",
      "2/2 [==============================] - 0s 13ms/step - loss: 18.0166 - mae: 18.0166\n",
      "Epoch 37/100\n",
      "2/2 [==============================] - 0s 8ms/step - loss: 7.6838 - mae: 7.6838\n",
      "Epoch 38/100\n",
      "2/2 [==============================] - 0s 6ms/step - loss: 9.6439 - mae: 9.6439\n",
      "Epoch 39/100\n",
      "2/2 [==============================] - 0s 12ms/step - loss: 14.9186 - mae: 14.9186\n",
      "Epoch 40/100\n",
      "2/2 [==============================] - 0s 9ms/step - loss: 13.4324 - mae: 13.4324\n",
      "Epoch 41/100\n",
      "2/2 [==============================] - 0s 11ms/step - loss: 7.0912 - mae: 7.0912\n",
      "Epoch 42/100\n",
      "2/2 [==============================] - 0s 12ms/step - loss: 12.1988 - mae: 12.1988\n",
      "Epoch 43/100\n",
      "2/2 [==============================] - 0s 8ms/step - loss: 10.2315 - mae: 10.2315\n",
      "Epoch 44/100\n",
      "2/2 [==============================] - 0s 10ms/step - loss: 21.8606 - mae: 21.8606\n",
      "Epoch 45/100\n",
      "2/2 [==============================] - 0s 11ms/step - loss: 12.8081 - mae: 12.8081\n",
      "Epoch 46/100\n",
      "2/2 [==============================] - 0s 7ms/step - loss: 6.9608 - mae: 6.9608\n",
      "Epoch 47/100\n",
      "2/2 [==============================] - 0s 10ms/step - loss: 7.1764 - mae: 7.1764\n",
      "Epoch 48/100\n",
      "2/2 [==============================] - 0s 6ms/step - loss: 10.2042 - mae: 10.2042\n",
      "Epoch 49/100\n",
      "2/2 [==============================] - 0s 5ms/step - loss: 8.3594 - mae: 8.3594\n",
      "Epoch 50/100\n",
      "2/2 [==============================] - 0s 7ms/step - loss: 12.3118 - mae: 12.3118\n",
      "Epoch 51/100\n",
      "2/2 [==============================] - 0s 8ms/step - loss: 8.9692 - mae: 8.9692\n",
      "Epoch 52/100\n",
      "2/2 [==============================] - 0s 7ms/step - loss: 18.4670 - mae: 18.4670\n",
      "Epoch 53/100\n",
      "2/2 [==============================] - 0s 4ms/step - loss: 8.4992 - mae: 8.4992\n",
      "Epoch 54/100\n",
      "2/2 [==============================] - 0s 7ms/step - loss: 14.3291 - mae: 14.3291\n",
      "Epoch 55/100\n",
      "2/2 [==============================] - 0s 7ms/step - loss: 21.9490 - mae: 21.9490\n",
      "Epoch 56/100\n",
      "2/2 [==============================] - 0s 10ms/step - loss: 13.3173 - mae: 13.3173\n",
      "Epoch 57/100\n",
      "2/2 [==============================] - 0s 12ms/step - loss: 6.5857 - mae: 6.5857\n",
      "Epoch 58/100\n",
      "2/2 [==============================] - 0s 10ms/step - loss: 6.2285 - mae: 6.2285\n",
      "Epoch 59/100\n",
      "2/2 [==============================] - 0s 2ms/step - loss: 12.7518 - mae: 12.7518\n",
      "Epoch 60/100\n",
      "2/2 [==============================] - 0s 7ms/step - loss: 8.5595 - mae: 8.5595\n",
      "Epoch 61/100\n",
      "2/2 [==============================] - 0s 7ms/step - loss: 12.3452 - mae: 12.3452\n",
      "Epoch 62/100\n",
      "2/2 [==============================] - 0s 8ms/step - loss: 15.6749 - mae: 15.6749\n",
      "Epoch 63/100\n",
      "2/2 [==============================] - 0s 8ms/step - loss: 9.0814 - mae: 9.0814\n",
      "Epoch 64/100\n",
      "2/2 [==============================] - 0s 7ms/step - loss: 8.5554 - mae: 8.5554\n",
      "Epoch 65/100\n",
      "2/2 [==============================] - 0s 7ms/step - loss: 8.0235 - mae: 8.0235\n",
      "Epoch 66/100\n",
      "2/2 [==============================] - 0s 7ms/step - loss: 16.1190 - mae: 16.1190\n",
      "Epoch 67/100\n",
      "2/2 [==============================] - 0s 6ms/step - loss: 9.5156 - mae: 9.5156\n",
      "Epoch 68/100\n",
      "2/2 [==============================] - 0s 8ms/step - loss: 6.5684 - mae: 6.5684\n",
      "Epoch 69/100\n",
      "2/2 [==============================] - 0s 7ms/step - loss: 14.9236 - mae: 14.9236\n",
      "Epoch 70/100\n",
      "2/2 [==============================] - 0s 8ms/step - loss: 7.9767 - mae: 7.9767\n",
      "Epoch 71/100\n",
      "2/2 [==============================] - 0s 8ms/step - loss: 9.8732 - mae: 9.8732\n",
      "Epoch 72/100\n",
      "2/2 [==============================] - 0s 9ms/step - loss: 12.3526 - mae: 12.3526\n",
      "Epoch 73/100\n",
      "2/2 [==============================] - 0s 7ms/step - loss: 11.5176 - mae: 11.5176\n",
      "Epoch 74/100\n",
      "2/2 [==============================] - 0s 8ms/step - loss: 23.2243 - mae: 23.2243\n",
      "Epoch 75/100\n",
      "2/2 [==============================] - 0s 2ms/step - loss: 7.2509 - mae: 7.2509\n",
      "Epoch 76/100\n",
      "2/2 [==============================] - 0s 6ms/step - loss: 9.4389 - mae: 9.4389\n",
      "Epoch 77/100\n",
      "2/2 [==============================] - 0s 5ms/step - loss: 11.0225 - mae: 11.0225\n",
      "Epoch 78/100\n",
      "2/2 [==============================] - 0s 9ms/step - loss: 14.6672 - mae: 14.6672\n",
      "Epoch 79/100\n",
      "2/2 [==============================] - 0s 9ms/step - loss: 18.3802 - mae: 18.3802\n",
      "Epoch 80/100\n",
      "2/2 [==============================] - 0s 13ms/step - loss: 17.9079 - mae: 17.9079\n",
      "Epoch 81/100\n",
      "2/2 [==============================] - 0s 13ms/step - loss: 8.1899 - mae: 8.1899\n",
      "Epoch 82/100\n",
      "2/2 [==============================] - 0s 7ms/step - loss: 15.9775 - mae: 15.9775\n",
      "Epoch 83/100\n",
      "2/2 [==============================] - 0s 7ms/step - loss: 5.6149 - mae: 5.6149\n",
      "Epoch 84/100\n",
      "2/2 [==============================] - 0s 15ms/step - loss: 6.9218 - mae: 6.9218\n",
      "Epoch 85/100\n",
      "2/2 [==============================] - 0s 9ms/step - loss: 16.3058 - mae: 16.3058\n",
      "Epoch 86/100\n",
      "2/2 [==============================] - 0s 9ms/step - loss: 12.5007 - mae: 12.5007\n",
      "Epoch 87/100\n"
     ]
    },
    {
     "name": "stdout",
     "output_type": "stream",
     "text": [
      "2/2 [==============================] - 0s 5ms/step - loss: 12.0431 - mae: 12.0431\n",
      "Epoch 88/100\n",
      "2/2 [==============================] - 0s 1ms/step - loss: 10.2872 - mae: 10.2872\n",
      "Epoch 89/100\n",
      "2/2 [==============================] - 0s 6ms/step - loss: 6.8120 - mae: 6.8120\n",
      "Epoch 90/100\n",
      "2/2 [==============================] - 0s 8ms/step - loss: 15.6331 - mae: 15.6331\n",
      "Epoch 91/100\n",
      "2/2 [==============================] - 0s 5ms/step - loss: 11.6132 - mae: 11.6132\n",
      "Epoch 92/100\n",
      "2/2 [==============================] - 0s 6ms/step - loss: 9.1521 - mae: 9.1521\n",
      "Epoch 93/100\n",
      "2/2 [==============================] - 0s 6ms/step - loss: 9.0954 - mae: 9.0954\n",
      "Epoch 94/100\n",
      "2/2 [==============================] - 0s 15ms/step - loss: 12.3980 - mae: 12.3980\n",
      "Epoch 95/100\n",
      "2/2 [==============================] - 0s 10ms/step - loss: 15.6152 - mae: 15.6152\n",
      "Epoch 96/100\n",
      "2/2 [==============================] - 0s 11ms/step - loss: 7.9869 - mae: 7.9869\n",
      "Epoch 97/100\n",
      "2/2 [==============================] - 0s 12ms/step - loss: 9.0372 - mae: 9.0372\n",
      "Epoch 98/100\n",
      "2/2 [==============================] - 0s 12ms/step - loss: 9.0703 - mae: 9.0703\n",
      "Epoch 99/100\n",
      "2/2 [==============================] - 0s 10ms/step - loss: 8.9834 - mae: 8.9834\n",
      "Epoch 100/100\n",
      "2/2 [==============================] - 0s 7ms/step - loss: 17.4415 - mae: 17.4415\n"
     ]
    },
    {
     "data": {
      "text/plain": [
       "<keras.callbacks.History at 0x21a45cb89d0>"
      ]
     },
     "execution_count": 165,
     "metadata": {},
     "output_type": "execute_result"
    }
   ],
   "source": [
    "# let's bouild a model for this data\n",
    "# create the model by defining the input shape arg in the first layer\n",
    "\n",
    "model = tf.keras.Sequential([\n",
    "    #tf.keras.layers.Dense(1,input_shape=[1]),\n",
    "\n",
    "    tf.keras.layers.Dense(10,input_shape=[1], activation = 'relu'),\n",
    "\n",
    "    tf.keras.layers.Dense(1, input_shape=[1])\n",
    "], name = 'model_1')\n",
    "\n",
    "# compile the model\n",
    "model.compile(loss=tf.keras.losses.mae,\n",
    "             optimizer = tf.keras.optimizers.SGD(),\n",
    "             metrics=['mae'])\n",
    "\n",
    "# fit the model\n",
    "model.fit(\n",
    "    X_train,\n",
    "    y_train,\n",
    "    epochs = 100\n",
    ")"
   ]
  },
  {
   "cell_type": "code",
   "execution_count": 166,
   "id": "ea3a3b8b",
   "metadata": {},
   "outputs": [
    {
     "name": "stdout",
     "output_type": "stream",
     "text": [
      "Model: \"model_1\"\n",
      "_________________________________________________________________\n",
      " Layer (type)                Output Shape              Param #   \n",
      "=================================================================\n",
      " dense_115 (Dense)           (None, 10)                20        \n",
      "                                                                 \n",
      " dense_116 (Dense)           (None, 1)                 11        \n",
      "                                                                 \n",
      "=================================================================\n",
      "Total params: 31\n",
      "Trainable params: 31\n",
      "Non-trainable params: 0\n",
      "_________________________________________________________________\n"
     ]
    }
   ],
   "source": [
    "model.summary()"
   ]
  },
  {
   "cell_type": "code",
   "execution_count": 158,
   "id": "c27b2999",
   "metadata": {},
   "outputs": [
    {
     "name": "stdout",
     "output_type": "stream",
     "text": [
      "You must install pydot (`pip install pydot`) and install graphviz (see instructions at https://graphviz.gitlab.io/download/) for plot_model to work.\n"
     ]
    }
   ],
   "source": [
    "from tensorflow.keras.utils import plot_model\n",
    "plot_model(model=model)"
   ]
  },
  {
   "cell_type": "code",
   "execution_count": 159,
   "id": "548049bc",
   "metadata": {},
   "outputs": [
    {
     "name": "stdout",
     "output_type": "stream",
     "text": [
      "You must install pydot (`pip install pydot`) and install graphviz (see instructions at https://graphviz.gitlab.io/download/) for plot_model to work.\n"
     ]
    }
   ],
   "source": [
    "from tensorflow.keras.utils import plot_model\n",
    "plot_model(model=model)"
   ]
  },
  {
   "cell_type": "code",
   "execution_count": 167,
   "id": "02f23ce2",
   "metadata": {},
   "outputs": [
    {
     "name": "stdout",
     "output_type": "stream",
     "text": [
      "1/1 [==============================] - 0s 120ms/step\n"
     ]
    }
   ],
   "source": [
    "prediction = model.predict(X_test)"
   ]
  },
  {
   "cell_type": "code",
   "execution_count": 168,
   "id": "a4f9e16e",
   "metadata": {},
   "outputs": [
    {
     "data": {
      "text/plain": [
       "array([[58.32114 ],\n",
       "       [62.164997],\n",
       "       [66.00885 ],\n",
       "       [69.8527  ],\n",
       "       [73.696556],\n",
       "       [77.540405],\n",
       "       [81.384254],\n",
       "       [85.2281  ],\n",
       "       [89.07196 ],\n",
       "       [92.91581 ]], dtype=float32)"
      ]
     },
     "execution_count": 168,
     "metadata": {},
     "output_type": "execute_result"
    }
   ],
   "source": [
    "prediction"
   ]
  },
  {
   "cell_type": "code",
   "execution_count": 169,
   "id": "0f3a1b50",
   "metadata": {},
   "outputs": [
    {
     "data": {
      "text/plain": [
       "<tf.Tensor: shape=(10,), dtype=int32, numpy=array([ 70,  74,  78,  82,  86,  90,  94,  98, 102, 106])>"
      ]
     },
     "execution_count": 169,
     "metadata": {},
     "output_type": "execute_result"
    }
   ],
   "source": [
    "y_test"
   ]
  },
  {
   "cell_type": "code",
   "execution_count": 170,
   "id": "bdda139a",
   "metadata": {},
   "outputs": [
    {
     "data": {
      "text/plain": [
       "<matplotlib.legend.Legend at 0x21a44abd630>"
      ]
     },
     "execution_count": 170,
     "metadata": {},
     "output_type": "execute_result"
    },
    {
     "data": {
      "image/png": "[encoded data removed]",
      "text/plain": [
       "<Figure size 1000x700 with 1 Axes>"
      ]
     },
     "metadata": {},
     "output_type": "display_data"
    }
   ],
   "source": [
    "plt.figure(figsize=(10,7))\n",
    "plt.scatter(X_train, y_train, c = 'b', label = 'training dataset')\n",
    "plt.scatter(X_test, y_test, c='g', label = 'testing dataset')\n",
    "plt.scatter(X_test, prediction, c = 'r', label = 'Predicted Values')\n",
    "plt.legend()"
   ]
  },
  {
   "cell_type": "code",
   "execution_count": 171,
   "id": "be1f3c29",
   "metadata": {},
   "outputs": [
    {
     "name": "stdout",
     "output_type": "stream",
     "text": [
      "Epoch 1/100\n",
      "2/2 [==============================] - 1s 10ms/step - loss: 37.4020 - mae: 37.4020\n",
      "Epoch 2/100\n",
      "2/2 [==============================] - 0s 11ms/step - loss: 19.8935 - mae: 19.8935\n",
      "Epoch 3/100\n",
      "2/2 [==============================] - 0s 15ms/step - loss: 14.8714 - mae: 14.8714\n",
      "Epoch 4/100\n",
      "2/2 [==============================] - 0s 17ms/step - loss: 7.2818 - mae: 7.2818\n",
      "Epoch 5/100\n",
      "2/2 [==============================] - 0s 10ms/step - loss: 11.5857 - mae: 11.5857\n",
      "Epoch 6/100\n",
      "2/2 [==============================] - 0s 14ms/step - loss: 8.9356 - mae: 8.9356\n",
      "Epoch 7/100\n",
      "2/2 [==============================] - 0s 8ms/step - loss: 12.9681 - mae: 12.9681\n",
      "Epoch 8/100\n",
      "2/2 [==============================] - 0s 7ms/step - loss: 14.4137 - mae: 14.4137\n",
      "Epoch 9/100\n",
      "2/2 [==============================] - 0s 10ms/step - loss: 21.9382 - mae: 21.9382\n",
      "Epoch 10/100\n",
      "2/2 [==============================] - 0s 18ms/step - loss: 9.7116 - mae: 9.7116\n",
      "Epoch 11/100\n",
      "2/2 [==============================] - 0s 8ms/step - loss: 11.3572 - mae: 11.3572\n",
      "Epoch 12/100\n",
      "2/2 [==============================] - 0s 18ms/step - loss: 11.5623 - mae: 11.5623\n",
      "Epoch 13/100\n",
      "2/2 [==============================] - 0s 7ms/step - loss: 8.7413 - mae: 8.7413\n",
      "Epoch 14/100\n",
      "2/2 [==============================] - 0s 13ms/step - loss: 13.4295 - mae: 13.4295\n",
      "Epoch 15/100\n",
      "2/2 [==============================] - 0s 7ms/step - loss: 11.1821 - mae: 11.1821\n",
      "Epoch 16/100\n",
      "2/2 [==============================] - 0s 15ms/step - loss: 9.8683 - mae: 9.8683\n",
      "Epoch 17/100\n",
      "2/2 [==============================] - 0s 8ms/step - loss: 14.6461 - mae: 14.6461\n",
      "Epoch 18/100\n",
      "2/2 [==============================] - 0s 15ms/step - loss: 13.1411 - mae: 13.1411\n",
      "Epoch 19/100\n",
      "2/2 [==============================] - 0s 7ms/step - loss: 10.6008 - mae: 10.6008\n",
      "Epoch 20/100\n",
      "2/2 [==============================] - 0s 14ms/step - loss: 6.4147 - mae: 6.4147\n",
      "Epoch 21/100\n",
      "2/2 [==============================] - 0s 8ms/step - loss: 12.1861 - mae: 12.1861\n",
      "Epoch 22/100\n",
      "2/2 [==============================] - 0s 20ms/step - loss: 21.3431 - mae: 21.3431\n",
      "Epoch 23/100\n",
      "2/2 [==============================] - 0s 9ms/step - loss: 10.4003 - mae: 10.4003\n",
      "Epoch 24/100\n",
      "2/2 [==============================] - 0s 10ms/step - loss: 11.1295 - mae: 11.1295\n",
      "Epoch 25/100\n",
      "2/2 [==============================] - 0s 42ms/step - loss: 17.1567 - mae: 17.1567\n",
      "Epoch 26/100\n",
      "2/2 [==============================] - 0s 8ms/step - loss: 17.2550 - mae: 17.2550\n",
      "Epoch 27/100\n",
      "2/2 [==============================] - 0s 27ms/step - loss: 12.6653 - mae: 12.6653\n",
      "Epoch 28/100\n",
      "2/2 [==============================] - 0s 7ms/step - loss: 11.9045 - mae: 11.9045\n",
      "Epoch 29/100\n",
      "2/2 [==============================] - 0s 12ms/step - loss: 5.1835 - mae: 5.1835\n",
      "Epoch 30/100\n",
      "2/2 [==============================] - 0s 7ms/step - loss: 22.5356 - mae: 22.5356\n",
      "Epoch 31/100\n",
      "2/2 [==============================] - 0s 9ms/step - loss: 9.7027 - mae: 9.7027\n",
      "Epoch 32/100\n",
      "2/2 [==============================] - 0s 7ms/step - loss: 11.7265 - mae: 11.7265\n",
      "Epoch 33/100\n",
      "2/2 [==============================] - 0s 7ms/step - loss: 8.4955 - mae: 8.4955\n",
      "Epoch 34/100\n",
      "2/2 [==============================] - 0s 8ms/step - loss: 14.9844 - mae: 14.9844\n",
      "Epoch 35/100\n",
      "2/2 [==============================] - 0s 7ms/step - loss: 7.6603 - mae: 7.6603\n",
      "Epoch 36/100\n",
      "2/2 [==============================] - 0s 12ms/step - loss: 17.7969 - mae: 17.7969\n",
      "Epoch 37/100\n",
      "2/2 [==============================] - 0s 6ms/step - loss: 7.2533 - mae: 7.2533\n",
      "Epoch 38/100\n",
      "2/2 [==============================] - 0s 8ms/step - loss: 11.8134 - mae: 11.8134\n",
      "Epoch 39/100\n",
      "2/2 [==============================] - 0s 6ms/step - loss: 15.2412 - mae: 15.2412\n",
      "Epoch 40/100\n",
      "2/2 [==============================] - 0s 6ms/step - loss: 13.0486 - mae: 13.0486\n",
      "Epoch 41/100\n",
      "2/2 [==============================] - 0s 15ms/step - loss: 6.8228 - mae: 6.8228\n",
      "Epoch 42/100\n",
      "2/2 [==============================] - 0s 11ms/step - loss: 11.6208 - mae: 11.6208\n",
      "Epoch 43/100\n",
      "2/2 [==============================] - 0s 5ms/step - loss: 9.3151 - mae: 9.3151\n",
      "Epoch 44/100\n",
      "2/2 [==============================] - 0s 7ms/step - loss: 23.4189 - mae: 23.4189\n",
      "Epoch 45/100\n",
      "2/2 [==============================] - 0s 0s/step - loss: 13.8364 - mae: 13.8364\n",
      "Epoch 46/100\n",
      "2/2 [==============================] - 0s 7ms/step - loss: 6.2709 - mae: 6.2709\n",
      "Epoch 47/100\n",
      "2/2 [==============================] - 0s 2ms/step - loss: 8.5402 - mae: 8.5402\n",
      "Epoch 48/100\n",
      "2/2 [==============================] - 0s 8ms/step - loss: 10.7105 - mae: 10.7105\n",
      "Epoch 49/100\n",
      "2/2 [==============================] - 0s 8ms/step - loss: 9.4645 - mae: 9.4645\n",
      "Epoch 50/100\n",
      "2/2 [==============================] - 0s 8ms/step - loss: 12.5730 - mae: 12.5730\n",
      "Epoch 51/100\n",
      "2/2 [==============================] - 0s 6ms/step - loss: 9.2004 - mae: 9.2004\n",
      "Epoch 52/100\n",
      "2/2 [==============================] - 0s 6ms/step - loss: 18.5197 - mae: 18.5197\n",
      "Epoch 53/100\n",
      "2/2 [==============================] - 0s 7ms/step - loss: 8.3661 - mae: 8.3661\n",
      "Epoch 54/100\n",
      "2/2 [==============================] - 0s 6ms/step - loss: 14.1288 - mae: 14.1288\n",
      "Epoch 55/100\n",
      "2/2 [==============================] - 0s 8ms/step - loss: 21.6192 - mae: 21.6192\n",
      "Epoch 56/100\n",
      "2/2 [==============================] - 0s 7ms/step - loss: 13.0470 - mae: 13.0470\n",
      "Epoch 57/100\n",
      "2/2 [==============================] - 0s 10ms/step - loss: 6.7904 - mae: 6.7904\n",
      "Epoch 58/100\n",
      "2/2 [==============================] - 0s 8ms/step - loss: 6.6132 - mae: 6.6132\n",
      "Epoch 59/100\n",
      "2/2 [==============================] - 0s 8ms/step - loss: 12.7307 - mae: 12.7307\n",
      "Epoch 60/100\n",
      "2/2 [==============================] - 0s 7ms/step - loss: 11.4840 - mae: 11.4840\n",
      "Epoch 61/100\n",
      "2/2 [==============================] - 0s 8ms/step - loss: 15.0168 - mae: 15.0168\n",
      "Epoch 62/100\n",
      "2/2 [==============================] - 0s 10ms/step - loss: 7.7765 - mae: 7.7765\n",
      "Epoch 63/100\n",
      "2/2 [==============================] - 0s 8ms/step - loss: 7.0801 - mae: 7.0801\n",
      "Epoch 64/100\n",
      "2/2 [==============================] - 0s 16ms/step - loss: 16.5807 - mae: 16.5807\n",
      "Epoch 65/100\n",
      "2/2 [==============================] - 0s 15ms/step - loss: 12.5414 - mae: 12.5414\n",
      "Epoch 66/100\n",
      "2/2 [==============================] - 0s 15ms/step - loss: 10.5134 - mae: 10.5134\n",
      "Epoch 67/100\n",
      "2/2 [==============================] - 0s 10ms/step - loss: 6.2752 - mae: 6.2752\n",
      "Epoch 68/100\n",
      "2/2 [==============================] - 0s 14ms/step - loss: 11.2513 - mae: 11.2513\n",
      "Epoch 69/100\n",
      "2/2 [==============================] - 0s 11ms/step - loss: 19.8669 - mae: 19.8669\n",
      "Epoch 70/100\n",
      "2/2 [==============================] - 0s 14ms/step - loss: 9.5867 - mae: 9.5867\n",
      "Epoch 71/100\n",
      "2/2 [==============================] - 0s 12ms/step - loss: 9.4238 - mae: 9.4238\n",
      "Epoch 72/100\n",
      "2/2 [==============================] - 0s 15ms/step - loss: 11.8773 - mae: 11.8773\n",
      "Epoch 73/100\n",
      "2/2 [==============================] - 0s 17ms/step - loss: 10.8211 - mae: 10.8211\n",
      "Epoch 74/100\n",
      "2/2 [==============================] - 0s 14ms/step - loss: 25.2883 - mae: 25.2883\n",
      "Epoch 75/100\n",
      "2/2 [==============================] - 0s 13ms/step - loss: 4.8870 - mae: 4.8870\n",
      "Epoch 76/100\n",
      "2/2 [==============================] - 0s 6ms/step - loss: 13.3224 - mae: 13.3224\n",
      "Epoch 77/100\n",
      "2/2 [==============================] - 0s 7ms/step - loss: 15.3984 - mae: 15.3984\n",
      "Epoch 78/100\n",
      "2/2 [==============================] - 0s 10ms/step - loss: 11.0530 - mae: 11.0530\n",
      "Epoch 79/100\n",
      "2/2 [==============================] - 0s 8ms/step - loss: 12.0596 - mae: 12.0596\n",
      "Epoch 80/100\n",
      "2/2 [==============================] - 0s 9ms/step - loss: 18.6192 - mae: 18.6192\n",
      "Epoch 81/100\n",
      "2/2 [==============================] - 0s 6ms/step - loss: 6.2957 - mae: 6.2957\n",
      "Epoch 82/100\n",
      "2/2 [==============================] - 0s 6ms/step - loss: 7.3074 - mae: 7.3074\n",
      "Epoch 83/100\n",
      "2/2 [==============================] - 0s 7ms/step - loss: 8.3183 - mae: 8.3183\n",
      "Epoch 84/100\n",
      "2/2 [==============================] - 0s 8ms/step - loss: 5.9423 - mae: 5.9423\n",
      "Epoch 85/100\n",
      "2/2 [==============================] - 0s 8ms/step - loss: 16.2736 - mae: 16.2736\n",
      "Epoch 86/100\n",
      "2/2 [==============================] - 0s 7ms/step - loss: 14.4855 - mae: 14.4855\n",
      "Epoch 87/100\n"
     ]
    },
    {
     "name": "stdout",
     "output_type": "stream",
     "text": [
      "2/2 [==============================] - 0s 8ms/step - loss: 12.2362 - mae: 12.2362\n",
      "Epoch 88/100\n",
      "2/2 [==============================] - 0s 8ms/step - loss: 10.5006 - mae: 10.5006\n",
      "Epoch 89/100\n",
      "2/2 [==============================] - 0s 6ms/step - loss: 6.8244 - mae: 6.8244\n",
      "Epoch 90/100\n",
      "2/2 [==============================] - 0s 9ms/step - loss: 15.5433 - mae: 15.5433\n",
      "Epoch 91/100\n",
      "2/2 [==============================] - 0s 10ms/step - loss: 11.8298 - mae: 11.8298\n",
      "Epoch 92/100\n",
      "2/2 [==============================] - 0s 7ms/step - loss: 9.4203 - mae: 9.4203\n",
      "Epoch 93/100\n",
      "2/2 [==============================] - 0s 6ms/step - loss: 9.0590 - mae: 9.0590\n",
      "Epoch 94/100\n",
      "2/2 [==============================] - 0s 6ms/step - loss: 12.2748 - mae: 12.2748\n",
      "Epoch 95/100\n",
      "2/2 [==============================] - 0s 7ms/step - loss: 15.9483 - mae: 15.9483\n",
      "Epoch 96/100\n",
      "2/2 [==============================] - 0s 17ms/step - loss: 8.1812 - mae: 8.1812\n",
      "Epoch 97/100\n",
      "2/2 [==============================] - 0s 16ms/step - loss: 8.9537 - mae: 8.9537\n",
      "Epoch 98/100\n",
      "2/2 [==============================] - 0s 16ms/step - loss: 8.9926 - mae: 8.9926\n",
      "Epoch 99/100\n",
      "2/2 [==============================] - 0s 6ms/step - loss: 8.9607 - mae: 8.9607\n",
      "Epoch 100/100\n",
      "2/2 [==============================] - 0s 14ms/step - loss: 17.4059 - mae: 17.4059\n"
     ]
    },
    {
     "data": {
      "text/plain": [
       "<keras.callbacks.History at 0x21a435b15a0>"
      ]
     },
     "execution_count": 171,
     "metadata": {},
     "output_type": "execute_result"
    }
   ],
   "source": [
    "# let's Rebouild a model for this data\n",
    "# create the model by defining the input shape arg in the first layer\n",
    "\n",
    "model = tf.keras.Sequential([\n",
    "    #tf.keras.layers.Dense(1,input_shape=[1]),\n",
    "\n",
    "    tf.keras.layers.Dense(100,input_shape=[1], activation = 'relu'),\n",
    "\n",
    "    tf.keras.layers.Dense(1, input_shape=[1])\n",
    "], name = 'model_1')\n",
    "\n",
    "# compile the model\n",
    "model.compile(loss=tf.keras.losses.mae,\n",
    "             optimizer = tf.keras.optimizers.SGD(),\n",
    "             metrics=['mae'])\n",
    "\n",
    "# fit the model\n",
    "model.fit(\n",
    "    X_train,\n",
    "    y_train,\n",
    "    epochs = 100\n",
    ")"
   ]
  },
  {
   "cell_type": "code",
   "execution_count": 176,
   "id": "2d21f1cf",
   "metadata": {},
   "outputs": [
    {
     "name": "stdout",
     "output_type": "stream",
     "text": [
      "1/1 [==============================] - 0s 46ms/step\n"
     ]
    },
    {
     "data": {
      "text/plain": [
       "array([[58.20425 ],\n",
       "       [62.038616],\n",
       "       [65.872986],\n",
       "       [69.70735 ],\n",
       "       [73.54171 ],\n",
       "       [77.376076],\n",
       "       [81.210434],\n",
       "       [85.04471 ],\n",
       "       [88.87901 ],\n",
       "       [92.7133  ]], dtype=float32)"
      ]
     },
     "execution_count": 176,
     "metadata": {},
     "output_type": "execute_result"
    }
   ],
   "source": [
    "prediction = model.predict(X_test)\n",
    "prediction"
   ]
  },
  {
   "cell_type": "code",
   "execution_count": 174,
   "id": "0b87267b",
   "metadata": {},
   "outputs": [
    {
     "data": {
      "text/plain": [
       "<matplotlib.legend.Legend at 0x21a47445ff0>"
      ]
     },
     "execution_count": 174,
     "metadata": {},
     "output_type": "execute_result"
    },
    {
     "data": {
      "image/png": "[encoded data removed]",
      "text/plain": [
       "<Figure size 1000x700 with 1 Axes>"
      ]
     },
     "metadata": {},
     "output_type": "display_data"
    }
   ],
   "source": [
    "plt.figure(figsize=(10,7))\n",
    "plt.scatter(X_train, y_train, c = 'b', label = 'training dataset')\n",
    "plt.scatter(X_test, y_test, c='g', label = 'testing dataset')\n",
    "plt.scatter(X_test, prediction, c = 'r', label = 'Predicted Values')\n",
    "plt.legend()"
   ]
  },
  {
   "cell_type": "code",
   "execution_count": 185,
   "id": "efff7a88",
   "metadata": {},
   "outputs": [
    {
     "name": "stdout",
     "output_type": "stream",
     "text": [
      "Epoch 1/100\n",
      "2/2 [==============================] - 1s 15ms/step - loss: 50.4641 - mae: 50.4641\n",
      "Epoch 2/100\n",
      "2/2 [==============================] - 0s 8ms/step - loss: 27.6610 - mae: 27.6610\n",
      "Epoch 3/100\n",
      "2/2 [==============================] - 0s 11ms/step - loss: 31.7450 - mae: 31.7450\n",
      "Epoch 4/100\n",
      "2/2 [==============================] - 0s 16ms/step - loss: 13.5772 - mae: 13.5772\n",
      "Epoch 5/100\n",
      "2/2 [==============================] - 0s 13ms/step - loss: 18.4323 - mae: 18.4323\n",
      "Epoch 6/100\n",
      "2/2 [==============================] - 0s 12ms/step - loss: 9.2984 - mae: 9.2984\n",
      "Epoch 7/100\n",
      "2/2 [==============================] - 0s 16ms/step - loss: 10.3082 - mae: 10.3082\n",
      "Epoch 8/100\n",
      "2/2 [==============================] - 0s 10ms/step - loss: 11.2459 - mae: 11.2459\n",
      "Epoch 9/100\n",
      "2/2 [==============================] - 0s 14ms/step - loss: 42.2788 - mae: 42.2788\n",
      "Epoch 10/100\n",
      "2/2 [==============================] - 0s 15ms/step - loss: 29.4415 - mae: 29.4415\n",
      "Epoch 11/100\n",
      "2/2 [==============================] - 0s 17ms/step - loss: 7.7050 - mae: 7.7050\n",
      "Epoch 12/100\n",
      "2/2 [==============================] - 0s 10ms/step - loss: 28.5851 - mae: 28.5851\n",
      "Epoch 13/100\n",
      "2/2 [==============================] - 0s 19ms/step - loss: 11.4988 - mae: 11.4988\n",
      "Epoch 14/100\n",
      "2/2 [==============================] - 0s 15ms/step - loss: 30.2441 - mae: 30.2441\n",
      "Epoch 15/100\n",
      "2/2 [==============================] - 0s 6ms/step - loss: 20.0075 - mae: 20.0075\n",
      "Epoch 16/100\n",
      "2/2 [==============================] - 0s 17ms/step - loss: 9.9137 - mae: 9.9137\n",
      "Epoch 17/100\n",
      "2/2 [==============================] - 0s 13ms/step - loss: 17.8460 - mae: 17.8460\n",
      "Epoch 18/100\n",
      "2/2 [==============================] - 0s 12ms/step - loss: 14.3256 - mae: 14.3256\n",
      "Epoch 19/100\n",
      "2/2 [==============================] - 0s 12ms/step - loss: 14.4292 - mae: 14.4292\n",
      "Epoch 20/100\n",
      "2/2 [==============================] - 0s 8ms/step - loss: 10.4578 - mae: 10.4578\n",
      "Epoch 21/100\n",
      "2/2 [==============================] - 0s 10ms/step - loss: 15.2107 - mae: 15.2107\n",
      "Epoch 22/100\n",
      "2/2 [==============================] - 0s 10ms/step - loss: 15.5495 - mae: 15.5495\n",
      "Epoch 23/100\n",
      "2/2 [==============================] - 0s 14ms/step - loss: 9.2315 - mae: 9.2315\n",
      "Epoch 24/100\n",
      "2/2 [==============================] - 0s 12ms/step - loss: 17.2472 - mae: 17.2472\n",
      "Epoch 25/100\n",
      "2/2 [==============================] - 0s 17ms/step - loss: 15.9245 - mae: 15.9245\n",
      "Epoch 26/100\n",
      "2/2 [==============================] - 0s 11ms/step - loss: 20.9021 - mae: 20.9021\n",
      "Epoch 27/100\n",
      "2/2 [==============================] - 0s 9ms/step - loss: 26.0258 - mae: 26.0258\n",
      "Epoch 28/100\n",
      "2/2 [==============================] - 0s 14ms/step - loss: 18.5147 - mae: 18.5147\n",
      "Epoch 29/100\n",
      "2/2 [==============================] - 0s 11ms/step - loss: 9.2394 - mae: 9.2394\n",
      "Epoch 30/100\n",
      "2/2 [==============================] - 0s 19ms/step - loss: 29.1374 - mae: 29.1374\n",
      "Epoch 31/100\n",
      "2/2 [==============================] - 0s 10ms/step - loss: 52.7784 - mae: 52.7784\n",
      "Epoch 32/100\n",
      "2/2 [==============================] - 0s 13ms/step - loss: 11.9417 - mae: 11.9417\n",
      "Epoch 33/100\n",
      "2/2 [==============================] - 0s 6ms/step - loss: 15.5504 - mae: 15.5504\n",
      "Epoch 34/100\n",
      "2/2 [==============================] - 0s 6ms/step - loss: 12.6312 - mae: 12.6312\n",
      "Epoch 35/100\n",
      "2/2 [==============================] - 0s 5ms/step - loss: 9.2102 - mae: 9.2102\n",
      "Epoch 36/100\n",
      "2/2 [==============================] - 0s 5ms/step - loss: 16.5469 - mae: 16.5469\n",
      "Epoch 37/100\n",
      "2/2 [==============================] - 0s 3ms/step - loss: 11.0628 - mae: 11.0628\n",
      "Epoch 38/100\n",
      "2/2 [==============================] - 0s 5ms/step - loss: 18.1908 - mae: 18.1908\n",
      "Epoch 39/100\n",
      "2/2 [==============================] - 0s 8ms/step - loss: 19.1251 - mae: 19.1251\n",
      "Epoch 40/100\n",
      "2/2 [==============================] - 0s 8ms/step - loss: 20.4770 - mae: 20.4770\n",
      "Epoch 41/100\n",
      "2/2 [==============================] - 0s 8ms/step - loss: 14.8479 - mae: 14.8479\n",
      "Epoch 42/100\n",
      "2/2 [==============================] - 0s 12ms/step - loss: 12.2335 - mae: 12.2335\n",
      "Epoch 43/100\n",
      "2/2 [==============================] - 0s 7ms/step - loss: 10.7053 - mae: 10.7053\n",
      "Epoch 44/100\n",
      "2/2 [==============================] - 0s 5ms/step - loss: 22.9094 - mae: 22.9094\n",
      "Epoch 45/100\n",
      "2/2 [==============================] - 0s 5ms/step - loss: 10.3513 - mae: 10.3513\n",
      "Epoch 46/100\n",
      "2/2 [==============================] - 0s 8ms/step - loss: 11.7355 - mae: 11.7355\n",
      "Epoch 47/100\n",
      "2/2 [==============================] - 0s 8ms/step - loss: 9.6606 - mae: 9.6606\n",
      "Epoch 48/100\n",
      "2/2 [==============================] - 0s 11ms/step - loss: 17.2742 - mae: 17.2742\n",
      "Epoch 49/100\n",
      "2/2 [==============================] - 0s 7ms/step - loss: 9.5404 - mae: 9.5404\n",
      "Epoch 50/100\n",
      "2/2 [==============================] - 0s 11ms/step - loss: 13.7642 - mae: 13.7642\n",
      "Epoch 51/100\n",
      "2/2 [==============================] - 0s 8ms/step - loss: 11.5725 - mae: 11.5725\n",
      "Epoch 52/100\n",
      "2/2 [==============================] - 0s 9ms/step - loss: 30.4335 - mae: 30.4335\n",
      "Epoch 53/100\n",
      "2/2 [==============================] - 0s 10ms/step - loss: 14.2993 - mae: 14.2993\n",
      "Epoch 54/100\n",
      "2/2 [==============================] - 0s 14ms/step - loss: 23.8781 - mae: 23.8781\n",
      "Epoch 55/100\n",
      "2/2 [==============================] - 0s 6ms/step - loss: 23.0913 - mae: 23.0913\n",
      "Epoch 56/100\n",
      "2/2 [==============================] - 0s 14ms/step - loss: 10.8468 - mae: 10.8468\n",
      "Epoch 57/100\n",
      "2/2 [==============================] - 0s 9ms/step - loss: 12.6967 - mae: 12.6967\n",
      "Epoch 58/100\n",
      "2/2 [==============================] - 0s 13ms/step - loss: 9.5715 - mae: 9.5715\n",
      "Epoch 59/100\n",
      "2/2 [==============================] - 0s 13ms/step - loss: 12.4748 - mae: 12.4748\n",
      "Epoch 60/100\n",
      "2/2 [==============================] - 0s 8ms/step - loss: 11.8870 - mae: 11.8870\n",
      "Epoch 61/100\n",
      "2/2 [==============================] - 0s 13ms/step - loss: 16.9659 - mae: 16.9659\n",
      "Epoch 62/100\n",
      "2/2 [==============================] - 0s 10ms/step - loss: 10.3847 - mae: 10.3847\n",
      "Epoch 63/100\n",
      "2/2 [==============================] - 0s 14ms/step - loss: 10.3408 - mae: 10.3408\n",
      "Epoch 64/100\n",
      "2/2 [==============================] - 0s 8ms/step - loss: 24.1926 - mae: 24.1926\n",
      "Epoch 65/100\n",
      "2/2 [==============================] - 0s 14ms/step - loss: 10.5210 - mae: 10.5210\n",
      "Epoch 66/100\n",
      "2/2 [==============================] - 0s 13ms/step - loss: 21.2056 - mae: 21.2056\n",
      "Epoch 67/100\n",
      "2/2 [==============================] - 0s 5ms/step - loss: 10.5188 - mae: 10.5188\n",
      "Epoch 68/100\n",
      "2/2 [==============================] - 0s 9ms/step - loss: 14.3707 - mae: 14.3707\n",
      "Epoch 69/100\n",
      "2/2 [==============================] - 0s 15ms/step - loss: 10.6109 - mae: 10.6109\n",
      "Epoch 70/100\n",
      "2/2 [==============================] - 0s 11ms/step - loss: 12.6959 - mae: 12.6959\n",
      "Epoch 71/100\n",
      "2/2 [==============================] - 0s 6ms/step - loss: 13.1266 - mae: 13.1266\n",
      "Epoch 72/100\n",
      "2/2 [==============================] - 0s 9ms/step - loss: 19.6393 - mae: 19.6393\n",
      "Epoch 73/100\n",
      "2/2 [==============================] - 0s 8ms/step - loss: 11.1927 - mae: 11.1927\n",
      "Epoch 74/100\n",
      "2/2 [==============================] - 0s 9ms/step - loss: 21.9302 - mae: 21.9302\n",
      "Epoch 75/100\n",
      "2/2 [==============================] - 0s 8ms/step - loss: 7.1858 - mae: 7.1858\n",
      "Epoch 76/100\n",
      "2/2 [==============================] - 0s 1ms/step - loss: 9.4131 - mae: 9.4131\n",
      "Epoch 77/100\n",
      "2/2 [==============================] - 0s 6ms/step - loss: 22.0377 - mae: 22.0377\n",
      "Epoch 78/100\n",
      "2/2 [==============================] - 0s 5ms/step - loss: 17.7190 - mae: 17.7190\n",
      "Epoch 79/100\n",
      "2/2 [==============================] - 0s 7ms/step - loss: 14.8727 - mae: 14.8727\n",
      "Epoch 80/100\n",
      "2/2 [==============================] - 0s 6ms/step - loss: 25.2092 - mae: 25.2092\n",
      "Epoch 81/100\n",
      "2/2 [==============================] - 0s 6ms/step - loss: 10.9369 - mae: 10.9369\n",
      "Epoch 82/100\n",
      "2/2 [==============================] - 0s 5ms/step - loss: 12.7315 - mae: 12.7315\n",
      "Epoch 83/100\n",
      "2/2 [==============================] - 0s 8ms/step - loss: 17.4966 - mae: 17.4966\n",
      "Epoch 84/100\n",
      "2/2 [==============================] - 0s 8ms/step - loss: 7.2783 - mae: 7.2783\n",
      "Epoch 85/100\n",
      "2/2 [==============================] - 0s 5ms/step - loss: 15.0217 - mae: 15.0217\n",
      "Epoch 86/100\n",
      "2/2 [==============================] - 0s 7ms/step - loss: 15.3316 - mae: 15.3316\n",
      "Epoch 87/100\n"
     ]
    },
    {
     "name": "stdout",
     "output_type": "stream",
     "text": [
      "2/2 [==============================] - 0s 5ms/step - loss: 19.2000 - mae: 19.2000\n",
      "Epoch 88/100\n",
      "2/2 [==============================] - 0s 6ms/step - loss: 29.5827 - mae: 29.5827\n",
      "Epoch 89/100\n",
      "2/2 [==============================] - 0s 7ms/step - loss: 10.1404 - mae: 10.1404\n",
      "Epoch 90/100\n",
      "2/2 [==============================] - 0s 2ms/step - loss: 21.3266 - mae: 21.3266\n",
      "Epoch 91/100\n",
      "2/2 [==============================] - 0s 10ms/step - loss: 10.5253 - mae: 10.5253\n",
      "Epoch 92/100\n",
      "2/2 [==============================] - 0s 8ms/step - loss: 18.2202 - mae: 18.2202\n",
      "Epoch 93/100\n",
      "2/2 [==============================] - 0s 8ms/step - loss: 6.8094 - mae: 6.8094\n",
      "Epoch 94/100\n",
      "2/2 [==============================] - 0s 7ms/step - loss: 13.0145 - mae: 13.0145\n",
      "Epoch 95/100\n",
      "2/2 [==============================] - 0s 8ms/step - loss: 18.4115 - mae: 18.4115\n",
      "Epoch 96/100\n",
      "2/2 [==============================] - 0s 14ms/step - loss: 10.3504 - mae: 10.3504\n",
      "Epoch 97/100\n",
      "2/2 [==============================] - 0s 10ms/step - loss: 14.4259 - mae: 14.4259\n",
      "Epoch 98/100\n",
      "2/2 [==============================] - 0s 7ms/step - loss: 6.5723 - mae: 6.5723\n",
      "Epoch 99/100\n",
      "2/2 [==============================] - 0s 8ms/step - loss: 12.5931 - mae: 12.5931\n",
      "Epoch 100/100\n",
      "2/2 [==============================] - 0s 8ms/step - loss: 19.4077 - mae: 19.4077\n"
     ]
    },
    {
     "data": {
      "text/plain": [
       "<keras.callbacks.History at 0x21a4b3ccbb0>"
      ]
     },
     "execution_count": 185,
     "metadata": {},
     "output_type": "execute_result"
    }
   ],
   "source": [
    "# let's Rebouild a model for this data\n",
    "# create the model by defining the input shape arg in the first layer\n",
    "\n",
    "model = tf.keras.Sequential([\n",
    "    #tf.keras.layers.Dense(1,input_shape=[1]),\n",
    "\n",
    "    tf.keras.layers.Dense(50,input_shape=[1], activation = None),\n",
    "\n",
    "    tf.keras.layers.Dense(1, input_shape=[1])\n",
    "], name = 'model_1')\n",
    "\n",
    "# compile the model\n",
    "model.compile(loss=tf.keras.losses.mae,\n",
    "             optimizer = tf.keras.optimizers.SGD(),\n",
    "             metrics=['mae'])\n",
    "\n",
    "# fit the model\n",
    "model.fit(\n",
    "    X_train,\n",
    "    y_train,\n",
    "    epochs = 100\n",
    ")"
   ]
  },
  {
   "cell_type": "code",
   "execution_count": 187,
   "id": "2af98f45",
   "metadata": {},
   "outputs": [
    {
     "name": "stdout",
     "output_type": "stream",
     "text": [
      "1/1 [==============================] - 0s 49ms/step\n"
     ]
    },
    {
     "data": {
      "text/plain": [
       "(array([[ 78.33572 ],\n",
       "        [ 83.43885 ],\n",
       "        [ 88.54198 ],\n",
       "        [ 93.64512 ],\n",
       "        [ 98.74825 ],\n",
       "        [103.85139 ],\n",
       "        [108.95451 ],\n",
       "        [114.05765 ],\n",
       "        [119.160774],\n",
       "        [124.2639  ]], dtype=float32),\n",
       " <tf.Tensor: shape=(10,), dtype=int32, numpy=array([ 70,  74,  78,  82,  86,  90,  94,  98, 102, 106])>)"
      ]
     },
     "execution_count": 187,
     "metadata": {},
     "output_type": "execute_result"
    }
   ],
   "source": [
    "prediction=model.predict(X_test)\n",
    "prediction, y_test"
   ]
  },
  {
   "cell_type": "code",
   "execution_count": 188,
   "id": "b6141be1",
   "metadata": {},
   "outputs": [
    {
     "data": {
      "text/plain": [
       "<matplotlib.legend.Legend at 0x21a4b472440>"
      ]
     },
     "execution_count": 188,
     "metadata": {},
     "output_type": "execute_result"
    },
    {
     "data": {
      "image/png": "[encoded data removed]",
      "text/plain": [
       "<Figure size 1000x700 with 1 Axes>"
      ]
     },
     "metadata": {},
     "output_type": "display_data"
    }
   ],
   "source": [
    "plt.figure(figsize=(10,7))\n",
    "plt.scatter(X_train, y_train, c = 'b', label = 'training dataset')\n",
    "plt.scatter(X_test, y_test, c='g', label = 'testing dataset')\n",
    "plt.scatter(X_test, prediction, c = 'r', label = 'Predicted Values')\n",
    "plt.legend()"
   ]
  },
  {
   "cell_type": "code",
   "execution_count": 226,
   "id": "49cf5086",
   "metadata": {},
   "outputs": [
    {
     "name": "stderr",
     "output_type": "stream",
     "text": [
      "WARNING:absl:`lr` is deprecated in Keras optimizer, please use `learning_rate` or use the legacy optimizer, e.g.,tf.keras.optimizers.legacy.Adam.\n"
     ]
    },
    {
     "name": "stdout",
     "output_type": "stream",
     "text": [
      "Epoch 1/100\n",
      "2/2 [==============================] - 1s 10ms/step - loss: 31.4086 - mae: 31.4086\n",
      "Epoch 2/100\n",
      "2/2 [==============================] - 0s 10ms/step - loss: 18.0916 - mae: 18.0916\n",
      "Epoch 3/100\n",
      "2/2 [==============================] - 0s 17ms/step - loss: 8.3502 - mae: 8.3502\n",
      "Epoch 4/100\n",
      "2/2 [==============================] - 0s 8ms/step - loss: 12.4959 - mae: 12.4959\n",
      "Epoch 5/100\n",
      "2/2 [==============================] - 0s 15ms/step - loss: 15.4686 - mae: 15.4686\n",
      "Epoch 6/100\n",
      "2/2 [==============================] - 0s 8ms/step - loss: 15.5937 - mae: 15.5937\n",
      "Epoch 7/100\n",
      "2/2 [==============================] - 0s 19ms/step - loss: 13.4340 - mae: 13.4340\n",
      "Epoch 8/100\n",
      "2/2 [==============================] - 0s 13ms/step - loss: 10.4054 - mae: 10.4054\n",
      "Epoch 9/100\n",
      "2/2 [==============================] - 0s 11ms/step - loss: 8.1348 - mae: 8.1348\n",
      "Epoch 10/100\n",
      "2/2 [==============================] - 0s 8ms/step - loss: 10.4249 - mae: 10.4249\n",
      "Epoch 11/100\n",
      "2/2 [==============================] - 0s 11ms/step - loss: 11.6291 - mae: 11.6291\n",
      "Epoch 12/100\n",
      "2/2 [==============================] - 0s 6ms/step - loss: 10.0561 - mae: 10.0561\n",
      "Epoch 13/100\n",
      "2/2 [==============================] - 0s 7ms/step - loss: 7.5325 - mae: 7.5325\n",
      "Epoch 14/100\n",
      "2/2 [==============================] - 0s 16ms/step - loss: 8.4306 - mae: 8.4306\n",
      "Epoch 15/100\n",
      "2/2 [==============================] - 0s 9ms/step - loss: 8.7982 - mae: 8.7982\n",
      "Epoch 16/100\n",
      "2/2 [==============================] - 0s 9ms/step - loss: 8.1378 - mae: 8.1378\n",
      "Epoch 17/100\n",
      "2/2 [==============================] - 0s 8ms/step - loss: 7.4061 - mae: 7.4061\n",
      "Epoch 18/100\n",
      "2/2 [==============================] - 0s 12ms/step - loss: 7.9360 - mae: 7.9360\n",
      "Epoch 19/100\n",
      "2/2 [==============================] - 0s 8ms/step - loss: 7.8525 - mae: 7.8525\n",
      "Epoch 20/100\n",
      "2/2 [==============================] - 0s 12ms/step - loss: 7.1786 - mae: 7.1786\n",
      "Epoch 21/100\n",
      "2/2 [==============================] - 0s 8ms/step - loss: 7.4729 - mae: 7.4729\n",
      "Epoch 22/100\n",
      "2/2 [==============================] - 0s 9ms/step - loss: 7.4609 - mae: 7.4609\n",
      "Epoch 23/100\n",
      "2/2 [==============================] - 0s 13ms/step - loss: 6.9930 - mae: 6.9930\n",
      "Epoch 24/100\n",
      "2/2 [==============================] - 0s 8ms/step - loss: 7.2140 - mae: 7.2140\n",
      "Epoch 25/100\n",
      "2/2 [==============================] - 0s 9ms/step - loss: 7.1197 - mae: 7.1197\n",
      "Epoch 26/100\n",
      "2/2 [==============================] - 0s 8ms/step - loss: 6.9165 - mae: 6.9165\n",
      "Epoch 27/100\n",
      "2/2 [==============================] - 0s 17ms/step - loss: 6.8865 - mae: 6.8865\n",
      "Epoch 28/100\n",
      "2/2 [==============================] - 0s 8ms/step - loss: 6.8489 - mae: 6.8489\n",
      "Epoch 29/100\n",
      "2/2 [==============================] - 0s 7ms/step - loss: 7.0019 - mae: 7.0019\n",
      "Epoch 30/100\n",
      "2/2 [==============================] - 0s 10ms/step - loss: 6.7830 - mae: 6.7830\n",
      "Epoch 31/100\n",
      "2/2 [==============================] - 0s 15ms/step - loss: 6.9833 - mae: 6.9833\n",
      "Epoch 32/100\n",
      "2/2 [==============================] - 0s 11ms/step - loss: 6.9564 - mae: 6.9564\n",
      "Epoch 33/100\n",
      "2/2 [==============================] - 0s 13ms/step - loss: 6.8860 - mae: 6.8860\n",
      "Epoch 34/100\n",
      "2/2 [==============================] - 0s 11ms/step - loss: 7.1508 - mae: 7.1508\n",
      "Epoch 35/100\n",
      "2/2 [==============================] - 0s 4ms/step - loss: 6.8169 - mae: 6.8169\n",
      "Epoch 36/100\n",
      "2/2 [==============================] - 0s 11ms/step - loss: 6.5176 - mae: 6.5176\n",
      "Epoch 37/100\n",
      "2/2 [==============================] - 0s 9ms/step - loss: 6.5299 - mae: 6.5299\n",
      "Epoch 38/100\n",
      "2/2 [==============================] - 0s 9ms/step - loss: 6.5483 - mae: 6.5483\n",
      "Epoch 39/100\n",
      "2/2 [==============================] - 0s 9ms/step - loss: 6.4653 - mae: 6.4653\n",
      "Epoch 40/100\n",
      "2/2 [==============================] - 0s 10ms/step - loss: 6.4272 - mae: 6.4272\n",
      "Epoch 41/100\n",
      "2/2 [==============================] - 0s 11ms/step - loss: 6.3318 - mae: 6.3318\n",
      "Epoch 42/100\n",
      "2/2 [==============================] - 0s 15ms/step - loss: 6.3116 - mae: 6.3116\n",
      "Epoch 43/100\n",
      "2/2 [==============================] - 0s 2ms/step - loss: 6.2511 - mae: 6.2511\n",
      "Epoch 44/100\n",
      "2/2 [==============================] - 0s 7ms/step - loss: 6.2347 - mae: 6.2347\n",
      "Epoch 45/100\n",
      "2/2 [==============================] - 0s 13ms/step - loss: 6.0841 - mae: 6.0841\n",
      "Epoch 46/100\n",
      "2/2 [==============================] - 0s 11ms/step - loss: 6.2165 - mae: 6.2165\n",
      "Epoch 47/100\n",
      "2/2 [==============================] - 0s 8ms/step - loss: 6.1684 - mae: 6.1684\n",
      "Epoch 48/100\n",
      "2/2 [==============================] - 0s 7ms/step - loss: 6.0028 - mae: 6.0028\n",
      "Epoch 49/100\n",
      "2/2 [==============================] - 0s 10ms/step - loss: 5.9692 - mae: 5.9692\n",
      "Epoch 50/100\n",
      "2/2 [==============================] - 0s 14ms/step - loss: 5.8734 - mae: 5.8734\n",
      "Epoch 51/100\n",
      "2/2 [==============================] - 0s 12ms/step - loss: 6.1336 - mae: 6.1336\n",
      "Epoch 52/100\n",
      "2/2 [==============================] - 0s 17ms/step - loss: 5.9482 - mae: 5.9482\n",
      "Epoch 53/100\n",
      "2/2 [==============================] - 0s 8ms/step - loss: 5.8036 - mae: 5.8036\n",
      "Epoch 54/100\n",
      "2/2 [==============================] - 0s 11ms/step - loss: 6.3571 - mae: 6.3571\n",
      "Epoch 55/100\n",
      "2/2 [==============================] - 0s 17ms/step - loss: 6.5889 - mae: 6.5889\n",
      "Epoch 56/100\n",
      "2/2 [==============================] - 0s 7ms/step - loss: 5.4739 - mae: 5.4739\n",
      "Epoch 57/100\n",
      "2/2 [==============================] - 0s 9ms/step - loss: 6.2749 - mae: 6.2749\n",
      "Epoch 58/100\n",
      "2/2 [==============================] - 0s 12ms/step - loss: 6.0989 - mae: 6.0989\n",
      "Epoch 59/100\n",
      "2/2 [==============================] - 0s 14ms/step - loss: 5.2640 - mae: 5.2640\n",
      "Epoch 60/100\n",
      "2/2 [==============================] - 0s 15ms/step - loss: 6.3782 - mae: 6.3782\n",
      "Epoch 61/100\n",
      "2/2 [==============================] - 0s 10ms/step - loss: 5.9838 - mae: 5.9838\n",
      "Epoch 62/100\n",
      "2/2 [==============================] - 0s 9ms/step - loss: 5.3042 - mae: 5.3042\n",
      "Epoch 63/100\n",
      "2/2 [==============================] - 0s 10ms/step - loss: 5.7761 - mae: 5.7761\n",
      "Epoch 64/100\n",
      "2/2 [==============================] - 0s 10ms/step - loss: 5.1780 - mae: 5.1780\n",
      "Epoch 65/100\n",
      "2/2 [==============================] - 0s 7ms/step - loss: 5.7987 - mae: 5.7987\n",
      "Epoch 66/100\n",
      "2/2 [==============================] - 0s 10ms/step - loss: 5.1369 - mae: 5.1369\n",
      "Epoch 67/100\n",
      "2/2 [==============================] - 0s 11ms/step - loss: 4.9516 - mae: 4.9516\n",
      "Epoch 68/100\n",
      "2/2 [==============================] - 0s 10ms/step - loss: 4.6865 - mae: 4.6865\n",
      "Epoch 69/100\n",
      "2/2 [==============================] - 0s 9ms/step - loss: 4.6082 - mae: 4.6082\n",
      "Epoch 70/100\n",
      "2/2 [==============================] - 0s 6ms/step - loss: 4.5181 - mae: 4.5181\n",
      "Epoch 71/100\n",
      "2/2 [==============================] - 0s 6ms/step - loss: 4.5204 - mae: 4.5204\n",
      "Epoch 72/100\n",
      "2/2 [==============================] - 0s 5ms/step - loss: 4.3173 - mae: 4.3173\n",
      "Epoch 73/100\n",
      "2/2 [==============================] - 0s 5ms/step - loss: 4.3755 - mae: 4.3755\n",
      "Epoch 74/100\n",
      "2/2 [==============================] - 0s 8ms/step - loss: 4.1887 - mae: 4.1887\n",
      "Epoch 75/100\n",
      "2/2 [==============================] - 0s 9ms/step - loss: 4.2928 - mae: 4.2928\n",
      "Epoch 76/100\n",
      "2/2 [==============================] - 0s 4ms/step - loss: 4.1405 - mae: 4.1405\n",
      "Epoch 77/100\n",
      "2/2 [==============================] - 0s 10ms/step - loss: 3.9597 - mae: 3.9597\n",
      "Epoch 78/100\n",
      "2/2 [==============================] - 0s 7ms/step - loss: 4.4536 - mae: 4.4536\n",
      "Epoch 79/100\n",
      "2/2 [==============================] - 0s 8ms/step - loss: 3.7875 - mae: 3.7875\n",
      "Epoch 80/100\n",
      "2/2 [==============================] - 0s 6ms/step - loss: 4.3571 - mae: 4.3571\n",
      "Epoch 81/100\n",
      "2/2 [==============================] - 0s 14ms/step - loss: 3.4113 - mae: 3.4113\n",
      "Epoch 82/100\n",
      "2/2 [==============================] - 0s 8ms/step - loss: 4.3878 - mae: 4.3878\n",
      "Epoch 83/100\n",
      "2/2 [==============================] - 0s 9ms/step - loss: 4.6892 - mae: 4.6892\n",
      "Epoch 84/100\n",
      "2/2 [==============================] - 0s 15ms/step - loss: 3.6449 - mae: 3.6449\n",
      "Epoch 85/100\n",
      "2/2 [==============================] - 0s 8ms/step - loss: 3.7889 - mae: 3.7889\n",
      "Epoch 86/100\n",
      "2/2 [==============================] - 0s 5ms/step - loss: 3.5098 - mae: 3.5098\n",
      "Epoch 87/100\n",
      "2/2 [==============================] - 0s 8ms/step - loss: 3.7313 - mae: 3.7313\n",
      "Epoch 88/100\n"
     ]
    },
    {
     "name": "stdout",
     "output_type": "stream",
     "text": [
      "2/2 [==============================] - 0s 8ms/step - loss: 4.5520 - mae: 4.5520\n",
      "Epoch 89/100\n",
      "2/2 [==============================] - 0s 0s/step - loss: 2.8915 - mae: 2.8915\n",
      "Epoch 90/100\n",
      "2/2 [==============================] - 0s 9ms/step - loss: 3.3033 - mae: 3.3033\n",
      "Epoch 91/100\n",
      "2/2 [==============================] - 0s 6ms/step - loss: 2.6274 - mae: 2.6274\n",
      "Epoch 92/100\n",
      "2/2 [==============================] - 0s 11ms/step - loss: 2.7062 - mae: 2.7062\n",
      "Epoch 93/100\n",
      "2/2 [==============================] - 0s 8ms/step - loss: 3.0251 - mae: 3.0251\n",
      "Epoch 94/100\n",
      "2/2 [==============================] - 0s 11ms/step - loss: 1.8431 - mae: 1.8431\n",
      "Epoch 95/100\n",
      "2/2 [==============================] - 0s 8ms/step - loss: 3.0341 - mae: 3.0341\n",
      "Epoch 96/100\n",
      "2/2 [==============================] - 0s 8ms/step - loss: 1.3513 - mae: 1.3513\n",
      "Epoch 97/100\n",
      "2/2 [==============================] - 0s 13ms/step - loss: 1.8146 - mae: 1.8146\n",
      "Epoch 98/100\n",
      "2/2 [==============================] - 0s 8ms/step - loss: 1.1053 - mae: 1.1053\n",
      "Epoch 99/100\n",
      "2/2 [==============================] - 0s 12ms/step - loss: 1.4462 - mae: 1.4462\n",
      "Epoch 100/100\n",
      "2/2 [==============================] - 0s 8ms/step - loss: 2.0679 - mae: 2.0679\n"
     ]
    },
    {
     "data": {
      "text/plain": [
       "<keras.callbacks.History at 0x21a5b3c1480>"
      ]
     },
     "execution_count": 226,
     "metadata": {},
     "output_type": "execute_result"
    }
   ],
   "source": [
    "# let's Rebouild a model for this data\n",
    "# create the model by defining the input shape arg in the first layer\n",
    "\n",
    "model = tf.keras.Sequential([\n",
    "    #tf.keras.layers.Dense(1,input_shape=[1]),\n",
    "\n",
    "    tf.keras.layers.Dense(100,input_shape=[1], activation =None),\n",
    "    tf.keras.layers.Dense(100,input_shape=[1], activation =None),\n",
    "\n",
    "\n",
    "    tf.keras.layers.Dense(1, input_shape=[1])\n",
    "], name = 'model_1')\n",
    "\n",
    "# compile the model\n",
    "model.compile(loss=tf.keras.losses.mae,\n",
    "             optimizer = tf.keras.optimizers.Adam(lr=0.001),\n",
    "             metrics=['mae'])\n",
    "\n",
    "# fit the model\n",
    "model.fit(\n",
    "    X_train,\n",
    "    y_train,\n",
    "    epochs = 100\n",
    ")"
   ]
  },
  {
   "cell_type": "code",
   "execution_count": 227,
   "id": "711aafd3",
   "metadata": {},
   "outputs": [
    {
     "name": "stdout",
     "output_type": "stream",
     "text": [
      "1/1 [==============================] - 0s 121ms/step\n"
     ]
    },
    {
     "data": {
      "text/plain": [
       "(array([[ 71.12523 ],\n",
       "        [ 75.22849 ],\n",
       "        [ 79.33176 ],\n",
       "        [ 83.43501 ],\n",
       "        [ 87.538284],\n",
       "        [ 91.64153 ],\n",
       "        [ 95.744804],\n",
       "        [ 99.84804 ],\n",
       "        [103.95131 ],\n",
       "        [108.054565]], dtype=float32),\n",
       " <tf.Tensor: shape=(10,), dtype=int32, numpy=array([ 70,  74,  78,  82,  86,  90,  94,  98, 102, 106])>)"
      ]
     },
     "execution_count": 227,
     "metadata": {},
     "output_type": "execute_result"
    }
   ],
   "source": [
    "prediction = model.predict(X_test)\n",
    "prediction, y_test"
   ]
  },
  {
   "cell_type": "code",
   "execution_count": 228,
   "id": "4f0cf33f",
   "metadata": {},
   "outputs": [
    {
     "data": {
      "text/plain": [
       "<matplotlib.legend.Legend at 0x21a5b4fdd80>"
      ]
     },
     "execution_count": 228,
     "metadata": {},
     "output_type": "execute_result"
    },
    {
     "data": {
      "image/png": "[encoded data removed]",
      "text/plain": [
       "<Figure size 1000x700 with 1 Axes>"
      ]
     },
     "metadata": {},
     "output_type": "display_data"
    }
   ],
   "source": [
    "plt.figure(figsize=(10,7))\n",
    "plt.scatter(X_train, y_train, c = 'b', label = 'training dataset')\n",
    "plt.scatter(X_test, y_test, c='g', label = 'testing dataset')\n",
    "plt.scatter(X_test, prediction, c = 'r', label = 'Predicted Values')\n",
    "plt.legend()"
   ]
  },
  {
   "cell_type": "code",
   "execution_count": 232,
   "id": "d896d776",
   "metadata": {},
   "outputs": [
    {
     "name": "stdout",
     "output_type": "stream",
     "text": [
      "1/1 [==============================] - 0s 75ms/step\n"
     ]
    },
    {
     "data": {
      "text/plain": [
       "array([[14.705443]], dtype=float32)"
      ]
     },
     "execution_count": 232,
     "metadata": {},
     "output_type": "execute_result"
    }
   ],
   "source": [
    "model.predict([5])"
   ]
  },
  {
   "cell_type": "code",
   "execution_count": 233,
   "id": "2ef5d0f6",
   "metadata": {},
   "outputs": [
    {
     "name": "stdout",
     "output_type": "stream",
     "text": [
      "2/2 [==============================] - 0s 6ms/step\n"
     ]
    },
    {
     "data": {
      "text/plain": [
       "(array([[-93.00511  ],\n",
       "        [-88.90184  ],\n",
       "        [-84.798584 ],\n",
       "        [-80.69533  ],\n",
       "        [-76.59207  ],\n",
       "        [-72.48881  ],\n",
       "        [-68.38555  ],\n",
       "        [-64.28229  ],\n",
       "        [-60.17903  ],\n",
       "        [-56.07577  ],\n",
       "        [-51.972515 ],\n",
       "        [-47.86926  ],\n",
       "        [-43.765995 ],\n",
       "        [-39.66274  ],\n",
       "        [-35.559483 ],\n",
       "        [-31.456224 ],\n",
       "        [-27.352964 ],\n",
       "        [-23.249702 ],\n",
       "        [-19.146446 ],\n",
       "        [-15.043186 ],\n",
       "        [-10.939926 ],\n",
       "        [ -6.836669 ],\n",
       "        [ -2.7334108],\n",
       "        [  1.3698481],\n",
       "        [  5.473107 ],\n",
       "        [  9.5763645],\n",
       "        [ 13.679625 ],\n",
       "        [ 17.782883 ],\n",
       "        [ 21.88614  ],\n",
       "        [ 25.989399 ],\n",
       "        [ 30.092657 ],\n",
       "        [ 34.19592  ],\n",
       "        [ 38.29917  ],\n",
       "        [ 42.402435 ],\n",
       "        [ 46.50569  ],\n",
       "        [ 50.60895  ],\n",
       "        [ 54.712208 ],\n",
       "        [ 58.81547  ],\n",
       "        [ 62.91872  ],\n",
       "        [ 67.02198  ],\n",
       "        [ 71.12523  ],\n",
       "        [ 75.22849  ],\n",
       "        [ 79.33176  ],\n",
       "        [ 83.43501  ],\n",
       "        [ 87.538284 ],\n",
       "        [ 91.64153  ],\n",
       "        [ 95.744804 ],\n",
       "        [ 99.84804  ],\n",
       "        [103.95131  ],\n",
       "        [108.054565 ]], dtype=float32),\n",
       " <tf.Tensor: shape=(50,), dtype=int32, numpy=\n",
       " array([-100,  -96,  -92,  -88,  -84,  -80,  -76,  -72,  -68,  -64,  -60,\n",
       "         -56,  -52,  -48,  -44,  -40,  -36,  -32,  -28,  -24,  -20,  -16,\n",
       "         -12,   -8,   -4,    0,    4,    8,   12,   16,   20,   24,   28,\n",
       "          32,   36,   40,   44,   48,   52,   56,   60,   64,   68,   72,\n",
       "          76,   80,   84,   88,   92,   96])>)"
      ]
     },
     "execution_count": 233,
     "metadata": {},
     "output_type": "execute_result"
    }
   ],
   "source": [
    "lol = model.predict(X)\n",
    "lol, X"
   ]
  },
  {
   "cell_type": "code",
   "execution_count": 235,
   "id": "1c6fbb0a",
   "metadata": {},
   "outputs": [
    {
     "data": {
      "text/plain": [
       "<matplotlib.legend.Legend at 0x21a5dbcf730>"
      ]
     },
     "execution_count": 235,
     "metadata": {},
     "output_type": "execute_result"
    },
    {
     "data": {
      "image/png": "[encoded data removed]",
      "text/plain": [
       "<Figure size 1000x700 with 1 Axes>"
      ]
     },
     "metadata": {},
     "output_type": "display_data"
    }
   ],
   "source": [
    "plt.figure(figsize=(10,7))\n",
    "plt.scatter(X_train, y_train, c = 'b', label = 'training dataset')\n",
    "plt.scatter(X_test, y_test, c='g', label = 'testing dataset')\n",
    "plt.scatter(X, lol, c = 'r', label = 'Predicted Values')\n",
    "plt.legend()"
   ]
  },
  {
   "cell_type": "code",
   "execution_count": 237,
   "id": "4669135d",
   "metadata": {},
   "outputs": [
    {
     "name": "stdout",
     "output_type": "stream",
     "text": [
      "1/1 [==============================] - 0s 49ms/step\n"
     ]
    },
    {
     "data": {
      "text/plain": [
       "(array([[ 71.12523 ],\n",
       "        [ 75.22849 ],\n",
       "        [ 79.33176 ],\n",
       "        [ 83.43501 ],\n",
       "        [ 87.538284],\n",
       "        [ 91.64153 ],\n",
       "        [ 95.744804],\n",
       "        [ 99.84804 ],\n",
       "        [103.95131 ],\n",
       "        [108.054565]], dtype=float32),\n",
       " <tf.Tensor: shape=(10,), dtype=int32, numpy=array([ 70,  74,  78,  82,  86,  90,  94,  98, 102, 106])>)"
      ]
     },
     "execution_count": 237,
     "metadata": {},
     "output_type": "execute_result"
    }
   ],
   "source": [
    "y_pred = model.predict(X_test)\n",
    "y_pred, y_test"
   ]
  },
  {
   "cell_type": "code",
   "execution_count": 240,
   "id": "fe1dbe04",
   "metadata": {},
   "outputs": [
    {
     "data": {
      "text/plain": [
       "<tf.Tensor: shape=(10,), dtype=float32, numpy=\n",
       "array([416.75787, 295.11142, 207.13843, 152.83911, 132.21318, 145.26077,\n",
       "       191.98201, 272.37598, 386.44427, 534.18555], dtype=float32)>"
      ]
     },
     "execution_count": 240,
     "metadata": {},
     "output_type": "execute_result"
    }
   ],
   "source": [
    "# Calculate mean Square Errors\n",
    "mse = tf.metrics.mean_squared_error(y_test, y_pred)\n",
    "mse"
   ]
  },
  {
   "cell_type": "code",
   "execution_count": 246,
   "id": "c8e1f6f5",
   "metadata": {},
   "outputs": [
    {
     "data": {
      "text/plain": [
       "<tf.Tensor: shape=(10,), dtype=float32, numpy=\n",
       "array([ 71.12523 ,  75.22849 ,  79.33176 ,  83.43501 ,  87.538284,\n",
       "        91.64153 ,  95.744804,  99.84804 , 103.95131 , 108.054565],\n",
       "      dtype=float32)>"
      ]
     },
     "execution_count": 246,
     "metadata": {},
     "output_type": "execute_result"
    }
   ],
   "source": [
    "# We shoul do squeeze here, bcz of different shape\n",
    "y_pred = tf.squeeze(y_pred)\n",
    "y_pred"
   ]
  },
  {
   "cell_type": "code",
   "execution_count": 247,
   "id": "ef97b163",
   "metadata": {},
   "outputs": [
    {
     "data": {
      "text/plain": [
       "<tf.Tensor: shape=(), dtype=float32, numpy=2.6157553>"
      ]
     },
     "execution_count": 247,
     "metadata": {},
     "output_type": "execute_result"
    }
   ],
   "source": [
    "# Calculate mean Square Errors\n",
    "mse = tf.metrics.mean_squared_error(y_test, y_pred)\n",
    "mse"
   ]
  },
  {
   "cell_type": "code",
   "execution_count": 250,
   "id": "d8524312",
   "metadata": {},
   "outputs": [
    {
     "data": {
      "text/plain": [
       "<tf.Tensor: shape=(), dtype=float32, numpy=1.5899025>"
      ]
     },
     "execution_count": 250,
     "metadata": {},
     "output_type": "execute_result"
    }
   ],
   "source": [
    "# Calculation of mean absolute error\n",
    "mae = tf.metrics.mean_absolute_error(y_test, y_pred)\n",
    "mae"
   ]
  },
  {
   "cell_type": "code",
   "execution_count": 255,
   "id": "05cf1a3c",
   "metadata": {},
   "outputs": [
    {
     "ename": "AttributeError",
     "evalue": "module 'keras.api._v2.keras.metrics' has no attribute 'Huber'",
     "output_type": "error",
     "traceback": [
      "\u001b[1;31m---------------------------------------------------------------------------\u001b[0m",
      "\u001b[1;31mAttributeError\u001b[0m                            Traceback (most recent call last)",
      "Cell \u001b[1;32mIn[255], line 2\u001b[0m\n\u001b[0;32m      1\u001b[0m \u001b[38;5;66;03m# Calcualte huber\u001b[39;00m\n\u001b[1;32m----> 2\u001b[0m huber \u001b[38;5;241m=\u001b[39m \u001b[43mtf\u001b[49m\u001b[38;5;241;43m.\u001b[39;49m\u001b[43mmetrics\u001b[49m\u001b[38;5;241;43m.\u001b[39;49m\u001b[43mHuber\u001b[49m(y_test, y_pred)\u001b[38;5;241m.\u001b[39mnumpy()\n\u001b[0;32m      3\u001b[0m huber\n",
      "\u001b[1;31mAttributeError\u001b[0m: module 'keras.api._v2.keras.metrics' has no attribute 'Huber'"
     ]
    }
   ],
   "source": [
    "# Calcualte huber\n",
    "huber = tf.metrics.Huber(y_test, y_pred)\n",
    "huber"
   ]
  },
  {
   "cell_type": "code",
   "execution_count": 256,
   "id": "f5cbc549",
   "metadata": {},
   "outputs": [
    {
     "ename": "TypeError",
     "evalue": "Cannot convert 'auto' to EagerTensor of dtype float",
     "output_type": "error",
     "traceback": [
      "\u001b[1;31m---------------------------------------------------------------------------\u001b[0m",
      "\u001b[1;31mTypeError\u001b[0m                                 Traceback (most recent call last)",
      "Cell \u001b[1;32mIn[256], line 2\u001b[0m\n\u001b[0;32m      1\u001b[0m \u001b[38;5;66;03m# Calcualte huber\u001b[39;00m\n\u001b[1;32m----> 2\u001b[0m huber \u001b[38;5;241m=\u001b[39m \u001b[43mtf\u001b[49m\u001b[38;5;241;43m.\u001b[39;49m\u001b[43mkeras\u001b[49m\u001b[38;5;241;43m.\u001b[39;49m\u001b[43mlosses\u001b[49m\u001b[38;5;241;43m.\u001b[39;49m\u001b[43mHuber\u001b[49m\u001b[43m(\u001b[49m\u001b[43my_test\u001b[49m\u001b[43m,\u001b[49m\u001b[43m \u001b[49m\u001b[43my_pred\u001b[49m\u001b[43m)\u001b[49m\u001b[38;5;241m.\u001b[39mnumpy()\n\u001b[0;32m      3\u001b[0m huber\n",
      "File \u001b[1;32mC:\\Program Files\\Python310\\lib\\site-packages\\keras\\losses.py:1432\u001b[0m, in \u001b[0;36mHuber.__init__\u001b[1;34m(self, delta, reduction, name)\u001b[0m\n\u001b[0;32m   1410\u001b[0m \u001b[38;5;28;01mdef\u001b[39;00m \u001b[38;5;21m__init__\u001b[39m(\n\u001b[0;32m   1411\u001b[0m     \u001b[38;5;28mself\u001b[39m,\n\u001b[0;32m   1412\u001b[0m     delta\u001b[38;5;241m=\u001b[39m\u001b[38;5;241m1.0\u001b[39m,\n\u001b[0;32m   1413\u001b[0m     reduction\u001b[38;5;241m=\u001b[39mlosses_utils\u001b[38;5;241m.\u001b[39mReductionV2\u001b[38;5;241m.\u001b[39mAUTO,\n\u001b[0;32m   1414\u001b[0m     name\u001b[38;5;241m=\u001b[39m\u001b[38;5;124m\"\u001b[39m\u001b[38;5;124mhuber_loss\u001b[39m\u001b[38;5;124m\"\u001b[39m,\n\u001b[0;32m   1415\u001b[0m ):\n\u001b[0;32m   1416\u001b[0m     \u001b[38;5;124;03m\"\"\"Initializes `Huber` instance.\u001b[39;00m\n\u001b[0;32m   1417\u001b[0m \n\u001b[0;32m   1418\u001b[0m \u001b[38;5;124;03m    Args:\u001b[39;00m\n\u001b[1;32m   (...)\u001b[0m\n\u001b[0;32m   1430\u001b[0m \u001b[38;5;124;03m      name: Optional name for the instance. Defaults to 'huber_loss'.\u001b[39;00m\n\u001b[0;32m   1431\u001b[0m \u001b[38;5;124;03m    \"\"\"\u001b[39;00m\n\u001b[1;32m-> 1432\u001b[0m     \u001b[38;5;28;43msuper\u001b[39;49m\u001b[43m(\u001b[49m\u001b[43m)\u001b[49m\u001b[38;5;241;43m.\u001b[39;49m\u001b[38;5;21;43m__init__\u001b[39;49m\u001b[43m(\u001b[49m\u001b[43mhuber\u001b[49m\u001b[43m,\u001b[49m\u001b[43m \u001b[49m\u001b[43mname\u001b[49m\u001b[38;5;241;43m=\u001b[39;49m\u001b[43mname\u001b[49m\u001b[43m,\u001b[49m\u001b[43m \u001b[49m\u001b[43mreduction\u001b[49m\u001b[38;5;241;43m=\u001b[39;49m\u001b[43mreduction\u001b[49m\u001b[43m,\u001b[49m\u001b[43m \u001b[49m\u001b[43mdelta\u001b[49m\u001b[38;5;241;43m=\u001b[39;49m\u001b[43mdelta\u001b[49m\u001b[43m)\u001b[49m\n",
      "File \u001b[1;32mC:\\Program Files\\Python310\\lib\\site-packages\\keras\\losses.py:246\u001b[0m, in \u001b[0;36mLossFunctionWrapper.__init__\u001b[1;34m(self, fn, reduction, name, **kwargs)\u001b[0m\n\u001b[0;32m    226\u001b[0m \u001b[38;5;28;01mdef\u001b[39;00m \u001b[38;5;21m__init__\u001b[39m(\n\u001b[0;32m    227\u001b[0m     \u001b[38;5;28mself\u001b[39m, fn, reduction\u001b[38;5;241m=\u001b[39mlosses_utils\u001b[38;5;241m.\u001b[39mReductionV2\u001b[38;5;241m.\u001b[39mAUTO, name\u001b[38;5;241m=\u001b[39m\u001b[38;5;28;01mNone\u001b[39;00m, \u001b[38;5;241m*\u001b[39m\u001b[38;5;241m*\u001b[39mkwargs\n\u001b[0;32m    228\u001b[0m ):\n\u001b[0;32m    229\u001b[0m     \u001b[38;5;124;03m\"\"\"Initializes `LossFunctionWrapper` class.\u001b[39;00m\n\u001b[0;32m    230\u001b[0m \n\u001b[0;32m    231\u001b[0m \u001b[38;5;124;03m    Args:\u001b[39;00m\n\u001b[1;32m   (...)\u001b[0m\n\u001b[0;32m    244\u001b[0m \u001b[38;5;124;03m      **kwargs: The keyword arguments that are passed on to `fn`.\u001b[39;00m\n\u001b[0;32m    245\u001b[0m \u001b[38;5;124;03m    \"\"\"\u001b[39;00m\n\u001b[1;32m--> 246\u001b[0m     \u001b[38;5;28;43msuper\u001b[39;49m\u001b[43m(\u001b[49m\u001b[43m)\u001b[49m\u001b[38;5;241;43m.\u001b[39;49m\u001b[38;5;21;43m__init__\u001b[39;49m\u001b[43m(\u001b[49m\u001b[43mreduction\u001b[49m\u001b[38;5;241;43m=\u001b[39;49m\u001b[43mreduction\u001b[49m\u001b[43m,\u001b[49m\u001b[43m \u001b[49m\u001b[43mname\u001b[49m\u001b[38;5;241;43m=\u001b[39;49m\u001b[43mname\u001b[49m\u001b[43m)\u001b[49m\n\u001b[0;32m    247\u001b[0m     \u001b[38;5;28mself\u001b[39m\u001b[38;5;241m.\u001b[39mfn \u001b[38;5;241m=\u001b[39m fn\n\u001b[0;32m    248\u001b[0m     \u001b[38;5;28mself\u001b[39m\u001b[38;5;241m.\u001b[39m_fn_kwargs \u001b[38;5;241m=\u001b[39m kwargs\n",
      "File \u001b[1;32mC:\\Program Files\\Python310\\lib\\site-packages\\keras\\losses.py:83\u001b[0m, in \u001b[0;36mLoss.__init__\u001b[1;34m(self, reduction, name)\u001b[0m\n\u001b[0;32m     68\u001b[0m \u001b[38;5;28;01mdef\u001b[39;00m \u001b[38;5;21m__init__\u001b[39m(\u001b[38;5;28mself\u001b[39m, reduction\u001b[38;5;241m=\u001b[39mlosses_utils\u001b[38;5;241m.\u001b[39mReductionV2\u001b[38;5;241m.\u001b[39mAUTO, name\u001b[38;5;241m=\u001b[39m\u001b[38;5;28;01mNone\u001b[39;00m):\n\u001b[0;32m     69\u001b[0m     \u001b[38;5;124;03m\"\"\"Initializes `Loss` class.\u001b[39;00m\n\u001b[0;32m     70\u001b[0m \n\u001b[0;32m     71\u001b[0m \u001b[38;5;124;03m    Args:\u001b[39;00m\n\u001b[1;32m   (...)\u001b[0m\n\u001b[0;32m     81\u001b[0m \u001b[38;5;124;03m      name: Optional name for the instance.\u001b[39;00m\n\u001b[0;32m     82\u001b[0m \u001b[38;5;124;03m    \"\"\"\u001b[39;00m\n\u001b[1;32m---> 83\u001b[0m     \u001b[43mlosses_utils\u001b[49m\u001b[38;5;241;43m.\u001b[39;49m\u001b[43mReductionV2\u001b[49m\u001b[38;5;241;43m.\u001b[39;49m\u001b[43mvalidate\u001b[49m\u001b[43m(\u001b[49m\u001b[43mreduction\u001b[49m\u001b[43m)\u001b[49m\n\u001b[0;32m     84\u001b[0m     \u001b[38;5;28mself\u001b[39m\u001b[38;5;241m.\u001b[39mreduction \u001b[38;5;241m=\u001b[39m reduction\n\u001b[0;32m     85\u001b[0m     \u001b[38;5;28mself\u001b[39m\u001b[38;5;241m.\u001b[39mname \u001b[38;5;241m=\u001b[39m name\n",
      "File \u001b[1;32mC:\\Program Files\\Python310\\lib\\site-packages\\keras\\utils\\losses_utils.py:87\u001b[0m, in \u001b[0;36mReductionV2.validate\u001b[1;34m(cls, key)\u001b[0m\n\u001b[0;32m     85\u001b[0m \u001b[38;5;129m@classmethod\u001b[39m\n\u001b[0;32m     86\u001b[0m \u001b[38;5;28;01mdef\u001b[39;00m \u001b[38;5;21mvalidate\u001b[39m(\u001b[38;5;28mcls\u001b[39m, key):\n\u001b[1;32m---> 87\u001b[0m     \u001b[38;5;28;01mif\u001b[39;00m \u001b[43mkey\u001b[49m\u001b[43m \u001b[49m\u001b[38;5;129;43;01mnot\u001b[39;49;00m\u001b[43m \u001b[49m\u001b[38;5;129;43;01min\u001b[39;49;00m\u001b[43m \u001b[49m\u001b[38;5;28;43mcls\u001b[39;49m\u001b[38;5;241;43m.\u001b[39;49m\u001b[43mall\u001b[49m\u001b[43m(\u001b[49m\u001b[43m)\u001b[49m:\n\u001b[0;32m     88\u001b[0m         \u001b[38;5;28;01mraise\u001b[39;00m \u001b[38;5;167;01mValueError\u001b[39;00m(\n\u001b[0;32m     89\u001b[0m             \u001b[38;5;124mf\u001b[39m\u001b[38;5;124m'\u001b[39m\u001b[38;5;124mInvalid Reduction Key: \u001b[39m\u001b[38;5;132;01m{\u001b[39;00mkey\u001b[38;5;132;01m}\u001b[39;00m\u001b[38;5;124m. Expected keys are \u001b[39m\u001b[38;5;124m\"\u001b[39m\u001b[38;5;132;01m{\u001b[39;00m\u001b[38;5;28mcls\u001b[39m\u001b[38;5;241m.\u001b[39mall()\u001b[38;5;132;01m}\u001b[39;00m\u001b[38;5;124m\"\u001b[39m\u001b[38;5;124m'\u001b[39m\n\u001b[0;32m     90\u001b[0m         )\n",
      "File \u001b[1;32mC:\\Program Files\\Python310\\lib\\site-packages\\tensorflow\\python\\util\\traceback_utils.py:153\u001b[0m, in \u001b[0;36mfilter_traceback.<locals>.error_handler\u001b[1;34m(*args, **kwargs)\u001b[0m\n\u001b[0;32m    151\u001b[0m \u001b[38;5;28;01mexcept\u001b[39;00m \u001b[38;5;167;01mException\u001b[39;00m \u001b[38;5;28;01mas\u001b[39;00m e:\n\u001b[0;32m    152\u001b[0m   filtered_tb \u001b[38;5;241m=\u001b[39m _process_traceback_frames(e\u001b[38;5;241m.\u001b[39m__traceback__)\n\u001b[1;32m--> 153\u001b[0m   \u001b[38;5;28;01mraise\u001b[39;00m e\u001b[38;5;241m.\u001b[39mwith_traceback(filtered_tb) \u001b[38;5;28;01mfrom\u001b[39;00m \u001b[38;5;28mNone\u001b[39m\n\u001b[0;32m    154\u001b[0m \u001b[38;5;28;01mfinally\u001b[39;00m:\n\u001b[0;32m    155\u001b[0m   \u001b[38;5;28;01mdel\u001b[39;00m filtered_tb\n",
      "File \u001b[1;32mC:\\Program Files\\Python310\\lib\\site-packages\\tensorflow\\python\\framework\\constant_op.py:103\u001b[0m, in \u001b[0;36mconvert_to_eager_tensor\u001b[1;34m(value, ctx, dtype)\u001b[0m\n\u001b[0;32m    101\u001b[0m     dtype \u001b[38;5;241m=\u001b[39m dtypes\u001b[38;5;241m.\u001b[39mas_dtype(dtype)\u001b[38;5;241m.\u001b[39mas_datatype_enum\n\u001b[0;32m    102\u001b[0m ctx\u001b[38;5;241m.\u001b[39mensure_initialized()\n\u001b[1;32m--> 103\u001b[0m \u001b[38;5;28;01mreturn\u001b[39;00m \u001b[43mops\u001b[49m\u001b[38;5;241;43m.\u001b[39;49m\u001b[43mEagerTensor\u001b[49m\u001b[43m(\u001b[49m\u001b[43mvalue\u001b[49m\u001b[43m,\u001b[49m\u001b[43m \u001b[49m\u001b[43mctx\u001b[49m\u001b[38;5;241;43m.\u001b[39;49m\u001b[43mdevice_name\u001b[49m\u001b[43m,\u001b[49m\u001b[43m \u001b[49m\u001b[43mdtype\u001b[49m\u001b[43m)\u001b[49m\n",
      "\u001b[1;31mTypeError\u001b[0m: Cannot convert 'auto' to EagerTensor of dtype float"
     ]
    }
   ],
   "source": [
    "# Calcualte huber\n",
    "huber = tf.keras.losses.Huber(y_test, y_pred).numpy()\n",
    "huber"
   ]
  },
  {
   "cell_type": "code",
   "execution_count": null,
   "id": "566293c0",
   "metadata": {},
   "outputs": [],
   "source": []
  }
 ],
 "metadata": {
  "kernelspec": {
   "display_name": "Python 3 (ipykernel)",
   "language": "python",
   "name": "python3"
  },
  "language_info": {
   "codemirror_mode": {
    "name": "ipython",
    "version": 3
   },
   "file_extension": ".py",
   "mimetype": "text/x-python",
   "name": "python",
   "nbconvert_exporter": "python",
   "pygments_lexer": "ipython3",
   "version": "3.10.4"
  }
 },
 "nbformat": 4,
 "nbformat_minor": 5
}
