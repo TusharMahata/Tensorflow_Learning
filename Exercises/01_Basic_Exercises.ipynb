{
  "nbformat": 4,
  "nbformat_minor": 0,
  "metadata": {
    "colab": {
      "provenance": []
    },
    "kernelspec": {
      "name": "python3",
      "display_name": "Python 3"
    },
    "language_info": {
      "name": "python"
    }
  },
  "cells": [
    {
      "cell_type": "markdown",
      "source": [
        "1. Create a vector, scalar, matrix and tensor with values of your choosing using tf.constant().\n",
        "\n",
        "---\n",
        "\n"
      ],
      "metadata": {
        "id": "ykyhpOxtAfdw"
      }
    },
    {
      "cell_type": "code",
      "execution_count": 1,
      "metadata": {
        "id": "V8GFMD_4AMrB"
      },
      "outputs": [],
      "source": [
        "import tensorflow as tf"
      ]
    },
    {
      "cell_type": "code",
      "source": [
        "scalar = tf.constant(7)\n",
        "scalar"
      ],
      "metadata": {
        "colab": {
          "base_uri": "https://localhost:8080/"
        },
        "id": "m4hWBBqgAnVm",
        "outputId": "fbcca9a9-99a6-47e6-e932-634a46af925e"
      },
      "execution_count": 3,
      "outputs": [
        {
          "output_type": "execute_result",
          "data": {
            "text/plain": [
              "<tf.Tensor: shape=(), dtype=int32, numpy=7>"
            ]
          },
          "metadata": {},
          "execution_count": 3
        }
      ]
    },
    {
      "cell_type": "code",
      "source": [
        "scalar.ndim"
      ],
      "metadata": {
        "colab": {
          "base_uri": "https://localhost:8080/"
        },
        "id": "OrH8HN8iA_jt",
        "outputId": "114862f8-8f60-46aa-82c4-c5154b3ecb59"
      },
      "execution_count": 4,
      "outputs": [
        {
          "output_type": "execute_result",
          "data": {
            "text/plain": [
              "0"
            ]
          },
          "metadata": {},
          "execution_count": 4
        }
      ]
    },
    {
      "cell_type": "code",
      "source": [
        "vector = tf.constant([7, 10])\n",
        "vector"
      ],
      "metadata": {
        "colab": {
          "base_uri": "https://localhost:8080/"
        },
        "id": "YMQWDMrvBF5y",
        "outputId": "b5f4b9f8-5260-4103-d31b-b3269777bf8e"
      },
      "execution_count": 5,
      "outputs": [
        {
          "output_type": "execute_result",
          "data": {
            "text/plain": [
              "<tf.Tensor: shape=(2,), dtype=int32, numpy=array([ 7, 10], dtype=int32)>"
            ]
          },
          "metadata": {},
          "execution_count": 5
        }
      ]
    },
    {
      "cell_type": "code",
      "source": [
        "vector.ndim"
      ],
      "metadata": {
        "colab": {
          "base_uri": "https://localhost:8080/"
        },
        "id": "phPKh2wEBNoT",
        "outputId": "fa80ae0d-bba5-47b3-8952-7e703d5e4c5e"
      },
      "execution_count": 6,
      "outputs": [
        {
          "output_type": "execute_result",
          "data": {
            "text/plain": [
              "1"
            ]
          },
          "metadata": {},
          "execution_count": 6
        }
      ]
    },
    {
      "cell_type": "code",
      "source": [
        "# Create a matrix more than one dims\n",
        "matrix = tf.constant([[1,2],\n",
        "                     [3, 4]])\n",
        "matrix"
      ],
      "metadata": {
        "colab": {
          "base_uri": "https://localhost:8080/"
        },
        "id": "NGqtwS8KBRWO",
        "outputId": "9aaa0303-11c7-44db-f526-1acb9e606a7c"
      },
      "execution_count": 8,
      "outputs": [
        {
          "output_type": "execute_result",
          "data": {
            "text/plain": [
              "<tf.Tensor: shape=(2, 2), dtype=int32, numpy=\n",
              "array([[1, 2],\n",
              "       [3, 4]], dtype=int32)>"
            ]
          },
          "metadata": {},
          "execution_count": 8
        }
      ]
    },
    {
      "cell_type": "code",
      "source": [
        "matrix.ndim"
      ],
      "metadata": {
        "colab": {
          "base_uri": "https://localhost:8080/"
        },
        "id": "VL3PdG5WBmOt",
        "outputId": "fdbc6142-b43f-40f9-d2e5-fa510f9ca0b2"
      },
      "execution_count": 9,
      "outputs": [
        {
          "output_type": "execute_result",
          "data": {
            "text/plain": [
              "2"
            ]
          },
          "metadata": {},
          "execution_count": 9
        }
      ]
    },
    {
      "cell_type": "markdown",
      "source": [
        "Tensor is an N-dims array. where n can be any number."
      ],
      "metadata": {
        "id": "2nhL7QcPBt8M"
      }
    },
    {
      "cell_type": "markdown",
      "source": [
        "2. Find the shape, rank and size of the tensors you created in 1.\n",
        "\n",
        "---\n",
        "\n",
        "\n"
      ],
      "metadata": {
        "id": "GjITSvsKCJd0"
      }
    },
    {
      "cell_type": "code",
      "source": [
        "scalar"
      ],
      "metadata": {
        "colab": {
          "base_uri": "https://localhost:8080/"
        },
        "id": "CA50HdA5BrrM",
        "outputId": "e4003c7b-16ba-44aa-ced8-dc6928035f5a"
      },
      "execution_count": 11,
      "outputs": [
        {
          "output_type": "execute_result",
          "data": {
            "text/plain": [
              "<tf.Tensor: shape=(), dtype=int32, numpy=7>"
            ]
          },
          "metadata": {},
          "execution_count": 11
        }
      ]
    },
    {
      "cell_type": "code",
      "source": [
        "scalar.shape, tf.size(scalar), scalar.ndim"
      ],
      "metadata": {
        "colab": {
          "base_uri": "https://localhost:8080/"
        },
        "id": "iw88olt0CYI2",
        "outputId": "74b31b0d-4556-4622-c139-10fe3edf0413"
      },
      "execution_count": 17,
      "outputs": [
        {
          "output_type": "execute_result",
          "data": {
            "text/plain": [
              "(TensorShape([]), <tf.Tensor: shape=(), dtype=int32, numpy=1>, 0)"
            ]
          },
          "metadata": {},
          "execution_count": 17
        }
      ]
    },
    {
      "cell_type": "code",
      "source": [
        "scalar.ndim"
      ],
      "metadata": {
        "colab": {
          "base_uri": "https://localhost:8080/"
        },
        "id": "GYpNy4Y5C7sD",
        "outputId": "42fe3e26-d583-4e83-aa67-7709f2078f2b"
      },
      "execution_count": 14,
      "outputs": [
        {
          "output_type": "execute_result",
          "data": {
            "text/plain": [
              "0"
            ]
          },
          "metadata": {},
          "execution_count": 14
        }
      ]
    },
    {
      "cell_type": "code",
      "source": [
        "tf.size(scalar)"
      ],
      "metadata": {
        "colab": {
          "base_uri": "https://localhost:8080/"
        },
        "id": "gC1zpz6DDCo8",
        "outputId": "08f20c9b-5625-48a1-e3f7-64db24beecb5"
      },
      "execution_count": 15,
      "outputs": [
        {
          "output_type": "execute_result",
          "data": {
            "text/plain": [
              "<tf.Tensor: shape=(), dtype=int32, numpy=1>"
            ]
          },
          "metadata": {},
          "execution_count": 15
        }
      ]
    },
    {
      "cell_type": "code",
      "source": [
        "vector.shape, vector.ndim, tf.size(vector)"
      ],
      "metadata": {
        "colab": {
          "base_uri": "https://localhost:8080/"
        },
        "id": "-T9ZR2asDEug",
        "outputId": "ffe85eac-f5b6-4dd4-aa99-76db01addba9"
      },
      "execution_count": 18,
      "outputs": [
        {
          "output_type": "execute_result",
          "data": {
            "text/plain": [
              "(TensorShape([2]), 1, <tf.Tensor: shape=(), dtype=int32, numpy=2>)"
            ]
          },
          "metadata": {},
          "execution_count": 18
        }
      ]
    },
    {
      "cell_type": "code",
      "source": [
        "matrix.shape, matrix.ndim, tf.size(matrix)"
      ],
      "metadata": {
        "colab": {
          "base_uri": "https://localhost:8080/"
        },
        "id": "QHkLqemvDYZf",
        "outputId": "aa9e45bf-5f62-422e-e35c-9a950f768876"
      },
      "execution_count": 24,
      "outputs": [
        {
          "output_type": "execute_result",
          "data": {
            "text/plain": [
              "(TensorShape([2, 2]), 2, <tf.Tensor: shape=(), dtype=int32, numpy=4>)"
            ]
          },
          "metadata": {},
          "execution_count": 24
        }
      ]
    },
    {
      "cell_type": "markdown",
      "source": [
        "3. Create two tensors containing random values between 0 and 1 with shape [5, 300].\n",
        "\n",
        "---\n",
        "\n"
      ],
      "metadata": {
        "id": "vn6vCjtsEJrG"
      }
    },
    {
      "cell_type": "code",
      "source": [
        "#the default range is [0, 1) for tf.random.uniform\n",
        "tensor_one = tf.random.uniform(shape=[5, 300])\n",
        "tensor_one\n",
        "print('-------------')\n",
        "print('-------------')\n",
        "tensor_two = tf.random.uniform(shape=(5, 300))\n",
        "tensor_two\n"
      ],
      "metadata": {
        "colab": {
          "base_uri": "https://localhost:8080/"
        },
        "id": "z_1mdKRaDjAz",
        "outputId": "714c4bd1-f987-42c4-ff24-e726387db6cf"
      },
      "execution_count": 30,
      "outputs": [
        {
          "output_type": "stream",
          "name": "stdout",
          "text": [
            "-------------\n",
            "-------------\n"
          ]
        },
        {
          "output_type": "execute_result",
          "data": {
            "text/plain": [
              "<tf.Tensor: shape=(5, 300), dtype=float32, numpy=\n",
              "array([[0.3548112 , 0.45437527, 0.05482674, ..., 0.11515355, 0.2825606 ,\n",
              "        0.16674268],\n",
              "       [0.81571233, 0.9966122 , 0.12788916, ..., 0.82730556, 0.09335887,\n",
              "        0.12008715],\n",
              "       [0.8676119 , 0.8121841 , 0.0784353 , ..., 0.16347027, 0.41583323,\n",
              "        0.3992902 ],\n",
              "       [0.98271   , 0.10216165, 0.5804908 , ..., 0.51945376, 0.06160271,\n",
              "        0.15198445],\n",
              "       [0.7075077 , 0.7095536 , 0.26931548, ..., 0.6879729 , 0.9080746 ,\n",
              "        0.03882849]], dtype=float32)>"
            ]
          },
          "metadata": {},
          "execution_count": 30
        }
      ]
    },
    {
      "cell_type": "markdown",
      "source": [
        "4. Multiply the two tensors you created in 3 using matrix multiplication.\n",
        "\n",
        "\n",
        "---\n",
        "\n",
        "\n"
      ],
      "metadata": {
        "id": "pTGXbPT3IYmV"
      }
    },
    {
      "cell_type": "code",
      "source": [
        "multiplication = tf.matmul(tensor_one, tensor_two)\n",
        "multiplication"
      ],
      "metadata": {
        "colab": {
          "base_uri": "https://localhost:8080/",
          "height": 361
        },
        "id": "bsD533sgGkyI",
        "outputId": "5839dccd-5502-49ca-f281-4364fbc2df97"
      },
      "execution_count": 31,
      "outputs": [
        {
          "output_type": "error",
          "ename": "InvalidArgumentError",
          "evalue": "ignored",
          "traceback": [
            "\u001b[0;31m---------------------------------------------------------------------------\u001b[0m",
            "\u001b[0;31mInvalidArgumentError\u001b[0m                      Traceback (most recent call last)",
            "\u001b[0;32m<ipython-input-31-b5333194e3fa>\u001b[0m in \u001b[0;36m<cell line: 1>\u001b[0;34m()\u001b[0m\n\u001b[0;32m----> 1\u001b[0;31m \u001b[0mmultiplication\u001b[0m \u001b[0;34m=\u001b[0m \u001b[0mtf\u001b[0m\u001b[0;34m.\u001b[0m\u001b[0mmatmul\u001b[0m\u001b[0;34m(\u001b[0m\u001b[0mtensor_one\u001b[0m\u001b[0;34m,\u001b[0m \u001b[0mtensor_two\u001b[0m\u001b[0;34m)\u001b[0m\u001b[0;34m\u001b[0m\u001b[0;34m\u001b[0m\u001b[0m\n\u001b[0m\u001b[1;32m      2\u001b[0m \u001b[0mmultiplication\u001b[0m\u001b[0;34m\u001b[0m\u001b[0;34m\u001b[0m\u001b[0m\n",
            "\u001b[0;32m/usr/local/lib/python3.10/dist-packages/tensorflow/python/util/traceback_utils.py\u001b[0m in \u001b[0;36merror_handler\u001b[0;34m(*args, **kwargs)\u001b[0m\n\u001b[1;32m    151\u001b[0m     \u001b[0;32mexcept\u001b[0m \u001b[0mException\u001b[0m \u001b[0;32mas\u001b[0m \u001b[0me\u001b[0m\u001b[0;34m:\u001b[0m\u001b[0;34m\u001b[0m\u001b[0;34m\u001b[0m\u001b[0m\n\u001b[1;32m    152\u001b[0m       \u001b[0mfiltered_tb\u001b[0m \u001b[0;34m=\u001b[0m \u001b[0m_process_traceback_frames\u001b[0m\u001b[0;34m(\u001b[0m\u001b[0me\u001b[0m\u001b[0;34m.\u001b[0m\u001b[0m__traceback__\u001b[0m\u001b[0;34m)\u001b[0m\u001b[0;34m\u001b[0m\u001b[0;34m\u001b[0m\u001b[0m\n\u001b[0;32m--> 153\u001b[0;31m       \u001b[0;32mraise\u001b[0m \u001b[0me\u001b[0m\u001b[0;34m.\u001b[0m\u001b[0mwith_traceback\u001b[0m\u001b[0;34m(\u001b[0m\u001b[0mfiltered_tb\u001b[0m\u001b[0;34m)\u001b[0m \u001b[0;32mfrom\u001b[0m \u001b[0;32mNone\u001b[0m\u001b[0;34m\u001b[0m\u001b[0;34m\u001b[0m\u001b[0m\n\u001b[0m\u001b[1;32m    154\u001b[0m     \u001b[0;32mfinally\u001b[0m\u001b[0;34m:\u001b[0m\u001b[0;34m\u001b[0m\u001b[0;34m\u001b[0m\u001b[0m\n\u001b[1;32m    155\u001b[0m       \u001b[0;32mdel\u001b[0m \u001b[0mfiltered_tb\u001b[0m\u001b[0;34m\u001b[0m\u001b[0;34m\u001b[0m\u001b[0m\n",
            "\u001b[0;32m/usr/local/lib/python3.10/dist-packages/tensorflow/python/framework/ops.py\u001b[0m in \u001b[0;36mraise_from_not_ok_status\u001b[0;34m(e, name)\u001b[0m\n\u001b[1;32m   7260\u001b[0m \u001b[0;32mdef\u001b[0m \u001b[0mraise_from_not_ok_status\u001b[0m\u001b[0;34m(\u001b[0m\u001b[0me\u001b[0m\u001b[0;34m,\u001b[0m \u001b[0mname\u001b[0m\u001b[0;34m)\u001b[0m\u001b[0;34m:\u001b[0m\u001b[0;34m\u001b[0m\u001b[0;34m\u001b[0m\u001b[0m\n\u001b[1;32m   7261\u001b[0m   \u001b[0me\u001b[0m\u001b[0;34m.\u001b[0m\u001b[0mmessage\u001b[0m \u001b[0;34m+=\u001b[0m \u001b[0;34m(\u001b[0m\u001b[0;34m\" name: \"\u001b[0m \u001b[0;34m+\u001b[0m \u001b[0mname\u001b[0m \u001b[0;32mif\u001b[0m \u001b[0mname\u001b[0m \u001b[0;32mis\u001b[0m \u001b[0;32mnot\u001b[0m \u001b[0;32mNone\u001b[0m \u001b[0;32melse\u001b[0m \u001b[0;34m\"\"\u001b[0m\u001b[0;34m)\u001b[0m\u001b[0;34m\u001b[0m\u001b[0;34m\u001b[0m\u001b[0m\n\u001b[0;32m-> 7262\u001b[0;31m   \u001b[0;32mraise\u001b[0m \u001b[0mcore\u001b[0m\u001b[0;34m.\u001b[0m\u001b[0m_status_to_exception\u001b[0m\u001b[0;34m(\u001b[0m\u001b[0me\u001b[0m\u001b[0;34m)\u001b[0m \u001b[0;32mfrom\u001b[0m \u001b[0;32mNone\u001b[0m  \u001b[0;31m# pylint: disable=protected-access\u001b[0m\u001b[0;34m\u001b[0m\u001b[0;34m\u001b[0m\u001b[0m\n\u001b[0m\u001b[1;32m   7263\u001b[0m \u001b[0;34m\u001b[0m\u001b[0m\n\u001b[1;32m   7264\u001b[0m \u001b[0;34m\u001b[0m\u001b[0m\n",
            "\u001b[0;31mInvalidArgumentError\u001b[0m: {{function_node __wrapped__MatMul_device_/job:localhost/replica:0/task:0/device:CPU:0}} Matrix size-incompatible: In[0]: [5,300], In[1]: [5,300] [Op:MatMul]"
          ]
        }
      ]
    },
    {
      "cell_type": "code",
      "source": [
        "tensor_one.shape"
      ],
      "metadata": {
        "colab": {
          "base_uri": "https://localhost:8080/"
        },
        "id": "KfXq776kKIdt",
        "outputId": "e722782a-bce9-45e1-c1f1-fc2655fde21b"
      },
      "execution_count": 33,
      "outputs": [
        {
          "output_type": "execute_result",
          "data": {
            "text/plain": [
              "TensorShape([5, 300])"
            ]
          },
          "metadata": {},
          "execution_count": 33
        }
      ]
    },
    {
      "cell_type": "code",
      "source": [
        "transpose_tensor_two = tf.transpose(tensor_two)\n",
        "transpose_tensor_two.shape"
      ],
      "metadata": {
        "colab": {
          "base_uri": "https://localhost:8080/"
        },
        "id": "HnmhVrqAKNql",
        "outputId": "71ec740f-d87d-4ec5-a4b0-02e98b44935f"
      },
      "execution_count": 34,
      "outputs": [
        {
          "output_type": "execute_result",
          "data": {
            "text/plain": [
              "TensorShape([300, 5])"
            ]
          },
          "metadata": {},
          "execution_count": 34
        }
      ]
    },
    {
      "cell_type": "code",
      "source": [
        "multiplication = tf.matmul(tensor_one, tf.transpose(tensor_two))\n",
        "multiplication"
      ],
      "metadata": {
        "colab": {
          "base_uri": "https://localhost:8080/"
        },
        "id": "MSOXhMrGJrC0",
        "outputId": "d79b5044-f132-4d33-c62a-cfbdd19ead3e"
      },
      "execution_count": 32,
      "outputs": [
        {
          "output_type": "execute_result",
          "data": {
            "text/plain": [
              "<tf.Tensor: shape=(5, 5), dtype=float32, numpy=\n",
              "array([[71.618835, 73.12355 , 70.14987 , 70.49443 , 75.66005 ],\n",
              "       [71.797325, 74.126816, 72.103355, 73.92647 , 78.74638 ],\n",
              "       [72.61735 , 72.76413 , 74.38701 , 72.89404 , 76.24926 ],\n",
              "       [77.01221 , 79.28808 , 77.773575, 75.84927 , 80.95017 ],\n",
              "       [70.57883 , 74.000275, 70.98927 , 72.25386 , 74.21423 ]],\n",
              "      dtype=float32)>"
            ]
          },
          "metadata": {},
          "execution_count": 32
        }
      ]
    },
    {
      "cell_type": "markdown",
      "source": [
        "5. Multiply the two tensors you created in 3 using dot product.\n",
        "\n",
        "---\n",
        "\n"
      ],
      "metadata": {
        "id": "om9SORO_Kz0y"
      }
    },
    {
      "cell_type": "code",
      "source": [
        "dot_product = tf.tensordot(tensor_one, tensor_two)\n",
        "dot_product"
      ],
      "metadata": {
        "colab": {
          "base_uri": "https://localhost:8080/",
          "height": 343
        },
        "id": "WVuTPaYJJ8T7",
        "outputId": "edd76f67-b6e0-4d35-e9d4-18aeca32bd0b"
      },
      "execution_count": 35,
      "outputs": [
        {
          "output_type": "error",
          "ename": "TypeError",
          "evalue": "ignored",
          "traceback": [
            "\u001b[0;31m---------------------------------------------------------------------------\u001b[0m",
            "\u001b[0;31mTypeError\u001b[0m                                 Traceback (most recent call last)",
            "\u001b[0;32m<ipython-input-35-314ea09c4a35>\u001b[0m in \u001b[0;36m<cell line: 1>\u001b[0;34m()\u001b[0m\n\u001b[0;32m----> 1\u001b[0;31m \u001b[0mdot_product\u001b[0m \u001b[0;34m=\u001b[0m \u001b[0mtf\u001b[0m\u001b[0;34m.\u001b[0m\u001b[0mtensordot\u001b[0m\u001b[0;34m(\u001b[0m\u001b[0mtensor_one\u001b[0m\u001b[0;34m,\u001b[0m \u001b[0mtensor_two\u001b[0m\u001b[0;34m)\u001b[0m\u001b[0;34m\u001b[0m\u001b[0;34m\u001b[0m\u001b[0m\n\u001b[0m\u001b[1;32m      2\u001b[0m \u001b[0mdot_product\u001b[0m\u001b[0;34m\u001b[0m\u001b[0;34m\u001b[0m\u001b[0m\n",
            "\u001b[0;32m/usr/local/lib/python3.10/dist-packages/tensorflow/python/util/traceback_utils.py\u001b[0m in \u001b[0;36merror_handler\u001b[0;34m(*args, **kwargs)\u001b[0m\n\u001b[1;32m    151\u001b[0m     \u001b[0;32mexcept\u001b[0m \u001b[0mException\u001b[0m \u001b[0;32mas\u001b[0m \u001b[0me\u001b[0m\u001b[0;34m:\u001b[0m\u001b[0;34m\u001b[0m\u001b[0;34m\u001b[0m\u001b[0m\n\u001b[1;32m    152\u001b[0m       \u001b[0mfiltered_tb\u001b[0m \u001b[0;34m=\u001b[0m \u001b[0m_process_traceback_frames\u001b[0m\u001b[0;34m(\u001b[0m\u001b[0me\u001b[0m\u001b[0;34m.\u001b[0m\u001b[0m__traceback__\u001b[0m\u001b[0;34m)\u001b[0m\u001b[0;34m\u001b[0m\u001b[0;34m\u001b[0m\u001b[0m\n\u001b[0;32m--> 153\u001b[0;31m       \u001b[0;32mraise\u001b[0m \u001b[0me\u001b[0m\u001b[0;34m.\u001b[0m\u001b[0mwith_traceback\u001b[0m\u001b[0;34m(\u001b[0m\u001b[0mfiltered_tb\u001b[0m\u001b[0;34m)\u001b[0m \u001b[0;32mfrom\u001b[0m \u001b[0;32mNone\u001b[0m\u001b[0;34m\u001b[0m\u001b[0;34m\u001b[0m\u001b[0m\n\u001b[0m\u001b[1;32m    154\u001b[0m     \u001b[0;32mfinally\u001b[0m\u001b[0;34m:\u001b[0m\u001b[0;34m\u001b[0m\u001b[0;34m\u001b[0m\u001b[0m\n\u001b[1;32m    155\u001b[0m       \u001b[0;32mdel\u001b[0m \u001b[0mfiltered_tb\u001b[0m\u001b[0;34m\u001b[0m\u001b[0;34m\u001b[0m\u001b[0m\n",
            "\u001b[0;32m/usr/local/lib/python3.10/dist-packages/tensorflow/python/util/dispatch.py\u001b[0m in \u001b[0;36mop_dispatch_handler\u001b[0;34m(*args, **kwargs)\u001b[0m\n\u001b[1;32m   1168\u001b[0m         \u001b[0;32mif\u001b[0m \u001b[0miterable_params\u001b[0m \u001b[0;32mis\u001b[0m \u001b[0;32mnot\u001b[0m \u001b[0;32mNone\u001b[0m\u001b[0;34m:\u001b[0m\u001b[0;34m\u001b[0m\u001b[0;34m\u001b[0m\u001b[0m\n\u001b[1;32m   1169\u001b[0m           \u001b[0margs\u001b[0m\u001b[0;34m,\u001b[0m \u001b[0mkwargs\u001b[0m \u001b[0;34m=\u001b[0m \u001b[0mreplace_iterable_params\u001b[0m\u001b[0;34m(\u001b[0m\u001b[0margs\u001b[0m\u001b[0;34m,\u001b[0m \u001b[0mkwargs\u001b[0m\u001b[0;34m,\u001b[0m \u001b[0miterable_params\u001b[0m\u001b[0;34m)\u001b[0m\u001b[0;34m\u001b[0m\u001b[0;34m\u001b[0m\u001b[0m\n\u001b[0;32m-> 1170\u001b[0;31m         \u001b[0mresult\u001b[0m \u001b[0;34m=\u001b[0m \u001b[0mapi_dispatcher\u001b[0m\u001b[0;34m.\u001b[0m\u001b[0mDispatch\u001b[0m\u001b[0;34m(\u001b[0m\u001b[0margs\u001b[0m\u001b[0;34m,\u001b[0m \u001b[0mkwargs\u001b[0m\u001b[0;34m)\u001b[0m\u001b[0;34m\u001b[0m\u001b[0;34m\u001b[0m\u001b[0m\n\u001b[0m\u001b[1;32m   1171\u001b[0m         \u001b[0;32mif\u001b[0m \u001b[0mresult\u001b[0m \u001b[0;32mis\u001b[0m \u001b[0;32mnot\u001b[0m \u001b[0mNotImplemented\u001b[0m\u001b[0;34m:\u001b[0m\u001b[0;34m\u001b[0m\u001b[0;34m\u001b[0m\u001b[0m\n\u001b[1;32m   1172\u001b[0m           \u001b[0;32mreturn\u001b[0m \u001b[0mresult\u001b[0m\u001b[0;34m\u001b[0m\u001b[0;34m\u001b[0m\u001b[0m\n",
            "\u001b[0;31mTypeError\u001b[0m: Missing required positional argument"
          ]
        }
      ]
    },
    {
      "cell_type": "code",
      "source": [
        "dot_product = tf.tensordot(tensor_one, tensor_two, axes=1)\n",
        "dot_product"
      ],
      "metadata": {
        "colab": {
          "base_uri": "https://localhost:8080/",
          "height": 361
        },
        "id": "tZz--NvRLTsp",
        "outputId": "db22b011-2bb8-47c4-8f10-cb8f4dddf99c"
      },
      "execution_count": 37,
      "outputs": [
        {
          "output_type": "error",
          "ename": "InvalidArgumentError",
          "evalue": "ignored",
          "traceback": [
            "\u001b[0;31m---------------------------------------------------------------------------\u001b[0m",
            "\u001b[0;31mInvalidArgumentError\u001b[0m                      Traceback (most recent call last)",
            "\u001b[0;32m<ipython-input-37-cd965c574c1f>\u001b[0m in \u001b[0;36m<cell line: 1>\u001b[0;34m()\u001b[0m\n\u001b[0;32m----> 1\u001b[0;31m \u001b[0mdot_product\u001b[0m \u001b[0;34m=\u001b[0m \u001b[0mtf\u001b[0m\u001b[0;34m.\u001b[0m\u001b[0mtensordot\u001b[0m\u001b[0;34m(\u001b[0m\u001b[0mtensor_one\u001b[0m\u001b[0;34m,\u001b[0m \u001b[0mtensor_two\u001b[0m\u001b[0;34m,\u001b[0m \u001b[0maxes\u001b[0m\u001b[0;34m=\u001b[0m\u001b[0;36m1\u001b[0m\u001b[0;34m)\u001b[0m\u001b[0;34m\u001b[0m\u001b[0;34m\u001b[0m\u001b[0m\n\u001b[0m\u001b[1;32m      2\u001b[0m \u001b[0mdot_product\u001b[0m\u001b[0;34m\u001b[0m\u001b[0;34m\u001b[0m\u001b[0m\n",
            "\u001b[0;32m/usr/local/lib/python3.10/dist-packages/tensorflow/python/util/traceback_utils.py\u001b[0m in \u001b[0;36merror_handler\u001b[0;34m(*args, **kwargs)\u001b[0m\n\u001b[1;32m    151\u001b[0m     \u001b[0;32mexcept\u001b[0m \u001b[0mException\u001b[0m \u001b[0;32mas\u001b[0m \u001b[0me\u001b[0m\u001b[0;34m:\u001b[0m\u001b[0;34m\u001b[0m\u001b[0;34m\u001b[0m\u001b[0m\n\u001b[1;32m    152\u001b[0m       \u001b[0mfiltered_tb\u001b[0m \u001b[0;34m=\u001b[0m \u001b[0m_process_traceback_frames\u001b[0m\u001b[0;34m(\u001b[0m\u001b[0me\u001b[0m\u001b[0;34m.\u001b[0m\u001b[0m__traceback__\u001b[0m\u001b[0;34m)\u001b[0m\u001b[0;34m\u001b[0m\u001b[0;34m\u001b[0m\u001b[0m\n\u001b[0;32m--> 153\u001b[0;31m       \u001b[0;32mraise\u001b[0m \u001b[0me\u001b[0m\u001b[0;34m.\u001b[0m\u001b[0mwith_traceback\u001b[0m\u001b[0;34m(\u001b[0m\u001b[0mfiltered_tb\u001b[0m\u001b[0;34m)\u001b[0m \u001b[0;32mfrom\u001b[0m \u001b[0;32mNone\u001b[0m\u001b[0;34m\u001b[0m\u001b[0;34m\u001b[0m\u001b[0m\n\u001b[0m\u001b[1;32m    154\u001b[0m     \u001b[0;32mfinally\u001b[0m\u001b[0;34m:\u001b[0m\u001b[0;34m\u001b[0m\u001b[0;34m\u001b[0m\u001b[0m\n\u001b[1;32m    155\u001b[0m       \u001b[0;32mdel\u001b[0m \u001b[0mfiltered_tb\u001b[0m\u001b[0;34m\u001b[0m\u001b[0;34m\u001b[0m\u001b[0m\n",
            "\u001b[0;32m/usr/local/lib/python3.10/dist-packages/tensorflow/python/framework/ops.py\u001b[0m in \u001b[0;36mraise_from_not_ok_status\u001b[0;34m(e, name)\u001b[0m\n\u001b[1;32m   7260\u001b[0m \u001b[0;32mdef\u001b[0m \u001b[0mraise_from_not_ok_status\u001b[0m\u001b[0;34m(\u001b[0m\u001b[0me\u001b[0m\u001b[0;34m,\u001b[0m \u001b[0mname\u001b[0m\u001b[0;34m)\u001b[0m\u001b[0;34m:\u001b[0m\u001b[0;34m\u001b[0m\u001b[0;34m\u001b[0m\u001b[0m\n\u001b[1;32m   7261\u001b[0m   \u001b[0me\u001b[0m\u001b[0;34m.\u001b[0m\u001b[0mmessage\u001b[0m \u001b[0;34m+=\u001b[0m \u001b[0;34m(\u001b[0m\u001b[0;34m\" name: \"\u001b[0m \u001b[0;34m+\u001b[0m \u001b[0mname\u001b[0m \u001b[0;32mif\u001b[0m \u001b[0mname\u001b[0m \u001b[0;32mis\u001b[0m \u001b[0;32mnot\u001b[0m \u001b[0;32mNone\u001b[0m \u001b[0;32melse\u001b[0m \u001b[0;34m\"\"\u001b[0m\u001b[0;34m)\u001b[0m\u001b[0;34m\u001b[0m\u001b[0;34m\u001b[0m\u001b[0m\n\u001b[0;32m-> 7262\u001b[0;31m   \u001b[0;32mraise\u001b[0m \u001b[0mcore\u001b[0m\u001b[0;34m.\u001b[0m\u001b[0m_status_to_exception\u001b[0m\u001b[0;34m(\u001b[0m\u001b[0me\u001b[0m\u001b[0;34m)\u001b[0m \u001b[0;32mfrom\u001b[0m \u001b[0;32mNone\u001b[0m  \u001b[0;31m# pylint: disable=protected-access\u001b[0m\u001b[0;34m\u001b[0m\u001b[0;34m\u001b[0m\u001b[0m\n\u001b[0m\u001b[1;32m   7263\u001b[0m \u001b[0;34m\u001b[0m\u001b[0m\n\u001b[1;32m   7264\u001b[0m \u001b[0;34m\u001b[0m\u001b[0m\n",
            "\u001b[0;31mInvalidArgumentError\u001b[0m: {{function_node __wrapped__MatMul_device_/job:localhost/replica:0/task:0/device:CPU:0}} Matrix size-incompatible: In[0]: [5,300], In[1]: [5,300] [Op:MatMul]"
          ]
        }
      ]
    },
    {
      "cell_type": "code",
      "source": [
        "dot_product = tf.tensordot(tensor_one, tf.transpose(tensor_two), axes=1)\n",
        "dot_product"
      ],
      "metadata": {
        "colab": {
          "base_uri": "https://localhost:8080/"
        },
        "id": "aOxtOkrpMFgx",
        "outputId": "a19ecef9-950a-4c71-9a68-1356f32a2529"
      },
      "execution_count": 39,
      "outputs": [
        {
          "output_type": "execute_result",
          "data": {
            "text/plain": [
              "<tf.Tensor: shape=(5, 5), dtype=float32, numpy=\n",
              "array([[71.618835, 73.12355 , 70.14987 , 70.49443 , 75.66005 ],\n",
              "       [71.797325, 74.126816, 72.103355, 73.92647 , 78.74638 ],\n",
              "       [72.61735 , 72.76413 , 74.38701 , 72.89404 , 76.24926 ],\n",
              "       [77.01221 , 79.28808 , 77.773575, 75.84927 , 80.95017 ],\n",
              "       [70.57883 , 74.000275, 70.98927 , 72.25386 , 74.21423 ]],\n",
              "      dtype=float32)>"
            ]
          },
          "metadata": {},
          "execution_count": 39
        }
      ]
    },
    {
      "cell_type": "markdown",
      "source": [
        "6. Create a tensor with random values between 0 and 1 with shape [224, 224, 3].\n",
        "---\n"
      ],
      "metadata": {
        "id": "c5w16A_QMer-"
      }
    },
    {
      "cell_type": "code",
      "source": [
        "another_tensor = tf.random.uniform(shape=(224, 224, 3))\n",
        "another_tensor"
      ],
      "metadata": {
        "colab": {
          "base_uri": "https://localhost:8080/"
        },
        "id": "r0HvFcRzMRis",
        "outputId": "5008eb05-0fff-47a7-c32f-7245141e75b0"
      },
      "execution_count": 42,
      "outputs": [
        {
          "output_type": "execute_result",
          "data": {
            "text/plain": [
              "<tf.Tensor: shape=(224, 224, 3), dtype=float32, numpy=\n",
              "array([[[0.8306067 , 0.4031241 , 0.49396968],\n",
              "        [0.02809119, 0.94939363, 0.00810158],\n",
              "        [0.14676058, 0.45752442, 0.35288894],\n",
              "        ...,\n",
              "        [0.7965239 , 0.61090004, 0.8022196 ],\n",
              "        [0.34275317, 0.21994686, 0.12904775],\n",
              "        [0.25351846, 0.39947724, 0.08828866]],\n",
              "\n",
              "       [[0.6000353 , 0.5063399 , 0.44458604],\n",
              "        [0.8953221 , 0.6501788 , 0.89394164],\n",
              "        [0.29298902, 0.32754636, 0.11526477],\n",
              "        ...,\n",
              "        [0.16283333, 0.18930185, 0.7467902 ],\n",
              "        [0.9120487 , 0.21166587, 0.27991438],\n",
              "        [0.77477   , 0.59461486, 0.8975587 ]],\n",
              "\n",
              "       [[0.48994076, 0.09964681, 0.70525515],\n",
              "        [0.23445499, 0.93510556, 0.509079  ],\n",
              "        [0.47972202, 0.82836485, 0.0217402 ],\n",
              "        ...,\n",
              "        [0.9851464 , 0.03132343, 0.11069882],\n",
              "        [0.6611512 , 0.3627442 , 0.91665304],\n",
              "        [0.9062052 , 0.818004  , 0.9803989 ]],\n",
              "\n",
              "       ...,\n",
              "\n",
              "       [[0.26372373, 0.8795148 , 0.5678731 ],\n",
              "        [0.9792255 , 0.6102371 , 0.9737487 ],\n",
              "        [0.2528329 , 0.5855361 , 0.06398749],\n",
              "        ...,\n",
              "        [0.7661699 , 0.35592878, 0.75226593],\n",
              "        [0.19990075, 0.32619214, 0.4112922 ],\n",
              "        [0.28444302, 0.92335355, 0.2647065 ]],\n",
              "\n",
              "       [[0.8578392 , 0.9848877 , 0.91487527],\n",
              "        [0.29024434, 0.00846446, 0.17859304],\n",
              "        [0.0573467 , 0.52351594, 0.9588454 ],\n",
              "        ...,\n",
              "        [0.9182329 , 0.59017754, 0.2565093 ],\n",
              "        [0.15163493, 0.34196877, 0.6352358 ],\n",
              "        [0.35551834, 0.7547221 , 0.94272625]],\n",
              "\n",
              "       [[0.9479406 , 0.91754866, 0.85970044],\n",
              "        [0.66738224, 0.81400955, 0.10627961],\n",
              "        [0.5239084 , 0.02077591, 0.17971647],\n",
              "        ...,\n",
              "        [0.00371623, 0.84217346, 0.527532  ],\n",
              "        [0.20910263, 0.13723946, 0.7399156 ],\n",
              "        [0.78046453, 0.19973075, 0.51285124]]], dtype=float32)>"
            ]
          },
          "metadata": {},
          "execution_count": 42
        }
      ]
    },
    {
      "cell_type": "markdown",
      "source": [
        "7. Find the min and max values of the tensor you created in 6.\n",
        "---"
      ],
      "metadata": {
        "id": "Nj1mS7qYNYXL"
      }
    },
    {
      "cell_type": "code",
      "source": [
        "min = tf.reduce_min(another_tensor)\n",
        "min"
      ],
      "metadata": {
        "colab": {
          "base_uri": "https://localhost:8080/"
        },
        "id": "IjQ7dMy_M1DR",
        "outputId": "2f01927c-a30e-4c23-d373-b8f429989933"
      },
      "execution_count": 43,
      "outputs": [
        {
          "output_type": "execute_result",
          "data": {
            "text/plain": [
              "<tf.Tensor: shape=(), dtype=float32, numpy=7.1525574e-06>"
            ]
          },
          "metadata": {},
          "execution_count": 43
        }
      ]
    },
    {
      "cell_type": "code",
      "source": [
        "max = tf.reduce_max(another_tensor)\n",
        "max"
      ],
      "metadata": {
        "colab": {
          "base_uri": "https://localhost:8080/"
        },
        "id": "sDoe6TynNkd0",
        "outputId": "41f1018d-b61d-4c07-e8c6-4e50367c7f76"
      },
      "execution_count": 44,
      "outputs": [
        {
          "output_type": "execute_result",
          "data": {
            "text/plain": [
              "<tf.Tensor: shape=(), dtype=float32, numpy=0.99999523>"
            ]
          },
          "metadata": {},
          "execution_count": 44
        }
      ]
    },
    {
      "cell_type": "markdown",
      "source": [
        "8. Created a tensor with random values of shape [1, 224, 224, 3] then squeeze it to change the shape to [224, 224, 3].\n",
        "---\n"
      ],
      "metadata": {
        "id": "Ok6DoGaEOB11"
      }
    },
    {
      "cell_type": "code",
      "source": [
        "random = tf.random.Generator.from_seed(42)\n",
        "tensor_4_rank = random.normal(shape=(1, 224, 224, 3))\n",
        "tensor_4_rank"
      ],
      "metadata": {
        "colab": {
          "base_uri": "https://localhost:8080/"
        },
        "id": "nJdzqN-DNwOl",
        "outputId": "80bd5450-a362-48c3-b665-04a521d7108b"
      },
      "execution_count": 50,
      "outputs": [
        {
          "output_type": "execute_result",
          "data": {
            "text/plain": [
              "<tf.Tensor: shape=(1, 224, 224, 3), dtype=float32, numpy=\n",
              "array([[[[-0.7565803 , -0.06854702,  0.07595026],\n",
              "         [-1.2573844 , -0.23193763, -1.8107855 ],\n",
              "         [ 0.09988727, -0.50998646, -0.7535805 ],\n",
              "         ...,\n",
              "         [ 0.07099114, -0.5095768 ,  0.3482001 ],\n",
              "         [ 0.15985982, -1.9042184 ,  0.9690504 ],\n",
              "         [ 0.16251186, -0.07330752, -0.360591  ]],\n",
              "\n",
              "        [[ 0.18739441, -0.73353654,  1.2104433 ],\n",
              "         [ 1.5603006 , -0.48115277,  0.6335167 ],\n",
              "         [-0.5612103 ,  0.06994031,  1.6807095 ],\n",
              "         ...,\n",
              "         [-1.9460293 , -0.7977275 ,  0.03092833],\n",
              "         [ 0.8297488 ,  0.12179119,  1.0506107 ],\n",
              "         [-1.3097638 ,  0.92536974, -1.1787732 ]],\n",
              "\n",
              "        [[-0.21711822, -0.73974085, -1.3077081 ],\n",
              "         [-0.7502274 , -0.37715855, -0.30130875],\n",
              "         [ 1.0943383 ,  0.255803  ,  0.8011465 ],\n",
              "         ...,\n",
              "         [-0.32833767, -0.7794747 ,  0.20049338],\n",
              "         [-0.09002841,  0.07243238, -0.81940895],\n",
              "         [ 0.3171264 , -1.6143695 , -1.6824651 ]],\n",
              "\n",
              "        ...,\n",
              "\n",
              "        [[-0.4106899 , -0.3995463 ,  0.16299413],\n",
              "         [-0.82463205,  1.1320542 ,  0.43792692],\n",
              "         [-0.7639474 , -1.12663   , -0.7207727 ],\n",
              "         ...,\n",
              "         [-0.8531011 , -0.53761154, -0.32857296],\n",
              "         [ 0.9262249 , -1.2425404 , -0.69937414],\n",
              "         [ 1.7450827 ,  1.2275221 ,  0.7955962 ]],\n",
              "\n",
              "        [[-1.0337651 , -2.0142937 ,  0.20993443],\n",
              "         [-0.54768926, -0.4617833 ,  0.15565316],\n",
              "         [-0.83341664, -0.24888954, -1.045123  ],\n",
              "         ...,\n",
              "         [ 2.1425858 ,  1.0908573 ,  0.5777537 ],\n",
              "         [ 0.1725258 , -0.93706477, -0.5235085 ],\n",
              "         [-1.6538908 ,  0.10763748,  0.1024353 ]],\n",
              "\n",
              "        [[-0.82148445, -0.04988056,  0.5157987 ],\n",
              "         [ 0.328913  ,  0.25311732,  1.7136203 ],\n",
              "         [-0.7098217 ,  0.40330094, -1.3882406 ],\n",
              "         ...,\n",
              "         [ 0.14991115,  1.8622528 , -0.7413897 ],\n",
              "         [-0.07112624, -0.7579811 , -0.9618234 ],\n",
              "         [-1.3569822 , -1.5307596 , -0.91243464]]]], dtype=float32)>"
            ]
          },
          "metadata": {},
          "execution_count": 50
        }
      ]
    },
    {
      "cell_type": "code",
      "source": [
        "# squeeze the shape\n",
        "squeezed_tensor = tf.squeeze(tensor_4_rank)\n",
        "squeezed_tensor"
      ],
      "metadata": {
        "colab": {
          "base_uri": "https://localhost:8080/"
        },
        "id": "IHd0TgX9N_aL",
        "outputId": "71c38865-77f9-43b0-fdad-e2c74c572d72"
      },
      "execution_count": 51,
      "outputs": [
        {
          "output_type": "execute_result",
          "data": {
            "text/plain": [
              "<tf.Tensor: shape=(224, 224, 3), dtype=float32, numpy=\n",
              "array([[[-0.7565803 , -0.06854702,  0.07595026],\n",
              "        [-1.2573844 , -0.23193763, -1.8107855 ],\n",
              "        [ 0.09988727, -0.50998646, -0.7535805 ],\n",
              "        ...,\n",
              "        [ 0.07099114, -0.5095768 ,  0.3482001 ],\n",
              "        [ 0.15985982, -1.9042184 ,  0.9690504 ],\n",
              "        [ 0.16251186, -0.07330752, -0.360591  ]],\n",
              "\n",
              "       [[ 0.18739441, -0.73353654,  1.2104433 ],\n",
              "        [ 1.5603006 , -0.48115277,  0.6335167 ],\n",
              "        [-0.5612103 ,  0.06994031,  1.6807095 ],\n",
              "        ...,\n",
              "        [-1.9460293 , -0.7977275 ,  0.03092833],\n",
              "        [ 0.8297488 ,  0.12179119,  1.0506107 ],\n",
              "        [-1.3097638 ,  0.92536974, -1.1787732 ]],\n",
              "\n",
              "       [[-0.21711822, -0.73974085, -1.3077081 ],\n",
              "        [-0.7502274 , -0.37715855, -0.30130875],\n",
              "        [ 1.0943383 ,  0.255803  ,  0.8011465 ],\n",
              "        ...,\n",
              "        [-0.32833767, -0.7794747 ,  0.20049338],\n",
              "        [-0.09002841,  0.07243238, -0.81940895],\n",
              "        [ 0.3171264 , -1.6143695 , -1.6824651 ]],\n",
              "\n",
              "       ...,\n",
              "\n",
              "       [[-0.4106899 , -0.3995463 ,  0.16299413],\n",
              "        [-0.82463205,  1.1320542 ,  0.43792692],\n",
              "        [-0.7639474 , -1.12663   , -0.7207727 ],\n",
              "        ...,\n",
              "        [-0.8531011 , -0.53761154, -0.32857296],\n",
              "        [ 0.9262249 , -1.2425404 , -0.69937414],\n",
              "        [ 1.7450827 ,  1.2275221 ,  0.7955962 ]],\n",
              "\n",
              "       [[-1.0337651 , -2.0142937 ,  0.20993443],\n",
              "        [-0.54768926, -0.4617833 ,  0.15565316],\n",
              "        [-0.83341664, -0.24888954, -1.045123  ],\n",
              "        ...,\n",
              "        [ 2.1425858 ,  1.0908573 ,  0.5777537 ],\n",
              "        [ 0.1725258 , -0.93706477, -0.5235085 ],\n",
              "        [-1.6538908 ,  0.10763748,  0.1024353 ]],\n",
              "\n",
              "       [[-0.82148445, -0.04988056,  0.5157987 ],\n",
              "        [ 0.328913  ,  0.25311732,  1.7136203 ],\n",
              "        [-0.7098217 ,  0.40330094, -1.3882406 ],\n",
              "        ...,\n",
              "        [ 0.14991115,  1.8622528 , -0.7413897 ],\n",
              "        [-0.07112624, -0.7579811 , -0.9618234 ],\n",
              "        [-1.3569822 , -1.5307596 , -0.91243464]]], dtype=float32)>"
            ]
          },
          "metadata": {},
          "execution_count": 51
        }
      ]
    },
    {
      "cell_type": "markdown",
      "source": [
        "9. Create a tensor with shape [10] using your own choice of values, then find the index which has the maximum value.\n",
        "---"
      ],
      "metadata": {
        "id": "kCaL2CIkR-a8"
      }
    },
    {
      "cell_type": "code",
      "source": [
        "a_tensor = tf.constant([1,2,6,4,3,21,55,44,33,22])"
      ],
      "metadata": {
        "id": "p5km4E-JQjKu"
      },
      "execution_count": 56,
      "outputs": []
    },
    {
      "cell_type": "code",
      "source": [
        "a_tensor"
      ],
      "metadata": {
        "colab": {
          "base_uri": "https://localhost:8080/"
        },
        "id": "E3CNjGhySS_4",
        "outputId": "21416a00-e1df-4c9c-f2d5-69a3f92eb539"
      },
      "execution_count": 57,
      "outputs": [
        {
          "output_type": "execute_result",
          "data": {
            "text/plain": [
              "<tf.Tensor: shape=(10,), dtype=int32, numpy=array([ 1,  2,  6,  4,  3, 21, 55, 44, 33, 22], dtype=int32)>"
            ]
          },
          "metadata": {},
          "execution_count": 57
        }
      ]
    },
    {
      "cell_type": "code",
      "source": [
        "a_tensor.ndim"
      ],
      "metadata": {
        "colab": {
          "base_uri": "https://localhost:8080/"
        },
        "id": "HwgaGZwUSVQU",
        "outputId": "2f84285f-8a9e-4fea-a15d-ed58ceb17fca"
      },
      "execution_count": 58,
      "outputs": [
        {
          "output_type": "execute_result",
          "data": {
            "text/plain": [
              "1"
            ]
          },
          "metadata": {},
          "execution_count": 58
        }
      ]
    },
    {
      "cell_type": "code",
      "source": [
        "max_index = tf.math.argmax(a_tensor)\n",
        "max_index"
      ],
      "metadata": {
        "colab": {
          "base_uri": "https://localhost:8080/"
        },
        "id": "TXDkoCGfSZlQ",
        "outputId": "e835af9b-dfbb-4cc4-cc99-261636933304"
      },
      "execution_count": 59,
      "outputs": [
        {
          "output_type": "execute_result",
          "data": {
            "text/plain": [
              "<tf.Tensor: shape=(), dtype=int64, numpy=6>"
            ]
          },
          "metadata": {},
          "execution_count": 59
        }
      ]
    },
    {
      "cell_type": "markdown",
      "source": [
        "10. One-hot encode the tensor you created in 9.\n",
        "---"
      ],
      "metadata": {
        "id": "BXkr6WDvS4R_"
      }
    },
    {
      "cell_type": "code",
      "source": [
        "one_hot = tf.one_hot(a_tensor, 56)\n",
        "one_hot"
      ],
      "metadata": {
        "colab": {
          "base_uri": "https://localhost:8080/"
        },
        "id": "XnVP_uoQSvpw",
        "outputId": "64341cbe-3634-42e6-c356-de03252817bc"
      },
      "execution_count": 64,
      "outputs": [
        {
          "output_type": "execute_result",
          "data": {
            "text/plain": [
              "<tf.Tensor: shape=(10, 56), dtype=float32, numpy=\n",
              "array([[0., 1., 0., 0., 0., 0., 0., 0., 0., 0., 0., 0., 0., 0., 0., 0.,\n",
              "        0., 0., 0., 0., 0., 0., 0., 0., 0., 0., 0., 0., 0., 0., 0., 0.,\n",
              "        0., 0., 0., 0., 0., 0., 0., 0., 0., 0., 0., 0., 0., 0., 0., 0.,\n",
              "        0., 0., 0., 0., 0., 0., 0., 0.],\n",
              "       [0., 0., 1., 0., 0., 0., 0., 0., 0., 0., 0., 0., 0., 0., 0., 0.,\n",
              "        0., 0., 0., 0., 0., 0., 0., 0., 0., 0., 0., 0., 0., 0., 0., 0.,\n",
              "        0., 0., 0., 0., 0., 0., 0., 0., 0., 0., 0., 0., 0., 0., 0., 0.,\n",
              "        0., 0., 0., 0., 0., 0., 0., 0.],\n",
              "       [0., 0., 0., 0., 0., 0., 1., 0., 0., 0., 0., 0., 0., 0., 0., 0.,\n",
              "        0., 0., 0., 0., 0., 0., 0., 0., 0., 0., 0., 0., 0., 0., 0., 0.,\n",
              "        0., 0., 0., 0., 0., 0., 0., 0., 0., 0., 0., 0., 0., 0., 0., 0.,\n",
              "        0., 0., 0., 0., 0., 0., 0., 0.],\n",
              "       [0., 0., 0., 0., 1., 0., 0., 0., 0., 0., 0., 0., 0., 0., 0., 0.,\n",
              "        0., 0., 0., 0., 0., 0., 0., 0., 0., 0., 0., 0., 0., 0., 0., 0.,\n",
              "        0., 0., 0., 0., 0., 0., 0., 0., 0., 0., 0., 0., 0., 0., 0., 0.,\n",
              "        0., 0., 0., 0., 0., 0., 0., 0.],\n",
              "       [0., 0., 0., 1., 0., 0., 0., 0., 0., 0., 0., 0., 0., 0., 0., 0.,\n",
              "        0., 0., 0., 0., 0., 0., 0., 0., 0., 0., 0., 0., 0., 0., 0., 0.,\n",
              "        0., 0., 0., 0., 0., 0., 0., 0., 0., 0., 0., 0., 0., 0., 0., 0.,\n",
              "        0., 0., 0., 0., 0., 0., 0., 0.],\n",
              "       [0., 0., 0., 0., 0., 0., 0., 0., 0., 0., 0., 0., 0., 0., 0., 0.,\n",
              "        0., 0., 0., 0., 0., 1., 0., 0., 0., 0., 0., 0., 0., 0., 0., 0.,\n",
              "        0., 0., 0., 0., 0., 0., 0., 0., 0., 0., 0., 0., 0., 0., 0., 0.,\n",
              "        0., 0., 0., 0., 0., 0., 0., 0.],\n",
              "       [0., 0., 0., 0., 0., 0., 0., 0., 0., 0., 0., 0., 0., 0., 0., 0.,\n",
              "        0., 0., 0., 0., 0., 0., 0., 0., 0., 0., 0., 0., 0., 0., 0., 0.,\n",
              "        0., 0., 0., 0., 0., 0., 0., 0., 0., 0., 0., 0., 0., 0., 0., 0.,\n",
              "        0., 0., 0., 0., 0., 0., 0., 1.],\n",
              "       [0., 0., 0., 0., 0., 0., 0., 0., 0., 0., 0., 0., 0., 0., 0., 0.,\n",
              "        0., 0., 0., 0., 0., 0., 0., 0., 0., 0., 0., 0., 0., 0., 0., 0.,\n",
              "        0., 0., 0., 0., 0., 0., 0., 0., 0., 0., 0., 0., 1., 0., 0., 0.,\n",
              "        0., 0., 0., 0., 0., 0., 0., 0.],\n",
              "       [0., 0., 0., 0., 0., 0., 0., 0., 0., 0., 0., 0., 0., 0., 0., 0.,\n",
              "        0., 0., 0., 0., 0., 0., 0., 0., 0., 0., 0., 0., 0., 0., 0., 0.,\n",
              "        0., 1., 0., 0., 0., 0., 0., 0., 0., 0., 0., 0., 0., 0., 0., 0.,\n",
              "        0., 0., 0., 0., 0., 0., 0., 0.],\n",
              "       [0., 0., 0., 0., 0., 0., 0., 0., 0., 0., 0., 0., 0., 0., 0., 0.,\n",
              "        0., 0., 0., 0., 0., 0., 1., 0., 0., 0., 0., 0., 0., 0., 0., 0.,\n",
              "        0., 0., 0., 0., 0., 0., 0., 0., 0., 0., 0., 0., 0., 0., 0., 0.,\n",
              "        0., 0., 0., 0., 0., 0., 0., 0.]], dtype=float32)>"
            ]
          },
          "metadata": {},
          "execution_count": 64
        }
      ]
    },
    {
      "cell_type": "code",
      "source": [],
      "metadata": {
        "id": "67gzBbIFTML6"
      },
      "execution_count": null,
      "outputs": []
    }
  ]
}